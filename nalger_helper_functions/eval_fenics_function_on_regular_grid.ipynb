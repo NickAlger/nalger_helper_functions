{
 "cells": [
  {
   "cell_type": "code",
   "execution_count": 1,
   "metadata": {
    "collapsed": true
   },
   "outputs": [
    {
     "name": "stdout",
     "output_type": "stream",
     "text": [
      "dt_boxmesh= 0.027446508407592773\n",
      "dt_direct= 0.06408882141113281\n",
      "dt_pointwise_obs= 0.047881126403808594\n",
      "err_boxmesh_vs_direct= 4.159641327403132e-15\n",
      "err_pointwiseobs_vs_direct= 4.160322361802054e-15\n"
     ]
    }
   ],
   "source": [
    "import numpy as np\n",
    "import dolfin as dl\n",
    "from time import time\n",
    "from nalger_helper_functions import *\n",
    "\n",
    "\n",
    "mesh = circle_mesh(np.zeros(2), 1.0, 0.05)\n",
    "V = dl.FunctionSpace(mesh, 'CG', 2)\n",
    "\n",
    "u = dl.Function(V)\n",
    "u.vector()[:] = np.random.randn(V.dim())\n",
    "\n",
    "box_min = np.array([-0.3, -0.4])\n",
    "box_max = np.array([0.8, 1.0])\n",
    "grid_shape = (51,47)\n",
    "\n",
    "outside_mesh_fill_value = -1.37\n",
    "\n",
    "t = time()\n",
    "U1 = eval_fenics_function_on_regular_grid_using_boxmesh(u, box_min, box_max, grid_shape,\n",
    "                                                        outside_mesh_fill_value=outside_mesh_fill_value)\n",
    "dt_boxmesh = time() - t\n",
    "print('dt_boxmesh=', dt_boxmesh)\n",
    "\n",
    "t = time()\n",
    "U2 = eval_fenics_function_on_regular_grid_using_direct_evaluation(u, box_min, box_max, grid_shape,\n",
    "                                                                  outside_mesh_fill_value=outside_mesh_fill_value)\n",
    "dt_direct = time() - t\n",
    "print('dt_direct=', dt_direct)\n",
    "\n",
    "t = time()\n",
    "U3 = eval_fenics_function_on_regular_grid_using_pointwise_observation_operator(u, box_min, box_max, grid_shape,\n",
    "                                                                               outside_mesh_fill_value=outside_mesh_fill_value)\n",
    "dt_pointwise_obs = time() - t\n",
    "print('dt_pointwise_obs=', dt_pointwise_obs)\n",
    "\n",
    "err_boxmesh_vs_direct = np.linalg.norm(U1-U2) / np.linalg.norm(U1)\n",
    "print('err_boxmesh_vs_direct=', err_boxmesh_vs_direct)\n",
    "\n",
    "err_pointwiseobs_vs_direct = np.linalg.norm(U1-U3) / np.linalg.norm(U1)\n",
    "print('err_pointwiseobs_vs_direct=', err_pointwiseobs_vs_direct)\n"
   ]
  }
 ],
 "metadata": {
  "kernelspec": {
   "display_name": "Python 3",
   "language": "python",
   "name": "python3"
  },
  "language_info": {
   "codemirror_mode": {
    "name": "ipython",
    "version": 2
   },
   "file_extension": ".py",
   "mimetype": "text/x-python",
   "name": "python",
   "nbconvert_exporter": "python",
   "pygments_lexer": "ipython2",
   "version": "2.7.6"
  }
 },
 "nbformat": 4,
 "nbformat_minor": 0
}