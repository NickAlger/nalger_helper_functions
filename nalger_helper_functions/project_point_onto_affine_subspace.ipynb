{
 "cells": [
  {
   "cell_type": "code",
   "execution_count": 1,
   "metadata": {
    "collapsed": true
   },
   "outputs": [
    {
     "name": "stdout",
     "output_type": "stream",
     "text": [
      "p1= [-0.73870926  0.94537856 -0.05081742]\n",
      "projected_p1= [ 2.          0.94537856 -0.05081742]\n",
      "p2= [ 0.03346787  0.91535236 -0.53388892]\n",
      "projected_p2= [ 0.03346787  3.         -0.53388892]\n"
     ]
    }
   ],
   "source": [
    "import numpy as np\n",
    "from nalger_helper_functions import project_point_onto_affine_subspace\n",
    "\n",
    "p1 = np.random.randn(3)\n",
    "V1 = np.array([[2., 0., 0.],\n",
    "              [2., 1., 0.],\n",
    "              [2., 0., 1.]])\n",
    "\n",
    "p2 = np.random.randn(3)\n",
    "V2 = np.array([[0., 3., 0.],\n",
    "               [1., 3., 0.],\n",
    "               [0., 3., 1.]])\n",
    "\n",
    "p = np.stack([p1, p2])\n",
    "V = np.stack([V1, V2])\n",
    "\n",
    "projected_p, affine_coordinates = project_point_onto_affine_subspace(p, V)\n",
    "\n",
    "projected_p1 = projected_p[0,:]\n",
    "projected_p2 = projected_p[1,:]\n",
    "\n",
    "print('p1=', p1)\n",
    "print('projected_p1=', projected_p1)\n",
    "\n",
    "print('p2=', p2)\n",
    "print('projected_p2=', projected_p2)"
   ]
  }
 ],
 "metadata": {
  "kernelspec": {
   "display_name": "Python 3",
   "language": "python",
   "name": "python3"
  },
  "language_info": {
   "codemirror_mode": {
    "name": "ipython",
    "version": 2
   },
   "file_extension": ".py",
   "mimetype": "text/x-python",
   "name": "python",
   "nbconvert_exporter": "python",
   "pygments_lexer": "ipython2",
   "version": "2.7.6"
  }
 },
 "nbformat": 4,
 "nbformat_minor": 0
}