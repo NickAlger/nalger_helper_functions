{
 "cells": [
  {
   "cell_type": "code",
   "execution_count": 1,
   "metadata": {
    "collapsed": true
   },
   "outputs": [
    {
     "name": "stdout",
     "output_type": "stream",
     "text": [
      "dt_interpn= 0.003093242645263672\n",
      "dt_sparse= 0.00036072731018066406\n",
      "err= 1.293348378191375e-13\n"
     ]
    }
   ],
   "source": [
    "import numpy as np\n",
    "from scipy.interpolate import interpn\n",
    "from nalger_helper_functions import *\n",
    "\n",
    "box_min = np.array([-0.1, 0.2, -0.8])\n",
    "box_max = np.array([0.8, 1.3, -0.1])\n",
    "box_shape = (35,42,51)\n",
    "d = len(box_shape)\n",
    "\n",
    "F = np.random.randn(*box_shape)\n",
    "num_pts = 10000\n",
    "pp = np.random.randn(num_pts-2, d)\n",
    "pp = np.vstack([pp, box_min, box_max])\n",
    "\n",
    "import matplotlib.pyplot as plt\n",
    "from time import time\n",
    "\n",
    "all_lingrids = tuple([np.linspace(box_min[i], box_max[i], box_shape[i]) for i in range(len(box_min))])\n",
    "apply_A = lambda x: interpn(all_lingrids, x.reshape(box_shape), pp,\n",
    "                            bounds_error=False, fill_value=0.0, method='linear')\n",
    "\n",
    "F_vec = F.reshape(-1)\n",
    "\n",
    "t = time()\n",
    "f = apply_A(F_vec)\n",
    "dt_interpn = time() - t\n",
    "print('dt_interpn=', dt_interpn)\n",
    "\n",
    "A = multilinear_interpolation_matrix(pp, box_min, box_max, box_shape)\n",
    "\n",
    "t = time()\n",
    "f2 = A * F_vec\n",
    "dt_sparse = time() - t\n",
    "print('dt_sparse=', dt_sparse)\n",
    "\n",
    "err = np.linalg.norm(f2 - f) / np.linalg.norm(f)\n",
    "print('err=', err)\n",
    "\n"
   ]
  }
 ],
 "metadata": {
  "kernelspec": {
   "display_name": "Python 3",
   "language": "python",
   "name": "python3"
  },
  "language_info": {
   "codemirror_mode": {
    "name": "ipython",
    "version": 2
   },
   "file_extension": ".py",
   "mimetype": "text/x-python",
   "name": "python",
   "nbconvert_exporter": "python",
   "pygments_lexer": "ipython2",
   "version": "2.7.6"
  }
 },
 "nbformat": 4,
 "nbformat_minor": 0
}