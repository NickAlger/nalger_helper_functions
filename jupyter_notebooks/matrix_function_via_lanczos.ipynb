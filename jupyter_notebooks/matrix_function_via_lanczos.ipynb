{
 "cells": [
  {
   "cell_type": "code",
   "execution_count": 1,
   "id": "057c9960",
   "metadata": {},
   "outputs": [],
   "source": [
    "import numpy as np\n",
    "import scipy.linalg as sla\n",
    "import scipy.sparse as sps\n",
    "import matplotlib.pyplot as plt"
   ]
  },
  {
   "cell_type": "markdown",
   "id": "9de07996",
   "metadata": {},
   "source": [
    "# Matrix inverse square root"
   ]
  },
  {
   "cell_type": "code",
   "execution_count": 7,
   "id": "252af179",
   "metadata": {},
   "outputs": [
    {
     "name": "stdout",
     "output_type": "stream",
     "text": [
      "np.linalg.cond(A)= 1649.9611486593678\n",
      "cond(f_of_A)= 40.619713793422726\n"
     ]
    }
   ],
   "source": [
    "f = lambda x: 1.0 / np.sqrt(x)\n",
    "\n",
    "N = 500\n",
    "\n",
    "U, ss, _ = np.linalg.svd(np.random.randn(N,N))\n",
    "A = U @ np.diag(ss) @ U.T\n",
    "f_of_A = U @ np.diag(f(ss)) @ U.T\n",
    "\n",
    "print('np.linalg.cond(A)=', np.linalg.cond(A))\n",
    "print('cond(f_of_A)=', np.linalg.cond(f_of_A))"
   ]
  },
  {
   "cell_type": "code",
   "execution_count": 3,
   "id": "3ea6dbf5",
   "metadata": {},
   "outputs": [
    {
     "name": "stdout",
     "output_type": "stream",
     "text": [
      "ii= 0 , relres= 0.530334705733151 , relerr= 0.8641267673976699\n",
      "ii= 1 , relres= 0.504130438725241 , relerr= 0.8214295644864118\n",
      "ii= 2 , relres= 0.4863039799305274 , relerr= 0.7923831527658584\n",
      "ii= 3 , relres= 0.47139764968722864 , relerr= 0.7680947951915661\n",
      "ii= 4 , relres= 0.45922185792941167 , relerr= 0.7482555739253576\n",
      "ii= 5 , relres= 0.44848323888432584 , relerr= 0.7307580802455563\n",
      "ii= 6 , relres= 0.44045333521385294 , relerr= 0.7176741643217663\n",
      "ii= 7 , relres= 0.43349144675874246 , relerr= 0.7063304711772999\n",
      "ii= 8 , relres= 0.4268003498802266 , relerr= 0.6954280055202892\n",
      "ii= 9 , relres= 0.4206558523412527 , relerr= 0.685416168206538\n",
      "ii= 10 , relres= 0.4158977582364978 , relerr= 0.677663335074428\n",
      "ii= 11 , relres= 0.41195366399349026 , relerr= 0.6712368323928615\n",
      "ii= 12 , relres= 0.40867190929966024 , relerr= 0.6658895450207272\n",
      "ii= 13 , relres= 0.40578515281188016 , relerr= 0.6611858672770631\n",
      "ii= 14 , relres= 0.4031613809098829 , relerr= 0.6569106963188898\n",
      "ii= 15 , relres= 0.40061460789070186 , relerr= 0.6527609872529555\n",
      "ii= 16 , relres= 0.3981788836732051 , relerr= 0.6487922209784043\n",
      "ii= 17 , relres= 0.39568100265505307 , relerr= 0.6447221764834363\n",
      "ii= 18 , relres= 0.3930608844962201 , relerr= 0.6404529589302266\n",
      "ii= 19 , relres= 0.3902945786348437 , relerr= 0.6359455433004692\n",
      "ii= 20 , relres= 0.3875547680576192 , relerr= 0.631481299056627\n",
      "ii= 21 , relres= 0.3851888613769238 , relerr= 0.6276262933972717\n",
      "ii= 22 , relres= 0.38262348794219697 , relerr= 0.6234462768353651\n",
      "ii= 23 , relres= 0.3802532116019075 , relerr= 0.6195841512576283\n",
      "ii= 24 , relres= 0.3778015669875296 , relerr= 0.6155894443064747\n",
      "ii= 25 , relres= 0.3753612600830435 , relerr= 0.6116132110069462\n",
      "ii= 26 , relres= 0.3726763875142933 , relerr= 0.6072384826917373\n",
      "ii= 27 , relres= 0.37004320487983866 , relerr= 0.6029479778967826\n",
      "ii= 28 , relres= 0.3668767898528741 , relerr= 0.5977886248468861\n",
      "ii= 29 , relres= 0.36284019089401687 , relerr= 0.5912113950863409\n",
      "ii= 30 , relres= 0.35920482356953104 , relerr= 0.5852879316952957\n",
      "ii= 31 , relres= 0.3564458734393897 , relerr= 0.5807925014856612\n",
      "ii= 32 , relres= 0.35379748941857975 , relerr= 0.5764772275690383\n",
      "ii= 33 , relres= 0.35102770672228056 , relerr= 0.5719641467884051\n",
      "ii= 34 , relres= 0.34844572210553415 , relerr= 0.5677570639853757\n",
      "ii= 35 , relres= 0.3460405508869742 , relerr= 0.5638380807326034\n",
      "ii= 36 , relres= 0.34398488536193467 , relerr= 0.5604885816600366\n",
      "ii= 37 , relres= 0.34189972985565537 , relerr= 0.5570910316455194\n",
      "ii= 38 , relres= 0.33982294458506007 , relerr= 0.5537071200835226\n",
      "ii= 39 , relres= 0.3379533117095913 , relerr= 0.5506607423989511\n",
      "ii= 40 , relres= 0.3361904891377951 , relerr= 0.547788401301915\n",
      "ii= 41 , relres= 0.33424374332083506 , relerr= 0.5446163758780291\n",
      "ii= 42 , relres= 0.33227530383280646 , relerr= 0.5414090028111344\n",
      "ii= 43 , relres= 0.3302894061592921 , relerr= 0.5381731833966305\n",
      "ii= 44 , relres= 0.328516590081951 , relerr= 0.5352845588930057\n",
      "ii= 45 , relres= 0.3264365856371824 , relerr= 0.5318954020122658\n",
      "ii= 46 , relres= 0.32388045372174773 , relerr= 0.5277304435714015\n",
      "ii= 47 , relres= 0.32046691192389254 , relerr= 0.5221684224415951\n",
      "ii= 48 , relres= 0.31597890904423986 , relerr= 0.5148556756450144\n",
      "ii= 49 , relres= 0.31151997433473094 , relerr= 0.5075902924918628\n"
     ]
    }
   ],
   "source": [
    "apply_A = lambda x: A @ x\n",
    "b = np.random.randn(N)\n",
    "x_true = f_of_A @ b\n",
    "\n",
    "qq = [np.zeros(b.shape), b / np.linalg.norm(b)]\n",
    "alphas = []\n",
    "betas = [0.0]\n",
    "\n",
    "for ii in range(50):\n",
    "    Q = np.asarray(qq[1:]).T.reshape((N, -1))\n",
    "    \n",
    "    q_prev = qq[-2]\n",
    "    q_cur = qq[-1]\n",
    "    v = apply_A(q_cur)\n",
    "    alpha = q_cur.T @ v\n",
    "    v = v - betas[-1] * q_prev - alpha * q_cur\n",
    "    beta = np.linalg.norm(v)\n",
    "    q_next = v / beta\n",
    "    qq.append(q_next)\n",
    "    alphas.append(alpha)\n",
    "    betas.append(beta)\n",
    "    \n",
    "    evals_T, evecs_T = sla.eigh_tridiagonal(alphas, betas[1:-1])\n",
    "    f_of_T = evecs_T @ np.diag(f(evals_T)) @ evecs_T.T\n",
    "    x = Q @ (f_of_T @ (Q.T @ b))\n",
    "    relres = np.linalg.norm(x - f_of_A @ b) / np.linalg.norm(b)\n",
    "    relerr = np.linalg.norm(x_true - x) / np.linalg.norm(x_true)\n",
    "    print('ii=', ii, ', relres=', relres, ', relerr=', relerr)\n",
    "    \n",
    "T = sps.diags([betas[1:-1], alphas, betas[1:-1]], [-1, 0, 1])"
   ]
  },
  {
   "cell_type": "markdown",
   "id": "7c0c0840",
   "metadata": {},
   "source": [
    "# Matrix logarithm"
   ]
  },
  {
   "cell_type": "code",
   "execution_count": 20,
   "id": "a6a51f40",
   "metadata": {},
   "outputs": [
    {
     "name": "stdout",
     "output_type": "stream",
     "text": [
      "np.linalg.cond(A)= 2291.3623540118197\n",
      "cond(f_of_A)= 137.02428856788455\n"
     ]
    }
   ],
   "source": [
    "f = lambda x: np.log(x)\n",
    "inv_f = lambda x: np.exp(x)\n",
    "\n",
    "N = 500\n",
    "\n",
    "U, ss, _ = np.linalg.svd(np.random.randn(N,N))\n",
    "A = U @ np.diag(ss) @ U.T\n",
    "f_of_A = U @ np.diag(f(ss)) @ U.T\n",
    "\n",
    "print('np.linalg.cond(A)=', np.linalg.cond(A))\n",
    "print('cond(f_of_A)=', np.linalg.cond(f_of_A))"
   ]
  },
  {
   "cell_type": "code",
   "execution_count": 39,
   "id": "01cfde3c",
   "metadata": {},
   "outputs": [
    {
     "name": "stdout",
     "output_type": "stream",
     "text": [
      "ii= 0 , relres= 1.2505303140937858 , relerr= 0.4621069398239284\n",
      "ii= 1 , relres= 0.6863550567476125 , relerr= 0.25362794594560406\n",
      "ii= 2 , relres= 0.46006565830856233 , relerr= 0.1700075008842261\n",
      "ii= 3 , relres= 0.3421623945070966 , relerr= 0.12643885179471465\n",
      "ii= 4 , relres= 0.2767799715888753 , relerr= 0.10227816489852544\n",
      "ii= 5 , relres= 0.23773130730985045 , relerr= 0.08784855967358657\n",
      "ii= 6 , relres= 0.21276308560015392 , relerr= 0.0786220831963055\n",
      "ii= 7 , relres= 0.1933075562481418 , relerr= 0.07143270519387933\n",
      "ii= 8 , relres= 0.1786101838196282 , relerr= 0.06600160310874936\n",
      "ii= 9 , relres= 0.16671654217094736 , relerr= 0.06160656023478498\n",
      "ii= 10 , relres= 0.15733556585556033 , relerr= 0.05814001951297475\n",
      "ii= 11 , relres= 0.14833891806882551 , relerr= 0.05481549924301674\n",
      "ii= 12 , relres= 0.1396393293503689 , relerr= 0.05160075084779211\n",
      "ii= 13 , relres= 0.1300029940205166 , relerr= 0.04803984762121004\n",
      "ii= 14 , relres= 0.12038436830825734 , relerr= 0.044485488607990196\n",
      "ii= 15 , relres= 0.11242602999929213 , relerr= 0.041544653571372575\n",
      "ii= 16 , relres= 0.10488408884180424 , relerr= 0.03875768926563765\n",
      "ii= 17 , relres= 0.09694520289965079 , relerr= 0.03582404243837281\n",
      "ii= 18 , relres= 0.08811399120490698 , relerr= 0.03256065556545827\n",
      "ii= 19 , relres= 0.07849259350316962 , relerr= 0.029005272222351736\n",
      "ii= 20 , relres= 0.06926503756331105 , relerr= 0.025595424744554122\n",
      "ii= 21 , relres= 0.05986443001248814 , relerr= 0.02212162971628686\n",
      "ii= 22 , relres= 0.04958846714645589 , relerr= 0.018324365707371074\n",
      "ii= 23 , relres= 0.041473605082936314 , relerr= 0.015325690638879222\n",
      "ii= 24 , relres= 0.0337872054366185 , relerr= 0.012485344764179163\n",
      "ii= 25 , relres= 0.0268254002280198 , relerr= 0.009912757387177314\n",
      "ii= 26 , relres= 0.021224327971735357 , relerr= 0.007842999996321936\n",
      "ii= 27 , relres= 0.016940854449309872 , relerr= 0.006260133256542596\n",
      "ii= 28 , relres= 0.013851359105452534 , relerr= 0.005118475815007662\n",
      "ii= 29 , relres= 0.011484787792631807 , relerr= 0.004243959607829444\n",
      "ii= 30 , relres= 0.00957814241428863 , relerr= 0.0035393992695588084\n",
      "ii= 31 , relres= 0.008044984245824217 , relerr= 0.0029728532038534273\n",
      "ii= 32 , relres= 0.006913811694256289 , relerr= 0.0025548523922564064\n",
      "ii= 33 , relres= 0.0060181642506672165 , relerr= 0.002223884886188392\n",
      "ii= 34 , relres= 0.005246935994033704 , relerr= 0.0019388938503357993\n",
      "ii= 35 , relres= 0.004563920290235844 , relerr= 0.0016864998914077117\n",
      "ii= 36 , relres= 0.003975113605212932 , relerr= 0.0014689188761398133\n",
      "ii= 37 , relres= 0.0034321066355636224 , relerr= 0.0012682621737634737\n",
      "ii= 38 , relres= 0.002927808351921602 , relerr= 0.0010819094448564987\n",
      "ii= 39 , relres= 0.002520268050116766 , relerr= 0.0009313115748173171\n",
      "ii= 40 , relres= 0.0021773457099617264 , relerr= 0.000804591901235361\n",
      "ii= 41 , relres= 0.0019255870215858786 , relerr= 0.000711559820566644\n",
      "ii= 42 , relres= 0.0017355350094874983 , relerr= 0.0006413301326267672\n",
      "ii= 43 , relres= 0.0015189590743958825 , relerr= 0.0005612990918141199\n",
      "ii= 44 , relres= 0.0013393018456213546 , relerr= 0.0004949105754618341\n",
      "ii= 45 , relres= 0.001205729647857691 , relerr= 0.0004455518043401178\n",
      "ii= 46 , relres= 0.0011223127589571522 , relerr= 0.00041472686325310813\n",
      "ii= 47 , relres= 0.0010478934632235282 , relerr= 0.00038722679178123987\n",
      "ii= 48 , relres= 0.0009634535119478739 , relerr= 0.0003560237997041139\n",
      "ii= 49 , relres= 0.0008962880350453236 , relerr= 0.0003312042230465548\n"
     ]
    }
   ],
   "source": [
    "apply_A = lambda x: A @ x\n",
    "b = np.random.randn(N)\n",
    "x_true = f_of_A @ b\n",
    "\n",
    "qq = [np.zeros(b.shape), b / np.linalg.norm(b)]\n",
    "alphas = []\n",
    "betas = [0.0]\n",
    "x_superold = np.zeros(N)\n",
    "x_old = np.zeros(N)\n",
    "x = np.zeros(N)\n",
    "for ii in range(50):\n",
    "    x_superold = x_old\n",
    "    x_old = x\n",
    "    Q = np.asarray(qq[1:]).T.reshape((N, -1))\n",
    "    \n",
    "    q_prev = qq[-2]\n",
    "    q_cur = qq[-1]\n",
    "    v = apply_A(q_cur)\n",
    "    alpha = q_cur.T @ v\n",
    "    v = v - betas[-1] * q_prev - alpha * q_cur\n",
    "    beta = np.linalg.norm(v)\n",
    "    q_next = v / beta\n",
    "    qq.append(q_next)\n",
    "    alphas.append(alpha)\n",
    "    betas.append(beta)\n",
    "    \n",
    "    evals_T, evecs_T = sla.eigh_tridiagonal(alphas, betas[1:-1])\n",
    "    f_of_T = evecs_T @ np.diag(f(evals_T)) @ evecs_T.T\n",
    "    inv_f_of_T = evecs_T @ np.diag(inv_f(evals_T)) @ evecs_T.T\n",
    "    x = Q @ (f_of_T @ (Q.T @ b))\n",
    "    b2 = Q @ (inv_f_of_T @ (Q.T @ x))\n",
    "    T = sps.diags([betas[1:-1], alphas, betas[1:-1]], [-1, 0, 1])\n",
    "#     err_est = np.linalg.norm(A @ Q - Q @ T) / np.linalg.norm(A @ Q)\n",
    "#     err_est = np.linalg.norm(b2 - b) / np.linalg.norm(b)\n",
    "#     err_est = np.linalg.norm(x - x_old) / np.linalg.norm(x - x_superold)\n",
    "    relres = np.linalg.norm(x - f_of_A @ b) / np.linalg.norm(b)\n",
    "    relerr = np.linalg.norm(x_true - x) / np.linalg.norm(x_true)\n",
    "    print('ii=', ii, ', relres=', relres, ', relerr=', relerr)#, ', err_est=', err_est)\n",
    "    \n",
    "T = sps.diags([betas[1:-1], alphas, betas[1:-1]], [-1, 0, 1])"
   ]
  },
  {
   "cell_type": "code",
   "execution_count": 36,
   "id": "13474477",
   "metadata": {},
   "outputs": [
    {
     "data": {
      "text/plain": [
       "0.0546488991728871"
      ]
     },
     "execution_count": 36,
     "metadata": {},
     "output_type": "execute_result"
    }
   ],
   "source": [
    "np.linalg.norm(A @ Q - Q @ T) / np.linalg.norm(A @ Q)"
   ]
  }
 ],
 "metadata": {
  "kernelspec": {
   "display_name": "Python 3 (ipykernel)",
   "language": "python",
   "name": "python3"
  },
  "language_info": {
   "codemirror_mode": {
    "name": "ipython",
    "version": 3
   },
   "file_extension": ".py",
   "mimetype": "text/x-python",
   "name": "python",
   "nbconvert_exporter": "python",
   "pygments_lexer": "ipython3",
   "version": "3.9.12"
  }
 },
 "nbformat": 4,
 "nbformat_minor": 5
}
