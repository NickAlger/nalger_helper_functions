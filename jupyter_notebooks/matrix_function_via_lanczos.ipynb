{
 "cells": [
  {
   "cell_type": "code",
   "execution_count": 1,
   "id": "057c9960",
   "metadata": {},
   "outputs": [],
   "source": [
    "import numpy as np\n",
    "import scipy.linalg as sla\n",
    "import scipy.sparse as sps\n",
    "import matplotlib.pyplot as plt"
   ]
  },
  {
   "cell_type": "code",
   "execution_count": 54,
   "id": "252af179",
   "metadata": {},
   "outputs": [
    {
     "name": "stdout",
     "output_type": "stream",
     "text": [
      "np.linalg.cond(A)= 9477.803166630298\n",
      "cond(f_of_A)= 97.35400950460712\n"
     ]
    }
   ],
   "source": [
    "f = lambda x: 1.0 / np.sqrt(x)\n",
    "\n",
    "N = 500\n",
    "\n",
    "U, ss, _ = np.linalg.svd(np.random.randn(N,N))\n",
    "A = U @ np.diag(ss) @ U.T\n",
    "f_of_A = U @ np.diag(f(ss)) @ U.T\n",
    "\n",
    "print('np.linalg.cond(A)=', np.linalg.cond(A))\n",
    "print('cond(f_of_A)=', np.linalg.cond(f_of_A))"
   ]
  },
  {
   "cell_type": "code",
   "execution_count": 63,
   "id": "3ea6dbf5",
   "metadata": {},
   "outputs": [
    {
     "name": "stdout",
     "output_type": "stream",
     "text": [
      "ii= 0 , relres= 0.306556742750443 , relerr= 0.694569523795415\n",
      "ii= 1 , relres= 0.2524666600039678 , relerr= 0.5720169331128551\n",
      "ii= 2 , relres= 0.21423092075820335 , relerr= 0.48538573080550385\n",
      "ii= 3 , relres= 0.1831691359734617 , relerr= 0.41500864866206266\n",
      "ii= 4 , relres= 0.15582265749071744 , relerr= 0.3530493834153556\n",
      "ii= 5 , relres= 0.130303952341913 , relerr= 0.29523132753423076\n",
      "ii= 6 , relres= 0.10770507952164605 , relerr= 0.24402877301771211\n",
      "ii= 7 , relres= 0.0899568430246103 , relerr= 0.2038163671141505\n",
      "ii= 8 , relres= 0.07625555018065798 , relerr= 0.17277317308545959\n",
      "ii= 9 , relres= 0.06510637280304214 , relerr= 0.1475123396345207\n",
      "ii= 10 , relres= 0.05624877848970289 , relerr= 0.12744357517352395\n",
      "ii= 11 , relres= 0.04803782997852984 , relerr= 0.1088399243578679\n",
      "ii= 12 , relres= 0.041575245489971775 , relerr= 0.0941975642178415\n",
      "ii= 13 , relres= 0.037237595654119014 , relerr= 0.084369695635182\n",
      "ii= 14 , relres= 0.033366366471949065 , relerr= 0.07559860227922348\n",
      "ii= 15 , relres= 0.030060672212005164 , relerr= 0.06810884861292885\n",
      "ii= 16 , relres= 0.02723957681896288 , relerr= 0.06171705678298389\n",
      "ii= 17 , relres= 0.024872450847184664 , relerr= 0.05635382926356773\n",
      "ii= 18 , relres= 0.022739549157283302 , relerr= 0.051521286688364226\n",
      "ii= 19 , relres= 0.02070175000898798 , relerr= 0.0469042191552113\n",
      "ii= 20 , relres= 0.0188936161720389 , relerr= 0.042807507248566135\n",
      "ii= 21 , relres= 0.01739127609800792 , relerr= 0.03940363617257441\n",
      "ii= 22 , relres= 0.016207937918011457 , relerr= 0.036722531758445885\n",
      "ii= 23 , relres= 0.015347951292146597 , relerr= 0.03477404908656534\n",
      "ii= 24 , relres= 0.014621327025503656 , relerr= 0.03312772721371313\n",
      "ii= 25 , relres= 0.01406703496345003 , relerr= 0.031871860615803806\n",
      "ii= 26 , relres= 0.013660648227597974 , relerr= 0.030951105002780747\n",
      "ii= 27 , relres= 0.013383078554119658 , relerr= 0.030322211851717917\n",
      "ii= 28 , relres= 0.013141864779311499 , relerr= 0.029775690724183016\n",
      "ii= 29 , relres= 0.01292204236020605 , relerr= 0.029277636264223153\n",
      "ii= 30 , relres= 0.01274622097920233 , relerr= 0.028879275517755345\n",
      "ii= 31 , relres= 0.012596888837778927 , relerr= 0.028540931779414417\n",
      "ii= 32 , relres= 0.012468866594542771 , relerr= 0.02825087014931632\n",
      "ii= 33 , relres= 0.012333502911991158 , relerr= 0.027944174926482462\n",
      "ii= 34 , relres= 0.012198472915240689 , relerr= 0.02763823573982618\n",
      "ii= 35 , relres= 0.012065886612816613 , relerr= 0.0273378332625874\n",
      "ii= 36 , relres= 0.011949257682619908 , relerr= 0.02707358560722449\n",
      "ii= 37 , relres= 0.01183262082486484 , relerr= 0.026809319990291444\n",
      "ii= 38 , relres= 0.011718890943094895 , relerr= 0.026551640745941678\n",
      "ii= 39 , relres= 0.011601873583998376 , relerr= 0.02628651302226401\n",
      "ii= 40 , relres= 0.01149720815004871 , relerr= 0.026049371213005417\n",
      "ii= 41 , relres= 0.01138493549797465 , relerr= 0.025794993632572257\n",
      "ii= 42 , relres= 0.011271952054997562 , relerr= 0.02553900560412023\n",
      "ii= 43 , relres= 0.01117863837186036 , relerr= 0.025327583601528807\n",
      "ii= 44 , relres= 0.011099758130625572 , relerr= 0.025148863632430244\n",
      "ii= 45 , relres= 0.011030388186428186 , relerr= 0.024991691264683254\n",
      "ii= 46 , relres= 0.010965233363803725 , relerr= 0.02484406915167011\n",
      "ii= 47 , relres= 0.010904355874609197 , relerr= 0.02470613824758908\n",
      "ii= 48 , relres= 0.010844174165064533 , relerr= 0.024569783780339083\n",
      "ii= 49 , relres= 0.010778247631799054 , relerr= 0.02442041319267935\n"
     ]
    }
   ],
   "source": [
    "apply_A = lambda x: A @ x\n",
    "b = np.random.randn(N)\n",
    "x_true = f_of_A @ b\n",
    "\n",
    "qq = [np.zeros(b.shape), b / np.linalg.norm(b)]\n",
    "alphas = []\n",
    "betas = [0.0]\n",
    "\n",
    "for ii in range(50):\n",
    "    Q = np.asarray(qq[1:]).T.reshape((N, -1))\n",
    "    \n",
    "    q_prev = qq[-2]\n",
    "    q_cur = qq[-1]\n",
    "    v = apply_A(q_cur)\n",
    "    alpha = q_cur.T @ v\n",
    "    v = v - betas[-1] * q_prev - alpha * q_cur\n",
    "    beta = np.linalg.norm(v)\n",
    "    q_next = v / beta\n",
    "    qq.append(q_next)\n",
    "    alphas.append(alpha)\n",
    "    betas.append(beta)\n",
    "    \n",
    "    evals_T, evecs_T = sla.eigh_tridiagonal(alphas, betas[1:-1])\n",
    "    f_of_T = evecs_T @ np.diag(f(evals_T)) @ evecs_T.T\n",
    "    x = Q @ (f_of_T @ (Q.T @ b))\n",
    "    relres = np.linalg.norm(x - f_of_A @ b) / np.linalg.norm(b)\n",
    "    relerr = np.linalg.norm(x_true - x) / np.linalg.norm(x_true)\n",
    "    print('ii=', ii, ', relres=', relres, ', relerr=', relerr)\n",
    "    \n",
    "T = sps.diags([betas[1:-1], alphas, betas[1:-1]], [-1, 0, 1])"
   ]
  }
 ],
 "metadata": {
  "kernelspec": {
   "display_name": "Python 3 (ipykernel)",
   "language": "python",
   "name": "python3"
  },
  "language_info": {
   "codemirror_mode": {
    "name": "ipython",
    "version": 3
   },
   "file_extension": ".py",
   "mimetype": "text/x-python",
   "name": "python",
   "nbconvert_exporter": "python",
   "pygments_lexer": "ipython3",
   "version": "3.9.12"
  }
 },
 "nbformat": 4,
 "nbformat_minor": 5
}
