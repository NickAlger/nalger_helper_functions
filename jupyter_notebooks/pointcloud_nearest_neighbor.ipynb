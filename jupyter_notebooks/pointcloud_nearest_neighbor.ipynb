{
 "cells": [
  {
   "cell_type": "code",
   "execution_count": 1,
   "metadata": {
    "collapsed": true
   },
   "outputs": [],
   "source": [
    "import numpy as np\n",
    "import matplotlib.pyplot as plt\n",
    "\n",
    "# https://github.com/NickAlger/helper_functions/blob/master/pointcloud_nearest_neighbor.py\n",
    "from pointcloud_nearest_neighbor import pointcloud_nearest_neighbor"
   ]
  },
  {
   "cell_type": "code",
   "execution_count": 2,
   "metadata": {
    "pycharm": {
     "name": "#%%\n"
    }
   },
   "outputs": [
    {
     "name": "stdout",
     "output_type": "stream",
     "text": [
      "nearest_inds= [7 2 1 7 2 2 1 0 5 0]\n",
      "nearest_distances= [0.26377548 0.43740639 0.43740639 0.55092286 0.76646729 0.9262998\n",
      " 1.32509243 0.26377548 1.37909273 0.58369013]\n"
     ]
    },
    {
     "data": {
      "image/png": "[encoded data removed]",
      "text/plain": [
       "<Figure size 432x288 with 1 Axes>"
      ]
     },
     "metadata": {
      "needs_background": "light"
     },
     "output_type": "display_data"
    }
   ],
   "source": [
    "num_pts = 10\n",
    "\n",
    "pp = np.random.randn(num_pts, 2)\n",
    "\n",
    "nearest_inds, nearest_distances = pointcloud_nearest_neighbor(pp, return_min_distances=True)\n",
    "\n",
    "print('nearest_inds=', nearest_inds)\n",
    "print('nearest_distances=', nearest_distances)\n",
    "\n",
    "plt.scatter(pp[:,0], pp[:,1])\n",
    "plt.gca().set_aspect(1.)\n",
    "\n",
    "buf = 0.05\n",
    "for k, txt in enumerate(np.arange(num_pts)):\n",
    "    plt.gca().annotate(txt, (pp[k,0]+buf, pp[k,1]+buf))"
   ]
  },
  {
   "cell_type": "code",
   "execution_count": 3,
   "metadata": {
    "pycharm": {
     "name": "#%%\n"
    }
   },
   "outputs": [
    {
     "name": "stdout",
     "output_type": "stream",
     "text": [
      "nearest_to_p0_distance= 0.26377548005393997\n",
      "nearest_to_p0_distance_true= 0.26377548005393997\n"
     ]
    }
   ],
   "source": [
    "nearest_to_p0_distance = nearest_distances[0]\n",
    "nearest_to_p0_distance_true = np.linalg.norm(pp[0,:] - pp[nearest_inds[0], :])\n",
    "\n",
    "print('nearest_to_p0_distance=', nearest_to_p0_distance)\n",
    "print('nearest_to_p0_distance_true=', nearest_to_p0_distance_true)\n"
   ]
  }
 ],
 "metadata": {
  "kernelspec": {
   "display_name": "Python 3",
   "language": "python",
   "name": "python3"
  },
  "language_info": {
   "codemirror_mode": {
    "name": "ipython",
    "version": 3
   },
   "file_extension": ".py",
   "mimetype": "text/x-python",
   "name": "python",
   "nbconvert_exporter": "python",
   "pygments_lexer": "ipython3",
   "version": "3.8.5"
  }
 },
 "nbformat": 4,
 "nbformat_minor": 1
}
