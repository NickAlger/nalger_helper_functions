{
 "cells": [
  {
   "cell_type": "markdown",
   "source": [
    "Let $v_1, v_2, \\dots, v_N$ be lists with (possibly different) lengths $m_1, m_2, \\dots, m_N$, respectively, and let\n",
    "\n",
    "$$v = [v_1, v_2, \\dots, v_N]$$\n",
    "\n",
    "be the list of these lists. An entry of one of the lists,\n",
    "\n",
    "$$v[b][k]$$\n",
    "\n",
    "may be indexed by the tuple $(b,k)$, which specifies that we are interested in the $k^\\text{th}$ entry of the $b^\\text{th}$ list.\n",
    "\n",
    "Alternatively, we can specify the linear index $i$ of the entry if we were it iterate through each list in sequence, i.e.,\n",
    "\n",
    "$$v[b][k] = \\text{np.concatenate}(v)[i]$$\n",
    "\n",
    "The functions here convert between these types of indexing:\n",
    "\n",
    "$$b,k = \\text{ind2sub_batches}(i, [m_1, \\dots, m_N])$$\n",
    "\n",
    "$$i = \\text{sub2ind_batches}(b, k, [m_1, \\dots, m_N])$$\n",
    "\n",
    "\n"
   ],
   "metadata": {
    "collapsed": false,
    "pycharm": {
     "name": "#%% md\n"
    }
   }
  },
  {
   "cell_type": "code",
   "execution_count": 1,
   "metadata": {
    "collapsed": true
   },
   "outputs": [],
   "source": [
    "import numpy as np\n",
    "from nalger_helper_functions import ind2sub_batches, sub2ind_batches"
   ]
  },
  {
   "cell_type": "code",
   "execution_count": 2,
   "outputs": [
    {
     "name": "stdout",
     "output_type": "stream",
     "text": [
      "batch_lengths= [3 0 5 1 6]\n",
      "ind= 0 , b= 0 , k= 0 , ind2= 0\n",
      "ind= 1 , b= 0 , k= 1 , ind2= 1\n",
      "ind= 2 , b= 0 , k= 2 , ind2= 2\n",
      "ind= 3 , b= 2 , k= 0 , ind2= 3\n",
      "ind= 4 , b= 2 , k= 1 , ind2= 4\n",
      "ind= 5 , b= 2 , k= 2 , ind2= 5\n",
      "ind= 6 , b= 2 , k= 3 , ind2= 6\n",
      "ind= 7 , b= 2 , k= 4 , ind2= 7\n",
      "ind= 8 , b= 3 , k= 0 , ind2= 8\n",
      "ind= 9 , b= 4 , k= 0 , ind2= 9\n",
      "ind= 10 , b= 4 , k= 1 , ind2= 10\n",
      "ind= 11 , b= 4 , k= 2 , ind2= 11\n",
      "ind= 12 , b= 4 , k= 3 , ind2= 12\n",
      "ind= 13 , b= 4 , k= 4 , ind2= 13\n",
      "ind= 14 , b= 4 , k= 5 , ind2= 14\n"
     ]
    }
   ],
   "source": [
    "batch_lengths = np.array([3,0,5,1,6])\n",
    "print('batch_lengths=', batch_lengths)\n",
    "for ind in range(np.sum(batch_lengths)):\n",
    "    b, k = ind2sub_batches(ind, batch_lengths)\n",
    "    ind2 = sub2ind_batches(b, k, batch_lengths)\n",
    "    print('ind=', ind, ', b=', b, ', k=', k, ', ind2=', ind2)"
   ],
   "metadata": {
    "collapsed": false,
    "pycharm": {
     "name": "#%%\n"
    }
   }
  }
 ],
 "metadata": {
  "kernelspec": {
   "display_name": "Python 3",
   "language": "python",
   "name": "python3"
  },
  "language_info": {
   "codemirror_mode": {
    "name": "ipython",
    "version": 2
   },
   "file_extension": ".py",
   "mimetype": "text/x-python",
   "name": "python",
   "nbconvert_exporter": "python",
   "pygments_lexer": "ipython2",
   "version": "2.7.6"
  }
 },
 "nbformat": 4,
 "nbformat_minor": 0
}