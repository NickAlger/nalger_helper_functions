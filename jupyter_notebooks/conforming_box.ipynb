{
 "cells": [
  {
   "cell_type": "code",
   "execution_count": 1,
   "metadata": {},
   "outputs": [],
   "source": [
    "import numpy as np\n",
    "import matplotlib.pyplot as plt\n",
    "\n",
    "from nalger_helper_functions import plot_rectangle, conforming_box"
   ]
  },
  {
   "cell_type": "code",
   "execution_count": 2,
   "metadata": {
    "pycharm": {
     "name": "#%%\n"
    }
   },
   "outputs": [
    {
     "name": "stdout",
     "output_type": "stream",
     "text": [
      "c1_shape= (11, 12)\n",
      "c2_shape= (6, 7)\n"
     ]
    },
    {
     "data": {
      "text/plain": "<Figure size 432x288 with 1 Axes>",
      "image/png": "[encoded data removed]"
     },
     "metadata": {
      "needs_background": "light"
     },
     "output_type": "display_data"
    }
   ],
   "source": [
    "min1 = np.array([-0.5, -1.1])\n",
    "max1 = np.array([1.2, 0.75])\n",
    "\n",
    "min2 = np.array([0.7, 0.4])\n",
    "max2 = np.array([1.6, 1.35])\n",
    "\n",
    "p = np.array([0.312, 1.07])\n",
    "\n",
    "h = 0.19\n",
    "\n",
    "min1c, max1c, c1_shape = conforming_box(min1, max1, p, h)\n",
    "min2c, max2c, c2_shape = conforming_box(min2, max2, p, h)\n",
    "\n",
    "print('c1_shape=', c1_shape)\n",
    "print('c2_shape=', c2_shape)\n",
    "\n",
    "buf = 0.25\n",
    "xmin = np.min([min1c[0], min2c[0], p[0]]) - buf\n",
    "ymin = np.min([min1c[1], min2c[1], p[1]]) - buf\n",
    "xmax = np.max([max1c[0], max2c[0], p[0]]) + buf\n",
    "ymax = np.max([max1c[1], max2c[1], p[1]]) + buf\n",
    "\n",
    "xx = np.arange(-25, 25) * h + p[0]\n",
    "yy = np.arange(-25, 25) * h + p[1]\n",
    "\n",
    "XX, YY = np.meshgrid(xx, yy)\n",
    "\n",
    "plt.figure()\n",
    "\n",
    "r1 = plot_rectangle(min1, max1, edgecolor='k')\n",
    "r2 = plot_rectangle(min2, max2, edgecolor='k')\n",
    "r1c = plot_rectangle(min1c, max1c, edgecolor='r')\n",
    "r2c = plot_rectangle(min2c, max2c, edgecolor='b')\n",
    "plt.plot(p[0], p[1], '.k', markersize=10)\n",
    "\n",
    "plt.plot(XX[:], YY[:], '.k', markersize=2)\n",
    "\n",
    "plt.xlim(xmin, xmax)\n",
    "plt.ylim(ymin, ymax)\n",
    "\n",
    "plt.title('black=input, red/blue = output')\n",
    "\n",
    "plt.show()"
   ]
  },
  {
   "cell_type": "code",
   "execution_count": 3,
   "outputs": [
    {
     "name": "stdout",
     "output_type": "stream",
     "text": [
      "c3_shape= (11, 14)\n",
      "c4_shape= (8, 7)\n"
     ]
    },
    {
     "data": {
      "text/plain": "<Figure size 432x288 with 1 Axes>",
      "image/png": "[encoded data removed]"
     },
     "metadata": {
      "needs_background": "light"
     },
     "output_type": "display_data"
    }
   ],
   "source": [
    "min3 = min1c - np.array([1e-14, 1e-7])\n",
    "max3 = max1c + np.array([1e-14, 1e-7])\n",
    "\n",
    "min4 = min2c - np.array([1e-7, 1e-14])\n",
    "max4 = max2c + np.array([1e-7, 1e-14])\n",
    "\n",
    "p = np.array([0.312, 1.07])\n",
    "\n",
    "h = 0.19\n",
    "\n",
    "min3c, max3c, c3_shape = conforming_box(min3, max3, p, h)\n",
    "min4c, max4c, c4_shape = conforming_box(min4, max4, p, h)\n",
    "\n",
    "print('c3_shape=', c3_shape)\n",
    "print('c4_shape=', c4_shape)\n",
    "\n",
    "buf = 0.25\n",
    "xmin = np.min([min3c[0], min4c[0], p[0]]) - buf\n",
    "ymin = np.min([min3c[1], min4c[1], p[1]]) - buf\n",
    "xmax = np.max([max3c[0], max4c[0], p[0]]) + buf\n",
    "ymax = np.max([max3c[1], max4c[1], p[1]]) + buf\n",
    "\n",
    "xx = np.arange(-25, 25) * h + p[0]\n",
    "yy = np.arange(-25, 25) * h + p[1]\n",
    "\n",
    "XX, YY = np.meshgrid(xx, yy)\n",
    "\n",
    "plt.figure()\n",
    "\n",
    "r1 = plot_rectangle(min3, max3, edgecolor='k')\n",
    "r2 = plot_rectangle(min4, max4, edgecolor='k')\n",
    "r1c = plot_rectangle(min3c, max3c, edgecolor='r')\n",
    "r2c = plot_rectangle(min4c, max4c, edgecolor='b')\n",
    "plt.plot(p[0], p[1], '.k', markersize=10)\n",
    "\n",
    "plt.plot(XX[:], YY[:], '.k', markersize=2)\n",
    "\n",
    "plt.xlim(xmin, xmax)\n",
    "plt.ylim(ymin, ymax)\n",
    "\n",
    "plt.title('black=input, red/blue = output')\n",
    "\n",
    "plt.show()"
   ],
   "metadata": {
    "collapsed": false,
    "pycharm": {
     "name": "#%%\n"
    }
   }
  },
  {
   "cell_type": "code",
   "execution_count": 4,
   "outputs": [
    {
     "name": "stdout",
     "output_type": "stream",
     "text": [
      "c5_shape= (12, 13)\n",
      "c6_shape= (7, 8)\n"
     ]
    },
    {
     "data": {
      "text/plain": "<Figure size 432x288 with 1 Axes>",
      "image/png": "[encoded data removed]"
     },
     "metadata": {
      "needs_background": "light"
     },
     "output_type": "display_data"
    }
   ],
   "source": [
    "\n",
    "min5 = min1c - np.array([1e-14, 1e-7])\n",
    "max5 = max1c + np.array([1e-7, 1e-14])\n",
    "\n",
    "min6 = min2c - np.array([1e-7, 1e-14])\n",
    "max6 = max2c + np.array([1e-14, 1e-7])\n",
    "\n",
    "p = np.array([0.312, 1.07])\n",
    "\n",
    "h = 0.19\n",
    "\n",
    "min5c, max5c, c5_shape = conforming_box(min5, max5, p, h)\n",
    "min6c, max6c, c6_shape = conforming_box(min6, max6, p, h)\n",
    "\n",
    "print('c5_shape=', c5_shape)\n",
    "print('c6_shape=', c6_shape)\n",
    "\n",
    "buf = 0.25\n",
    "xmin = np.min([min5c[0], min6c[0], p[0]]) - buf\n",
    "ymin = np.min([min5c[1], min6c[1], p[1]]) - buf\n",
    "xmax = np.max([max5c[0], max6c[0], p[0]]) + buf\n",
    "ymax = np.max([max5c[1], max6c[1], p[1]]) + buf\n",
    "\n",
    "xx = np.arange(-25, 25) * h + p[0]\n",
    "yy = np.arange(-25, 25) * h + p[1]\n",
    "\n",
    "XX, YY = np.meshgrid(xx, yy)\n",
    "\n",
    "plt.figure()\n",
    "\n",
    "r1 = plot_rectangle(min5, max5, edgecolor='k')\n",
    "r2 = plot_rectangle(min6, max6, edgecolor='k')\n",
    "r1c = plot_rectangle(min5c, max5c, edgecolor='r')\n",
    "r2c = plot_rectangle(min6c, max6c, edgecolor='b')\n",
    "plt.plot(p[0], p[1], '.k', markersize=10)\n",
    "\n",
    "plt.plot(XX[:], YY[:], '.k', markersize=2)\n",
    "\n",
    "plt.xlim(xmin, xmax)\n",
    "plt.ylim(ymin, ymax)\n",
    "\n",
    "plt.title('black=input, red/blue = output')\n",
    "\n",
    "plt.show()"
   ],
   "metadata": {
    "collapsed": false,
    "pycharm": {
     "name": "#%%\n"
    }
   }
  }
 ],
 "metadata": {
  "kernelspec": {
   "display_name": "Python 3",
   "language": "python",
   "name": "python3"
  },
  "language_info": {
   "codemirror_mode": {
    "name": "ipython",
    "version": 3
   },
   "file_extension": ".py",
   "mimetype": "text/x-python",
   "name": "python",
   "nbconvert_exporter": "python",
   "pygments_lexer": "ipython3",
   "version": "3.8.8"
  }
 },
 "nbformat": 4,
 "nbformat_minor": 4
}