{
 "cells": [
  {
   "cell_type": "code",
   "execution_count": 1,
   "metadata": {},
   "outputs": [],
   "source": [
    "import numpy as np\n",
    "import matplotlib.pyplot as plt\n",
    "\n",
    "from nalger_helper_functions import plot_rectangle, conforming_box"
   ]
  },
  {
   "cell_type": "code",
   "metadata": {
    "pycharm": {
     "name": "#%%\n"
    }
   },
   "source": [
    "min1 = np.array([-0.5, -1.1])\n",
    "max1 = np.array([1.2, 0.75])\n",
    "\n",
    "min2 = np.array([0.7, 0.4])\n",
    "max2 = np.array([1.6, 1.35])\n",
    "\n",
    "p = np.array([0.312, 1.07])\n",
    "\n",
    "h = 0.19\n",
    "\n",
    "min1c, max1c, c1_shape = conforming_box(min1, max1, p, h)\n",
    "min2c, max2c, c2_shape = conforming_box(min2, max2, p, h)\n",
    "\n",
    "print('c1_shape=', c1_shape)\n",
    "print('c2_shape=', c2_shape)\n",
    "\n",
    "buf = 0.25\n",
    "xmin = np.min([min1c[0], min2c[0], p[0]]) - buf\n",
    "ymin = np.min([min1c[1], min2c[1], p[1]]) - buf\n",
    "xmax = np.max([max1c[0], max2c[0], p[0]]) + buf\n",
    "ymax = np.max([max1c[1], max2c[1], p[1]]) + buf\n",
    "\n",
    "xx = np.arange(-25, 25) * h + p[0]\n",
    "yy = np.arange(-25, 25) * h + p[1]\n",
    "\n",
    "XX, YY = np.meshgrid(xx, yy)\n",
    "\n",
    "plt.figure()\n",
    "\n",
    "r1 = plot_rectangle(min1, max1, edgecolor='k')\n",
    "r2 = plot_rectangle(min2, max2, edgecolor='k')\n",
    "r1c = plot_rectangle(min1c, max1c, edgecolor='r')\n",
    "r2c = plot_rectangle(min2c, max2c, edgecolor='b')\n",
    "plt.plot(p[0], p[1], '.k', markersize=10)\n",
    "\n",
    "plt.plot(XX[:], YY[:], '.k', markersize=2)\n",
    "\n",
    "plt.xlim(xmin, xmax)\n",
    "plt.ylim(ymin, ymax)\n",
    "\n",
    "plt.title('black=input, red/blue = output')\n",
    "\n",
    "plt.show()"
   ],
   "execution_count": 2,
   "outputs": [
    {
     "name": "stdout",
     "output_type": "stream",
     "text": [
      "c1_shape= (11, 12)\n",
      "c2_shape= (6, 7)\n"
     ]
    },
    {
     "data": {
      "text/plain": "<Figure size 432x288 with 1 Axes>",
      "image/png": "[encoded data removed]"
     },
     "metadata": {
      "needs_background": "light"
     },
     "output_type": "display_data"
    }
   ]
  }
 ],
 "metadata": {
  "kernelspec": {
   "display_name": "Python 3",
   "language": "python",
   "name": "python3"
  },
  "language_info": {
   "codemirror_mode": {
    "name": "ipython",
    "version": 3
   },
   "file_extension": ".py",
   "mimetype": "text/x-python",
   "name": "python",
   "nbconvert_exporter": "python",
   "pygments_lexer": "ipython3",
   "version": "3.8.5"
  }
 },
 "nbformat": 4,
 "nbformat_minor": 4
}