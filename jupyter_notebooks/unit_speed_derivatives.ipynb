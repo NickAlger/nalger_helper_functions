{
 "cells": [
  {
   "cell_type": "code",
   "execution_count": 1,
   "metadata": {},
   "outputs": [],
   "source": [
    "import numpy as np\n",
    "\n",
    "# https://github.com/NickAlger/helper_functions/blob/master/unit_speed_derivatives.py\n",
    "from unit_speed_derivatives import unit_speed_derivatives"
   ]
  },
  {
   "cell_type": "code",
   "execution_count": 2,
   "metadata": {},
   "outputs": [
    {
     "name": "stdout",
     "output_type": "stream",
     "text": [
      "err= 6.500262615625636e-08\n"
     ]
    }
   ],
   "source": [
    "from scipy.integrate import solve_ivp\n",
    "from scipy import misc\n",
    "\n",
    "def v_unit(t, x):\n",
    "    return np.array([-x[1], x[0]])/np.linalg.norm(x) # circle\n",
    "\n",
    "\n",
    "def scaling_factor(x):\n",
    "    return 1.0 + (x[0] - 0.5)**2 + (x[1] + 0.3)**2 + (x[0] + 0.2)**4 + (x[1] - 0.1)**4 # Randomish positive polynomial\n",
    "\n",
    "\n",
    "def v(t, x):\n",
    "    return v_unit(t, x) * scaling_factor(x)\n",
    "\n",
    "\n",
    "y0 = np.array([1,1])/np.sqrt(2.)\n",
    "\n",
    "ode_tol = 5e-14\n",
    "ode_method = 'RK45'\n",
    "finite_difference_step_size = 5e-3\n",
    "num_finite_difference_steps = 13\n",
    "\n",
    "def y_fct0(T):\n",
    "    return solve_ivp(v, (0.0, T), y0, rtol=ode_tol, atol=ode_tol, method=ode_method).y[0,-1]\n",
    "\n",
    "def y_fct1(T):\n",
    "    return solve_ivp(v, (0.0, T), y0, rtol=ode_tol, atol=ode_tol, method=ode_method).y[1,-1]\n",
    "\n",
    "num_derivatives = 4\n",
    "YY = np.zeros((2, num_derivatives))\n",
    "for k in range(num_derivatives):\n",
    "    YY[0,k] = misc.derivative(y_fct0, 0.0, dx=finite_difference_step_size, n=k + 1, order=num_finite_difference_steps)\n",
    "    YY[1,k] = misc.derivative(y_fct1, 0.0, dx=finite_difference_step_size, n=k + 1, order=num_finite_difference_steps)\n",
    "\n",
    "XX = unit_speed_derivatives(YY)\n",
    "\n",
    "XX_true = (1. / np.sqrt(2.)) * np.array([[-1, -1,  1, 1, -1, -1,  1, 1, -1, -1,  1, 1],\n",
    "                                         [ 1, -1, -1, 1,  1, -1, -1, 1,  1, -1, -1, 1]])\n",
    "XX_true = XX_true[:,:num_derivatives]\n",
    "\n",
    "err = np.linalg.norm(XX - XX_true)\n",
    "print('err=', err)"
   ]
  }
 ],
 "metadata": {
  "kernelspec": {
   "display_name": "Python 3",
   "language": "python",
   "name": "python3"
  },
  "language_info": {
   "codemirror_mode": {
    "name": "ipython",
    "version": 3
   },
   "file_extension": ".py",
   "mimetype": "text/x-python",
   "name": "python",
   "nbconvert_exporter": "python",
   "pygments_lexer": "ipython3",
   "version": "3.8.5"
  }
 },
 "nbformat": 4,
 "nbformat_minor": 4
}