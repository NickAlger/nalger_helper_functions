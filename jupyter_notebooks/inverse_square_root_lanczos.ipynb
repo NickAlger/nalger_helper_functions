{
 "cells": [
  {
   "cell_type": "code",
   "execution_count": 1,
   "id": "057c9960",
   "metadata": {},
   "outputs": [],
   "source": [
    "import numpy as np\n",
    "import scipy.linalg as sla\n",
    "import scipy.sparse as sps\n",
    "import matplotlib.pyplot as plt"
   ]
  },
  {
   "cell_type": "code",
   "execution_count": 2,
   "id": "fd1afc46",
   "metadata": {},
   "outputs": [
    {
     "name": "stdout",
     "output_type": "stream",
     "text": [
      "np.linalg.cond(A)= 13.021080751590995\n",
      "np.linalg.cond(sla.sqrtm(A))= 3.608473465551711\n"
     ]
    }
   ],
   "source": [
    "N = 100\n",
    "\n",
    "U, ss, _ = np.linalg.svd(np.random.randn(N,N))\n",
    "A = U @ np.diag(np.power(ss, 0.5)) @ U.T\n",
    "\n",
    "print('np.linalg.cond(A)=', np.linalg.cond(A))\n",
    "print('np.linalg.cond(sla.sqrtm(A))=', np.linalg.cond(sla.sqrtm(A)))"
   ]
  },
  {
   "cell_type": "code",
   "execution_count": 3,
   "id": "3ea6dbf5",
   "metadata": {},
   "outputs": [
    {
     "name": "stdout",
     "output_type": "stream",
     "text": [
      "ii= 0 , relres= 0.22524867296725853\n",
      "ii= 1 , relres= 0.09246412017577568\n",
      "ii= 2 , relres= 0.04194734743695599\n",
      "ii= 3 , relres= 0.019475400717057254\n",
      "ii= 4 , relres= 0.007261486297945996\n",
      "ii= 5 , relres= 0.0029543946939867777\n",
      "ii= 6 , relres= 0.001619366277828648\n",
      "ii= 7 , relres= 0.0010575559834402146\n",
      "ii= 8 , relres= 0.0006057700983065901\n",
      "ii= 9 , relres= 0.00032920489684409567\n",
      "ii= 10 , relres= 0.00015922273016103977\n",
      "ii= 11 , relres= 7.440305461096424e-05\n",
      "ii= 12 , relres= 3.39157618723029e-05\n",
      "ii= 13 , relres= 1.7572917114966016e-05\n",
      "ii= 14 , relres= 9.987906087822507e-06\n",
      "ii= 15 , relres= 5.145611377534728e-06\n",
      "ii= 16 , relres= 2.139183886519332e-06\n",
      "ii= 17 , relres= 9.070343009368972e-07\n",
      "ii= 18 , relres= 3.6621315709435117e-07\n",
      "ii= 19 , relres= 1.6182099566595158e-07\n",
      "ii= 20 , relres= 6.741830313262854e-08\n",
      "ii= 21 , relres= 2.6122535700605057e-08\n",
      "ii= 22 , relres= 9.63370887595763e-09\n",
      "ii= 23 , relres= 4.045317141074962e-09\n",
      "ii= 24 , relres= 1.6719167370825531e-09\n"
     ]
    }
   ],
   "source": [
    "b = np.random.randn(N)\n",
    "# x_true = np.linalg.solve(A, b)\n",
    "x_true = np.linalg.solve(sla.sqrtm(A), b)\n",
    "\n",
    "qq = [np.zeros(b.shape), b / np.linalg.norm(b)]\n",
    "alphas = []\n",
    "betas = [0.0]\n",
    "\n",
    "for ii in range(25):\n",
    "    Q = np.asarray(qq[1:]).T.reshape((N, -1))\n",
    "#     x = Q @ np.linalg.solve(Q.T @ A @ Q, Q.T @ b)\n",
    "    x = Q @ np.linalg.solve(sla.sqrtm(Q.T @ A @ Q), Q.T @ b)\n",
    "    relres = np.linalg.norm(sla.sqrtm(A) @ x - b) / np.linalg.norm(b)\n",
    "#     relres = np.linalg.norm(A @ x - b) / np.linalg.norm(b)\n",
    "    print('ii=', ii, ', relres=', relres)\n",
    "    \n",
    "    q_prev = qq[-2]\n",
    "    q_cur = qq[-1]\n",
    "    v = A @ q_cur\n",
    "    alpha = q_cur.T @ v\n",
    "    v = v - betas[-1] * q_prev - alpha * q_cur\n",
    "    beta = np.linalg.norm(v)\n",
    "    q_next = v / beta\n",
    "    qq.append(q_next)\n",
    "    alphas.append(alpha)\n",
    "    betas.append(beta)"
   ]
  }
 ],
 "metadata": {
  "kernelspec": {
   "display_name": "Python 3 (ipykernel)",
   "language": "python",
   "name": "python3"
  },
  "language_info": {
   "codemirror_mode": {
    "name": "ipython",
    "version": 3
   },
   "file_extension": ".py",
   "mimetype": "text/x-python",
   "name": "python",
   "nbconvert_exporter": "python",
   "pygments_lexer": "ipython3",
   "version": "3.9.12"
  }
 },
 "nbformat": 4,
 "nbformat_minor": 5
}
