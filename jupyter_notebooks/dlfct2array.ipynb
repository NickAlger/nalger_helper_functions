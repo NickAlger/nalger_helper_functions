{
 "cells": [
  {
   "cell_type": "code",
   "execution_count": 8,
   "metadata": {
    "collapsed": true
   },
   "outputs": [],
   "source": [
    "import numpy as np\n",
    "import dolfin as dl\n",
    "from nalger_helper_functions import dlfct2array\n",
    "\n",
    "mesh = dl.UnitSquareMesh(23, 28)\n",
    "V_scalar = dl.FunctionSpace(mesh, 'CG', 3)\n",
    "V_vector = dl.VectorFunctionSpace(mesh, 'CG', 3, dim=2)\n",
    "V_tensor = dl.TensorFunctionSpace(mesh, 'CG', 3, shape=(2,2))\n",
    "\n",
    "mesh2 = dl.UnitSquareMesh(9,6)\n",
    "V2_scalar = dl.FunctionSpace(mesh2, 'CG', 2)\n",
    "\n",
    "X = V_scalar.tabulate_dof_coordinates()\n",
    "X2 = V2_scalar.tabulate_dof_coordinates()"
   ]
  },
  {
   "cell_type": "code",
   "execution_count": 9,
   "outputs": [
    {
     "name": "stdout",
     "output_type": "stream",
     "text": [
      "err_scalar_same_space= 4.1540741810552243e-16\n"
     ]
    }
   ],
   "source": [
    "u_scalar_expression = dl.Expression('x[0]-pow(x[1],2)', domain=mesh, degree=3)\n",
    "u_scalar = dl.interpolate(u_scalar_expression, V_scalar)\n",
    "\n",
    "U_scalar = dlfct2array(u_scalar)\n",
    "\n",
    "U_scalar_true = X[:,0] - X[:,1]**2\n",
    "\n",
    "err_scalar_same_space = np.linalg.norm(U_scalar - U_scalar_true)\n",
    "print('err_scalar_same_space=', err_scalar_same_space)"
   ],
   "metadata": {
    "collapsed": false,
    "pycharm": {
     "name": "#%%\n"
    }
   }
  },
  {
   "cell_type": "code",
   "execution_count": 10,
   "outputs": [
    {
     "name": "stdout",
     "output_type": "stream",
     "text": [
      "err_scalar_different_space= 2.217595716773764e-15\n"
     ]
    }
   ],
   "source": [
    "U_scalar2 = dlfct2array(u_scalar, V2_scalar)\n",
    "\n",
    "U_scalar2_true = X2[:,0] - X2[:,1]**2\n",
    "\n",
    "err_scalar_different_space = np.linalg.norm(U_scalar2 - U_scalar2_true)\n",
    "print('err_scalar_different_space=', err_scalar_different_space)"
   ],
   "metadata": {
    "collapsed": false,
    "pycharm": {
     "name": "#%%\n"
    }
   }
  },
  {
   "cell_type": "code",
   "execution_count": 11,
   "outputs": [
    {
     "name": "stdout",
     "output_type": "stream",
     "text": [
      "err_vector_same_space= 6.170935895421101e-16\n"
     ]
    }
   ],
   "source": [
    "u_vector_expression = dl.Expression(('cos(x[0])+x[1]', 'sin(x[0]*x[1])'), domain=mesh, degree=3)\n",
    "u_vector = dl.interpolate(u_vector_expression, V_vector)\n",
    "\n",
    "U_vector = dlfct2array(u_vector)\n",
    "\n",
    "U_vector_true = np.zeros((V_scalar.dim(),2))\n",
    "U_vector_true[:,0] = np.cos(X[:,0])+X[:,1]\n",
    "U_vector_true[:,1] = np.sin(X[:,0]*X[:,1])\n",
    "\n",
    "err_vector_same_space = np.linalg.norm(U_vector - U_vector_true)\n",
    "print('err_vector_same_space=', err_vector_same_space)"
   ],
   "metadata": {
    "collapsed": false,
    "pycharm": {
     "name": "#%%\n"
    }
   }
  },
  {
   "cell_type": "code",
   "execution_count": 12,
   "outputs": [
    {
     "name": "stdout",
     "output_type": "stream",
     "text": [
      "err_vector_different_space= 5.6994988395341754e-08\n"
     ]
    }
   ],
   "source": [
    "U_vector2 = dlfct2array(u_vector, V2_scalar)\n",
    "\n",
    "U_vector2_true = np.zeros((V2_scalar.dim(),2))\n",
    "U_vector2_true[:,0] = np.cos(X2[:,0])+X2[:,1]\n",
    "U_vector2_true[:,1] = np.sin(X2[:,0]*X2[:,1])\n",
    "\n",
    "err_vector_different_space = np.linalg.norm(U_vector2 - U_vector2_true)\n",
    "print('err_vector_different_space=', err_vector_different_space)"
   ],
   "metadata": {
    "collapsed": false,
    "pycharm": {
     "name": "#%%\n"
    }
   }
  },
  {
   "cell_type": "code",
   "execution_count": 13,
   "outputs": [
    {
     "name": "stdout",
     "output_type": "stream",
     "text": [
      "err_tensor_same_space= 2.0623188380984407e-15\n"
     ]
    }
   ],
   "source": [
    "u_tensor_expression = dl.Expression((('cos(x[0])+x[1]',     'sin(x[0]*x[1])'    ),\n",
    "                                     ('pow(x[0]-2*x[1],3)', 'x[0]*x[1] - 2*x[0]')), domain=mesh, degree=3)\n",
    "u_tensor = dl.interpolate(u_tensor_expression, V_tensor)\n",
    "\n",
    "U_tensor = dlfct2array(u_tensor)\n",
    "\n",
    "U_tensor_true = np.zeros((V_scalar.dim(),2,2))\n",
    "U_tensor_true[:,0,0] = np.cos(X[:,0])+X[:,1]\n",
    "U_tensor_true[:,0,1] = np.sin(X[:,0]*X[:,1])\n",
    "U_tensor_true[:,1,0] = (X[:,0] - 2*X[:,1])**3\n",
    "U_tensor_true[:,1,1] = X[:,0]*X[:,1] - 2*X[:,0]\n",
    "\n",
    "err_tensor_same_space = np.linalg.norm(U_tensor - U_tensor_true)\n",
    "print('err_tensor_same_space=', err_tensor_same_space)"
   ],
   "metadata": {
    "collapsed": false,
    "pycharm": {
     "name": "#%%\n"
    }
   }
  },
  {
   "cell_type": "code",
   "execution_count": 14,
   "outputs": [
    {
     "name": "stdout",
     "output_type": "stream",
     "text": [
      "err_tensor_different_space= 5.699498839534248e-08\n"
     ]
    }
   ],
   "source": [
    "U_tensor2 = dlfct2array(u_tensor, V2_scalar)\n",
    "\n",
    "U_tensor2_true = np.zeros((V2_scalar.dim(),2,2))\n",
    "U_tensor2_true[:,0,0] = np.cos(X2[:,0])+X2[:,1]\n",
    "U_tensor2_true[:,0,1] = np.sin(X2[:,0]*X2[:,1])\n",
    "U_tensor2_true[:,1,0] = (X2[:,0] - 2*X2[:,1])**3\n",
    "U_tensor2_true[:,1,1] = X2[:,0]*X2[:,1] - 2*X2[:,0]\n",
    "\n",
    "err_tensor_different_space = np.linalg.norm(U_tensor2 - U_tensor2_true)\n",
    "print('err_tensor_different_space=', err_tensor_different_space)"
   ],
   "metadata": {
    "collapsed": false,
    "pycharm": {
     "name": "#%%\n"
    }
   }
  }
 ],
 "metadata": {
  "kernelspec": {
   "display_name": "Python 3",
   "language": "python",
   "name": "python3"
  },
  "language_info": {
   "codemirror_mode": {
    "name": "ipython",
    "version": 2
   },
   "file_extension": ".py",
   "mimetype": "text/x-python",
   "name": "python",
   "nbconvert_exporter": "python",
   "pygments_lexer": "ipython2",
   "version": "2.7.6"
  }
 },
 "nbformat": 4,
 "nbformat_minor": 0
}