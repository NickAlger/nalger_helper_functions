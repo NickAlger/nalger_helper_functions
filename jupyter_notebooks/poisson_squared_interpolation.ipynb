{
 "cells": [
  {
   "cell_type": "code",
   "execution_count": 1,
   "metadata": {},
   "outputs": [
    {
     "name": "stdout",
     "output_type": "stream",
     "text": [
      "<module 'nalger_helper_functions.make_dense_lu_solver' from '/home/nick/repos/nalger_helper_functions/nalger_helper_functions/make_dense_lu_solver.py'>\n"
     ]
    }
   ],
   "source": [
    "import numpy as np\n",
    "import matplotlib.pyplot as plt\n",
    "import fenics\n",
    "from nalger_helper_functions import PoissonSquaredInterpolation"
   ]
  },
  {
   "cell_type": "code",
   "execution_count": 2,
   "metadata": {},
   "outputs": [],
   "source": [
    "n = 75\n",
    "num_pts0 = 52\n",
    "\n",
    "mesh = fenics.UnitSquareMesh(n, n)\n",
    "V = fenics.FunctionSpace(mesh, 'CG', 2)"
   ]
  },
  {
   "cell_type": "code",
   "execution_count": 3,
   "metadata": {},
   "outputs": [],
   "source": [
    "def nearest_ind(q, xx):\n",
    "    return np.argmin(np.linalg.norm(q - xx, axis=1))"
   ]
  },
  {
   "cell_type": "code",
   "execution_count": 4,
   "metadata": {},
   "outputs": [],
   "source": [
    "def choose_random_mesh_nodes(V, num_pts0):\n",
    "    np.random.seed(0)\n",
    "    xx0 = np.random.rand(num_pts0, mesh.geometric_dimension()) * 0.7 + 0.15\n",
    "    coords = V.tabulate_dof_coordinates()\n",
    "    closest_inds = []\n",
    "    for k in range(xx0.shape[0]):\n",
    "        closest_inds.append(nearest_ind(xx0[k, :], coords))\n",
    "\n",
    "    point_inds_ii = np.unique(closest_inds)\n",
    "    xx = coords[point_inds_ii, :]\n",
    "    num_pts = xx.shape[0]\n",
    "    return point_inds_ii, xx, num_pts"
   ]
  },
  {
   "cell_type": "code",
   "execution_count": 5,
   "metadata": {},
   "outputs": [],
   "source": [
    "point_inds_ii, xx, num_pts = choose_random_mesh_nodes(V, num_pts0)\n",
    "points = [xx[k,:] for k in range(xx.shape[0])]\n",
    "y = np.random.randn(num_pts)"
   ]
  },
  {
   "cell_type": "code",
   "execution_count": 6,
   "metadata": {},
   "outputs": [
    {
     "name": "stdout",
     "output_type": "stream",
     "text": [
      "<module 'nalger_helper_functions.make_dense_lu_solver' from '/home/nick/repos/nalger_helper_functions/nalger_helper_functions/make_dense_lu_solver.py'>\n"
     ]
    },
    {
     "ename": "TypeError",
     "evalue": "'module' object is not callable",
     "output_type": "error",
     "traceback": [
      "\u001B[0;31m---------------------------------------------------------------------------\u001B[0m",
      "\u001B[0;31mTypeError\u001B[0m                                 Traceback (most recent call last)",
      "\u001B[0;32m<ipython-input-6-f4b3a52c55eb>\u001B[0m in \u001B[0;36m<module>\u001B[0;34m\u001B[0m\n\u001B[0;32m----> 1\u001B[0;31m \u001B[0mPSI\u001B[0m \u001B[0;34m=\u001B[0m \u001B[0mPoissonSquaredInterpolation\u001B[0m\u001B[0;34m(\u001B[0m\u001B[0mV\u001B[0m\u001B[0;34m,\u001B[0m \u001B[0minitial_points\u001B[0m\u001B[0;34m=\u001B[0m\u001B[0mpoints\u001B[0m\u001B[0;34m)\u001B[0m\u001B[0;34m\u001B[0m\u001B[0;34m\u001B[0m\u001B[0m\n\u001B[0m\u001B[1;32m      2\u001B[0m \u001B[0;34m\u001B[0m\u001B[0m\n",
      "\u001B[0;32m~/repos/nalger_helper_functions/nalger_helper_functions/poisson_squared_interpolation.py\u001B[0m in \u001B[0;36m__init__\u001B[0;34m(me, function_space_V, initial_points)\u001B[0m\n\u001B[1;32m     33\u001B[0m \u001B[0;34m\u001B[0m\u001B[0m\n\u001B[1;32m     34\u001B[0m         \u001B[0;32mif\u001B[0m \u001B[0minitial_points\u001B[0m \u001B[0;32mis\u001B[0m \u001B[0;32mnot\u001B[0m \u001B[0;32mNone\u001B[0m\u001B[0;34m:\u001B[0m\u001B[0;34m\u001B[0m\u001B[0;34m\u001B[0m\u001B[0m\n\u001B[0;32m---> 35\u001B[0;31m             \u001B[0mme\u001B[0m\u001B[0;34m.\u001B[0m\u001B[0madd_points\u001B[0m\u001B[0;34m(\u001B[0m\u001B[0minitial_points\u001B[0m\u001B[0;34m)\u001B[0m\u001B[0;34m\u001B[0m\u001B[0;34m\u001B[0m\u001B[0m\n\u001B[0m\u001B[1;32m     36\u001B[0m \u001B[0;34m\u001B[0m\u001B[0m\n\u001B[1;32m     37\u001B[0m     \u001B[0;32mdef\u001B[0m \u001B[0madd_points\u001B[0m\u001B[0;34m(\u001B[0m\u001B[0mme\u001B[0m\u001B[0;34m,\u001B[0m \u001B[0mnew_points\u001B[0m\u001B[0;34m)\u001B[0m\u001B[0;34m:\u001B[0m\u001B[0;34m\u001B[0m\u001B[0;34m\u001B[0m\u001B[0m\n",
      "\u001B[0;32m~/repos/nalger_helper_functions/nalger_helper_functions/poisson_squared_interpolation.py\u001B[0m in \u001B[0;36madd_points\u001B[0;34m(me, new_points)\u001B[0m\n\u001B[1;32m     48\u001B[0m                 \u001B[0mS\u001B[0m\u001B[0;34m[\u001B[0m\u001B[0mi\u001B[0m\u001B[0;34m,\u001B[0m \u001B[0mj\u001B[0m\u001B[0;34m]\u001B[0m \u001B[0;34m=\u001B[0m \u001B[0mme\u001B[0m\u001B[0;34m.\u001B[0m\u001B[0mimpulse_responses\u001B[0m\u001B[0;34m[\u001B[0m\u001B[0mi\u001B[0m\u001B[0;34m]\u001B[0m\u001B[0;34m.\u001B[0m\u001B[0minner\u001B[0m\u001B[0;34m(\u001B[0m\u001B[0mme\u001B[0m\u001B[0;34m.\u001B[0m\u001B[0mM\u001B[0m \u001B[0;34m*\u001B[0m \u001B[0mme\u001B[0m\u001B[0;34m.\u001B[0m\u001B[0mimpulse_responses\u001B[0m\u001B[0;34m[\u001B[0m\u001B[0mj\u001B[0m\u001B[0;34m]\u001B[0m\u001B[0;34m)\u001B[0m\u001B[0;34m\u001B[0m\u001B[0;34m\u001B[0m\u001B[0m\n\u001B[1;32m     49\u001B[0m         \u001B[0mprint\u001B[0m\u001B[0;34m(\u001B[0m\u001B[0mmake_dense_lu_solver\u001B[0m\u001B[0;34m)\u001B[0m\u001B[0;34m\u001B[0m\u001B[0;34m\u001B[0m\u001B[0m\n\u001B[0;32m---> 50\u001B[0;31m         \u001B[0mme\u001B[0m\u001B[0;34m.\u001B[0m\u001B[0msolve_S\u001B[0m \u001B[0;34m=\u001B[0m \u001B[0mmake_dense_lu_solver\u001B[0m\u001B[0;34m(\u001B[0m\u001B[0mS\u001B[0m\u001B[0;34m)\u001B[0m\u001B[0;34m\u001B[0m\u001B[0;34m\u001B[0m\u001B[0m\n\u001B[0m\u001B[1;32m     51\u001B[0m         \u001B[0mme\u001B[0m\u001B[0;34m.\u001B[0m\u001B[0meta\u001B[0m \u001B[0;34m=\u001B[0m \u001B[0mme\u001B[0m\u001B[0;34m.\u001B[0m\u001B[0msolve_S\u001B[0m\u001B[0;34m(\u001B[0m\u001B[0mnp\u001B[0m\u001B[0;34m.\u001B[0m\u001B[0mones\u001B[0m\u001B[0;34m(\u001B[0m\u001B[0mme\u001B[0m\u001B[0;34m.\u001B[0m\u001B[0mnum_pts\u001B[0m\u001B[0;34m)\u001B[0m\u001B[0;34m)\u001B[0m\u001B[0;34m\u001B[0m\u001B[0;34m\u001B[0m\u001B[0m\n\u001B[1;32m     52\u001B[0m         \u001B[0mme\u001B[0m\u001B[0;34m.\u001B[0m\u001B[0mmu\u001B[0m \u001B[0;34m=\u001B[0m \u001B[0mnp\u001B[0m\u001B[0;34m.\u001B[0m\u001B[0mdot\u001B[0m\u001B[0;34m(\u001B[0m\u001B[0mnp\u001B[0m\u001B[0;34m.\u001B[0m\u001B[0mones\u001B[0m\u001B[0;34m(\u001B[0m\u001B[0mme\u001B[0m\u001B[0;34m.\u001B[0m\u001B[0mnum_pts\u001B[0m\u001B[0;34m)\u001B[0m\u001B[0;34m,\u001B[0m \u001B[0mme\u001B[0m\u001B[0;34m.\u001B[0m\u001B[0meta\u001B[0m\u001B[0;34m)\u001B[0m\u001B[0;34m\u001B[0m\u001B[0;34m\u001B[0m\u001B[0m\n",
      "\u001B[0;31mTypeError\u001B[0m: 'module' object is not callable"
     ]
    }
   ],
   "source": [
    "PSI = PoissonSquaredInterpolation(V, initial_points=points)"
   ]
  },
  {
   "cell_type": "code",
   "execution_count": null,
   "metadata": {},
   "outputs": [],
   "source": [
    "y = np.random.randn(PSI.num_pts)\n",
    "u = PSI.interpolate_values(y)"
   ]
  },
  {
   "cell_type": "code",
   "execution_count": null,
   "metadata": {},
   "outputs": [],
   "source": [
    "u_fct = fenics.Function(V)\n",
    "u_fct.vector().set_local(u)"
   ]
  },
  {
   "cell_type": "code",
   "execution_count": null,
   "metadata": {},
   "outputs": [],
   "source": [
    "def plot_kth_weighting_function(k):\n",
    "    wk = fenics.Function(V)\n",
    "    wk.vector().set_local(PSI.weighting_functions[k])\n",
    "    fenics.plot(wk)\n",
    "    for k in range(xx.shape[0]):\n",
    "        plt.plot(xx[k, 0], xx[k, 1], '.r')"
   ]
  },
  {
   "cell_type": "code",
   "execution_count": null,
   "metadata": {},
   "outputs": [],
   "source": [
    "fig, axes = plt.subplots(nrows=2, ncols=3, figsize=(15, 8))\n",
    "fig.suptitle('Poisson weighting functions', fontsize=16)\n",
    "\n",
    "kk = [0,4,31,12,22,44]\n",
    "# kk = np.array(kk)*10\n",
    "\n",
    "plt.sca(axes[0,0])\n",
    "k=kk[0]\n",
    "plot_kth_weighting_function(k)\n",
    "plt.title('w'+str(k))\n",
    "\n",
    "plt.sca(axes[0,1])\n",
    "k=kk[1]\n",
    "plot_kth_weighting_function(k)\n",
    "plt.title('w'+str(k))\n",
    "\n",
    "plt.sca(axes[0,2])\n",
    "k=kk[2]\n",
    "plot_kth_weighting_function(k)\n",
    "plt.title('w'+str(k))\n",
    "\n",
    "plt.sca(axes[1,0])\n",
    "k=kk[3]\n",
    "plot_kth_weighting_function(k)\n",
    "plt.title('w'+str(k))\n",
    "\n",
    "plt.sca(axes[1,1])\n",
    "k=kk[4]\n",
    "plot_kth_weighting_function(k)\n",
    "plt.title('w'+str(k))\n",
    "\n",
    "plt.sca(axes[1,2])\n",
    "k=kk[5]\n",
    "plot_kth_weighting_function(k)\n",
    "plt.title('w'+str(k))"
   ]
  },
  {
   "cell_type": "code",
   "execution_count": null,
   "metadata": {},
   "outputs": [],
   "source": [
    "plt.figure()\n",
    "c = fenics.plot(u_fct)\n",
    "for k in range(xx.shape[0]):\n",
    "    plt.plot(xx[k, 0], xx[k, 1], '.r')\n",
    "plt.colorbar(c)\n",
    "plt.title('interpolation of random data')"
   ]
  }
 ],
 "metadata": {
  "kernelspec": {
   "display_name": "Python 3",
   "language": "python",
   "name": "python3"
  },
  "language_info": {
   "codemirror_mode": {
    "name": "ipython",
    "version": 3
   },
   "file_extension": ".py",
   "mimetype": "text/x-python",
   "name": "python",
   "nbconvert_exporter": "python",
   "pygments_lexer": "ipython3",
   "version": "3.8.5"
  }
 },
 "nbformat": 4,
 "nbformat_minor": 4
}