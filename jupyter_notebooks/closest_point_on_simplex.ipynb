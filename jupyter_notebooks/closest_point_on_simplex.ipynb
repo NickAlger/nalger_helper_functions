{
 "cells": [
  {
   "cell_type": "code",
   "execution_count": 5,
   "metadata": {
    "collapsed": true,
    "pycharm": {
     "name": "#%%\n"
    }
   },
   "outputs": [
    {
     "data": {
      "text/plain": "<Figure size 432x288 with 1 Axes>",
      "image/png": "[encoded data removed]"
     },
     "metadata": {
      "needs_background": "light"
     },
     "output_type": "display_data"
    }
   ],
   "source": [
    "import numpy as np\n",
    "import matplotlib.pyplot as plt\n",
    "from nalger_helper_functions import closest_point_on_simplex\n",
    "\n",
    "p1 = np.array([1.1, 0.4])\n",
    "V1 = np.array([[0., 0.],\n",
    "               [0., 1.],\n",
    "               [1., 0.]])\n",
    "\n",
    "p2 = np.array([-0.3, 1.1])\n",
    "V2 = np.array([[-1.0, 0.],\n",
    "               [0.,   0.],\n",
    "               [-0.5, 0.5]])\n",
    "\n",
    "p = np.stack([p1, p2])\n",
    "V = np.stack([V1, V2])\n",
    "\n",
    "projected_p = closest_point_on_simplex(p, V)\n",
    "\n",
    "projected_p1 = projected_p[0,:]\n",
    "projected_p2 = projected_p[1,:]\n",
    "\n",
    "plt.figure()\n",
    "t1 = plt.Polygon(V1)\n",
    "plt.gca().add_patch(t1)\n",
    "plt.plot([p1[0], projected_p1[0]],\n",
    "         [p1[1], projected_p1[1]], 'r')\n",
    "\n",
    "t2 = plt.Polygon(V2)\n",
    "plt.gca().add_patch(t2)\n",
    "plt.plot([p2[0], projected_p2[0]],\n",
    "         [p2[1], projected_p2[1]], 'r')\n",
    "\n",
    "plt.gca().set_aspect('equal')\n",
    "plt.show()\n"
   ]
  }
 ],
 "metadata": {
  "kernelspec": {
   "display_name": "Python 3",
   "language": "python",
   "name": "python3"
  },
  "language_info": {
   "codemirror_mode": {
    "name": "ipython",
    "version": 2
   },
   "file_extension": ".py",
   "mimetype": "text/x-python",
   "name": "python",
   "nbconvert_exporter": "python",
   "pygments_lexer": "ipython2",
   "version": "2.7.6"
  }
 },
 "nbformat": 4,
 "nbformat_minor": 0
}