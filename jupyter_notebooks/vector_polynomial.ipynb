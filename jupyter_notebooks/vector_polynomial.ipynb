{
 "cells": [
  {
   "cell_type": "code",
   "execution_count": 1,
   "metadata": {
    "collapsed": true
   },
   "outputs": [],
   "source": [
    "import numpy as np\n",
    "import matplotlib.pyplot as plt\n",
    "\n",
    "from nalger_helper_functions import VectorPolynomial, lagrange_polynomial_vectorized, \\\n",
    "    polynomial_from_roots_vectorized, polynomial_interpolation_vectorized, floater_hormann_rational_interpolation_vectorized"
   ]
  },
  {
   "cell_type": "markdown",
   "source": [
    "### Vector polynomial:\n",
    "\n",
    "$$p(t) = v_1 + v_2 t + v_3 t^3 + \\dots + v_k t^k$$\n",
    "\n",
    "where $v_1\\in \\mathbb{R}^d$, $v_2\\in \\mathbb{R}^d$, $\\dots$, $v_k\\in \\mathbb{R}^d$ are vectors"
   ],
   "metadata": {
    "collapsed": false,
    "pycharm": {
     "name": "#%% md\n"
    }
   }
  },
  {
   "cell_type": "code",
   "execution_count": 2,
   "outputs": [
    {
     "data": {
      "text/plain": "[<matplotlib.lines.Line2D at 0x7fb4e927d3d0>]"
     },
     "execution_count": 2,
     "metadata": {},
     "output_type": "execute_result"
    },
    {
     "data": {
      "text/plain": "<Figure size 432x288 with 1 Axes>",
      "image/png": "[encoded data removed]"
     },
     "metadata": {
      "needs_background": "light"
     },
     "output_type": "display_data"
    }
   ],
   "source": [
    "d = 2 # spatial dimension\n",
    "k = 5 # polynomial order+1\n",
    "\n",
    "t_start = 0.0\n",
    "t_stop = 1.0\n",
    "Nt = 1000 # num timesteps\n",
    "\n",
    "poly_coeffs = np.random.randn(d, k)\n",
    "poly = VectorPolynomial(poly_coeffs)\n",
    "\n",
    "tt = np.linspace(t_start, t_stop, Nt)\n",
    "pp = poly(tt)\n",
    "\n",
    "plt.plot(pp[:,0], pp[:,1])"
   ],
   "metadata": {
    "collapsed": false,
    "pycharm": {
     "name": "#%%\n"
    }
   }
  },
  {
   "cell_type": "code",
   "execution_count": 3,
   "outputs": [
    {
     "name": "stdout",
     "output_type": "stream",
     "text": [
      "err_poly= 0.0\n"
     ]
    }
   ],
   "source": [
    "pp_true = np.zeros((Nt, d))\n",
    "for n in range(Nt):\n",
    "    t = tt[n]\n",
    "    pt = 0.0\n",
    "    for ii in range(k):\n",
    "        pt += poly_coeffs[:,ii] * (t**ii)\n",
    "    pp_true[n,:] = pt\n",
    "\n",
    "err_poly = np.linalg.norm(pp_true - pp)\n",
    "print('err_poly=', err_poly)"
   ],
   "metadata": {
    "collapsed": false,
    "pycharm": {
     "name": "#%%\n"
    }
   }
  },
  {
   "cell_type": "markdown",
   "source": [
    "### Vector polynomial arithmetic"
   ],
   "metadata": {
    "collapsed": false
   }
  },
  {
   "cell_type": "code",
   "execution_count": 4,
   "outputs": [
    {
     "name": "stdout",
     "output_type": "stream",
     "text": [
      "err_linear_combo= 1.16884606792498e-16\n"
     ]
    }
   ],
   "source": [
    "d = 134 # spatial dimension\n",
    "k1 = 5 # first polynomial order+1\n",
    "k2 = 7 # second polynomial order+1\n",
    "\n",
    "p1 = VectorPolynomial(np.random.randn(d, k1))\n",
    "p2 = VectorPolynomial(np.random.randn(d, k2))\n",
    "\n",
    "tt = np.random.randn(Nt)\n",
    "\n",
    "c1 = 3.2\n",
    "c2 = -1.6\n",
    "\n",
    "pp_combo = (c1*p1 + c2*p2)(tt)\n",
    "pp_combo_true = c1*p1(tt) + c2*p2(tt)\n",
    "\n",
    "err_linear_combo = np.linalg.norm(pp_combo - pp_combo_true) / np.linalg.norm(pp_combo_true)\n",
    "print('err_linear_combo=', err_linear_combo)"
   ],
   "metadata": {
    "collapsed": false,
    "pycharm": {
     "name": "#%%\n"
    }
   }
  },
  {
   "cell_type": "code",
   "execution_count": 5,
   "outputs": [
    {
     "name": "stdout",
     "output_type": "stream",
     "text": [
      "err_mul= 3.9185247563271767e-16\n"
     ]
    }
   ],
   "source": [
    "pp_mul = (p1 * p2)(tt)\n",
    "pp_mul_true = p1(tt) * p2(tt)\n",
    "\n",
    "err_mul = np.linalg.norm(pp_mul - pp_mul_true) / np.linalg.norm(pp_mul_true)\n",
    "print('err_mul=', err_mul)"
   ],
   "metadata": {
    "collapsed": false,
    "pycharm": {
     "name": "#%%\n"
    }
   }
  },
  {
   "cell_type": "markdown",
   "source": [
    "### Derivative of vector polynomial"
   ],
   "metadata": {
    "collapsed": false
   }
  },
  {
   "cell_type": "code",
   "execution_count": 6,
   "outputs": [
    {
     "name": "stdout",
     "output_type": "stream",
     "text": [
      "s= 1e-08 , err_derivative= 1.778949017615289e-08\n"
     ]
    }
   ],
   "source": [
    "t0 = np.random.randn()\n",
    "s = 1e-8\n",
    "t1 = t0 + s\n",
    "\n",
    "dp1 = p1.derivative()\n",
    "\n",
    "tangent = dp1(t0)\n",
    "tangent_diff = (p1(t1) - p1(t0)) / s\n",
    "\n",
    "err_derivative = np.linalg.norm(tangent - tangent_diff) / np.linalg.norm(tangent_diff)\n",
    "print('s=', s, ', err_derivative=', err_derivative)"
   ],
   "metadata": {
    "collapsed": false,
    "pycharm": {
     "name": "#%%\n"
    }
   }
  },
  {
   "cell_type": "markdown",
   "source": [
    "### Arc length of vector polynomial\n",
    "\n",
    "Find arc length of $p(t)$ from $t=0$ to $t=T$"
   ],
   "metadata": {
    "collapsed": false,
    "pycharm": {
     "name": "#%% md\n"
    }
   }
  },
  {
   "cell_type": "code",
   "execution_count": 7,
   "outputs": [
    {
     "name": "stdout",
     "output_type": "stream",
     "text": [
      "s= 0.0001 , err_arc_length= 3.3500861364218e-10\n"
     ]
    }
   ],
   "source": [
    "s=1e-4\n",
    "T = 1.5\n",
    "\n",
    "L = p1.arc_length(T)\n",
    "\n",
    "tt = np.linspace(0.0, T, int(T/s))\n",
    "pp = p1(tt)\n",
    "L_diff = np.sum(np.linalg.norm(pp[1:] - pp[:-1], axis=1))\n",
    "\n",
    "err_arc_length = np.abs(L - L_diff) / np.abs(L_diff)\n",
    "print('s=', s, ', err_arc_length=', err_arc_length)"
   ],
   "metadata": {
    "collapsed": false,
    "pycharm": {
     "name": "#%%\n"
    }
   }
  },
  {
   "cell_type": "markdown",
   "source": [
    "### Arc time of vector polynomial\n",
    "\n",
    "Find $T$ such that the length of $p(t)$ from $t=0$ to $t=T$ equals $L$\n"
   ],
   "metadata": {
    "collapsed": false
   }
  },
  {
   "cell_type": "code",
   "execution_count": 8,
   "outputs": [
    {
     "name": "stdout",
     "output_type": "stream",
     "text": [
      "      converged: True\n",
      "           flag: 'converged'\n",
      " function_calls: 29\n",
      "     iterations: 28\n",
      "           root: 1.5\n",
      "err_arc_time= 0.0\n"
     ]
    }
   ],
   "source": [
    "T2 = p1.arc_time(L, display_soln=True, rtol=1e-12)\n",
    "\n",
    "err_arc_time = np.abs(T - T2) / np.abs(T)\n",
    "print('err_arc_time=', err_arc_time)"
   ],
   "metadata": {
    "collapsed": false,
    "pycharm": {
     "name": "#%%\n"
    }
   }
  },
  {
   "cell_type": "markdown",
   "source": [
    "### Vector rational function arithmetic\n"
   ],
   "metadata": {
    "collapsed": false
   }
  },
  {
   "cell_type": "code",
   "execution_count": 9,
   "outputs": [
    {
     "name": "stdout",
     "output_type": "stream",
     "text": [
      "err_rat= 1.2189580988311482e-12\n"
     ]
    }
   ],
   "source": [
    "Nt = 1000\n",
    "\n",
    "d = 134 # spatial dimension\n",
    "k1 = 5 # first polynomial order+1\n",
    "k2 = 7 # second polynomial order+1\n",
    "k3 = 2 # third polynomial order+1\n",
    "\n",
    "p1 = VectorPolynomial(np.random.randn(d, k1))\n",
    "p2 = VectorPolynomial(np.random.randn(d, k2))\n",
    "p3 = VectorPolynomial(np.random.randn(d, k3))\n",
    "\n",
    "tt = np.random.randn(Nt)\n",
    "\n",
    "a = 2.1\n",
    "b = -4.6\n",
    "\n",
    "rat = (-p1 / (a*p2) + p3) / b\n",
    "\n",
    "qq = rat(tt)\n",
    "qq_true = (-p1(tt) / (a*p2(tt)) + p3(tt)) / b\n",
    "\n",
    "err_rat = np.linalg.norm(qq - qq_true) / np.linalg.norm(qq_true)\n",
    "print('err_rat=', err_rat)"
   ],
   "metadata": {
    "collapsed": false,
    "pycharm": {
     "name": "#%%\n"
    }
   }
  },
  {
   "cell_type": "markdown",
   "source": [
    "### Derivative of vector rational function\n"
   ],
   "metadata": {
    "collapsed": false
   }
  },
  {
   "cell_type": "code",
   "execution_count": 10,
   "outputs": [
    {
     "name": "stdout",
     "output_type": "stream",
     "text": [
      "s= 1e-08 , err_rat_derivative= 1.0897705655557044e-06\n"
     ]
    }
   ],
   "source": [
    "t0 = np.random.randn()\n",
    "s = 1e-8\n",
    "t1 = t0 + s\n",
    "\n",
    "drat = rat.derivative()\n",
    "\n",
    "tangent = drat(t0)\n",
    "tangent_diff = (rat(t1) - rat(t0)) / s\n",
    "\n",
    "err_rat_derivative = np.linalg.norm(tangent - tangent_diff) / np.linalg.norm(tangent_diff)\n",
    "print('s=', s, ', err_rat_derivative=', err_rat_derivative)"
   ],
   "metadata": {
    "collapsed": false,
    "pycharm": {
     "name": "#%%\n"
    }
   }
  },
  {
   "cell_type": "markdown",
   "source": [
    "### Arc length of vector rational function\n",
    "\n",
    "Find arc length of $p(t)/q(t)$ from $t=0$ to $t=T$"
   ],
   "metadata": {
    "collapsed": false,
    "pycharm": {
     "name": "#%% md\n"
    }
   }
  },
  {
   "cell_type": "code",
   "execution_count": 11,
   "outputs": [
    {
     "name": "stdout",
     "output_type": "stream",
     "text": [
      "s= 0.0001 , err_rat_arc_length= 1.2501643946792013e-08\n"
     ]
    }
   ],
   "source": [
    "num = rat.numerator\n",
    "den = VectorPolynomial(np.abs(rat.denominator.coeffs))\n",
    "rat = num / den\n",
    "\n",
    "s=1e-4\n",
    "T = 1.5\n",
    "\n",
    "L = rat.arc_length(T)\n",
    "\n",
    "tt = np.linspace(0.0, T, int(T/s))\n",
    "rr = rat(tt)\n",
    "L_diff = np.sum(np.linalg.norm(rr[1:] - rr[:-1], axis=1))\n",
    "\n",
    "err_rat_arc_length = np.abs(L - L_diff) / np.abs(L_diff)\n",
    "print('s=', s, ', err_rat_arc_length=', err_rat_arc_length)"
   ],
   "metadata": {
    "collapsed": false,
    "pycharm": {
     "name": "#%%\n"
    }
   }
  },
  {
   "cell_type": "markdown",
   "source": [
    "### Arc time of vector rational function\n",
    "\n",
    "Find $T$ such that the length of $p(t)/q(t)$ from $t=0$ to $t=T$ equals $L$\n"
   ],
   "metadata": {
    "collapsed": false
   }
  },
  {
   "cell_type": "code",
   "execution_count": 12,
   "outputs": [
    {
     "name": "stdout",
     "output_type": "stream",
     "text": [
      "      converged: True\n",
      "           flag: 'converged'\n",
      " function_calls: 17\n",
      "     iterations: 16\n",
      "           root: 1.5000000000000064\n",
      "err_rat_arc_time= 4.292862361883938e-15\n"
     ]
    }
   ],
   "source": [
    "T2 = rat.arc_time(L, display_soln=True, rtol=1e-12)\n",
    "\n",
    "err_rat_arc_time = np.abs(T - T2) / np.abs(T)\n",
    "print('err_rat_arc_time=', err_rat_arc_time)"
   ],
   "metadata": {
    "collapsed": false,
    "pycharm": {
     "name": "#%%\n"
    }
   }
  },
  {
   "cell_type": "code",
   "execution_count": 13,
   "outputs": [
    {
     "name": "stdout",
     "output_type": "stream",
     "text": [
      "roots.shape= (78, 8)\n",
      "err_lagrange_vector_polynomial= 0.9999928021940496\n"
     ]
    }
   ],
   "source": [
    "d=78\n",
    "num_pts = 9\n",
    "j=3\n",
    "\n",
    "t = np.random.randn()\n",
    "\n",
    "pts = np.random.randn(d, num_pts)\n",
    "\n",
    "lagrange_poly = lagrange_polynomial_vectorized(pts, j)\n",
    "\n",
    "q = lagrange_poly(t).reshape(-1)\n",
    "\n",
    "xj = pts[:,j].reshape((-1,1))\n",
    "roots = np.bmat([pts[:,:j].reshape((d,-1)), pts[:,j+1:].reshape((d,-1))])\n",
    "\n",
    "q_true = (np.prod(t - roots, axis=1) / np.prod(xj - roots, axis=1)).reshape(-1)\n",
    "\n",
    "err_lagrange_vector_polynomial = np.linalg.norm(q-q_true)/np.linalg.norm(q_true)\n",
    "print('err_lagrange_vector_polynomial=', err_lagrange_vector_polynomial)"
   ],
   "metadata": {
    "collapsed": false,
    "pycharm": {
     "name": "#%%\n"
    }
   }
  },
  {
   "cell_type": "code",
   "execution_count": 25,
   "outputs": [
    {
     "name": "stdout",
     "output_type": "stream",
     "text": [
      "yy.shape= (9, 2)\n",
      "xx.shape= (9, 2)\n",
      "roots.shape= (2, 8)\n",
      "xx.shape= (9, 2)\n",
      "roots.shape= (2, 8)\n",
      "xx.shape= (9, 2)\n",
      "roots.shape= (2, 8)\n",
      "xx.shape= (9, 2)\n",
      "roots.shape= (2, 8)\n",
      "xx.shape= (9, 2)\n",
      "roots.shape= (2, 8)\n",
      "xx.shape= (9, 2)\n",
      "roots.shape= (2, 8)\n",
      "xx.shape= (9, 2)\n",
      "roots.shape= (2, 8)\n",
      "xx.shape= (9, 2)\n",
      "roots.shape= (2, 8)\n",
      "xx.shape= (9, 2)\n",
      "roots.shape= (2, 8)\n"
     ]
    },
    {
     "data": {
      "text/plain": "[<matplotlib.lines.Line2D at 0x7fb4e0f1ec70>]"
     },
     "execution_count": 25,
     "metadata": {},
     "output_type": "execute_result"
    },
    {
     "data": {
      "text/plain": "<Figure size 432x288 with 1 Axes>",
      "image/png": "[encoded data removed]"
     },
     "metadata": {
      "needs_background": "light"
     },
     "output_type": "display_data"
    }
   ],
   "source": [
    "f = lambda x: np.array([np.sin(x), x**1.4]).T\n",
    "\n",
    "pts = np.random.rand(num_pts)\n",
    "yy = f(pts)\n",
    "\n",
    "f_poly = polynomial_interpolation_vectorized(pts, yy)\n",
    "\n",
    "tt = np.linspace(0., 2., 500)\n",
    "ff = f(tt)\n",
    "ff_poly = f_poly(tt)\n",
    "\n",
    "plt.figure()\n",
    "plt.plot(ff[:,0], ff[:,1])\n",
    "plt.plot(ff_poly[:,0], ff_poly[:,1])"
   ],
   "metadata": {
    "collapsed": false,
    "pycharm": {
     "name": "#%%\n"
    }
   }
  },
  {
   "cell_type": "code",
   "execution_count": 24,
   "outputs": [
    {
     "name": "stdout",
     "output_type": "stream",
     "text": [
      "[[ 1.86665359e-05  1.54770337e-05]\n",
      " [-8.37334623e-06 -5.07986311e-06]\n",
      " [ 1.52102972e-06  1.51924755e-06]\n",
      " [-1.51683592e-06 -1.50667091e-06]\n",
      " [ 9.04234374e-05  1.03001626e-04]\n",
      " [ 1.96571155e-04  5.55900988e-05]\n",
      " [ 3.61366207e-06  2.34530552e-06]\n",
      " [-3.27909054e-05 -3.61151408e-05]\n",
      " [-5.20251450e-06 -3.61121634e-06]]\n",
      "[[0.52345618 0.43401459]\n",
      " [0.27403802 0.16625081]\n",
      " [0.69843846 0.69762011]\n",
      " [0.69337265 0.68872604]\n",
      " [0.80998101 0.92265195]\n",
      " [0.04248509 0.01201474]\n",
      " [0.3190256  0.20705104]\n",
      " [0.78321314 0.86261274]\n",
      " [0.36915536 0.25624145]]\n"
     ]
    }
   ],
   "source": [
    "# ff - ff_poly\n",
    "print(f_poly(pts))\n",
    "print(yy)"
   ],
   "metadata": {
    "collapsed": false,
    "pycharm": {
     "name": "#%%\n"
    }
   }
  }
 ],
 "metadata": {
  "kernelspec": {
   "display_name": "Python 3",
   "language": "python",
   "name": "python3"
  },
  "language_info": {
   "codemirror_mode": {
    "name": "ipython",
    "version": 2
   },
   "file_extension": ".py",
   "mimetype": "text/x-python",
   "name": "python",
   "nbconvert_exporter": "python",
   "pygments_lexer": "ipython2",
   "version": "2.7.6"
  }
 },
 "nbformat": 4,
 "nbformat_minor": 0
}