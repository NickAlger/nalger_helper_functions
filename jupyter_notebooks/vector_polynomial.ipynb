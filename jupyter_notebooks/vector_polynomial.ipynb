{
 "cells": [
  {
   "cell_type": "code",
   "execution_count": 1,
   "metadata": {
    "collapsed": true
   },
   "outputs": [],
   "source": [
    "import numpy as np\n",
    "import matplotlib.pyplot as plt\n",
    "\n",
    "from nalger_helper_functions import VectorPolynomial"
   ]
  },
  {
   "cell_type": "markdown",
   "source": [
    "### Vector polynomial:\n",
    "\n",
    "$$p(t) = v_1 + v_2 t + v_3 t^3 + \\dots + v_k t^k$$\n",
    "\n",
    "where $v_1\\in \\mathbb{R}^d$, $v_2\\in \\mathbb{R}^d$, $\\dots$, $v_k\\in \\mathbb{R}^d$ are vectors"
   ],
   "metadata": {
    "collapsed": false,
    "pycharm": {
     "name": "#%% md\n"
    }
   }
  },
  {
   "cell_type": "code",
   "execution_count": 2,
   "outputs": [
    {
     "data": {
      "text/plain": "[<matplotlib.lines.Line2D at 0x7fbcfe3bd130>]"
     },
     "execution_count": 2,
     "metadata": {},
     "output_type": "execute_result"
    },
    {
     "data": {
      "text/plain": "<Figure size 432x288 with 1 Axes>",
      "image/png": "[encoded data removed]"
     },
     "metadata": {
      "needs_background": "light"
     },
     "output_type": "display_data"
    }
   ],
   "source": [
    "d = 2 # spatial dimension\n",
    "k = 5 # polynomial order+1\n",
    "\n",
    "t_start = 0.0\n",
    "t_stop = 1.0\n",
    "Nt = 1000 # num timesteps\n",
    "\n",
    "poly_coeffs = np.random.randn(d, k)\n",
    "poly = VectorPolynomial(poly_coeffs)\n",
    "\n",
    "tt = np.linspace(t_start, t_stop, Nt)\n",
    "pp = poly(tt)\n",
    "\n",
    "plt.plot(pp[:,0], pp[:,1])"
   ],
   "metadata": {
    "collapsed": false,
    "pycharm": {
     "name": "#%%\n"
    }
   }
  },
  {
   "cell_type": "code",
   "execution_count": 3,
   "outputs": [
    {
     "name": "stdout",
     "output_type": "stream",
     "text": [
      "err_poly= 0.0\n"
     ]
    }
   ],
   "source": [
    "pp_true = np.zeros((Nt, d))\n",
    "for n in range(Nt):\n",
    "    t = tt[n]\n",
    "    pt = 0.0\n",
    "    for ii in range(k):\n",
    "        pt += poly_coeffs[:,ii] * (t**ii)\n",
    "    pp_true[n,:] = pt\n",
    "\n",
    "err_poly = np.linalg.norm(pp_true - pp)\n",
    "print('err_poly=', err_poly)"
   ],
   "metadata": {
    "collapsed": false,
    "pycharm": {
     "name": "#%%\n"
    }
   }
  },
  {
   "cell_type": "markdown",
   "source": [
    "### Vector polynomial arithmetic"
   ],
   "metadata": {
    "collapsed": false
   }
  },
  {
   "cell_type": "code",
   "execution_count": 4,
   "outputs": [
    {
     "name": "stdout",
     "output_type": "stream",
     "text": [
      "err_linear_combo= 1.148585488706832e-16\n"
     ]
    }
   ],
   "source": [
    "d = 134 # spatial dimension\n",
    "k1 = 5 # first polynomial order+1\n",
    "k2 = 7 # second polynomial order+1\n",
    "\n",
    "p1 = VectorPolynomial(np.random.randn(d, k1))\n",
    "p2 = VectorPolynomial(np.random.randn(d, k2))\n",
    "\n",
    "tt = np.random.randn(Nt)\n",
    "\n",
    "c1 = 3.2\n",
    "c2 = -1.6\n",
    "\n",
    "pp_combo = (c1*p1 + c2*p2)(tt)\n",
    "pp_combo_true = c1*p1(tt) + c2*p2(tt)\n",
    "\n",
    "err_linear_combo = np.linalg.norm(pp_combo - pp_combo_true) / np.linalg.norm(pp_combo_true)\n",
    "print('err_linear_combo=', err_linear_combo)"
   ],
   "metadata": {
    "collapsed": false,
    "pycharm": {
     "name": "#%%\n"
    }
   }
  },
  {
   "cell_type": "code",
   "execution_count": 5,
   "outputs": [
    {
     "name": "stdout",
     "output_type": "stream",
     "text": [
      "err_mul= 4.0233600192802257e-16\n"
     ]
    }
   ],
   "source": [
    "pp_mul = (p1 * p2)(tt)\n",
    "pp_mul_true = p1(tt) * p2(tt)\n",
    "\n",
    "err_mul = np.linalg.norm(pp_mul - pp_mul_true) / np.linalg.norm(pp_mul_true)\n",
    "print('err_mul=', err_mul)"
   ],
   "metadata": {
    "collapsed": false,
    "pycharm": {
     "name": "#%%\n"
    }
   }
  },
  {
   "cell_type": "markdown",
   "source": [
    "### Derivative of vector polynomial"
   ],
   "metadata": {
    "collapsed": false
   }
  },
  {
   "cell_type": "code",
   "execution_count": 6,
   "outputs": [
    {
     "name": "stdout",
     "output_type": "stream",
     "text": [
      "s= 1e-08 , err_derivative= 1.942966878998054e-08\n"
     ]
    }
   ],
   "source": [
    "t0 = np.random.randn()\n",
    "s = 1e-8\n",
    "t1 = t0 + s\n",
    "\n",
    "dp1 = p1.derivative()\n",
    "\n",
    "tangent = dp1(t0)\n",
    "tangent_diff = (p1(t1) - p1(t0)) / s\n",
    "\n",
    "err_derivative = np.linalg.norm(tangent - tangent_diff) / np.linalg.norm(tangent_diff)\n",
    "print('s=', s, ', err_derivative=', err_derivative)"
   ],
   "metadata": {
    "collapsed": false,
    "pycharm": {
     "name": "#%%\n"
    }
   }
  },
  {
   "cell_type": "markdown",
   "source": [
    "### Arc length of vector polynomial\n",
    "\n",
    "Find arc length of $p(t)$ from $t=0$ to $t=T$"
   ],
   "metadata": {
    "collapsed": false,
    "pycharm": {
     "name": "#%% md\n"
    }
   }
  },
  {
   "cell_type": "code",
   "execution_count": 7,
   "outputs": [
    {
     "name": "stdout",
     "output_type": "stream",
     "text": [
      "s= 0.0001 , err_arc_length= 3.640657475469968e-10\n"
     ]
    }
   ],
   "source": [
    "s=1e-4\n",
    "T = 1.5\n",
    "\n",
    "L = p1.arc_length(T)\n",
    "\n",
    "tt = np.linspace(0.0, T, int(T/s))\n",
    "pp = p1(tt)\n",
    "L_diff = np.sum(np.linalg.norm(pp[1:] - pp[:-1], axis=1))\n",
    "\n",
    "err_arc_length = np.abs(L - L_diff) / np.abs(L_diff)\n",
    "print('s=', s, ', err_arc_length=', err_arc_length)"
   ],
   "metadata": {
    "collapsed": false,
    "pycharm": {
     "name": "#%%\n"
    }
   }
  },
  {
   "cell_type": "markdown",
   "source": [
    "### Arc time of vector polynomial\n",
    "\n",
    "Find $T$ such that the length of $p(t)$ from $t=0$ to $t=T$ equals $L$\n"
   ],
   "metadata": {
    "collapsed": false
   }
  },
  {
   "cell_type": "code",
   "execution_count": 8,
   "outputs": [
    {
     "name": "stdout",
     "output_type": "stream",
     "text": [
      "      converged: True\n",
      "           flag: 'converged'\n",
      " function_calls: 31\n",
      "     iterations: 30\n",
      "           root: 1.50000000000015\n",
      "err_arc_time= 1.0006810195288078e-13\n"
     ]
    }
   ],
   "source": [
    "T2 = p1.arc_time(L, display_soln=True, rtol=1e-12)\n",
    "\n",
    "err_arc_time = np.abs(T - T2) / np.abs(T)\n",
    "print('err_arc_time=', err_arc_time)"
   ],
   "metadata": {
    "collapsed": false,
    "pycharm": {
     "name": "#%%\n"
    }
   }
  },
  {
   "cell_type": "markdown",
   "source": [
    "### Vector rational function arithmetic\n"
   ],
   "metadata": {
    "collapsed": false
   }
  },
  {
   "cell_type": "code",
   "execution_count": 9,
   "outputs": [
    {
     "name": "stdout",
     "output_type": "stream",
     "text": [
      "err_rat= 8.303282016495032e-13\n"
     ]
    }
   ],
   "source": [
    "Nt = 1000\n",
    "\n",
    "d = 134 # spatial dimension\n",
    "k1 = 5 # first polynomial order+1\n",
    "k2 = 7 # second polynomial order+1\n",
    "k3 = 2 # third polynomial order+1\n",
    "\n",
    "p1 = VectorPolynomial(np.random.randn(d, k1))\n",
    "p2 = VectorPolynomial(np.random.randn(d, k2))\n",
    "p3 = VectorPolynomial(np.random.randn(d, k3))\n",
    "\n",
    "tt = np.random.randn(Nt)\n",
    "\n",
    "a = 2.1\n",
    "b = -4.6\n",
    "\n",
    "rat = (-p1 / (a*p2) + p3) / b\n",
    "\n",
    "qq = rat(tt)\n",
    "qq_true = (-p1(tt) / (a*p2(tt)) + p3(tt)) / b\n",
    "\n",
    "err_rat = np.linalg.norm(qq - qq_true) / np.linalg.norm(qq_true)\n",
    "print('err_rat=', err_rat)"
   ],
   "metadata": {
    "collapsed": false,
    "pycharm": {
     "name": "#%%\n"
    }
   }
  },
  {
   "cell_type": "markdown",
   "source": [
    "### Derivative of vector rational function\n"
   ],
   "metadata": {
    "collapsed": false
   }
  },
  {
   "cell_type": "code",
   "execution_count": 10,
   "outputs": [
    {
     "name": "stdout",
     "output_type": "stream",
     "text": [
      "s= 1e-08 , err_rat_derivative= 3.3596854513312704e-06\n"
     ]
    }
   ],
   "source": [
    "t0 = np.random.randn()\n",
    "s = 1e-8\n",
    "t1 = t0 + s\n",
    "\n",
    "drat = rat.derivative()\n",
    "\n",
    "tangent = drat(t0)\n",
    "tangent_diff = (rat(t1) - rat(t0)) / s\n",
    "\n",
    "err_rat_derivative = np.linalg.norm(tangent - tangent_diff) / np.linalg.norm(tangent_diff)\n",
    "print('s=', s, ', err_rat_derivative=', err_rat_derivative)"
   ],
   "metadata": {
    "collapsed": false,
    "pycharm": {
     "name": "#%%\n"
    }
   }
  },
  {
   "cell_type": "markdown",
   "source": [
    "### Arc length of vector rational function\n",
    "\n",
    "Find arc length of $p(t)/q(t)$ from $t=0$ to $t=T$"
   ],
   "metadata": {
    "collapsed": false,
    "pycharm": {
     "name": "#%% md\n"
    }
   }
  },
  {
   "cell_type": "code",
   "execution_count": 11,
   "outputs": [
    {
     "name": "stdout",
     "output_type": "stream",
     "text": [
      "s= 0.0001 , err_rat_arc_length= 7.758462437637748e-06\n"
     ]
    }
   ],
   "source": [
    "num = rat.numerator\n",
    "den = VectorPolynomial(np.abs(rat.denominator.coeffs))\n",
    "rat = num / den\n",
    "\n",
    "s=1e-4\n",
    "T = 1.5\n",
    "\n",
    "L = rat.arc_length(T)\n",
    "\n",
    "tt = np.linspace(0.0, T, int(T/s))\n",
    "rr = rat(tt)\n",
    "L_diff = np.sum(np.linalg.norm(rr[1:] - rr[:-1], axis=1))\n",
    "\n",
    "err_rat_arc_length = np.abs(L - L_diff) / np.abs(L_diff)\n",
    "print('s=', s, ', err_rat_arc_length=', err_rat_arc_length)"
   ],
   "metadata": {
    "collapsed": false,
    "pycharm": {
     "name": "#%%\n"
    }
   }
  },
  {
   "cell_type": "markdown",
   "source": [
    "### Arc time of vector rational function\n",
    "\n",
    "Find $T$ such that the length of $p(t)/q(t)$ from $t=0$ to $t=T$ equals $L$\n"
   ],
   "metadata": {
    "collapsed": false
   }
  },
  {
   "cell_type": "code",
   "execution_count": 12,
   "outputs": [
    {
     "name": "stdout",
     "output_type": "stream",
     "text": [
      "      converged: True\n",
      "           flag: 'converged'\n",
      " function_calls: 17\n",
      "     iterations: 16\n",
      "           root: 1.4999999999999911\n",
      "err_rat_arc_time= 5.921189464667502e-15\n"
     ]
    }
   ],
   "source": [
    "T2 = rat.arc_time(L, display_soln=True, rtol=1e-12)\n",
    "\n",
    "err_rat_arc_time = np.abs(T - T2) / np.abs(T)\n",
    "print('err_rat_arc_time=', err_rat_arc_time)"
   ],
   "metadata": {
    "collapsed": false,
    "pycharm": {
     "name": "#%%\n"
    }
   }
  }
 ],
 "metadata": {
  "kernelspec": {
   "display_name": "Python 3",
   "language": "python",
   "name": "python3"
  },
  "language_info": {
   "codemirror_mode": {
    "name": "ipython",
    "version": 2
   },
   "file_extension": ".py",
   "mimetype": "text/x-python",
   "name": "python",
   "nbconvert_exporter": "python",
   "pygments_lexer": "ipython2",
   "version": "2.7.6"
  }
 },
 "nbformat": 4,
 "nbformat_minor": 0
}