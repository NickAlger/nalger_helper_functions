{
 "cells": [
  {
   "cell_type": "code",
   "execution_count": 1,
   "metadata": {
    "collapsed": true
   },
   "outputs": [],
   "source": [
    "import numpy as np\n",
    "import matplotlib.pyplot as plt\n",
    "\n",
    "from nalger_helper_functions import VectorPolynomial"
   ]
  },
  {
   "cell_type": "code",
   "execution_count": 2,
   "outputs": [
    {
     "data": {
      "text/plain": "[<matplotlib.lines.Line2D at 0x7fc2407c3b20>]"
     },
     "execution_count": 2,
     "metadata": {},
     "output_type": "execute_result"
    },
    {
     "data": {
      "text/plain": "<Figure size 432x288 with 1 Axes>",
      "image/png": "[encoded data removed]"
     },
     "metadata": {
      "needs_background": "light"
     },
     "output_type": "display_data"
    }
   ],
   "source": [
    "d = 2 # spatial dimension\n",
    "k = 5 # polynomial order+1\n",
    "\n",
    "t_start = 0.0\n",
    "t_stop = 1.0\n",
    "Nt = 1000 # num timesteps\n",
    "\n",
    "poly_coeffs = np.random.randn(d, k)\n",
    "poly = VectorPolynomial(poly_coeffs)\n",
    "\n",
    "tt = np.linspace(t_start, t_stop, Nt)\n",
    "pp = poly(tt)\n",
    "\n",
    "plt.plot(pp[:,0], pp[:,1])"
   ],
   "metadata": {
    "collapsed": false,
    "pycharm": {
     "name": "#%%\n"
    }
   }
  },
  {
   "cell_type": "code",
   "execution_count": 3,
   "outputs": [
    {
     "name": "stdout",
     "output_type": "stream",
     "text": [
      "err_poly= 0.0\n"
     ]
    }
   ],
   "source": [
    "pp_true = np.zeros((Nt, d))\n",
    "for n in range(Nt):\n",
    "    t = tt[n]\n",
    "    pt = 0.0\n",
    "    for ii in range(k):\n",
    "        pt += poly_coeffs[:,ii] * (t**ii)\n",
    "    pp_true[n,:] = pt\n",
    "\n",
    "err_poly = np.linalg.norm(pp_true - pp)\n",
    "print('err_poly=', err_poly)"
   ],
   "metadata": {
    "collapsed": false,
    "pycharm": {
     "name": "#%%\n"
    }
   }
  },
  {
   "cell_type": "code",
   "execution_count": 4,
   "outputs": [
    {
     "name": "stdout",
     "output_type": "stream",
     "text": [
      "err_linear_combo= 1.0867020391644648e-16\n"
     ]
    }
   ],
   "source": [
    "d = 134 # spatial dimension\n",
    "k1 = 5 # first polynomial order+1\n",
    "k2 = 7 # second polynomial order+1\n",
    "\n",
    "p1 = VectorPolynomial(np.random.randn(d, k1))\n",
    "p2 = VectorPolynomial(np.random.randn(d, k2))\n",
    "\n",
    "tt = np.random.randn(Nt)\n",
    "\n",
    "c1 = 3.2\n",
    "c2 = -1.6\n",
    "\n",
    "pp_combo = (c1*p1 + c2*p2)(tt)\n",
    "pp_combo_true = c1*p1(tt) + c2*p2(tt)\n",
    "\n",
    "err_linear_combo = np.linalg.norm(pp_combo - pp_combo_true) / np.linalg.norm(pp_combo_true)\n",
    "print('err_linear_combo=', err_linear_combo)"
   ],
   "metadata": {
    "collapsed": false,
    "pycharm": {
     "name": "#%%\n"
    }
   }
  },
  {
   "cell_type": "code",
   "execution_count": 5,
   "outputs": [
    {
     "name": "stdout",
     "output_type": "stream",
     "text": [
      "err_mul= 3.503676674284801e-16\n"
     ]
    }
   ],
   "source": [
    "pp_mul = (p1 * p2)(tt)\n",
    "pp_mul_true = p1(tt) * p2(tt)\n",
    "\n",
    "err_mul = np.linalg.norm(pp_mul - pp_mul_true) / np.linalg.norm(pp_mul_true)\n",
    "print('err_mul=', err_mul)"
   ],
   "metadata": {
    "collapsed": false,
    "pycharm": {
     "name": "#%%\n"
    }
   }
  },
  {
   "cell_type": "code",
   "execution_count": 6,
   "outputs": [
    {
     "name": "stdout",
     "output_type": "stream",
     "text": [
      "s= 1e-08 , err_derivative= 1.0491371866311412e-08\n"
     ]
    }
   ],
   "source": [
    "t0 = np.random.randn()\n",
    "s = 1e-8\n",
    "t1 = t0 + s\n",
    "\n",
    "dp1 = p1.derivative()\n",
    "\n",
    "tangent = dp1(t0)\n",
    "tangent_diff = (p1(t1) - p1(t0)) / s\n",
    "\n",
    "err_derivative = np.linalg.norm(tangent - tangent_diff) / np.linalg.norm(tangent_diff)\n",
    "print('s=', s, ', err_derivative=', err_derivative)"
   ],
   "metadata": {
    "collapsed": false,
    "pycharm": {
     "name": "#%%\n"
    }
   }
  },
  {
   "cell_type": "code",
   "execution_count": 7,
   "outputs": [
    {
     "name": "stdout",
     "output_type": "stream",
     "text": [
      "s= 0.0001 , err_arc_length= 4.272255254513828e-10\n"
     ]
    }
   ],
   "source": [
    "s=1e-4\n",
    "T = 1.5\n",
    "\n",
    "L = p1.arc_length(T)\n",
    "\n",
    "tt = np.linspace(0.0, T, int(T/s))\n",
    "pp = p1(tt)\n",
    "L_diff = np.sum(np.linalg.norm(pp[1:] - pp[:-1], axis=1))\n",
    "\n",
    "err_arc_length = np.abs(L - L_diff) / np.abs(L_diff)\n",
    "print('s=', s, ', err_arc_length=', err_arc_length)"
   ],
   "metadata": {
    "collapsed": false,
    "pycharm": {
     "name": "#%%\n"
    }
   }
  },
  {
   "cell_type": "code",
   "execution_count": 8,
   "outputs": [
    {
     "name": "stdout",
     "output_type": "stream",
     "text": [
      "      converged: True\n",
      "           flag: 'converged'\n",
      " function_calls: 25\n",
      "     iterations: 24\n",
      "           root: 1.4999999999999998\n",
      "err_arc_time= 1.4802973661668753e-16\n"
     ]
    }
   ],
   "source": [
    "T2 = p1.arc_time(L, display_soln=True, rtol=1e-12)\n",
    "\n",
    "err_arc_time = np.abs(T - T2) / np.abs(T)\n",
    "print('err_arc_time=', err_arc_time)"
   ],
   "metadata": {
    "collapsed": false,
    "pycharm": {
     "name": "#%%\n"
    }
   }
  }
 ],
 "metadata": {
  "kernelspec": {
   "display_name": "Python 3",
   "language": "python",
   "name": "python3"
  },
  "language_info": {
   "codemirror_mode": {
    "name": "ipython",
    "version": 2
   },
   "file_extension": ".py",
   "mimetype": "text/x-python",
   "name": "python",
   "nbconvert_exporter": "python",
   "pygments_lexer": "ipython2",
   "version": "2.7.6"
  }
 },
 "nbformat": 4,
 "nbformat_minor": 0
}