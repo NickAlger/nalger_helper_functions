{
 "cells": [
  {
   "cell_type": "code",
   "execution_count": 1,
   "metadata": {
    "collapsed": true
   },
   "outputs": [],
   "source": [
    "import numpy as np\n",
    "import matplotlib.pyplot as plt\n",
    "\n",
    "from nalger_helper_functions import VectorPolynomial, \\\n",
    "    vector_polynomial_interpolation, vector_floater_hormann_rational_interpolation, polynomial_coeffs_from_roots"
   ]
  },
  {
   "cell_type": "markdown",
   "source": [
    "### Vector polynomial:\n",
    "\n",
    "$$p(t) = v_1 + v_2 t + v_3 t^3 + \\dots + v_k t^k$$\n",
    "\n",
    "where $v_1\\in \\mathbb{R}^d$, $v_2\\in \\mathbb{R}^d$, $\\dots$, $v_k\\in \\mathbb{R}^d$ are vectors"
   ],
   "metadata": {
    "collapsed": false,
    "pycharm": {
     "name": "#%% md\n"
    }
   }
  },
  {
   "cell_type": "code",
   "execution_count": 2,
   "outputs": [
    {
     "data": {
      "text/plain": "[<matplotlib.lines.Line2D at 0x7f562071aee0>]"
     },
     "execution_count": 2,
     "metadata": {},
     "output_type": "execute_result"
    },
    {
     "data": {
      "text/plain": "<Figure size 432x288 with 1 Axes>",
      "image/png": "[encoded data removed]"
     },
     "metadata": {
      "needs_background": "light"
     },
     "output_type": "display_data"
    }
   ],
   "source": [
    "d = 2 # spatial dimension\n",
    "k = 5 # polynomial order+1\n",
    "\n",
    "t_start = 0.0\n",
    "t_stop = 1.0\n",
    "Nt = 1000 # num timesteps\n",
    "\n",
    "poly_coeffs = np.random.randn(d, k)\n",
    "poly = VectorPolynomial(poly_coeffs)\n",
    "\n",
    "tt = np.linspace(t_start, t_stop, Nt)\n",
    "pp = poly(tt)\n",
    "\n",
    "plt.plot(pp[:,0], pp[:,1])"
   ],
   "metadata": {
    "collapsed": false,
    "pycharm": {
     "name": "#%%\n"
    }
   }
  },
  {
   "cell_type": "code",
   "execution_count": 3,
   "outputs": [
    {
     "name": "stdout",
     "output_type": "stream",
     "text": [
      "err_poly= 0.0\n"
     ]
    }
   ],
   "source": [
    "pp_true = np.zeros((Nt, d))\n",
    "for n in range(Nt):\n",
    "    t = tt[n]\n",
    "    pt = 0.0\n",
    "    for ii in range(k):\n",
    "        pt += poly_coeffs[:,ii] * (t**ii)\n",
    "    pp_true[n,:] = pt\n",
    "\n",
    "err_poly = np.linalg.norm(pp_true - pp)\n",
    "print('err_poly=', err_poly)"
   ],
   "metadata": {
    "collapsed": false,
    "pycharm": {
     "name": "#%%\n"
    }
   }
  },
  {
   "cell_type": "markdown",
   "source": [
    "### Vector polynomial arithmetic"
   ],
   "metadata": {
    "collapsed": false
   }
  },
  {
   "cell_type": "code",
   "execution_count": 4,
   "outputs": [
    {
     "name": "stdout",
     "output_type": "stream",
     "text": [
      "err_linear_combo= 1.0818260246037932e-16\n"
     ]
    }
   ],
   "source": [
    "d = 134 # spatial dimension\n",
    "k1 = 5 # first polynomial order+1\n",
    "k2 = 7 # second polynomial order+1\n",
    "\n",
    "p1 = VectorPolynomial(np.random.randn(d, k1))\n",
    "p2 = VectorPolynomial(np.random.randn(d, k2))\n",
    "\n",
    "tt = np.random.randn(Nt)\n",
    "\n",
    "c1 = 3.2\n",
    "c2 = -1.6\n",
    "\n",
    "pp_combo = (c1*p1 + c2*p2)(tt)\n",
    "pp_combo_true = c1*p1(tt) + c2*p2(tt)\n",
    "\n",
    "err_linear_combo = np.linalg.norm(pp_combo - pp_combo_true) / np.linalg.norm(pp_combo_true)\n",
    "print('err_linear_combo=', err_linear_combo)"
   ],
   "metadata": {
    "collapsed": false,
    "pycharm": {
     "name": "#%%\n"
    }
   }
  },
  {
   "cell_type": "code",
   "execution_count": 5,
   "outputs": [
    {
     "name": "stdout",
     "output_type": "stream",
     "text": [
      "err_mul= 4.3050710240856476e-16\n"
     ]
    }
   ],
   "source": [
    "pp_mul = (p1 * p2)(tt)\n",
    "pp_mul_true = p1(tt) * p2(tt)\n",
    "\n",
    "err_mul = np.linalg.norm(pp_mul - pp_mul_true) / np.linalg.norm(pp_mul_true)\n",
    "print('err_mul=', err_mul)"
   ],
   "metadata": {
    "collapsed": false,
    "pycharm": {
     "name": "#%%\n"
    }
   }
  },
  {
   "cell_type": "markdown",
   "source": [
    "### Derivative of vector polynomial"
   ],
   "metadata": {
    "collapsed": false
   }
  },
  {
   "cell_type": "code",
   "execution_count": 6,
   "outputs": [
    {
     "name": "stdout",
     "output_type": "stream",
     "text": [
      "s= 1e-08 , err_derivative= 1.6529219429202482e-08\n"
     ]
    }
   ],
   "source": [
    "t0 = np.random.randn()\n",
    "s = 1e-8\n",
    "t1 = t0 + s\n",
    "\n",
    "dp1 = p1.derivative()\n",
    "\n",
    "tangent = dp1(t0)\n",
    "tangent_diff = (p1(t1) - p1(t0)) / s\n",
    "\n",
    "err_derivative = np.linalg.norm(tangent - tangent_diff) / np.linalg.norm(tangent_diff)\n",
    "print('s=', s, ', err_derivative=', err_derivative)"
   ],
   "metadata": {
    "collapsed": false,
    "pycharm": {
     "name": "#%%\n"
    }
   }
  },
  {
   "cell_type": "markdown",
   "source": [
    "### Arc length of vector polynomial\n",
    "\n",
    "Find arc length of $p(t)$ from $t=0$ to $t=T$"
   ],
   "metadata": {
    "collapsed": false,
    "pycharm": {
     "name": "#%% md\n"
    }
   }
  },
  {
   "cell_type": "code",
   "execution_count": 7,
   "outputs": [
    {
     "name": "stdout",
     "output_type": "stream",
     "text": [
      "s= 0.0001 , err_arc_length= 4.028567078267939e-10\n"
     ]
    }
   ],
   "source": [
    "s=1e-4\n",
    "T = 1.5\n",
    "\n",
    "L = p1.arc_length(T)\n",
    "\n",
    "tt = np.linspace(0.0, T, int(T/s))\n",
    "pp = p1(tt)\n",
    "L_diff = np.sum(np.linalg.norm(pp[1:] - pp[:-1], axis=1))\n",
    "\n",
    "err_arc_length = np.abs(L - L_diff) / np.abs(L_diff)\n",
    "print('s=', s, ', err_arc_length=', err_arc_length)"
   ],
   "metadata": {
    "collapsed": false,
    "pycharm": {
     "name": "#%%\n"
    }
   }
  },
  {
   "cell_type": "markdown",
   "source": [
    "### Arc time of vector polynomial\n",
    "\n",
    "Find $T$ such that the length of $p(t)$ from $t=0$ to $t=T$ equals $L$\n"
   ],
   "metadata": {
    "collapsed": false
   }
  },
  {
   "cell_type": "code",
   "execution_count": 8,
   "outputs": [
    {
     "name": "stdout",
     "output_type": "stream",
     "text": [
      "      converged: True\n",
      "           flag: 'converged'\n",
      " function_calls: 30\n",
      "     iterations: 29\n",
      "           root: 1.4999999999999987\n",
      "err_arc_time= 8.881784197001252e-16\n"
     ]
    }
   ],
   "source": [
    "T2 = p1.arc_time(L, display_soln=True, rtol=1e-12)\n",
    "\n",
    "err_arc_time = np.abs(T - T2) / np.abs(T)\n",
    "print('err_arc_time=', err_arc_time)"
   ],
   "metadata": {
    "collapsed": false,
    "pycharm": {
     "name": "#%%\n"
    }
   }
  },
  {
   "cell_type": "markdown",
   "source": [
    "### Vector rational function arithmetic\n"
   ],
   "metadata": {
    "collapsed": false
   }
  },
  {
   "cell_type": "code",
   "execution_count": 9,
   "outputs": [
    {
     "name": "stdout",
     "output_type": "stream",
     "text": [
      "err_rat= 6.568094348206592e-12\n"
     ]
    }
   ],
   "source": [
    "Nt = 1000\n",
    "\n",
    "d = 134 # spatial dimension\n",
    "k1 = 5 # first polynomial order+1\n",
    "k2 = 7 # second polynomial order+1\n",
    "k3 = 2 # third polynomial order+1\n",
    "\n",
    "p1 = VectorPolynomial(np.random.randn(d, k1))\n",
    "p2 = VectorPolynomial(np.random.randn(d, k2))\n",
    "p3 = VectorPolynomial(np.random.randn(d, k3))\n",
    "\n",
    "tt = np.random.randn(Nt)\n",
    "\n",
    "a = 2.1\n",
    "b = -4.6\n",
    "\n",
    "rat = (-p1 / (a*p2) + p3) / b\n",
    "\n",
    "qq = rat(tt)\n",
    "qq_true = (-p1(tt) / (a*p2(tt)) + p3(tt)) / b\n",
    "\n",
    "err_rat = np.linalg.norm(qq - qq_true) / np.linalg.norm(qq_true)\n",
    "print('err_rat=', err_rat)"
   ],
   "metadata": {
    "collapsed": false,
    "pycharm": {
     "name": "#%%\n"
    }
   }
  },
  {
   "cell_type": "markdown",
   "source": [
    "### Derivative of vector rational function\n"
   ],
   "metadata": {
    "collapsed": false
   }
  },
  {
   "cell_type": "code",
   "execution_count": 10,
   "outputs": [
    {
     "name": "stdout",
     "output_type": "stream",
     "text": [
      "s= 1e-08 , err_rat_derivative= 1.6774470771659956e-06\n"
     ]
    }
   ],
   "source": [
    "t0 = np.random.randn()\n",
    "s = 1e-8\n",
    "t1 = t0 + s\n",
    "\n",
    "drat = rat.derivative()\n",
    "\n",
    "tangent = drat(t0)\n",
    "tangent_diff = (rat(t1) - rat(t0)) / s\n",
    "\n",
    "err_rat_derivative = np.linalg.norm(tangent - tangent_diff) / np.linalg.norm(tangent_diff)\n",
    "print('s=', s, ', err_rat_derivative=', err_rat_derivative)"
   ],
   "metadata": {
    "collapsed": false,
    "pycharm": {
     "name": "#%%\n"
    }
   }
  },
  {
   "cell_type": "markdown",
   "source": [
    "### Arc length of vector rational function\n",
    "\n",
    "Find arc length of $p(t)/q(t)$ from $t=0$ to $t=T$"
   ],
   "metadata": {
    "collapsed": false,
    "pycharm": {
     "name": "#%% md\n"
    }
   }
  },
  {
   "cell_type": "code",
   "execution_count": 11,
   "outputs": [
    {
     "name": "stdout",
     "output_type": "stream",
     "text": [
      "s= 0.0001 , err_rat_arc_length= 3.64623208496144e-06\n"
     ]
    }
   ],
   "source": [
    "num = rat.numerator\n",
    "den = VectorPolynomial(np.abs(rat.denominator.coeffs))\n",
    "rat = num / den\n",
    "\n",
    "s=1e-4\n",
    "T = 1.5\n",
    "\n",
    "L = rat.arc_length(T)\n",
    "\n",
    "tt = np.linspace(0.0, T, int(T/s))\n",
    "rr = rat(tt)\n",
    "L_diff = np.sum(np.linalg.norm(rr[1:] - rr[:-1], axis=1))\n",
    "\n",
    "err_rat_arc_length = np.abs(L - L_diff) / np.abs(L_diff)\n",
    "print('s=', s, ', err_rat_arc_length=', err_rat_arc_length)"
   ],
   "metadata": {
    "collapsed": false,
    "pycharm": {
     "name": "#%%\n"
    }
   }
  },
  {
   "cell_type": "markdown",
   "source": [
    "### Arc time of vector rational function\n",
    "\n",
    "Find $T$ such that the length of $p(t)/q(t)$ from $t=0$ to $t=T$ equals $L$\n"
   ],
   "metadata": {
    "collapsed": false
   }
  },
  {
   "cell_type": "code",
   "execution_count": 12,
   "outputs": [
    {
     "name": "stdout",
     "output_type": "stream",
     "text": [
      "      converged: True\n",
      "           flag: 'converged'\n",
      " function_calls: 16\n",
      "     iterations: 15\n",
      "           root: 1.5000000000000009\n",
      "err_rat_arc_time= 5.921189464667501e-16\n"
     ]
    }
   ],
   "source": [
    "T2 = rat.arc_time(L, display_soln=True, rtol=1e-12)\n",
    "\n",
    "err_rat_arc_time = np.abs(T - T2) / np.abs(T)\n",
    "print('err_rat_arc_time=', err_rat_arc_time)"
   ],
   "metadata": {
    "collapsed": false,
    "pycharm": {
     "name": "#%%\n"
    }
   }
  },
  {
   "cell_type": "code",
   "execution_count": 13,
   "outputs": [],
   "source": [
    "# d=78\n",
    "# num_pts = 9\n",
    "# j=3\n",
    "#\n",
    "# t = np.random.randn()\n",
    "#\n",
    "# pts = np.random.randn(num_pts)\n",
    "#\n",
    "# lagrange_poly = lagrange_polynomial_vectorized(pts, j)\n",
    "#\n",
    "# q = lagrange_poly(t).reshape(-1)\n",
    "#\n",
    "# xj = pts[:,j].reshape((-1,1))\n",
    "# roots = np.bmat([pts[:,:j].reshape((d,-1)), pts[:,j+1:].reshape((d,-1))])\n",
    "#\n",
    "# q_true = (np.prod(t - roots, axis=1) / np.prod(xj - roots, axis=1)).reshape(-1)\n",
    "#\n",
    "# err_lagrange_vector_polynomial = np.linalg.norm(q-q_true)/np.linalg.norm(q_true)\n",
    "# print('err_lagrange_vector_polynomial=', err_lagrange_vector_polynomial)"
   ],
   "metadata": {
    "collapsed": false,
    "pycharm": {
     "name": "#%%\n"
    }
   }
  },
  {
   "cell_type": "code",
   "execution_count": 14,
   "outputs": [
    {
     "name": "stdout",
     "output_type": "stream",
     "text": [
      "yy.shape= (7, 2)\n",
      "yy[ii:ii+degree+1, :].shape= (4, 2)\n",
      "len(tt_i)= 4\n",
      "yy.shape= (7, 2)\n",
      "yy[ii:ii+degree+1, :].shape= (4, 2)\n",
      "len(tt_i)= 4\n",
      "yy.shape= (7, 2)\n",
      "yy[ii:ii+degree+1, :].shape= (4, 2)\n",
      "len(tt_i)= 4\n",
      "yy.shape= (7, 2)\n",
      "yy[ii:ii+degree+1, :].shape= (4, 2)\n",
      "len(tt_i)= 4\n"
     ]
    },
    {
     "data": {
      "text/plain": "[<matplotlib.lines.Line2D at 0x7f562062e7c0>]"
     },
     "execution_count": 14,
     "metadata": {},
     "output_type": "execute_result"
    },
    {
     "data": {
      "text/plain": "<Figure size 432x288 with 1 Axes>",
      "image/png": "[encoded data removed]"
     },
     "metadata": {
      "needs_background": "light"
     },
     "output_type": "display_data"
    }
   ],
   "source": [
    "d=78\n",
    "num_pts = 7\n",
    "rat_degree = 3\n",
    "\n",
    "f = lambda x: np.array([np.sin(x), x**1.4]).T\n",
    "\n",
    "pts = np.random.rand(num_pts)\n",
    "yy = f(pts)\n",
    "\n",
    "f_poly = vector_polynomial_interpolation(pts, yy)\n",
    "f_rat = vector_floater_hormann_rational_interpolation(tt, yy, rat_degree)\n",
    "\n",
    "tt = np.linspace(0., 2., 500)\n",
    "ff = f(tt)\n",
    "ff_poly = f_poly(tt)\n",
    "ff_rat = f_rat(tt)\n",
    "\n",
    "plt.figure()\n",
    "plt.plot(ff[:,0], ff[:,1])\n",
    "plt.plot(ff_poly[:,0], ff_poly[:,1])\n",
    "plt.plot(ff_rat[:,0], ff_rat[:,1])\n",
    "plt.plot(yy[:,0], yy[:,1], '.')"
   ],
   "metadata": {
    "collapsed": false,
    "pycharm": {
     "name": "#%%\n"
    }
   }
  },
  {
   "cell_type": "code",
   "execution_count": 15,
   "outputs": [
    {
     "name": "stdout",
     "output_type": "stream",
     "text": [
      "[[-3.65131553e-06 -9.73816446e-03]\n",
      " [ 1.00004883e+00  3.79931282e-01]\n",
      " [-2.71079790e-04  1.13810120e+00]\n",
      " [-1.65855055e-01 -9.90616583e-01]\n",
      " [-1.41916144e-03  7.71794192e-01]\n",
      " [ 9.78888465e-03 -3.65477616e-01]\n",
      " [-8.17780823e-04  7.60061597e-02]]\n",
      "[[0.38499564 0.2726142 ]\n",
      " [0.4639988  0.36049674]\n",
      " [0.52127936 0.43120158]\n",
      " [0.78836327 0.87380918]\n",
      " [0.72852738 0.75247603]\n",
      " [0.83891403 0.99340501]\n",
      " [0.27828074 0.1699639 ]]\n",
      "[[0.38499564 0.2726142 ]\n",
      " [0.4639988  0.36049674]\n",
      " [0.52127936 0.43120158]\n",
      " [0.78836327 0.87380918]\n",
      " [0.72852738 0.75247603]\n",
      " [0.83891403 0.99340501]\n",
      " [0.27828074 0.1699639 ]]\n"
     ]
    }
   ],
   "source": [
    "vandermonde = pts.reshape((-1,1)) ** np.arange(len(pts)).reshape((1,-1))\n",
    "coeffs = np.linalg.solve(vandermonde, yy)\n",
    "\n",
    "print(coeffs)\n",
    "\n",
    "print(np.dot(vandermonde, coeffs))\n",
    "print(yy)"
   ],
   "metadata": {
    "collapsed": false,
    "pycharm": {
     "name": "#%%\n"
    }
   }
  },
  {
   "cell_type": "code",
   "execution_count": 17,
   "outputs": [
    {
     "data": {
      "text/plain": "array([[ 1.04016311e+01,  1.76777036e+01],\n       [-6.46635511e+03, -1.09180355e+04],\n       [-6.14178886e+04, -1.03942144e+05],\n       [-2.18997220e+05, -3.70890765e+05],\n       [-5.33357369e+05, -9.03600016e+05],\n       [-1.05865136e+06, -1.79390602e+06],\n       [-1.84903221e+06, -3.13364488e+06],\n       [-2.95865293e+06, -5.01465273e+06],\n       [-4.44166657e+06, -7.52876568e+06],\n       [-6.35222612e+06, -1.07678199e+07],\n       [-8.74448461e+06, -1.48236514e+07],\n       [-1.16725951e+07, -1.97880963e+07],\n       [-1.51907105e+07, -2.57529909e+07],\n       [-1.93529840e+07, -3.28101711e+07],\n       [-2.42135684e+07, -4.10514731e+07],\n       [-2.98266170e+07, -5.05687331e+07],\n       [-3.62462826e+07, -6.14537871e+07],\n       [-4.35267182e+07, -7.37984713e+07],\n       [-5.17220770e+07, -8.76946217e+07],\n       [-6.08865120e+07, -1.03234075e+08],\n       [-7.10741760e+07, -1.20508666e+08],\n       [-8.23392223e+07, -1.39610232e+08],\n       [-9.47358037e+07, -1.60630609e+08],\n       [-1.08318073e+08, -1.83661632e+08],\n       [-1.23140184e+08, -2.08795139e+08],\n       [-1.39256289e+08, -2.36122965e+08],\n       [-1.56720542e+08, -2.65736945e+08],\n       [-1.75587095e+08, -2.97728918e+08],\n       [-1.95910101e+08, -3.32190717e+08],\n       [-2.17743713e+08, -3.69214181e+08],\n       [-2.41142085e+08, -4.08891144e+08],\n       [-2.66159369e+08, -4.51313443e+08],\n       [-2.92849718e+08, -4.96572913e+08],\n       [-3.21267286e+08, -5.44761392e+08],\n       [-3.51466226e+08, -5.95970715e+08],\n       [-3.83500689e+08, -6.50292718e+08],\n       [-4.17424831e+08, -7.07819238e+08],\n       [-4.53292803e+08, -7.68642110e+08],\n       [-4.91158758e+08, -8.32853171e+08],\n       [-5.31076850e+08, -9.00544256e+08],\n       [-5.73101231e+08, -9.71807203e+08],\n       [-6.17286055e+08, -1.04673385e+09],\n       [-6.63685475e+08, -1.12541602e+09],\n       [-7.12353643e+08, -1.20794557e+09],\n       [-7.63344713e+08, -1.29441432e+09],\n       [-8.16712838e+08, -1.38491411e+09],\n       [-8.72512170e+08, -1.47953678e+09],\n       [-9.30796863e+08, -1.57837417e+09],\n       [-9.91621070e+08, -1.68151810e+09],\n       [-1.05503894e+09, -1.78906042e+09],\n       [-1.12110464e+09, -1.90109296e+09],\n       [-1.18987230e+09, -2.01770756e+09],\n       [-1.26139609e+09, -2.13899605e+09],\n       [-1.33573017e+09, -2.26505028e+09],\n       [-1.41292867e+09, -2.39596207e+09],\n       [-1.49304576e+09, -2.53182326e+09],\n       [-1.57613558e+09, -2.67272570e+09],\n       [-1.66225230e+09, -2.81876120e+09],\n       [-1.75145006e+09, -2.97002162e+09],\n       [-1.84378301e+09, -3.12659879e+09],\n       [-1.93930532e+09, -3.28858454e+09],\n       [-2.03807113e+09, -3.45607070e+09],\n       [-2.14013460e+09, -3.62914913e+09],\n       [-2.24554987e+09, -3.80791164e+09],\n       [-2.35437111e+09, -3.99245008e+09],\n       [-2.46665246e+09, -4.18285629e+09],\n       [-2.58244808e+09, -4.37922210e+09],\n       [-2.70181213e+09, -4.58163934e+09],\n       [-2.82479874e+09, -4.79019985e+09],\n       [-2.95146208e+09, -5.00499548e+09],\n       [-3.08185631e+09, -5.22611804e+09],\n       [-3.21603556e+09, -5.45365939e+09],\n       [-3.35405401e+09, -5.68771136e+09],\n       [-3.49596579e+09, -5.92836577e+09],\n       [-3.64182506e+09, -6.17571448e+09],\n       [-3.79168598e+09, -6.42984931e+09],\n       [-3.94560270e+09, -6.69086210e+09],\n       [-4.10362937e+09, -6.95884469e+09],\n       [-4.26582014e+09, -7.23388892e+09],\n       [-4.43222917e+09, -7.51608661e+09],\n       [-4.60291061e+09, -7.80552961e+09],\n       [-4.77791862e+09, -8.10230975e+09],\n       [-4.95730734e+09, -8.40651886e+09],\n       [-5.14113093e+09, -8.71824879e+09],\n       [-5.32944354e+09, -9.03759138e+09],\n       [-5.52229933e+09, -9.36463844e+09],\n       [-5.71975245e+09, -9.69948183e+09],\n       [-5.92185705e+09, -1.00422134e+10],\n       [-6.12866728e+09, -1.03929249e+10],\n       [-6.34023730e+09, -1.07517083e+10],\n       [-6.55662126e+09, -1.11186553e+10],\n       [-6.77787332e+09, -1.14938579e+10],\n       [-7.00404762e+09, -1.18774078e+10],\n       [-7.23519832e+09, -1.22693968e+10],\n       [-7.47137958e+09, -1.26699169e+10],\n       [-7.71264554e+09, -1.30790598e+10],\n       [-7.95905035e+09, -1.34969174e+10],\n       [-8.21064818e+09, -1.39235815e+10],\n       [-8.46749318e+09, -1.43591440e+10],\n       [-8.72963949e+09, -1.48036967e+10],\n       [-8.99714128e+09, -1.52573314e+10],\n       [-9.27005268e+09, -1.57201399e+10],\n       [-9.54842787e+09, -1.61922142e+10],\n       [-9.83232098e+09, -1.66736460e+10],\n       [-1.01217862e+10, -1.71645271e+10],\n       [-1.04168776e+10, -1.76649495e+10],\n       [-1.07176494e+10, -1.81750049e+10],\n       [-1.10241558e+10, -1.86947852e+10],\n       [-1.13364509e+10, -1.92243823e+10],\n       [-1.16545888e+10, -1.97638878e+10],\n       [-1.19786237e+10, -2.03133938e+10],\n       [-1.23086097e+10, -2.08729920e+10],\n       [-1.26446011e+10, -2.14427742e+10],\n       [-1.29866519e+10, -2.20228324e+10],\n       [-1.33348164e+10, -2.26132582e+10],\n       [-1.36891486e+10, -2.32141437e+10],\n       [-1.40497027e+10, -2.38255805e+10],\n       [-1.44165329e+10, -2.44476606e+10],\n       [-1.47896933e+10, -2.50804758e+10],\n       [-1.51692381e+10, -2.57241179e+10],\n       [-1.55552215e+10, -2.63786787e+10],\n       [-1.59476975e+10, -2.70442502e+10],\n       [-1.63467203e+10, -2.77209240e+10],\n       [-1.67523442e+10, -2.84087921e+10],\n       [-1.71646232e+10, -2.91079463e+10],\n       [-1.75836115e+10, -2.98184784e+10],\n       [-1.80093632e+10, -3.05404803e+10],\n       [-1.84419325e+10, -3.12740438e+10],\n       [-1.88813736e+10, -3.20192608e+10],\n       [-1.93277406e+10, -3.27762230e+10],\n       [-1.97810877e+10, -3.35450223e+10],\n       [-2.02414690e+10, -3.43257506e+10],\n       [-2.07089386e+10, -3.51184997e+10],\n       [-2.11835508e+10, -3.59233613e+10],\n       [-2.16653596e+10, -3.67404275e+10],\n       [-2.21544193e+10, -3.75697899e+10],\n       [-2.26507839e+10, -3.84115404e+10],\n       [-2.31545077e+10, -3.92657710e+10],\n       [-2.36656448e+10, -4.01325733e+10],\n       [-2.41842493e+10, -4.10120392e+10],\n       [-2.47103754e+10, -4.19042607e+10],\n       [-2.52440772e+10, -4.28093294e+10],\n       [-2.57854089e+10, -4.37273373e+10],\n       [-2.63344247e+10, -4.46583762e+10],\n       [-2.68911787e+10, -4.56025378e+10],\n       [-2.74557251e+10, -4.65599142e+10],\n       [-2.80281179e+10, -4.75305970e+10],\n       [-2.86084114e+10, -4.85146781e+10],\n       [-2.91966598e+10, -4.95122494e+10],\n       [-2.97929171e+10, -5.05234028e+10],\n       [-3.03972375e+10, -5.15482299e+10],\n       [-3.10096752e+10, -5.25868227e+10],\n       [-3.16302843e+10, -5.36392730e+10],\n       [-3.22591190e+10, -5.47056727e+10],\n       [-3.28962335e+10, -5.57861135e+10],\n       [-3.35416818e+10, -5.68806874e+10],\n       [-3.41955182e+10, -5.79894861e+10],\n       [-3.48577968e+10, -5.91126015e+10],\n       [-3.55285717e+10, -6.02501254e+10],\n       [-3.62078971e+10, -6.14021496e+10],\n       [-3.68958271e+10, -6.25687661e+10],\n       [-3.75924160e+10, -6.37500666e+10],\n       [-3.82977178e+10, -6.49461430e+10],\n       [-3.90117868e+10, -6.61570870e+10],\n       [-3.97346770e+10, -6.73829907e+10],\n       [-4.04664426e+10, -6.86239456e+10],\n       [-4.12071378e+10, -6.98800438e+10],\n       [-4.19568167e+10, -7.11513771e+10],\n       [-4.27155335e+10, -7.24380372e+10],\n       [-4.34833423e+10, -7.37401160e+10],\n       [-4.42602973e+10, -7.50577054e+10],\n       [-4.50464526e+10, -7.63908972e+10],\n       [-4.58418624e+10, -7.77397833e+10],\n       [-4.66465809e+10, -7.91044554e+10],\n       [-4.74606621e+10, -8.04850053e+10],\n       [-4.82841603e+10, -8.18815251e+10],\n       [-4.91171297e+10, -8.32941064e+10],\n       [-4.99596242e+10, -8.47228411e+10],\n       [-5.08116982e+10, -8.61678210e+10],\n       [-5.16734057e+10, -8.76291381e+10],\n       [-5.25448009e+10, -8.91068840e+10],\n       [-5.34259380e+10, -9.06011507e+10],\n       [-5.43168712e+10, -9.21120300e+10],\n       [-5.52176544e+10, -9.36396137e+10],\n       [-5.61283421e+10, -9.51839937e+10],\n       [-5.70489882e+10, -9.67452618e+10],\n       [-5.79796469e+10, -9.83235098e+10],\n       [-5.89203724e+10, -9.99188296e+10],\n       [-5.98712188e+10, -1.01531313e+11],\n       [-6.08322404e+10, -1.03161052e+11],\n       [-6.18034911e+10, -1.04808138e+11],\n       [-6.27850253e+10, -1.06472663e+11],\n       [-6.37768970e+10, -1.08154719e+11],\n       [-6.47791605e+10, -1.09854398e+11],\n       [-6.57918697e+10, -1.11571792e+11],\n       [-6.68150790e+10, -1.13306992e+11],\n       [-6.78488425e+10, -1.15060090e+11],\n       [-6.88932142e+10, -1.16831179e+11],\n       [-6.99482485e+10, -1.18620349e+11],\n       [-7.10139993e+10, -1.20427693e+11],\n       [-7.20905209e+10, -1.22253303e+11],\n       [-7.31778675e+10, -1.24097271e+11],\n       [-7.42760931e+10, -1.25959687e+11],\n       [-7.53852520e+10, -1.27840645e+11],\n       [-7.65053982e+10, -1.29740236e+11],\n       [-7.76365860e+10, -1.31658552e+11],\n       [-7.87788695e+10, -1.33595684e+11],\n       [-7.99323028e+10, -1.35551725e+11],\n       [-8.10969401e+10, -1.37526766e+11],\n       [-8.22728355e+10, -1.39520899e+11],\n       [-8.34600433e+10, -1.41534216e+11],\n       [-8.46586175e+10, -1.43566809e+11],\n       [-8.58686124e+10, -1.45618770e+11],\n       [-8.70900820e+10, -1.47690190e+11],\n       [-8.83230805e+10, -1.49781162e+11],\n       [-8.95676620e+10, -1.51891777e+11],\n       [-9.08238808e+10, -1.54022127e+11],\n       [-9.20917910e+10, -1.56172303e+11],\n       [-9.33714467e+10, -1.58342399e+11],\n       [-9.46629021e+10, -1.60532505e+11],\n       [-9.59662113e+10, -1.62742713e+11],\n       [-9.72814285e+10, -1.64973115e+11],\n       [-9.86086078e+10, -1.67223804e+11],\n       [-9.99478035e+10, -1.69494870e+11],\n       [-1.01299070e+11, -1.71786406e+11],\n       [-1.02662460e+11, -1.74098504e+11],\n       [-1.04038030e+11, -1.76431255e+11],\n       [-1.05425832e+11, -1.78784751e+11],\n       [-1.06825921e+11, -1.81159084e+11],\n       [-1.08238352e+11, -1.83554347e+11],\n       [-1.09663178e+11, -1.85970629e+11],\n       [-1.11100453e+11, -1.88408025e+11],\n       [-1.12550233e+11, -1.90866625e+11],\n       [-1.14012570e+11, -1.93346521e+11],\n       [-1.15487518e+11, -1.95847805e+11],\n       [-1.16975134e+11, -1.98370569e+11],\n       [-1.18475469e+11, -2.00914905e+11],\n       [-1.19988579e+11, -2.03480904e+11],\n       [-1.21514517e+11, -2.06068659e+11],\n       [-1.23053338e+11, -2.08678261e+11],\n       [-1.24605096e+11, -2.11309802e+11],\n       [-1.26169845e+11, -2.13963374e+11],\n       [-1.27747640e+11, -2.16639069e+11],\n       [-1.29338533e+11, -2.19336978e+11],\n       [-1.30942580e+11, -2.22057194e+11],\n       [-1.32559835e+11, -2.24799808e+11],\n       [-1.34190352e+11, -2.27564912e+11],\n       [-1.35834184e+11, -2.30352598e+11],\n       [-1.37491387e+11, -2.33162958e+11],\n       [-1.39162014e+11, -2.35996083e+11],\n       [-1.40846119e+11, -2.38852066e+11],\n       [-1.42543757e+11, -2.41730999e+11],\n       [-1.44254982e+11, -2.44632972e+11],\n       [-1.45979847e+11, -2.47558078e+11],\n       [-1.47718408e+11, -2.50506409e+11],\n       [-1.49470718e+11, -2.53478057e+11],\n       [-1.51236831e+11, -2.56473113e+11],\n       [-1.53016801e+11, -2.59491669e+11],\n       [-1.54810684e+11, -2.62533818e+11],\n       [-1.56618532e+11, -2.65599651e+11],\n       [-1.58440400e+11, -2.68689259e+11],\n       [-1.60276342e+11, -2.71802735e+11],\n       [-1.62126412e+11, -2.74940170e+11],\n       [-1.63990665e+11, -2.78101657e+11],\n       [-1.65869154e+11, -2.81287287e+11],\n       [-1.67761935e+11, -2.84497152e+11],\n       [-1.69669060e+11, -2.87731344e+11],\n       [-1.71590584e+11, -2.90989954e+11],\n       [-1.73526561e+11, -2.94273075e+11],\n       [-1.75477045e+11, -2.97580798e+11],\n       [-1.77442091e+11, -3.00913216e+11],\n       [-1.79421753e+11, -3.04270419e+11],\n       [-1.81416084e+11, -3.07652501e+11],\n       [-1.83425140e+11, -3.11059552e+11],\n       [-1.85448973e+11, -3.14491664e+11],\n       [-1.87487639e+11, -3.17948930e+11],\n       [-1.89541191e+11, -3.21431441e+11],\n       [-1.91609683e+11, -3.24939289e+11],\n       [-1.93693171e+11, -3.28472566e+11],\n       [-1.95791707e+11, -3.32031363e+11],\n       [-1.97905346e+11, -3.35615773e+11],\n       [-2.00034143e+11, -3.39225888e+11],\n       [-2.02178150e+11, -3.42861798e+11],\n       [-2.04337424e+11, -3.46523597e+11],\n       [-2.06512016e+11, -3.50211376e+11],\n       [-2.08701983e+11, -3.53925226e+11],\n       [-2.10907378e+11, -3.57665240e+11],\n       [-2.13128254e+11, -3.61431509e+11],\n       [-2.15364667e+11, -3.65224125e+11],\n       [-2.17616670e+11, -3.69043181e+11],\n       [-2.19884318e+11, -3.72888767e+11],\n       [-2.22167665e+11, -3.76760976e+11],\n       [-2.24466764e+11, -3.80659900e+11],\n       [-2.26781670e+11, -3.84585630e+11],\n       [-2.29112438e+11, -3.88538258e+11],\n       [-2.31459121e+11, -3.92517877e+11],\n       [-2.33821773e+11, -3.96524577e+11],\n       [-2.36200449e+11, -4.00558451e+11],\n       [-2.38595203e+11, -4.04619590e+11],\n       [-2.41006088e+11, -4.08708087e+11],\n       [-2.43433160e+11, -4.12824034e+11],\n       [-2.45876472e+11, -4.16967521e+11],\n       [-2.48336078e+11, -4.21138641e+11],\n       [-2.50812033e+11, -4.25337486e+11],\n       [-2.53304390e+11, -4.29564148e+11],\n       [-2.55813205e+11, -4.33818718e+11],\n       [-2.58338530e+11, -4.38101288e+11],\n       [-2.60880420e+11, -4.42411951e+11],\n       [-2.63438930e+11, -4.46750797e+11],\n       [-2.66014113e+11, -4.51117919e+11],\n       [-2.68606024e+11, -4.55513409e+11],\n       [-2.71214717e+11, -4.59937358e+11],\n       [-2.73840245e+11, -4.64389859e+11],\n       [-2.76482664e+11, -4.68871002e+11],\n       [-2.79142027e+11, -4.73380881e+11],\n       [-2.81818388e+11, -4.77919586e+11],\n       [-2.84511801e+11, -4.82487210e+11],\n       [-2.87222322e+11, -4.87083845e+11],\n       [-2.89950003e+11, -4.91709581e+11],\n       [-2.92694899e+11, -4.96364512e+11],\n       [-2.95457064e+11, -5.01048729e+11],\n       [-2.98236553e+11, -5.05762324e+11],\n       [-3.01033419e+11, -5.10505388e+11],\n       [-3.03847717e+11, -5.15278014e+11],\n       [-3.06679500e+11, -5.20080293e+11],\n       [-3.09528823e+11, -5.24912317e+11],\n       [-3.12395741e+11, -5.29774179e+11],\n       [-3.15280306e+11, -5.34665969e+11],\n       [-3.18182574e+11, -5.39587779e+11],\n       [-3.21102599e+11, -5.44539703e+11],\n       [-3.24040434e+11, -5.49521830e+11],\n       [-3.26996133e+11, -5.54534254e+11],\n       [-3.29969752e+11, -5.59577066e+11],\n       [-3.32961344e+11, -5.64650357e+11],\n       [-3.35970964e+11, -5.69754221e+11],\n       [-3.38998664e+11, -5.74888747e+11],\n       [-3.42044501e+11, -5.80054030e+11],\n       [-3.45108527e+11, -5.85250159e+11],\n       [-3.48190796e+11, -5.90477227e+11],\n       [-3.51291364e+11, -5.95735327e+11],\n       [-3.54410285e+11, -6.01024548e+11],\n       [-3.57547611e+11, -6.06344985e+11],\n       [-3.60703398e+11, -6.11696728e+11],\n       [-3.63877700e+11, -6.17079869e+11],\n       [-3.67070570e+11, -6.22494500e+11],\n       [-3.70282064e+11, -6.27940713e+11],\n       [-3.73512234e+11, -6.33418599e+11],\n       [-3.76761136e+11, -6.38928252e+11],\n       [-3.80028823e+11, -6.44469761e+11],\n       [-3.83315350e+11, -6.50043220e+11],\n       [-3.86620770e+11, -6.55648720e+11],\n       [-3.89945139e+11, -6.61286353e+11],\n       [-3.93288509e+11, -6.66956210e+11],\n       [-3.96650936e+11, -6.72658384e+11],\n       [-4.00032473e+11, -6.78392967e+11],\n       [-4.03433174e+11, -6.84160049e+11],\n       [-4.06853094e+11, -6.89959724e+11],\n       [-4.10292287e+11, -6.95792083e+11],\n       [-4.13750807e+11, -7.01657217e+11],\n       [-4.17228708e+11, -7.07555219e+11],\n       [-4.20726044e+11, -7.13486181e+11],\n       [-4.24242870e+11, -7.19450194e+11],\n       [-4.27779239e+11, -7.25447349e+11],\n       [-4.31335206e+11, -7.31477740e+11],\n       [-4.34910825e+11, -7.37541457e+11],\n       [-4.38506149e+11, -7.43638594e+11],\n       [-4.42121234e+11, -7.49769240e+11],\n       [-4.45756134e+11, -7.55933489e+11],\n       [-4.49410901e+11, -7.62131432e+11],\n       [-4.53085592e+11, -7.68363161e+11],\n       [-4.56780259e+11, -7.74628767e+11],\n       [-4.60494957e+11, -7.80928343e+11],\n       [-4.64229740e+11, -7.87261981e+11],\n       [-4.67984663e+11, -7.93629772e+11],\n       [-4.71759778e+11, -8.00031808e+11],\n       [-4.75555142e+11, -8.06468181e+11],\n       [-4.79370807e+11, -8.12938983e+11],\n       [-4.83206828e+11, -8.19444305e+11],\n       [-4.87063259e+11, -8.25984240e+11],\n       [-4.90940154e+11, -8.32558880e+11],\n       [-4.94837567e+11, -8.39168315e+11],\n       [-4.98755553e+11, -8.45812638e+11],\n       [-5.02694166e+11, -8.52491942e+11],\n       [-5.06653459e+11, -8.59206316e+11],\n       [-5.10633487e+11, -8.65955855e+11],\n       [-5.14634305e+11, -8.72740648e+11],\n       [-5.18655965e+11, -8.79560789e+11],\n       [-5.22698523e+11, -8.86416369e+11],\n       [-5.26762033e+11, -8.93307480e+11],\n       [-5.30846548e+11, -9.00234213e+11],\n       [-5.34952123e+11, -9.07196661e+11],\n       [-5.39078812e+11, -9.14194915e+11],\n       [-5.43226669e+11, -9.21229067e+11],\n       [-5.47395749e+11, -9.28299209e+11],\n       [-5.51586105e+11, -9.35405434e+11],\n       [-5.55797791e+11, -9.42547831e+11],\n       [-5.60030863e+11, -9.49726495e+11],\n       [-5.64285373e+11, -9.56941515e+11],\n       [-5.68561376e+11, -9.64192985e+11],\n       [-5.72858927e+11, -9.71480996e+11],\n       [-5.77178079e+11, -9.78805640e+11],\n       [-5.81518886e+11, -9.86167009e+11],\n       [-5.85881403e+11, -9.93565194e+11],\n       [-5.90265684e+11, -1.00100029e+12],\n       [-5.94671783e+11, -1.00847238e+12],\n       [-5.99099754e+11, -1.01598157e+12],\n       [-6.03549652e+11, -1.02352794e+12],\n       [-6.08021529e+11, -1.03111158e+12],\n       [-6.12515442e+11, -1.03873259e+12],\n       [-6.17031443e+11, -1.04639107e+12],\n       [-6.21569587e+11, -1.05408709e+12],\n       [-6.26129928e+11, -1.06182076e+12],\n       [-6.30712521e+11, -1.06959216e+12],\n       [-6.35317418e+11, -1.07740139e+12],\n       [-6.39944676e+11, -1.08524853e+12],\n       [-6.44594347e+11, -1.09313369e+12],\n       [-6.49266485e+11, -1.10105695e+12],\n       [-6.53961146e+11, -1.10901840e+12],\n       [-6.58678383e+11, -1.11701814e+12],\n       [-6.63418250e+11, -1.12505626e+12],\n       [-6.68180802e+11, -1.13313284e+12],\n       [-6.72966092e+11, -1.14124799e+12],\n       [-6.77774175e+11, -1.14940179e+12],\n       [-6.82605105e+11, -1.15759434e+12],\n       [-6.87458936e+11, -1.16582572e+12],\n       [-6.92335722e+11, -1.17409604e+12],\n       [-6.97235517e+11, -1.18240537e+12],\n       [-7.02158376e+11, -1.19075381e+12],\n       [-7.07104353e+11, -1.19914146e+12],\n       [-7.12073501e+11, -1.20756841e+12],\n       [-7.17065875e+11, -1.21603474e+12],\n       [-7.22081530e+11, -1.22454056e+12],\n       [-7.27120519e+11, -1.23308594e+12],\n       [-7.32182896e+11, -1.24167099e+12],\n       [-7.37268716e+11, -1.25029579e+12],\n       [-7.42378032e+11, -1.25896044e+12],\n       [-7.47510900e+11, -1.26766503e+12],\n       [-7.52667372e+11, -1.27640965e+12],\n       [-7.57847504e+11, -1.28519440e+12],\n       [-7.63051349e+11, -1.29401935e+12],\n       [-7.68278961e+11, -1.30288462e+12],\n       [-7.73530395e+11, -1.31179028e+12],\n       [-7.78805705e+11, -1.32073643e+12],\n       [-7.84104945e+11, -1.32972317e+12],\n       [-7.89428169e+11, -1.33875057e+12],\n       [-7.94775431e+11, -1.34781875e+12],\n       [-8.00146786e+11, -1.35692778e+12],\n       [-8.05542287e+11, -1.36607776e+12],\n       [-8.10961989e+11, -1.37526878e+12],\n       [-8.16405946e+11, -1.38450093e+12],\n       [-8.21874212e+11, -1.39377431e+12],\n       [-8.27366841e+11, -1.40308900e+12],\n       [-8.32883887e+11, -1.41244511e+12],\n       [-8.38425405e+11, -1.42184271e+12],\n       [-8.43991449e+11, -1.43128190e+12],\n       [-8.49582072e+11, -1.44076278e+12],\n       [-8.55197329e+11, -1.45028544e+12],\n       [-8.60837275e+11, -1.45984996e+12],\n       [-8.66501962e+11, -1.46945644e+12],\n       [-8.72191446e+11, -1.47910497e+12],\n       [-8.77905781e+11, -1.48879565e+12],\n       [-8.83645020e+11, -1.49852856e+12],\n       [-8.89409218e+11, -1.50830380e+12],\n       [-8.95198430e+11, -1.51812145e+12],\n       [-9.01012708e+11, -1.52798162e+12],\n       [-9.06852108e+11, -1.53788439e+12],\n       [-9.12716683e+11, -1.54782985e+12],\n       [-9.18606487e+11, -1.55781810e+12],\n       [-9.24521576e+11, -1.56784922e+12],\n       [-9.30462002e+11, -1.57792332e+12],\n       [-9.36427821e+11, -1.58804048e+12],\n       [-9.42419086e+11, -1.59820079e+12],\n       [-9.48435851e+11, -1.60840434e+12],\n       [-9.54478171e+11, -1.61865123e+12],\n       [-9.60546099e+11, -1.62894156e+12],\n       [-9.66639691e+11, -1.63927540e+12],\n       [-9.72758999e+11, -1.64965285e+12],\n       [-9.78904078e+11, -1.66007401e+12],\n       [-9.85074983e+11, -1.67053896e+12],\n       [-9.91271767e+11, -1.68104781e+12],\n       [-9.97494485e+11, -1.69160063e+12],\n       [-1.00374319e+12, -1.70219752e+12],\n       [-1.01001794e+12, -1.71283858e+12],\n       [-1.01631878e+12, -1.72352389e+12],\n       [-1.02264578e+12, -1.73425355e+12],\n       [-1.02899897e+12, -1.74502765e+12],\n       [-1.03537843e+12, -1.75584628e+12],\n       [-1.04178420e+12, -1.76670953e+12],\n       [-1.04821634e+12, -1.77761749e+12],\n       [-1.05467489e+12, -1.78857027e+12],\n       [-1.06115993e+12, -1.79956794e+12],\n       [-1.06767149e+12, -1.81061060e+12],\n       [-1.07420963e+12, -1.82169834e+12],\n       [-1.08077442e+12, -1.83283125e+12],\n       [-1.08736589e+12, -1.84400944e+12],\n       [-1.09398411e+12, -1.85523297e+12],\n       [-1.10062913e+12, -1.86650196e+12],\n       [-1.10730101e+12, -1.87781649e+12],\n       [-1.11399979e+12, -1.88917665e+12],\n       [-1.12072554e+12, -1.90058254e+12]])"
     },
     "execution_count": 17,
     "metadata": {},
     "output_type": "execute_result"
    }
   ],
   "source": [
    "# polynomial_coeffs_from_roots(np.array([1,2,3]))\n",
    "# ff\n",
    "ff_rat"
   ],
   "metadata": {
    "collapsed": false,
    "pycharm": {
     "name": "#%%\n"
    }
   }
  }
 ],
 "metadata": {
  "kernelspec": {
   "display_name": "Python 3",
   "language": "python",
   "name": "python3"
  },
  "language_info": {
   "codemirror_mode": {
    "name": "ipython",
    "version": 2
   },
   "file_extension": ".py",
   "mimetype": "text/x-python",
   "name": "python",
   "nbconvert_exporter": "python",
   "pygments_lexer": "ipython2",
   "version": "2.7.6"
  }
 },
 "nbformat": 4,
 "nbformat_minor": 0
}