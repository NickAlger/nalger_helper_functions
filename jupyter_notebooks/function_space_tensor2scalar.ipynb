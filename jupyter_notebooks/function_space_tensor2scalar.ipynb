{
 "cells": [
  {
   "cell_type": "code",
   "execution_count": 1,
   "metadata": {
    "collapsed": true
   },
   "outputs": [],
   "source": [
    "import numpy as np\n",
    "import dolfin as dl\n",
    "\n",
    "from nalger_helper_functions import function_space_scalar2tensor, function_space_tensor2scalar\n",
    "\n",
    "tensor_shape = (3,2)\n",
    "\n",
    "mesh = dl.UnitSquareMesh(9, 6)\n",
    "V_scalar = dl.FunctionSpace(mesh, 'CG', 2)\n",
    "V_tensor = dl.TensorFunctionSpace(mesh, 'CG', 2, shape=tensor_shape)\n",
    "\n",
    "V_tensor2 = function_space_scalar2tensor(V_scalar, tensor_shape)\n",
    "V_scalar2 = function_space_tensor2scalar(V_tensor)\n",
    "\n",
    "X = V_scalar.tabulate_dof_coordinates()"
   ]
  },
  {
   "cell_type": "code",
   "execution_count": 2,
   "outputs": [
    {
     "name": "stdout",
     "output_type": "stream",
     "text": [
      "err_function_space_scalar2tensor= 0.0\n"
     ]
    }
   ],
   "source": [
    "random_tensor_data = np.random.randn(V_tensor.dim())\n",
    "\n",
    "u_tensor = dl.Function(V_tensor)\n",
    "u_tensor.vector()[:] = random_tensor_data\n",
    "\n",
    "u_tensor2 = dl.Function(V_tensor2)\n",
    "u_tensor2.vector()[:] = random_tensor_data\n",
    "\n",
    "err_function_space_scalar2tensor = dl.assemble((u_tensor - u_tensor2)**2 * dl.dx)\n",
    "print('err_function_space_scalar2tensor=', err_function_space_scalar2tensor)"
   ],
   "metadata": {
    "collapsed": false,
    "pycharm": {
     "name": "#%%\n"
    }
   }
  },
  {
   "cell_type": "code",
   "execution_count": 3,
   "outputs": [
    {
     "name": "stdout",
     "output_type": "stream",
     "text": [
      "err_function_space_tensor2scalar= 0.0\n"
     ]
    }
   ],
   "source": [
    "random_scalar_data = np.random.randn(V_scalar.dim())\n",
    "\n",
    "u_scalar = dl.Function(V_scalar)\n",
    "u_scalar.vector()[:] = random_scalar_data\n",
    "\n",
    "u_scalar2 = dl.Function(V_scalar2)\n",
    "u_scalar2.vector()[:] = random_scalar_data\n",
    "\n",
    "err_function_space_tensor2scalar = dl.assemble((u_scalar - u_scalar2)**2 * dl.dx)\n",
    "print('err_function_space_tensor2scalar=', err_function_space_tensor2scalar)"
   ],
   "metadata": {
    "collapsed": false,
    "pycharm": {
     "name": "#%%\n"
    }
   }
  }
 ],
 "metadata": {
  "kernelspec": {
   "display_name": "Python 3",
   "language": "python",
   "name": "python3"
  },
  "language_info": {
   "codemirror_mode": {
    "name": "ipython",
    "version": 2
   },
   "file_extension": ".py",
   "mimetype": "text/x-python",
   "name": "python",
   "nbconvert_exporter": "python",
   "pygments_lexer": "ipython2",
   "version": "2.7.6"
  }
 },
 "nbformat": 4,
 "nbformat_minor": 0
}