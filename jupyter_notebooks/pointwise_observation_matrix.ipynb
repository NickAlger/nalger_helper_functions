{
 "cells": [
  {
   "cell_type": "code",
   "execution_count": 1,
   "metadata": {
    "collapsed": true
   },
   "outputs": [],
   "source": [
    "import numpy as np\n",
    "import dolfin as dl\n",
    "from time import time\n",
    "from nalger_helper_functions import pointwise_observation_matrix, points_inside_mesh, dofs_that_contribute_to_function_at_points"
   ]
  },
  {
   "cell_type": "code",
   "execution_count": 2,
   "outputs": [],
   "source": [
    "mesh = dl.UnitSquareMesh(351,363)\n",
    "V = dl.FunctionSpace(mesh, 'CG', 2)\n",
    "u = dl.Function(V)\n",
    "u.vector()[:] = np.random.randn(V.dim())\n",
    "\n",
    "N = 400\n",
    "d = mesh.geometric_dimension()\n",
    "pp = np.random.randn(N, d)\n",
    "\n",
    "inside_mesh_mask = points_inside_mesh(pp, mesh) # <-- True where point is in mesh, false where point is outside\n",
    "outside_mesh_mask = np.logical_not(inside_mesh_mask)\n",
    "B = pointwise_observation_matrix(pp, V) # <-- makes scipy CSR matrix"
   ],
   "metadata": {
    "collapsed": false,
    "pycharm": {
     "name": "#%%\n"
    }
   }
  },
  {
   "cell_type": "code",
   "execution_count": 3,
   "outputs": [
    {
     "name": "stdout",
     "output_type": "stream",
     "text": [
      "err_pointwise_observation_matrix= 8.460899244930976e-16\n"
     ]
    }
   ],
   "source": [
    "x1 = np.zeros(N)\n",
    "for k in range(N):\n",
    "    if np.all(np.zeros(2) <= pp[k,:]) and np.all(pp[k,:] <= np.ones(2)):\n",
    "        x1[k] = u(dl.Point(pp[k,:]))\n",
    "\n",
    "x2 = np.zeros(N)\n",
    "x2 = B * u.vector()[:]\n",
    "\n",
    "err_pointwise_observation_matrix = np.linalg.norm(x2 - x1)\n",
    "print('err_pointwise_observation_matrix=', err_pointwise_observation_matrix)"
   ],
   "metadata": {
    "collapsed": false,
    "pycharm": {
     "name": "#%%\n"
    }
   }
  },
  {
   "cell_type": "code",
   "execution_count": 4,
   "outputs": [
    {
     "name": "stdout",
     "output_type": "stream",
     "text": [
      "err_exterior_fill= 8.460899244930976e-16\n"
     ]
    }
   ],
   "source": [
    "exterior_fill_value = 3.5\n",
    "\n",
    "x3 = np.zeros(N)\n",
    "for k in range(N):\n",
    "    if np.all(np.zeros(2) <= pp[k,:]) and np.all(pp[k,:] <= np.ones(2)):\n",
    "        x3[k] = u(dl.Point(pp[k,:]))\n",
    "    else:\n",
    "        x3[k] = exterior_fill_value\n",
    "\n",
    "B.exterior_fill_value = exterior_fill_value\n",
    "\n",
    "x4 = B * u.vector()[:]\n",
    "x4[outside_mesh_mask] = exterior_fill_value\n",
    "\n",
    "err_exterior_fill = np.linalg.norm(x4 - x3)\n",
    "print('err_exterior_fill=', err_exterior_fill)"
   ],
   "metadata": {
    "collapsed": false,
    "pycharm": {
     "name": "#%%\n"
    }
   }
  },
  {
   "cell_type": "code",
   "execution_count": 5,
   "outputs": [
    {
     "name": "stdout",
     "output_type": "stream",
     "text": [
      "err_transpose= 1.7763568394002505e-15\n"
     ]
    }
   ],
   "source": [
    "q = np.random.randn(V.dim())\n",
    "z = np.random.randn(pp.shape[0])\n",
    "\n",
    "err_transpose = np.abs(np.dot(B * q, z) - np.dot(q, B.T * z))\n",
    "print('err_transpose=', err_transpose)"
   ],
   "metadata": {
    "collapsed": false,
    "pycharm": {
     "name": "#%%\n"
    }
   }
  },
  {
   "cell_type": "code",
   "execution_count": 37,
   "outputs": [
    {
     "name": "stdout",
     "output_type": "stream",
     "text": [
      "dt_allcols= 0.00011873245239257812\n",
      "dt_nonzero_cols= 7.271766662597656e-05\n",
      "err_nonzero_cols= 0.0\n"
     ]
    }
   ],
   "source": [
    "B2, nonzero_cols = pointwise_observation_matrix(pp, V, nonzero_columns_only=True)\n",
    "\n",
    "u_vec = u.vector()[:]\n",
    "\n",
    "t = time()\n",
    "x5 = B * u_vec\n",
    "dt_allcols = time() - t\n",
    "print('dt_allcols=', dt_allcols)\n",
    "\n",
    "uvc = u_vec[nonzero_cols]\n",
    "t = time()\n",
    "x6 = B2 * uvc\n",
    "dt_nonzero_cols = time() - t\n",
    "print('dt_nonzero_cols=', dt_nonzero_cols)\n",
    "\n",
    "err_nonzero_cols = np.linalg.norm(x6 - x5)\n",
    "print('err_nonzero_cols=', err_nonzero_cols)\n"
   ],
   "metadata": {
    "collapsed": false,
    "pycharm": {
     "name": "#%%\n"
    }
   }
  }
 ],
 "metadata": {
  "kernelspec": {
   "display_name": "Python 3",
   "language": "python",
   "name": "python3"
  },
  "language_info": {
   "codemirror_mode": {
    "name": "ipython",
    "version": 2
   },
   "file_extension": ".py",
   "mimetype": "text/x-python",
   "name": "python",
   "nbconvert_exporter": "python",
   "pygments_lexer": "ipython2",
   "version": "2.7.6"
  }
 },
 "nbformat": 4,
 "nbformat_minor": 0
}