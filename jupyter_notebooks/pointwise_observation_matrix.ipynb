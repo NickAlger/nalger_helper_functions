{
 "cells": [
  {
   "cell_type": "code",
   "execution_count": 1,
   "metadata": {
    "collapsed": true
   },
   "outputs": [],
   "source": [
    "import numpy as np\n",
    "import dolfin as dl\n",
    "from nalger_helper_functions import *"
   ]
  },
  {
   "cell_type": "code",
   "execution_count": 2,
   "outputs": [
    {
     "name": "stdout",
     "output_type": "stream",
     "text": [
      "err_pointwise_observation_matrix= 9.062365455747892e-16\n"
     ]
    }
   ],
   "source": [
    "mesh = dl.UnitSquareMesh(11,13)\n",
    "V = dl.FunctionSpace(mesh, 'CG', 2)\n",
    "u = dl.Function(V)\n",
    "u.vector()[:] = np.random.randn(V.dim())\n",
    "\n",
    "N = 100\n",
    "d = mesh.geometric_dimension()\n",
    "pp = np.random.rand(N, d)\n",
    "\n",
    "B = pointwise_observation_matrix(pp, V) # <-- makes scipy CSR matrix\n",
    "\n",
    "x1 = np.zeros(N)\n",
    "for k in range(N):\n",
    "    x1[k] = u(dl.Point(pp[k,:]))\n",
    "\n",
    "x2 = B * u.vector()[:]\n",
    "\n",
    "err_pointwise_observation_matrix = np.linalg.norm(x2 - x1)\n",
    "print('err_pointwise_observation_matrix=', err_pointwise_observation_matrix)\n"
   ],
   "metadata": {
    "collapsed": false,
    "pycharm": {
     "name": "#%%\n"
    }
   }
  }
 ],
 "metadata": {
  "kernelspec": {
   "display_name": "Python 3",
   "language": "python",
   "name": "python3"
  },
  "language_info": {
   "codemirror_mode": {
    "name": "ipython",
    "version": 2
   },
   "file_extension": ".py",
   "mimetype": "text/x-python",
   "name": "python",
   "nbconvert_exporter": "python",
   "pygments_lexer": "ipython2",
   "version": "2.7.6"
  }
 },
 "nbformat": 4,
 "nbformat_minor": 0
}