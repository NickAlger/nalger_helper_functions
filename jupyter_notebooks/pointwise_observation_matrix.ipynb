{
 "cells": [
  {
   "cell_type": "code",
   "execution_count": 1,
   "metadata": {
    "collapsed": true
   },
   "outputs": [],
   "source": [
    "import numpy as np\n",
    "import dolfin as dl\n",
    "from nalger_helper_functions import pointwise_observation_matrix, points_inside_mesh, PointwiseObservationOperator"
   ]
  },
  {
   "cell_type": "code",
   "execution_count": 2,
   "outputs": [],
   "source": [
    "mesh = dl.UnitSquareMesh(11,13)\n",
    "V = dl.FunctionSpace(mesh, 'CG', 2)\n",
    "u = dl.Function(V)\n",
    "u.vector()[:] = np.random.randn(V.dim())\n",
    "\n",
    "N = 100\n",
    "d = mesh.geometric_dimension()\n",
    "pp = np.random.randn(N, d)\n",
    "\n",
    "inside_mesh_mask = points_inside_mesh(pp, mesh) # <-- True where point is in mesh, false where point is outside"
   ],
   "metadata": {
    "collapsed": false,
    "pycharm": {
     "name": "#%%\n"
    }
   }
  },
  {
   "cell_type": "code",
   "execution_count": 3,
   "outputs": [
    {
     "name": "stdout",
     "output_type": "stream",
     "text": [
      "err_pointwise_observation_matrix= 2.2887833992611187e-16\n"
     ]
    }
   ],
   "source": [
    "B_in = pointwise_observation_matrix(pp[inside_mesh_mask, :], V) # <-- makes scipy CSR matrix\n",
    "\n",
    "x1 = np.zeros(N)\n",
    "for k in range(N):\n",
    "    if np.all(np.zeros(2) <= pp[k,:]) and np.all(pp[k,:] <= np.ones(2)):\n",
    "        x1[k] = u(dl.Point(pp[k,:]))\n",
    "\n",
    "x2 = np.zeros(N)\n",
    "x2[inside_mesh_mask] = B_in * u.vector()[:]\n",
    "\n",
    "err_pointwise_observation_matrix = np.linalg.norm(x2 - x1)\n",
    "print('err_pointwise_observation_matrix=', err_pointwise_observation_matrix)"
   ],
   "metadata": {
    "collapsed": false,
    "pycharm": {
     "name": "#%%\n"
    }
   }
  },
  {
   "cell_type": "code",
   "execution_count": 4,
   "outputs": [
    {
     "name": "stdout",
     "output_type": "stream",
     "text": [
      "err_GridTransferOperator= 2.2887833992611187e-16\n"
     ]
    }
   ],
   "source": [
    "exterior_fill_value = 3.5\n",
    "\n",
    "B = PointwiseObservationOperator(pp, V)\n",
    "\n",
    "x3 = np.zeros(N)\n",
    "for k in range(N):\n",
    "    if np.all(np.zeros(2) <= pp[k,:]) and np.all(pp[k,:] <= np.ones(2)):\n",
    "        x3[k] = u(dl.Point(pp[k,:]))\n",
    "    else:\n",
    "        x3[k] = exterior_fill_value\n",
    "\n",
    "B.exterior_fill_value = exterior_fill_value\n",
    "\n",
    "x4 = B * u.vector()[:]\n",
    "\n",
    "err_GridTransferOperator = np.linalg.norm(x4 - x3)\n",
    "print('err_GridTransferOperator=', err_GridTransferOperator)"
   ],
   "metadata": {
    "collapsed": false,
    "pycharm": {
     "name": "#%%\n"
    }
   }
  },
  {
   "cell_type": "code",
   "execution_count": 5,
   "outputs": [
    {
     "name": "stdout",
     "output_type": "stream",
     "text": [
      "err_rmatvec= 2.7755575615628914e-16\n"
     ]
    }
   ],
   "source": [
    "q = np.random.randn(V.dim())\n",
    "z = np.random.randn(pp.shape[0])\n",
    "\n",
    "B.exterior_fill_value = 0.0\n",
    "\n",
    "err_rmatvec = np.abs(np.dot(B * q, z) - np.dot(q, B.T * z))\n",
    "print('err_rmatvec=', err_rmatvec)"
   ],
   "metadata": {
    "collapsed": false,
    "pycharm": {
     "name": "#%%\n"
    }
   }
  }
 ],
 "metadata": {
  "kernelspec": {
   "display_name": "Python 3",
   "language": "python",
   "name": "python3"
  },
  "language_info": {
   "codemirror_mode": {
    "name": "ipython",
    "version": 2
   },
   "file_extension": ".py",
   "mimetype": "text/x-python",
   "name": "python",
   "nbconvert_exporter": "python",
   "pygments_lexer": "ipython2",
   "version": "2.7.6"
  }
 },
 "nbformat": 4,
 "nbformat_minor": 0
}