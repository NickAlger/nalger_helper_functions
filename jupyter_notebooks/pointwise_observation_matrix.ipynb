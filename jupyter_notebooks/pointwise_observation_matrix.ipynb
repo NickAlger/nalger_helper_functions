{
 "cells": [
  {
   "cell_type": "code",
   "execution_count": 1,
   "metadata": {
    "collapsed": true
   },
   "outputs": [],
   "source": [
    "import numpy as np\n",
    "import dolfin as dl\n",
    "from time import time\n",
    "from nalger_helper_functions import pointwise_observation_matrix, points_inside_mesh, dofs_that_contribute_to_function_at_points"
   ]
  },
  {
   "cell_type": "code",
   "execution_count": 2,
   "outputs": [
    {
     "name": "stdout",
     "output_type": "stream",
     "text": [
      "dt_build_operator= 0.0027713775634765625\n"
     ]
    }
   ],
   "source": [
    "mesh = dl.UnitSquareMesh(251,263)\n",
    "V = dl.FunctionSpace(mesh, 'CG', 2)\n",
    "u = dl.Function(V)\n",
    "u.vector()[:] = np.random.randn(V.dim())\n",
    "\n",
    "N = 200\n",
    "d = mesh.geometric_dimension()\n",
    "pp = np.random.randn(N, d)\n",
    "\n",
    "inside_mesh_mask = points_inside_mesh(pp, mesh) # <-- True where point is in mesh, false where point is outside\n",
    "outside_mesh_mask = np.logical_not(inside_mesh_mask)\n",
    "\n",
    "t = time()\n",
    "B = pointwise_observation_matrix(pp, V) # <-- makes scipy CSR matrix\n",
    "dt_build_operator = time() - t\n",
    "print('dt_build_operator=', dt_build_operator)"
   ],
   "metadata": {
    "collapsed": false,
    "pycharm": {
     "name": "#%%\n"
    }
   }
  },
  {
   "cell_type": "code",
   "execution_count": 3,
   "outputs": [
    {
     "name": "stdout",
     "output_type": "stream",
     "text": [
      "err_pointwise_observation_matrix= 3.9788370339664676e-16\n"
     ]
    }
   ],
   "source": [
    "x1 = np.zeros(N)\n",
    "for k in range(N):\n",
    "    if np.all(np.zeros(2) <= pp[k,:]) and np.all(pp[k,:] <= np.ones(2)):\n",
    "        x1[k] = u(dl.Point(pp[k,:]))\n",
    "\n",
    "x2 = np.zeros(N)\n",
    "x2 = B * u.vector()[:]\n",
    "\n",
    "err_pointwise_observation_matrix = np.linalg.norm(x2 - x1)\n",
    "print('err_pointwise_observation_matrix=', err_pointwise_observation_matrix)"
   ],
   "metadata": {
    "collapsed": false,
    "pycharm": {
     "name": "#%%\n"
    }
   }
  },
  {
   "cell_type": "code",
   "execution_count": 4,
   "outputs": [
    {
     "name": "stdout",
     "output_type": "stream",
     "text": [
      "err_exterior_fill= 3.9788370339664676e-16\n"
     ]
    }
   ],
   "source": [
    "exterior_fill_value = 3.5\n",
    "\n",
    "x3 = np.zeros(N)\n",
    "for k in range(N):\n",
    "    if np.all(np.zeros(2) <= pp[k,:]) and np.all(pp[k,:] <= np.ones(2)):\n",
    "        x3[k] = u(dl.Point(pp[k,:]))\n",
    "    else:\n",
    "        x3[k] = exterior_fill_value\n",
    "\n",
    "B.exterior_fill_value = exterior_fill_value\n",
    "\n",
    "x4 = B * u.vector()[:]\n",
    "x4[outside_mesh_mask] = exterior_fill_value\n",
    "\n",
    "err_exterior_fill = np.linalg.norm(x4 - x3)\n",
    "print('err_exterior_fill=', err_exterior_fill)"
   ],
   "metadata": {
    "collapsed": false,
    "pycharm": {
     "name": "#%%\n"
    }
   }
  },
  {
   "cell_type": "code",
   "execution_count": 5,
   "outputs": [
    {
     "name": "stdout",
     "output_type": "stream",
     "text": [
      "err_transpose= 6.661338147750939e-16\n"
     ]
    }
   ],
   "source": [
    "q = np.random.randn(V.dim())\n",
    "z = np.random.randn(pp.shape[0])\n",
    "\n",
    "err_transpose = np.abs(np.dot(B * q, z) - np.dot(q, B.T * z))\n",
    "print('err_transpose=', err_transpose)"
   ],
   "metadata": {
    "collapsed": false,
    "pycharm": {
     "name": "#%%\n"
    }
   }
  },
  {
   "cell_type": "code",
   "execution_count": 6,
   "outputs": [
    {
     "name": "stdout",
     "output_type": "stream",
     "text": [
      "dt_build_operator_nonzerocols= 0.005968570709228516\n",
      "dt_regular= 0.00010704994201660156\n",
      "dt_nonzero= 0.00010061264038085938\n",
      "err_nonzero_cols= 0.0\n"
     ]
    }
   ],
   "source": [
    "t = time()\n",
    "B2, nonzero_cols = pointwise_observation_matrix(pp, V, nonzero_columns_only=True)\n",
    "dt_build_operator_nonzerocols = time() - t\n",
    "print('dt_build_operator_nonzerocols=', dt_build_operator_nonzerocols)\n",
    "\n",
    "u_vec = u.vector()[:]\n",
    "\n",
    "t = time()\n",
    "x5 = B * u_vec\n",
    "dt_regular = time() - t\n",
    "print('dt_regular=', dt_regular)\n",
    "\n",
    "t = time()\n",
    "x6 = B2 * u_vec[nonzero_cols]\n",
    "dt_nonzero = time() - t\n",
    "print('dt_nonzero=', dt_nonzero)\n",
    "\n",
    "err_nonzero_cols = np.linalg.norm(x6 - x5)\n",
    "print('err_nonzero_cols=', err_nonzero_cols)"
   ],
   "metadata": {
    "collapsed": false,
    "pycharm": {
     "name": "#%%\n"
    }
   }
  },
  {
   "cell_type": "code",
   "execution_count": 7,
   "outputs": [
    {
     "name": "stdout",
     "output_type": "stream",
     "text": [
      "dt_allcols= 0.23255467414855957\n",
      "dt_nonzero_cols= 0.034242868423461914\n",
      "err_nonzero_cols_transpose= 0.0\n"
     ]
    }
   ],
   "source": [
    "zz = [np.random.randn(N) for _ in range(500)]\n",
    "\n",
    "y = np.zeros(V.dim())\n",
    "\n",
    "t = time()\n",
    "for z in zz:\n",
    "    y += B.T * z\n",
    "dt_allcols = time() - t\n",
    "print('dt_allcols=', dt_allcols)\n",
    "\n",
    "y2 = np.zeros(V.dim())\n",
    "t = time()\n",
    "for z in zz:\n",
    "    y2[nonzero_cols] += B2.T * z\n",
    "    # y2[nonzero_cols] += (B.T * z)[nonzero_cols]\n",
    "dt_nonzero_cols = time() - t\n",
    "print('dt_nonzero_cols=', dt_nonzero_cols)\n",
    "\n",
    "err_nonzero_cols_transpose = np.linalg.norm(y2-y)\n",
    "print('err_nonzero_cols_transpose=', err_nonzero_cols_transpose)"
   ],
   "metadata": {
    "collapsed": false,
    "pycharm": {
     "name": "#%%\n"
    }
   }
  },
  {
   "cell_type": "code",
   "execution_count": 8,
   "outputs": [
    {
     "name": "stdout",
     "output_type": "stream",
     "text": [
      "B.shape= (200, 265081)\n",
      "B2.shape= (200, 198)\n"
     ]
    }
   ],
   "source": [
    "print('B.shape=', B.shape)\n",
    "print('B2.shape=', B2.shape)"
   ],
   "metadata": {
    "collapsed": false,
    "pycharm": {
     "name": "#%%\n"
    }
   }
  }
 ],
 "metadata": {
  "kernelspec": {
   "display_name": "Python 3",
   "language": "python",
   "name": "python3"
  },
  "language_info": {
   "codemirror_mode": {
    "name": "ipython",
    "version": 2
   },
   "file_extension": ".py",
   "mimetype": "text/x-python",
   "name": "python",
   "nbconvert_exporter": "python",
   "pygments_lexer": "ipython2",
   "version": "2.7.6"
  }
 },
 "nbformat": 4,
 "nbformat_minor": 0
}