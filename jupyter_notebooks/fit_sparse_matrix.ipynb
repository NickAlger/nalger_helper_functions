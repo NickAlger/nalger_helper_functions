{
 "cells": [
  {
   "cell_type": "code",
   "execution_count": 3,
   "metadata": {
    "collapsed": true,
    "pycharm": {
     "name": "#%%\n"
    }
   },
   "outputs": [
    {
     "name": "stdout",
     "output_type": "stream",
     "text": [
      "err= 1.6540236336142748e-15\n"
     ]
    }
   ],
   "source": [
    "import numpy as np\n",
    "import scipy.sparse as sps\n",
    "from nalger_helper_functions import fit_sparse_matrix\n",
    "\n",
    "N = 100\n",
    "M = 89\n",
    "nnz0 = int(3 * N)\n",
    "rows = np.random.randint(0, N, nnz0)\n",
    "cols = np.random.randint(0, M, nnz0)\n",
    "values = np.random.randn(nnz0)\n",
    "A = sps.coo_matrix((values, (rows, cols)), shape=(N,M)).tocsr()\n",
    "apply_A = lambda x: A * x\n",
    "\n",
    "A2 = fit_sparse_matrix(apply_A, A.indices, A.indptr, A.shape)\n",
    "\n",
    "err = np.linalg.norm(A.toarray() - A2.toarray()) / np.linalg.norm(A.toarray())\n",
    "print('err=', err)"
   ]
  }
 ],
 "metadata": {
  "kernelspec": {
   "display_name": "Python 3",
   "language": "python",
   "name": "python3"
  },
  "language_info": {
   "codemirror_mode": {
    "name": "ipython",
    "version": 2
   },
   "file_extension": ".py",
   "mimetype": "text/x-python",
   "name": "python",
   "nbconvert_exporter": "python",
   "pygments_lexer": "ipython2",
   "version": "2.7.6"
  }
 },
 "nbformat": 4,
 "nbformat_minor": 0
}