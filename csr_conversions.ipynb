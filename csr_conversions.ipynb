{
 "cells": [
  {
   "cell_type": "code",
   "execution_count": 1,
   "metadata": {
    "collapsed": true
   },
   "outputs": [],
   "source": [
    "import dolfin as dl\n",
    "import numpy as np\n",
    "from time import time\n",
    "\n",
    "# https://github.com/NickAlger/helper_functions/\n",
    "from csr_fenics2scipy import csr_fenics2scipy\n",
    "from csr_scipy2fenics import csr_scipy2fenics"
   ]
  },
  {
   "cell_type": "markdown",
   "source": [
    "# Make Laplacian matrix in fenics"
   ],
   "metadata": {
    "collapsed": false,
    "pycharm": {
     "name": "#%% md\n"
    }
   }
  },
  {
   "cell_type": "code",
   "execution_count": 2,
   "outputs": [],
   "source": [
    "n = 10\n",
    "mesh = dl.UnitCubeMesh(n,n,n)\n",
    "V = dl.FunctionSpace(mesh, 'CG', 1)\n",
    "\n",
    "u = dl.TrialFunction(V)\n",
    "v = dl.TestFunction(V)\n",
    "a = dl.inner(dl.grad(u), dl.grad(v)) * dl.dx + u * v * dl.dx\n",
    "\n",
    "f = dl.Function(V)\n",
    "f.vector()[:] = np.random.randn(V.dim())\n",
    "b = f * v * dl.dx\n",
    "\n",
    "b_fenics = dl.assemble(b)\n",
    "b_numpy = b_fenics[:]\n",
    "\n",
    "A_fenics = dl.assemble(a)"
   ],
   "metadata": {
    "collapsed": false,
    "pycharm": {
     "name": "#%%\n"
    }
   }
  },
  {
   "cell_type": "markdown",
   "source": [
    "# Test correctness of matrix converters"
   ],
   "metadata": {
    "collapsed": false,
    "pycharm": {
     "name": "#%% md\n"
    }
   }
  },
  {
   "cell_type": "code",
   "execution_count": 3,
   "outputs": [
    {
     "name": "stdout",
     "output_type": "stream",
     "text": [
      "err= 0.0\n"
     ]
    }
   ],
   "source": [
    "A_scipy = csr_fenics2scipy(A_fenics)\n",
    "A_fenics2 = csr_scipy2fenics(A_scipy)\n",
    "\n",
    "z_fct = dl.Function(V)\n",
    "z_fct.vector().set_local(np.random.randn(V.dim()))\n",
    "z = z_fct.vector()\n",
    "Az = A_fenics * z\n",
    "Az2 = A_fenics2 * z\n",
    "err = np.linalg.norm((Az - Az2)[:])/np.linalg.norm(Az[:])\n",
    "print('err=', err)"
   ],
   "metadata": {
    "collapsed": false,
    "pycharm": {
     "name": "#%%\n"
    }
   }
  },
  {
   "cell_type": "markdown",
   "source": [
    "# Compare solve timing: fenics vs scipy"
   ],
   "metadata": {
    "collapsed": false,
    "pycharm": {
     "name": "#%% md\n"
    }
   }
  },
  {
   "cell_type": "code",
   "execution_count": 4,
   "outputs": [
    {
     "name": "stdout",
     "output_type": "stream",
     "text": [
      "scipy_factorization_time= 0.014922857284545898\n",
      "scipy_solve_time= 0.0005962848663330078\n",
      "fenics_factorization_time= 0.00019240379333496094\n",
      "fenics_first_solve_time= 0.02410602569580078\n",
      "fenics_second_solve_time= 0.0006530284881591797\n"
     ]
    },
    {
     "name": "stderr",
     "output_type": "stream",
     "text": [
      "/home/nick/anaconda3/envs/fenics3/lib/python3.8/site-packages/scipy/sparse/linalg/dsolve/linsolve.py:318: SparseEfficiencyWarning: splu requires CSC matrix format\n",
      "  warn('splu requires CSC matrix format', SparseEfficiencyWarning)\n"
     ]
    }
   ],
   "source": [
    "import scipy.sparse.linalg as spla\n",
    "\n",
    "t = time()\n",
    "solve_A_scipy = spla.factorized(A_scipy)\n",
    "scipy_factorization_time = time() - t\n",
    "print('scipy_factorization_time=', scipy_factorization_time)\n",
    "\n",
    "t = time()\n",
    "x_numpy = solve_A_scipy(b_numpy)\n",
    "scipy_solve_time = time() - t\n",
    "print('scipy_solve_time=', scipy_solve_time)\n",
    "\n",
    "t = time()\n",
    "solve_A_fenics = dl.LUSolver(A_fenics)\n",
    "fenics_factorization_time = time() - t\n",
    "print('fenics_factorization_time=', fenics_factorization_time)\n",
    "\n",
    "x = dl.Function(V)\n",
    "\n",
    "t = time()\n",
    "solve_A_fenics.solve(x.vector(), b_fenics)\n",
    "fenics_first_solve_time = time() - t\n",
    "print('fenics_first_solve_time=', fenics_first_solve_time)\n",
    "\n",
    "x2 = dl.Function(V)\n",
    "\n",
    "t = time()\n",
    "solve_A_fenics.solve(x2.vector(), b_fenics)\n",
    "fenics_second_solve_time = time() - t\n",
    "print('fenics_second_solve_time=', fenics_second_solve_time)\n"
   ],
   "metadata": {
    "collapsed": false,
    "pycharm": {
     "name": "#%%\n"
    }
   }
  }
 ],
 "metadata": {
  "kernelspec": {
   "display_name": "Python 3",
   "language": "python",
   "name": "python3"
  },
  "language_info": {
   "codemirror_mode": {
    "name": "ipython",
    "version": 2
   },
   "file_extension": ".py",
   "mimetype": "text/x-python",
   "name": "python",
   "nbconvert_exporter": "python",
   "pygments_lexer": "ipython2",
   "version": "2.7.6"
  }
 },
 "nbformat": 4,
 "nbformat_minor": 0
}