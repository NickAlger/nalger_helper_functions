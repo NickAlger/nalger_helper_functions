{
 "cells": [
  {
   "cell_type": "code",
   "execution_count": 1,
   "metadata": {},
   "outputs": [],
   "source": [
    "import numpy as np\n",
    "import dolfin as dl\n",
    "import matplotlib.pyplot as plt\n",
    "import matplotlib.patches as patches"
   ]
  },
  {
   "cell_type": "code",
   "execution_count": 2,
   "metadata": {},
   "outputs": [],
   "source": [
    "def conforming_rectangle(min_point, max_point, grid_zero_point, grid_h):\n",
    "    h = grid_h\n",
    "    p = grid_zero_point\n",
    "    \n",
    "    min_point_conforming = np.floor((min_point - p) / h) * h + p\n",
    "    max_point_conforming = np.ceil((max_point - p) / h) * h + p\n",
    "    \n",
    "    return min_point_conforming, max_point_conforming"
   ]
  },
  {
   "cell_type": "markdown",
   "metadata": {},
   "source": [
    "# Test:"
   ]
  },
  {
   "cell_type": "code",
   "execution_count": 3,
   "metadata": {},
   "outputs": [
    {
     "ename": "NameError",
     "evalue": "name 'conforming_rectangles' is not defined",
     "output_type": "error",
     "traceback": [
      "\u001b[0;31m---------------------------------------------------------------------------\u001b[0m",
      "\u001b[0;31mNameError\u001b[0m                                 Traceback (most recent call last)",
      "\u001b[0;32m<ipython-input-3-0bc7d7ce5f53>\u001b[0m in \u001b[0;36m<module>\u001b[0;34m\u001b[0m\n\u001b[1;32m      9\u001b[0m \u001b[0mh\u001b[0m \u001b[0;34m=\u001b[0m \u001b[0;36m0.19\u001b[0m\u001b[0;34m\u001b[0m\u001b[0;34m\u001b[0m\u001b[0m\n\u001b[1;32m     10\u001b[0m \u001b[0;34m\u001b[0m\u001b[0m\n\u001b[0;32m---> 11\u001b[0;31m \u001b[0mmin1c\u001b[0m\u001b[0;34m,\u001b[0m \u001b[0mmax1c\u001b[0m \u001b[0;34m=\u001b[0m \u001b[0mconforming_rectangles\u001b[0m\u001b[0;34m(\u001b[0m\u001b[0mmin1\u001b[0m\u001b[0;34m,\u001b[0m \u001b[0mmax1\u001b[0m\u001b[0;34m,\u001b[0m \u001b[0mp\u001b[0m\u001b[0;34m,\u001b[0m \u001b[0mh\u001b[0m\u001b[0;34m)\u001b[0m\u001b[0;34m\u001b[0m\u001b[0;34m\u001b[0m\u001b[0m\n\u001b[0m\u001b[1;32m     12\u001b[0m \u001b[0mmin2c\u001b[0m\u001b[0;34m,\u001b[0m \u001b[0mmax2c\u001b[0m \u001b[0;34m=\u001b[0m \u001b[0mconforming_rectangles\u001b[0m\u001b[0;34m(\u001b[0m\u001b[0mmin2\u001b[0m\u001b[0;34m,\u001b[0m \u001b[0mmax2\u001b[0m\u001b[0;34m,\u001b[0m \u001b[0mp\u001b[0m\u001b[0;34m,\u001b[0m \u001b[0mh\u001b[0m\u001b[0;34m)\u001b[0m\u001b[0;34m\u001b[0m\u001b[0;34m\u001b[0m\u001b[0m\n\u001b[1;32m     13\u001b[0m \u001b[0;34m\u001b[0m\u001b[0m\n",
      "\u001b[0;31mNameError\u001b[0m: name 'conforming_rectangles' is not defined"
     ]
    }
   ],
   "source": [
    "min1 = np.array([-0.5, -1.1])\n",
    "max1 = np.array([1.2, 0.75])\n",
    "\n",
    "min2 = np.array([0.7, 0.4])\n",
    "max2 = np.array([1.6, 1.35])\n",
    "\n",
    "p = np.array([0.312, 1.07])\n",
    "\n",
    "h = 0.19\n",
    "\n",
    "min1c, max1c = conforming_rectangle(min1, max1, p, h)\n",
    "min2c, max2c = conforming_rectangle(min2, max2, p, h)\n",
    "\n",
    "\n",
    "def make_rect_patch(minpt, maxpt, edgecolor='k'):\n",
    "    delta = maxpt - minpt\n",
    "    return patches.Rectangle(minpt, delta[0], delta[1], linewidth=1, edgecolor=edgecolor, facecolor='none')\n",
    "\n",
    "r1 = make_rect_patch(min1, max1, edgecolor='k')\n",
    "r2 = make_rect_patch(min2, max2, edgecolor='k')\n",
    "r1c = make_rect_patch(min1c, max1c, edgecolor='r')\n",
    "r2c = make_rect_patch(min2c, max2c, edgecolor='b')\n",
    "\n",
    "buf = 0.25\n",
    "xmin = np.min([min1c[0], min2c[0], p[0]]) - buf\n",
    "ymin = np.min([min1c[1], min2c[1], p[1]]) - buf\n",
    "xmax = np.max([max1c[0], max2c[0], p[0]]) + buf\n",
    "ymax = np.max([max1c[1], max2c[1], p[1]]) + buf\n",
    "\n",
    "xx = np.arange(-25, 25) * h + p[0]\n",
    "yy = np.arange(-25, 25) * h + p[1]\n",
    "\n",
    "XX, YY = np.meshgrid(xx, yy)\n",
    "\n",
    "plt.figure()\n",
    "\n",
    "# Add the patch to the Axes\n",
    "plt.gca().add_patch(r1)\n",
    "plt.gca().add_patch(r2)\n",
    "plt.gca().add_patch(r1c)\n",
    "plt.gca().add_patch(r2c)\n",
    "plt.plot(p[0], p[1], '.k', markersize=10)\n",
    "\n",
    "plt.plot(XX[:], YY[:], '.k', markersize=2)\n",
    "\n",
    "plt.xlim(xmin, xmax)\n",
    "plt.ylim(ymin, ymax)\n",
    "\n",
    "plt.title('black=input, red/blue = output')\n",
    "\n",
    "plt.show()"
   ]
  }
 ],
 "metadata": {
  "kernelspec": {
   "display_name": "Python 3",
   "language": "python",
   "name": "python3"
  },
  "language_info": {
   "codemirror_mode": {
    "name": "ipython",
    "version": 3
   },
   "file_extension": ".py",
   "mimetype": "text/x-python",
   "name": "python",
   "nbconvert_exporter": "python",
   "pygments_lexer": "ipython3",
   "version": "3.8.5"
  }
 },
 "nbformat": 4,
 "nbformat_minor": 4
}
