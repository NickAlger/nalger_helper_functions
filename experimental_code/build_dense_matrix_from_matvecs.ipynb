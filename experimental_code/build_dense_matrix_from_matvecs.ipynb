{
 "cells": [
  {
   "cell_type": "code",
   "execution_count": 1,
   "metadata": {},
   "outputs": [],
   "source": [
    "import numpy as np\n",
    "from time import time\n",
    "\n",
    "\n",
    "def build_dense_matrix_from_matvecs(apply_A, ncol_A, display=False, display_delay=0.5):\n",
    "    e0 = np.zeros(ncol_A)\n",
    "    e0[0] = 1.\n",
    "    zeroth_col = apply_A(e0)\n",
    "    nrow_A = len(zeroth_col)\n",
    "    A_dense = np.zeros((nrow_A, ncol_A), dtype=zeroth_col.dtype)\n",
    "    A_dense[:,0] = zeroth_col\n",
    "    t_start = time()\n",
    "    t_prev = t_start\n",
    "    for k in range(1,ncol_A):\n",
    "        ek = np.zeros(ncol_A)\n",
    "        ek[k] = 1.\n",
    "        A_dense[:,k] = apply_A(ek)\n",
    "        if display:\n",
    "            t_cur = time()\n",
    "            if (t_cur - t_prev) > display_delay:\n",
    "                time_elapsed = t_cur - t_start\n",
    "                print(k, ' columns computed, ', time_elapsed, ' seconds elapsed.')\n",
    "                t_prev = t_cur\n",
    "    return A_dense"
   ]
  },
  {
   "cell_type": "markdown",
   "metadata": {},
   "source": [
    "# Test on random real matrix"
   ]
  },
  {
   "cell_type": "code",
   "execution_count": 2,
   "metadata": {},
   "outputs": [],
   "source": [
    "A = np.random.randn(1500, 1831)\n",
    "apply_A = lambda x: np.dot(A, x)"
   ]
  },
  {
   "cell_type": "code",
   "execution_count": 3,
   "metadata": {},
   "outputs": [
    {
     "name": "stdout",
     "output_type": "stream",
     "text": [
      "521  columns computed,  0.5007688999176025  seconds elapsed.\n",
      "1057  columns computed,  1.0015437602996826  seconds elapsed.\n",
      "1597  columns computed,  1.5019822120666504  seconds elapsed.\n"
     ]
    }
   ],
   "source": [
    "A2 = build_dense_matrix_from_matvecs(apply_A, A.shape[1], display=True)"
   ]
  },
  {
   "cell_type": "code",
   "execution_count": 4,
   "metadata": {},
   "outputs": [
    {
     "name": "stdout",
     "output_type": "stream",
     "text": [
      "real_err= 0.0\n"
     ]
    }
   ],
   "source": [
    "real_err = np.linalg.norm(A2 - A)/np.linalg.norm(A)\n",
    "print('real_err=', real_err)"
   ]
  },
  {
   "cell_type": "markdown",
   "metadata": {},
   "source": [
    "## Test on complex matrix"
   ]
  },
  {
   "cell_type": "code",
   "execution_count": 5,
   "metadata": {},
   "outputs": [],
   "source": [
    "# Complex matrix test\n",
    "A = np.random.randn(1500, 1831) + 1j * np.random.randn(1500, 1831)\n",
    "apply_A = lambda x: np.dot(A, x)"
   ]
  },
  {
   "cell_type": "code",
   "execution_count": 6,
   "metadata": {},
   "outputs": [
    {
     "name": "stdout",
     "output_type": "stream",
     "text": [
      "206  columns computed,  0.502108097076416  seconds elapsed.\n",
      "402  columns computed,  1.00413179397583  seconds elapsed.\n",
      "577  columns computed,  1.50593900680542  seconds elapsed.\n",
      "751  columns computed,  2.0073001384735107  seconds elapsed.\n",
      "949  columns computed,  2.5081734657287598  seconds elapsed.\n",
      "1127  columns computed,  3.0103137493133545  seconds elapsed.\n",
      "1312  columns computed,  3.5110130310058594  seconds elapsed.\n",
      "1500  columns computed,  4.013256072998047  seconds elapsed.\n",
      "1686  columns computed,  4.515328407287598  seconds elapsed.\n"
     ]
    }
   ],
   "source": [
    "A2 = build_dense_matrix_from_matvecs(apply_A, A.shape[1], display=True)"
   ]
  },
  {
   "cell_type": "code",
   "execution_count": 7,
   "metadata": {},
   "outputs": [
    {
     "name": "stdout",
     "output_type": "stream",
     "text": [
      "complex_err= 0.0\n"
     ]
    }
   ],
   "source": [
    "complex_err = np.linalg.norm(A2 - A)/np.linalg.norm(A)\n",
    "print('complex_err=', complex_err)"
   ]
  }
 ],
 "metadata": {
  "kernelspec": {
   "display_name": "Python 3",
   "language": "python",
   "name": "python3"
  },
  "language_info": {
   "codemirror_mode": {
    "name": "ipython",
    "version": 3
   },
   "file_extension": ".py",
   "mimetype": "text/x-python",
   "name": "python",
   "nbconvert_exporter": "python",
   "pygments_lexer": "ipython3",
   "version": "3.8.5"
  }
 },
 "nbformat": 4,
 "nbformat_minor": 4
}
