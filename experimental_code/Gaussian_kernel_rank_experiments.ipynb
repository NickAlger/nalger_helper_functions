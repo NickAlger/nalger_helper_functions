{
 "cells": [
  {
   "cell_type": "code",
   "execution_count": 1,
   "id": "b43f5a19",
   "metadata": {},
   "outputs": [],
   "source": [
    "import numpy as np\n",
    "import matplotlib.pyplot as plt"
   ]
  },
  {
   "cell_type": "code",
   "execution_count": 2,
   "id": "d56fede3",
   "metadata": {},
   "outputs": [],
   "source": [
    "nx = 40\n",
    "ny = nx\n",
    "\n",
    "X, Y = np.meshgrid(np.linspace(0,1,nx), np.linspace(0,1,ny))\n",
    "pp = np.vstack([X.reshape(-1), Y.reshape(-1)]).T.copy()\n",
    "N = pp.shape[0]"
   ]
  },
  {
   "cell_type": "markdown",
   "id": "133ef32c",
   "metadata": {},
   "source": [
    "$$G_{ij} = \\exp\\left(\\frac{1}{2}\\frac{\\|p_i - p_j\\|^2}{\\sigma^2}\\right)$$"
   ]
  },
  {
   "cell_type": "code",
   "execution_count": 3,
   "id": "1dcbedf5",
   "metadata": {},
   "outputs": [],
   "source": [
    "def make_gaussian_kernel(sigma):\n",
    "    G = np.zeros((N,N))\n",
    "    for k in range(N):\n",
    "        G[:,k] = np.exp(-0.5*(np.linalg.norm(pp - pp[k,:], axis=1)/sigma)**2)\n",
    "    return G"
   ]
  },
  {
   "cell_type": "code",
   "execution_count": null,
   "id": "e8ba8d05",
   "metadata": {},
   "outputs": [],
   "source": [
    "sigmas = np.logspace(np.log10(0.05), np.log10(0.5), 10)\n",
    "\n",
    "all_ss = list()\n",
    "for sigma in sigmas:\n",
    "    G = make_gaussian_kernel(sigma)\n",
    "\n",
    "    _,ss,_ = np.linalg.svd(G)\n",
    "    all_ss.append(ss/np.max(ss))\n",
    "    \n",
    "plt.figure()\n",
    "for sigma, ss in zip(sigmas, all_ss):\n",
    "    plt.semilogy(ss)\n",
    "plt.legend(['sigma='+str(sigma) for sigma in sigmas])\n",
    "plt.title('singular values of Gaussian kernels')\n",
    "plt.ylabel(r'$\\sigma_i$')\n",
    "plt.xlabel(r'$i$')"
   ]
  },
  {
   "cell_type": "code",
   "execution_count": null,
   "id": "805b8645",
   "metadata": {},
   "outputs": [],
   "source": [
    "rank_truncation_tol = 1e-5\n",
    "\n",
    "all_ranks = [np.argwhere(ss < rank_truncation_tol)[0][0] for ss in all_ss]\n",
    "\n",
    "plt.loglog(sigmas, all_ranks)\n",
    "plt.loglog(sigmas, 1./np.array(sigmas)**2) # (l/L)^d\n",
    "plt.title(r'rank vs $\\sigma$')\n",
    "plt.xlabel(r'$\\sigma$')\n",
    "plt.ylabel('numerical rank')\n",
    "plt.legend(['computed rank', r'$1/\\sigma^2$'])"
   ]
  },
  {
   "cell_type": "code",
   "execution_count": null,
   "id": "ccd93370",
   "metadata": {},
   "outputs": [],
   "source": [
    "all_ss_block = list()\n",
    "for sigma in sigmas:\n",
    "    G = make_gaussian_kernel(sigma)\n",
    "    G_block = G[:int(N/2), int(N/2):]\n",
    "    \n",
    "    _,ss,_ = np.linalg.svd(G_block)\n",
    "    all_ss_block.append(ss/np.max(ss))\n",
    "    \n",
    "plt.figure()\n",
    "for sigma, ss in zip(sigmas, all_ss_block):\n",
    "    plt.semilogy(ss)\n",
    "plt.legend(['sigma='+str(sigma) for sigma in sigmas])\n",
    "plt.title('singular values of off-diagonal block')\n",
    "plt.ylabel(r'$\\sigma_i$')\n",
    "plt.xlabel(r'$i$')"
   ]
  },
  {
   "cell_type": "code",
   "execution_count": null,
   "id": "fd16be5b",
   "metadata": {},
   "outputs": [],
   "source": [
    "all_ranks_block = [np.argwhere(ss < 1e-5)[0][0] for ss in all_ss_block]\n",
    "\n",
    "plt.loglog(sigmas, all_ranks_block)\n",
    "plt.loglog(sigmas, 1./np.array(sigmas)**1) # (l/L)^(d-1)\n",
    "plt.title(r'rank vs $\\sigma$ (off-diagonal block)')\n",
    "plt.xlabel(r'$\\sigma$')\n",
    "plt.ylabel('numerical rank')\n",
    "plt.legend(['computed rank', r'$1/\\sigma^1$'])"
   ]
  }
 ],
 "metadata": {
  "kernelspec": {
   "display_name": "Python 3 (ipykernel)",
   "language": "python",
   "name": "python3"
  },
  "language_info": {
   "codemirror_mode": {
    "name": "ipython",
    "version": 3
   },
   "file_extension": ".py",
   "mimetype": "text/x-python",
   "name": "python",
   "nbconvert_exporter": "python",
   "pygments_lexer": "ipython3",
   "version": "3.9.7"
  }
 },
 "nbformat": 4,
 "nbformat_minor": 5
}
