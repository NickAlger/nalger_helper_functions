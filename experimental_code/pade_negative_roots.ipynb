{
 "cells": [
  {
   "cell_type": "code",
   "execution_count": 73,
   "metadata": {
    "collapsed": true
   },
   "outputs": [],
   "source": [
    "from autograd import grad, jacobian\n",
    "import autograd.numpy as np\n",
    "from scipy.optimize import root\n",
    "import matplotlib.pyplot as plt\n",
    "\n",
    "from nalger_helper_functions import *"
   ]
  },
  {
   "cell_type": "code",
   "execution_count": 64,
   "outputs": [
    {
     "data": {
      "text/plain": "array([-2.71640395e+00, -6.99577298e+00, -1.83411378e+01, -2.42021068e+01,\n       -5.33101244e+01, -1.77748448e+02,  6.26080875e+03])"
     },
     "execution_count": 64,
     "metadata": {},
     "output_type": "execute_result"
    }
   ],
   "source": [
    "k_taylor = 7\n",
    "k_denominator = 3\n",
    "k_numerator = k_taylor - k_denominator\n",
    "\n",
    "def polynomial(t, cc):\n",
    "    return np.sum((t**np.arange(len(cc))) * cc)\n",
    "\n",
    "def numerator(t, cc_rat):\n",
    "    return polynomial(t, cc_rat[:k_numerator])\n",
    "\n",
    "def denominator(t, cc_rat):\n",
    "    return np.prod(t + np.exp(cc_rat[k_numerator:]))\n",
    "\n",
    "def rat(t, cc):\n",
    "    return numerator(t,cc) / denominator(t, cc)\n",
    "\n",
    "def res0_fullspace(t, cc, cc_rat):\n",
    "    return polynomial(t, cc) * denominator(t, cc_rat) - numerator(t, cc_rat)\n",
    "\n",
    "rr_fullspace = [res0_fullspace]\n",
    "for k in range(1, k_taylor):\n",
    "    res_k = rr_fullspace[-1]\n",
    "    rr_fullspace.append(grad(res_k, 0))\n",
    "\n",
    "def residual(cc_rat, cc):\n",
    "    return np.array([r(0.0, cc, cc_rat) for r in rr_fullspace])\n",
    "\n",
    "cc = np.random.randn(k_taylor)\n",
    "cc_rat = np.random.randn(k_taylor)\n",
    "\n",
    "residual(cc_rat, cc)"
   ],
   "metadata": {
    "collapsed": false,
    "pycharm": {
     "name": "#%%\n"
    }
   }
  },
  {
   "cell_type": "code",
   "execution_count": 63,
   "outputs": [
    {
     "data": {
      "text/plain": "(7, 7)"
     },
     "execution_count": 63,
     "metadata": {},
     "output_type": "execute_result"
    }
   ],
   "source": [
    "jac = jacobian(residual, 0)\n",
    "\n",
    "J = jac(cc_rat, cc)\n",
    "\n",
    "J.shape"
   ],
   "metadata": {
    "collapsed": false,
    "pycharm": {
     "name": "#%%\n"
    }
   }
  },
  {
   "cell_type": "code",
   "execution_count": 43,
   "outputs": [
    {
     "data": {
      "text/plain": "array([3.19210234e+03, 2.04214411e+02, 5.99881704e+00, 2.00304040e+00,\n       1.00143721e+00, 9.99987194e-01, 6.64145216e-01])"
     },
     "execution_count": 43,
     "metadata": {},
     "output_type": "execute_result"
    }
   ],
   "source": [
    "U,ss,Vt = np.linalg.svd(J)\n",
    "\n",
    "ss"
   ],
   "metadata": {
    "collapsed": false,
    "pycharm": {
     "name": "#%%\n"
    }
   }
  },
  {
   "cell_type": "code",
   "execution_count": 50,
   "outputs": [
    {
     "name": "stdout",
     "output_type": "stream",
     "text": [
      "[ 3.70455026e+00  2.37452382e+00 -3.69996169e+00  2.92887980e+02\n",
      "  7.96597139e+02 -5.45935169e+01  5.15532830e+03]\n"
     ]
    }
   ],
   "source": [
    "print(residual(cc_rat, cc))"
   ],
   "metadata": {
    "collapsed": false,
    "pycharm": {
     "name": "#%%\n"
    }
   }
  },
  {
   "cell_type": "code",
   "execution_count": 75,
   "outputs": [
    {
     "name": "stdout",
     "output_type": "stream",
     "text": [
      "    fjac: array([[-1.        ,  0.        ,  0.        ,  0.        ,  0.        ,\n",
      "         0.        ,  0.        ],\n",
      "       [ 0.        , -1.        ,  0.        ,  0.        ,  0.        ,\n",
      "         0.        ,  0.        ],\n",
      "       [ 0.        ,  0.        , -1.        ,  0.        ,  0.        ,\n",
      "         0.        ,  0.        ],\n",
      "       [ 0.        ,  0.        ,  0.        , -1.        ,  0.        ,\n",
      "         0.        ,  0.        ],\n",
      "       [ 0.        ,  0.        ,  0.        ,  0.        , -0.0082351 ,\n",
      "        -0.04891337,  0.99876908],\n",
      "       [ 0.        ,  0.        ,  0.        ,  0.        , -0.04447663,\n",
      "        -0.99779657, -0.04923246],\n",
      "       [ 0.        ,  0.        ,  0.        ,  0.        , -0.99897648,\n",
      "         0.04482732, -0.00604146]])\n",
      "     fun: array([-5.07260333e-02, -5.02681648e-01, -6.53870483e-01,  2.45617138e+00,\n",
      "       -9.01031886e+00, -6.30743140e+01, -5.13584016e+00])\n",
      " message: 'The iteration is not making good progress, as measured by the \\n  improvement from the last five Jacobian evaluations.'\n",
      "    nfev: 36\n",
      "    njev: 8\n",
      "     qtf: array([-4.91412737e-02, -4.86644835e-01, -6.28302191e-01,  2.35604078e+00,\n",
      "       -1.46257980e+00,  6.38841968e+01,  6.15546956e+00])\n",
      "       r: array([ 1.00000000e+00,  0.00000000e+00,  0.00000000e+00,  0.00000000e+00,\n",
      "        2.49006769e-02,  2.49006769e-02,  2.49006769e-02,  1.00000000e+00,\n",
      "        0.00000000e+00,  0.00000000e+00,  3.02321939e-01,  3.14665496e-01,\n",
      "        3.70881165e-01,  2.00000000e+00,  0.00000000e+00,  1.38999960e+00,\n",
      "        1.61677463e+00,  2.95912335e+00,  6.00000000e+00,  4.52436575e-01,\n",
      "        5.09094102e-01,  8.65010198e+00,  3.31908698e+02,  3.44323923e+02,\n",
      "        4.86907328e+02,  2.81376486e+00,  9.16024818e+01, -2.32647333e+01])\n",
      "  status: 4\n",
      " success: False\n",
      "       x: array([ 0.02580523,  0.1147771 , -1.40614527, -2.87994375, -1.14614817,\n",
      "       -1.1731001 ,  0.35806734])\n"
     ]
    }
   ],
   "source": [
    "cc_rat = np.random.randn(k_taylor)\n",
    "cc_rat[:k_numerator] = cc[:k_numerator]\n",
    "\n",
    "soln = root(lambda x: residual(x, cc), cc_rat, jac=lambda x: jac(x, cc))\n",
    "\n",
    "print(soln)\n",
    "\n",
    "# for k in range(50):\n",
    "#     R = residual(cc_rat, cc)\n",
    "#     norm_r = np.linalg.norm(R)\n",
    "#     print('k=', k, ', norm_r=', norm_r)\n",
    "#\n",
    "#     J = jac(cc_rat, cc)\n",
    "#     dcc_rat = np.linalg.solve(J, R)\n",
    "#\n",
    "#     cc_rat = cc_rat - 2.5e-2 * dcc_rat"
   ],
   "metadata": {
    "collapsed": false,
    "pycharm": {
     "name": "#%%\n"
    }
   }
  },
  {
   "cell_type": "code",
   "execution_count": 35,
   "outputs": [
    {
     "data": {
      "text/plain": "0.6968507588625058"
     },
     "execution_count": 35,
     "metadata": {},
     "output_type": "execute_result"
    }
   ],
   "source": [
    "rr_fullspace[0](0.0, cc, cc_rat)"
   ],
   "metadata": {
    "collapsed": false,
    "pycharm": {
     "name": "#%%\n"
    }
   }
  },
  {
   "cell_type": "code",
   "execution_count": null,
   "outputs": [],
   "source": [
    "# d0_rat = rat\n",
    "# d1_rat = grad(d0_rat, 0)\n",
    "# d2_rat = grad(d1_rat, 0)\n",
    "# d3_rat = grad(d2_rat, 0)\n",
    "# d4_rat = grad(d3_rat, 0)\n",
    "# d5_rat = grad(d4_rat, 0)\n",
    "#\n",
    "# cc = np.random.randn(n+m)\n",
    "# t0 = np.random.randn()\n",
    "# d1 = d1_rat(t0, cc)\n",
    "#\n",
    "# s = 1e-8\n",
    "# t1 = t0 + s\n",
    "# r1 = rat(t1, cc)\n",
    "# r0 = rat(t0, cc)\n",
    "# d1_diff = (r1-r0) / s\n",
    "#\n",
    "# err_d1 = np.abs(d1_diff - d1) / np.abs(d1_diff)\n",
    "# print('s=', s, ', err_d1=', err_d1)"
   ],
   "metadata": {
    "collapsed": false,
    "pycharm": {
     "name": "#%%\n"
    }
   }
  }
 ],
 "metadata": {
  "kernelspec": {
   "display_name": "Python 3",
   "language": "python",
   "name": "python3"
  },
  "language_info": {
   "codemirror_mode": {
    "name": "ipython",
    "version": 2
   },
   "file_extension": ".py",
   "mimetype": "text/x-python",
   "name": "python",
   "nbconvert_exporter": "python",
   "pygments_lexer": "ipython2",
   "version": "2.7.6"
  }
 },
 "nbformat": 4,
 "nbformat_minor": 0
}