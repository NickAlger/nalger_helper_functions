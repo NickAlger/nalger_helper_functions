{
 "cells": [
  {
   "cell_type": "code",
   "execution_count": 2,
   "metadata": {
    "pycharm": {
     "name": "#%%\n"
    }
   },
   "outputs": [],
   "source": [
    "import fenics\n",
    "from nalger_helper_functions import fenics_interactive_impulse_response_plot\n",
    "\n",
    "\n",
    "n = 40\n",
    "mesh = fenics.UnitSquareMesh(n,n)\n",
    "V = fenics.FunctionSpace(mesh, 'CG', 1)\n",
    "u_trial = fenics.TrialFunction(V)\n",
    "v_test = fenics.TestFunction(V)\n",
    "a = fenics.inner(fenics.grad(u_trial), fenics.grad(v_test)) * fenics.dx + u_trial * v_test * fenics.dx\n",
    "A_fenics = fenics.assemble(a)\n",
    "x_fenics = fenics.Function(V)\n",
    "\n",
    "solve_A_fenics = fenics.LUSolver(A_fenics)\n",
    "def apply_invA(b_petsc):\n",
    "    solve_A_fenics.solve(x_fenics.vector(), b_petsc)\n",
    "    return x_fenics.vector()\n",
    "\n",
    "fenics_interactive_impulse_response_plot(apply_invA, V)"
   ]
  }
 ],
 "metadata": {
  "kernelspec": {
   "display_name": "Python 3",
   "language": "python",
   "name": "python3"
  },
  "language_info": {
   "codemirror_mode": {
    "name": "ipython",
    "version": 3
   },
   "file_extension": ".py",
   "mimetype": "text/x-python",
   "name": "python",
   "nbconvert_exporter": "python",
   "pygments_lexer": "ipython3",
   "version": "3.8.5"
  }
 },
 "nbformat": 4,
 "nbformat_minor": 4
}