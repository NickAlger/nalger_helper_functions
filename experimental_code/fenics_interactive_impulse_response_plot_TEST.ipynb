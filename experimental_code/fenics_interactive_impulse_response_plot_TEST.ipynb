{
 "cells": [
  {
   "cell_type": "code",
   "execution_count": 1,
   "metadata": {},
   "outputs": [
    {
     "ename": "ModuleNotFoundError",
     "evalue": "No module named 'fenics_interactive_impulse_response_plot'",
     "output_type": "error",
     "traceback": [
      "\u001B[0;31m---------------------------------------------------------------------------\u001B[0m",
      "\u001B[0;31mModuleNotFoundError\u001B[0m                       Traceback (most recent call last)",
      "\u001B[0;32m<ipython-input-1-321f7bd50508>\u001B[0m in \u001B[0;36m<module>\u001B[0;34m\u001B[0m\n\u001B[1;32m      1\u001B[0m \u001B[0;32mimport\u001B[0m \u001B[0mfenics\u001B[0m\u001B[0;34m\u001B[0m\u001B[0;34m\u001B[0m\u001B[0m\n\u001B[1;32m      2\u001B[0m \u001B[0;32mimport\u001B[0m \u001B[0mmatplotlib\u001B[0m\u001B[0;34m.\u001B[0m\u001B[0mpyplot\u001B[0m \u001B[0;32mas\u001B[0m \u001B[0mplt\u001B[0m\u001B[0;34m\u001B[0m\u001B[0;34m\u001B[0m\u001B[0m\n\u001B[0;32m----> 3\u001B[0;31m \u001B[0;32mfrom\u001B[0m \u001B[0mfenics_interactive_impulse_response_plot\u001B[0m \u001B[0;32mimport\u001B[0m \u001B[0mfenics_interactive_impulse_response_plot\u001B[0m\u001B[0;34m\u001B[0m\u001B[0;34m\u001B[0m\u001B[0m\n\u001B[0m\u001B[1;32m      4\u001B[0m \u001B[0;34m\u001B[0m\u001B[0m\n",
      "\u001B[0;31mModuleNotFoundError\u001B[0m: No module named 'fenics_interactive_impulse_response_plot'"
     ]
    }
   ],
   "source": [
    "import fenics\n",
    "import matplotlib.pyplot as plt\n",
    "from fenics_interactive_impulse_response_plot import fenics_interactive_impulse_response_plot"
   ]
  },
  {
   "cell_type": "code",
   "execution_count": null,
   "metadata": {},
   "outputs": [],
   "source": [
    "%matplotlib notebook"
   ]
  },
  {
   "cell_type": "code",
   "execution_count": null,
   "metadata": {},
   "outputs": [],
   "source": [
    "n = 40\n",
    "mesh = fenics.UnitSquareMesh(n,n)\n",
    "V = fenics.FunctionSpace(mesh, 'CG', 1)\n",
    "u_trial = fenics.TrialFunction(V)\n",
    "v_test = fenics.TestFunction(V)\n",
    "a = fenics.inner(fenics.grad(u_trial), fenics.grad(v_test)) * fenics.dx + u_trial * v_test * fenics.dx\n",
    "A_fenics = fenics.assemble(a)\n",
    "x_fenics = fenics.Function(V)\n",
    "\n",
    "solve_A_fenics = fenics.LUSolver(A_fenics)\n",
    "def apply_invA(b_petsc):\n",
    "    solve_A_fenics.solve(x_fenics.vector(), b_petsc)\n",
    "    return x_fenics.vector()\n",
    "\n",
    "fenics_interactive_impulse_response_plot(apply_invA, V)"
   ]
  }
 ],
 "metadata": {
  "kernelspec": {
   "display_name": "Python 3",
   "language": "python",
   "name": "python3"
  },
  "language_info": {
   "codemirror_mode": {
    "name": "ipython",
    "version": 3
   },
   "file_extension": ".py",
   "mimetype": "text/x-python",
   "name": "python",
   "nbconvert_exporter": "python",
   "pygments_lexer": "ipython3",
   "version": "3.8.5"
  }
 },
 "nbformat": 4,
 "nbformat_minor": 4
}