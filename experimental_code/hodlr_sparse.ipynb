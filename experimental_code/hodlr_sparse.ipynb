{
 "cells": [
  {
   "cell_type": "code",
   "execution_count": 1,
   "id": "ab0d459b",
   "metadata": {},
   "outputs": [],
   "source": [
    "import numpy as np\n",
    "import scipy.sparse as sps\n",
    "import scipy.sparse.linalg as spla\n",
    "import dolfin as dl\n",
    "import matplotlib.pyplot as plt\n",
    "from time import time"
   ]
  },
  {
   "cell_type": "code",
   "execution_count": 2,
   "id": "4716f450",
   "metadata": {},
   "outputs": [],
   "source": [
    "mesh = dl.UnitSquareMesh(35, 37)\n",
    "V = dl.FunctionSpace(mesh, 'CG', 1)\n",
    "u_trial = dl.TrialFunction(V)\n",
    "v_test = dl.TestFunction(V)\n",
    "\n",
    "A_fenics = dl.assemble(dl.inner(dl.grad(u_trial), dl.grad(v_test)) * dl.dx + 1e-4 * u_trial*v_test*dl.dx)\n",
    "\n",
    "def csr_fenics2scipy(A_fenics):\n",
    "    ai, aj, av = dl.as_backend_type(A_fenics).mat().getValuesCSR()\n",
    "    A_scipy = sps.csr_matrix((av, aj, ai))\n",
    "    return A_scipy\n",
    "\n",
    "A = csr_fenics2scipy(A_fenics)"
   ]
  },
  {
   "cell_type": "code",
   "execution_count": 3,
   "id": "dafe897c",
   "metadata": {},
   "outputs": [],
   "source": [
    "def randomized_range_finder(apply_A, shape_A, \n",
    "                            max_rank=5, oversampling_parameter=20, \n",
    "                            step=1, tol=1e-6, verbose=False):\n",
    "    p = oversampling_parameter\n",
    "\n",
    "    def get_random_matvec():\n",
    "        return apply_A(np.random.randn(shape_A[1]))\n",
    "    \n",
    "    yy = []\n",
    "    for _ in range(p):\n",
    "        yy.append(get_random_matvec())\n",
    "\n",
    "    for r_right in range(step, max_rank + step, step):\n",
    "        yy = yy + [get_random_matvec() for _ in range(step)]\n",
    "\n",
    "        Y = np.array(yy).T\n",
    "        Q0, _, _ = np.linalg.svd(Y, full_matrices=False)\n",
    "        Q = Q0[:, :r_right]\n",
    "\n",
    "        norm_estimate = np.linalg.norm(Y)/np.sqrt(len(yy))\n",
    "        error_estimate = np.max(np.linalg.norm(Y - np.dot(Q, np.dot(Q.T, Y)), axis=0))/norm_estimate\n",
    "        if verbose:\n",
    "            print('r_right=', r_right, 'error_estimate=', error_estimate)\n",
    "        if error_estimate < tol:\n",
    "            break\n",
    "\n",
    "    return Q\n",
    "\n",
    "\n",
    "def randomized_svd(apply_A, apply_At, shape_A, \n",
    "                   max_rank=5, oversampling_parameter=20, \n",
    "                   step=1, tol=1e-6, verbose=False):\n",
    "    \n",
    "    Q = randomized_range_finder(apply_A, shape_A, \n",
    "                   max_rank=max_rank, oversampling_parameter=oversampling_parameter, \n",
    "                   step=step, tol=tol, verbose=verbose)\n",
    "    \n",
    "    X = np.zeros((Q.shape[1], shape_A[1]))\n",
    "    for k in range(Q.shape[1]):\n",
    "        X[k,:] = apply_At(Q[:,k])\n",
    "        \n",
    "    U0, ss, Vt = np.linalg.svd(X, 0)\n",
    "    U = np.dot(Q, U0)\n",
    "    return U, ss, Vt"
   ]
  },
  {
   "cell_type": "code",
   "execution_count": 4,
   "id": "66a5cb90",
   "metadata": {},
   "outputs": [
    {
     "name": "stdout",
     "output_type": "stream",
     "text": [
      "r_right= 1 error_estimate= 1.4032120306588378\n",
      "r_right= 2 error_estimate= 1.0952075795887142\n",
      "r_right= 3 error_estimate= 0.8640113109015709\n",
      "r_right= 4 error_estimate= 0.7164070463676503\n",
      "r_right= 5 error_estimate= 0.7110428380966198\n",
      "r_right= 6 error_estimate= 0.5734630515145824\n",
      "r_right= 7 error_estimate= 0.5263472886125697\n",
      "r_right= 8 error_estimate= 0.5223198837439622\n",
      "r_right= 9 error_estimate= 0.5037403895440937\n",
      "r_right= 10 error_estimate= 0.43501933921442143\n",
      "r_right= 11 error_estimate= 0.40444921047400495\n",
      "r_right= 12 error_estimate= 0.38128781576309395\n",
      "r_right= 13 error_estimate= 0.3293397844937198\n",
      "r_right= 14 error_estimate= 0.2931899686472696\n",
      "r_right= 15 error_estimate= 0.26623150113724586\n",
      "r_right= 16 error_estimate= 0.24669800666279293\n",
      "r_right= 17 error_estimate= 0.24391778197139305\n",
      "r_right= 18 error_estimate= 0.23546355094679253\n",
      "r_right= 19 error_estimate= 0.21730226773423916\n",
      "r_right= 20 error_estimate= 0.2135679288531951\n",
      "err_svd= 0.2577784547941651\n",
      "err_rsvd= 0.32667002960308433\n"
     ]
    }
   ],
   "source": [
    "def block_low_rank_approximation(A, rows, cols, rank=5, verbose=False):\n",
    "    Arc = A[rows,:][:,cols]\n",
    "#     A[rows, cols] # <-- Doesn't work\n",
    "    apply_Arc = lambda x: Arc * x\n",
    "    apply_Arc_t = lambda x: Arc.T * x\n",
    "    U, ss, Vt = randomized_svd(apply_Arc, apply_Arc_t, Arc.shape, max_rank=rank, verbose=verbose)\n",
    "    return U, ss, Vt\n",
    "#     return spla.svds(Arc, v0=np.random.randn(np.min(Arc.shape)), k=rank)\n",
    "\n",
    "rr = np.random.randint(0, V.dim(), 100)\n",
    "cc = np.random.randint(0, V.dim(), 109)\n",
    "\n",
    "U, ss, Vt = block_low_rank_approximation(A, rr, cc, rank=20, verbose=True)\n",
    "\n",
    "Arc_dense = A[rr,:][:,cc].toarray()\n",
    "U_true, ss_true, Vt_true = spla.svds(Arc_dense,k=20)\n",
    "\n",
    "A_trunc = np.dot(U, np.dot(np.diag(ss), Vt))\n",
    "A_trunc_true = np.dot(U_true, np.dot(np.diag(ss_true), Vt_true))\n",
    "\n",
    "err_svd = np.linalg.norm(Arc_dense - A_trunc_true) / np.linalg.norm(Arc_dense)\n",
    "print('err_svd=', err_svd)\n",
    "\n",
    "err_rsvd = np.linalg.norm(Arc_dense - A_trunc) / np.linalg.norm(Arc_dense)\n",
    "print('err_rsvd=', err_rsvd)"
   ]
  },
  {
   "cell_type": "code",
   "execution_count": 5,
   "id": "f9646392",
   "metadata": {},
   "outputs": [],
   "source": [
    "class Cluster:\n",
    "    def __init__(me, start, stop):\n",
    "        me.start = start\n",
    "        me.stop = stop\n",
    "        me.children = []\n",
    "\n",
    "        me.slice = slice(start, stop)\n",
    "        me.size = me.stop - me.start\n",
    "\n",
    "    @property\n",
    "    def is_leaf(me):\n",
    "        return len(me.children) == 0\n",
    "\n",
    "    def __hash__(me):\n",
    "        return hash((me.start, me.stop))\n",
    "\n",
    "    def __eq__(me, other):\n",
    "        return (me.start, me.stop) == (other.start, other.stop)\n",
    "\n",
    "\n",
    "class ClusterTree:\n",
    "    def __init__(me, coords_X, min_cluster_size=25, interactive_display=False):\n",
    "        me.coords_X = coords_X\n",
    "        me.size, me.spatial_dimension = coords_X.shape\n",
    "        me.root = Cluster(0, me.size)\n",
    "        me.perm_e2i = np.arange(me.root.start, me.root.stop)\n",
    "\n",
    "        clusters_to_be_subdivided = [me.root]\n",
    "        while clusters_to_be_subdivided:\n",
    "            c = clusters_to_be_subdivided.pop()\n",
    "            if c.size > min_cluster_size:\n",
    "                me.subdivide_cluster(c)\n",
    "                for c_child in c.children:\n",
    "                    clusters_to_be_subdivided.append(c_child)\n",
    "\n",
    "            if interactive_display:\n",
    "                me.plot_cluster(c)\n",
    "                plt.draw()\n",
    "                plt.waitforbuttonpress()\n",
    "                plt.clf()\n",
    "\n",
    "        me.perm_i2e = np.argsort(me.perm_e2i)\n",
    "\n",
    "    def get_cluster_coords(me, c):\n",
    "        return me.coords_X[me.perm_e2i[c.start: c.stop]].reshape((-1, me.spatial_dimension))\n",
    "\n",
    "    def get_cluster_bounding_box(me, c):\n",
    "        Xc = me.get_cluster_coords(c)\n",
    "        min_pt = np.min(Xc, axis=0).reshape(-1)\n",
    "        max_pt = np.max(Xc, axis=0).reshape(-1)\n",
    "        return min_pt, max_pt\n",
    "\n",
    "    def choose_cluster_splitting_direction(me, c):\n",
    "        min_pt, max_pt = me.get_cluster_bounding_box(c)\n",
    "        return np.argmax(max_pt - min_pt) # subdivide in largest direction\n",
    "\n",
    "    def subdivide_cluster(me, c):\n",
    "        Xc = me.get_cluster_coords(c)\n",
    "        k = me.choose_cluster_splitting_direction(c)\n",
    "        sort_inds = np.argsort(Xc[:,k].reshape(-1))\n",
    "\n",
    "        left_sort_inds = sort_inds[: int(c.size / 2)]\n",
    "        right_sort_inds = sort_inds[int(c.size / 2):]\n",
    "\n",
    "        left_start = c.start\n",
    "        left_stop = c.start + len(left_sort_inds)\n",
    "        right_start = left_stop\n",
    "        right_stop = c.stop\n",
    "\n",
    "        left_child_cluster = Cluster(left_start, left_stop)\n",
    "        right_child_cluster = Cluster(right_start, right_stop)\n",
    "\n",
    "        c.children = [left_child_cluster, right_child_cluster]\n",
    "\n",
    "        new_left_perm = me.perm_e2i[c.start : c.stop][left_sort_inds].copy()\n",
    "        new_right_perm = me.perm_e2i[c.start : c.stop][right_sort_inds].copy()\n",
    "\n",
    "        me.perm_e2i[left_start : left_stop] = new_left_perm\n",
    "        me.perm_e2i[right_start : right_stop] = new_right_perm\n",
    "\n",
    "    def plot_cluster(me, c):\n",
    "        Xc = me.get_cluster_coords(c)\n",
    "        plt.subplot(1,2,1)\n",
    "        plt.plot(me.coords_X[:, 0], me.coords_X[:,1], '.k')\n",
    "        plt.plot(Xc[:, 0], Xc[:, 1], '.r')\n",
    "        plt.title('start= ' + str(c.start) + ', stop= ' + str(c.stop))\n",
    "        if not c.is_leaf:\n",
    "            plt.subplot(1, 2, 2)\n",
    "            plt.plot(me.coords_X[:, 0], me.coords_X[:, 1], '.k')\n",
    "            for c_child in c.children:\n",
    "                Xc_child = me.get_cluster_coords(c_child)\n",
    "                plt.plot(Xc_child[:, 0], Xc_child[:, 1], '.')\n",
    "                plt.title('child clusters')"
   ]
  },
  {
   "cell_type": "code",
   "execution_count": 6,
   "id": "17d76ff1",
   "metadata": {},
   "outputs": [],
   "source": [
    "dof_coords = V.tabulate_dof_coordinates()\n",
    "ct = ClusterTree(dof_coords)"
   ]
  },
  {
   "cell_type": "code",
   "execution_count": 7,
   "id": "7c86b764",
   "metadata": {},
   "outputs": [
    {
     "data": {
      "text/plain": [
       "<matplotlib.lines.Line2D at 0x7f66737f1970>"
      ]
     },
     "execution_count": 7,
     "metadata": {},
     "output_type": "execute_result"
    },
    {
     "data": {
      "image/png": "[encoded data removed]",
      "text/plain": [
       "<Figure size 432x288 with 1 Axes>"
      ]
     },
     "metadata": {
      "needs_background": "light"
     },
     "output_type": "display_data"
    }
   ],
   "source": [
    "A_perm = A[ct.perm_e2i, :][:, ct.perm_e2i]\n",
    "plt.spy(A_perm)"
   ]
  },
  {
   "cell_type": "code",
   "execution_count": 8,
   "id": "361487df",
   "metadata": {},
   "outputs": [],
   "source": [
    "class BlockCluster:\n",
    "    def __init__(me, row_cluster, col_cluster):\n",
    "        me.row_cluster = row_cluster\n",
    "        me.col_cluster = col_cluster\n",
    "\n",
    "        me.slices = (me.row_cluster.slice, me.col_cluster.slice)\n",
    "\n",
    "        me.children = []\n",
    "\n",
    "    @property\n",
    "    def shape(me):\n",
    "        return (me.row_cluster.size, me.col_cluster.size)\n",
    "\n",
    "    @property\n",
    "    def size(me):\n",
    "        return np.prod(me.shape)\n",
    "\n",
    "    @property\n",
    "    def is_leaf(me):\n",
    "        return len(me.children) == 0\n",
    "    \n",
    "    @property\n",
    "    def is_dense(me):\n",
    "        return (me.is_leaf and (me.row_cluster == me.col_cluster))\n",
    "    \n",
    "    @property\n",
    "    def is_low_rank(me):\n",
    "        return me.is_leaf and (not me.is_dense)\n",
    "\n",
    "    def __hash__(me):\n",
    "        return hash((me.row_cluster, me.col_cluster))\n",
    "\n",
    "    def __eq__(me, other):\n",
    "        return (me.row_cluster, me.col_cluster) == (other.row_cluster, other.col_cluster)\n",
    "    \n",
    "    \n",
    "def build_block_cluster_tree(row_cluster_tree, col_cluster_tree):\n",
    "    root = BlockCluster(row_cluster_tree.root, col_cluster_tree.root)\n",
    "    working_blocks = [root]\n",
    "    while working_blocks:\n",
    "        B = working_blocks.pop()\n",
    "        for r in B.row_cluster.children:\n",
    "            for c in B.col_cluster.children:\n",
    "                B_child = BlockCluster(r, c)\n",
    "                B.children.append(B_child)\n",
    "                if r == c:\n",
    "                    working_blocks.append(B_child)\n",
    "    return root"
   ]
  },
  {
   "cell_type": "code",
   "execution_count": 9,
   "id": "65750648",
   "metadata": {},
   "outputs": [],
   "source": [
    "bct_root = build_block_cluster_tree(ct, ct)"
   ]
  },
  {
   "cell_type": "code",
   "execution_count": 10,
   "id": "6e706c09",
   "metadata": {},
   "outputs": [
    {
     "data": {
      "text/plain": [
       "684"
      ]
     },
     "execution_count": 10,
     "metadata": {},
     "output_type": "execute_result"
    }
   ],
   "source": [
    "bct_root.children[0].col_cluster.stop\n"
   ]
  },
  {
   "cell_type": "code",
   "execution_count": 11,
   "id": "04cf161d",
   "metadata": {},
   "outputs": [
    {
     "data": {
      "text/plain": [
       "<matplotlib.image.AxesImage at 0x7f6672896a90>"
      ]
     },
     "execution_count": 11,
     "metadata": {},
     "output_type": "execute_result"
    },
    {
     "data": {
      "image/png": "[encoded data removed]",
      "text/plain": [
       "<Figure size 288x288 with 1 Axes>"
      ]
     },
     "metadata": {
      "needs_background": "light"
     },
     "output_type": "display_data"
    }
   ],
   "source": [
    "M = np.zeros(bct_root.shape)\n",
    "working_blocks = [bct_root]\n",
    "while working_blocks:\n",
    "    B = working_blocks.pop()\n",
    "    M[B.row_cluster.slice, B.col_cluster.slice] = np.random.rand()\n",
    "    for C in B.children:\n",
    "        working_blocks.append(C)\n",
    "        \n",
    "plt.matshow(M)"
   ]
  },
  {
   "cell_type": "code",
   "execution_count": 12,
   "id": "be4fb84a",
   "metadata": {},
   "outputs": [],
   "source": [
    "UU = dict()\n",
    "SS = dict()\n",
    "VVt = dict()\n",
    "DD = dict()\n",
    "\n",
    "working_blocks = [bct_root]\n",
    "while working_blocks:\n",
    "    B = working_blocks.pop()\n",
    "    rr = B.row_cluster.slice\n",
    "    cc = B.col_cluster.slice\n",
    "    if B.is_low_rank:\n",
    "        U, ss, Vt = block_low_rank_approximation(A_perm, rr, cc, rank=5)\n",
    "        S = np.diag(ss)\n",
    "        UU[B] = U\n",
    "        SS[B] = S\n",
    "        VVt[B] = Vt\n",
    "    elif B.is_dense:\n",
    "        DD[B] = A_perm[rr, cc].toarray()\n",
    "    else:\n",
    "        for C in B.children:\n",
    "            working_blocks.append(C)"
   ]
  },
  {
   "cell_type": "code",
   "execution_count": 13,
   "id": "2dc6f548",
   "metadata": {},
   "outputs": [],
   "source": [
    "A2_perm = np.zeros(A.shape)\n",
    "\n",
    "working_blocks = [bct_root]\n",
    "while working_blocks:\n",
    "    B = working_blocks.pop()\n",
    "    rr = B.row_cluster.slice\n",
    "    cc = B.col_cluster.slice\n",
    "    if B.is_low_rank:\n",
    "        A2_perm[rr,cc] = np.dot(UU[B], np.dot(SS[B], VVt[B]))\n",
    "    elif B.is_dense:\n",
    "        A2_perm[rr,cc] = DD[B]\n",
    "    else:\n",
    "        for C in B.children:\n",
    "            working_blocks.append(C)"
   ]
  },
  {
   "cell_type": "code",
   "execution_count": 14,
   "id": "e3f82f88",
   "metadata": {},
   "outputs": [],
   "source": [
    "Q = np.linalg.solve(A2_perm, A_perm.toarray())"
   ]
  },
  {
   "cell_type": "code",
   "execution_count": 15,
   "id": "b7b2fc84",
   "metadata": {},
   "outputs": [
    {
     "data": {
      "text/plain": [
       "<matplotlib.image.AxesImage at 0x7f66719d7d30>"
      ]
     },
     "execution_count": 15,
     "metadata": {},
     "output_type": "execute_result"
    },
    {
     "data": {
      "image/png": "[encoded data removed]",
      "text/plain": [
       "<Figure size 288x288 with 1 Axes>"
      ]
     },
     "metadata": {
      "needs_background": "light"
     },
     "output_type": "display_data"
    }
   ],
   "source": [
    "plt.matshow(Q)"
   ]
  },
  {
   "cell_type": "code",
   "execution_count": 16,
   "id": "075da826",
   "metadata": {},
   "outputs": [
    {
     "name": "stdout",
     "output_type": "stream",
     "text": [
      "cond_A= 109406298.9931573\n",
      "cond_Q= 23058103.01630414\n"
     ]
    }
   ],
   "source": [
    "cond_A = np.linalg.cond(A_perm.toarray())\n",
    "cond_Q = np.linalg.cond(Q)\n",
    "print('cond_A=', cond_A)\n",
    "print('cond_Q=', cond_Q)"
   ]
  },
  {
   "cell_type": "code",
   "execution_count": 17,
   "id": "66f869a8",
   "metadata": {},
   "outputs": [
    {
     "data": {
      "text/plain": [
       "[<matplotlib.lines.Line2D at 0x7f667193da30>]"
      ]
     },
     "execution_count": 17,
     "metadata": {},
     "output_type": "execute_result"
    },
    {
     "data": {
      "image/png": "[encoded data removed]",
      "text/plain": [
       "<Figure size 432x288 with 1 Axes>"
      ]
     },
     "metadata": {
      "needs_background": "light"
     },
     "output_type": "display_data"
    }
   ],
   "source": [
    "_, ss_Q, _ = np.linalg.svd(Q - np.eye(Q.shape[1]))\n",
    "# _, ss_Q, _ = np.linalg.svd(Q)\n",
    "_, ss_A, _ = np.linalg.svd(A_perm.toarray())\n",
    "\n",
    "plt.semilogy(ss_Q)\n",
    "plt.semilogy(ss_A)"
   ]
  },
  {
   "cell_type": "code",
   "execution_count": 18,
   "id": "2b69281d",
   "metadata": {},
   "outputs": [
    {
     "name": "stdout",
     "output_type": "stream",
     "text": [
      "unpreconditioned:\n",
      "k=0, res=1.0, err=1.0\n",
      "k=1, res=0.009471327675036103, err=0.9999727925804518\n",
      "k=2, res=0.00942448029210236, err=0.9903841193070911\n",
      "k=3, res=0.009378023946505974, err=0.9901386292682401\n",
      "k=4, res=0.009332859382261735, err=0.9808676779046325\n",
      "k=5, res=0.009287976304010378, err=0.9806380299737191\n",
      "k=6, res=0.009244508591966061, err=0.9717081659153396\n",
      "k=7, res=0.009201280120915737, err=0.9714882654644894\n",
      "k=8, res=0.009158646653561147, err=0.962724353280591\n",
      "k=9, res=0.009116215430725763, err=0.962507478345556\n",
      "k=10, res=0.009074276651401168, err=0.95388678329289\n",
      "k=11, res=0.009032533219204227, err=0.9536724072120077\n",
      "k=12, res=0.008991201266050582, err=0.9451769809091961\n",
      "k=13, res=0.008950060330875753, err=0.9449649604235646\n",
      "k=14, res=0.008909268626657743, err=0.9365809470068117\n",
      "k=15, res=0.00886866475415803, err=0.9363712591268453\n",
      "k=16, res=0.008828366044486106, err=0.9280887450217673\n",
      "k=17, res=0.008788252775438005, err=0.9278814493979983\n",
      "k=18, res=0.008748413918031364, err=0.9196934051889291\n",
      "k=19, res=0.00870875806481324, err=0.9194884926753605\n",
      "k=20, res=0.008669351678509362, err=0.9113891682314514\n",
      "k=21, res=0.008630125401070905, err=0.9111864853089415\n",
      "k=22, res=0.008591128760179858, err=0.9031712534823504\n",
      "k=23, res=0.008552309505183544, err=0.9029706455025632\n",
      "k=24, res=0.008513706186955204, err=0.8950362058141562\n",
      "k=25, res=0.008475278046471326, err=0.894837600952502\n",
      "k=26, res=0.008437056292755743, err=0.8869815513752123\n",
      "k=27, res=0.008399007820684498, err=0.8867849257020254\n",
      "k=28, res=0.00836115856172407, err=0.8790053816048581\n",
      "k=29, res=0.00832348082188748, err=0.878810725763835\n",
      "k=30, res=0.00828599665234255, err=0.8711061381358687\n",
      "k=31, res=0.008248682302753066, err=0.8709134455268072\n",
      "k=32, res=0.008211557058022624, err=0.8632825233709982\n",
      "k=33, res=0.008174599976537328, err=0.8630917878629195\n",
      "k=34, res=0.008137828571666955, err=0.8555334668340763\n",
      "k=35, res=0.008101223710334483, err=0.8553446835451691\n",
      "k=36, res=0.008064801964110078, err=0.8478580878489635\n",
      "k=37, res=0.008028545159717076, err=0.8476712509171193\n",
      "k=38, res=0.007992469357801563, err=0.8402556040961363\n",
      "k=39, res=0.007956556873839534, err=0.8400706987611347\n",
      "k=40, res=0.00792082310432952, err=0.8327251915279082\n",
      "k=41, res=0.00788525096076497, err=0.8325421844044842\n",
      "k=42, res=0.00784985461257168, err=0.825265879049318\n",
      "k=43, res=0.007814618128506434, err=0.8250847166142729\n",
      "k=44, res=0.007779553910110597, err=0.8178765524929237\n",
      "k=45, res=0.007744647779397333, err=0.8176971713915376\n",
      "k=46, res=0.0077099101592426, err=0.8105560471155445\n",
      "k=47, res=0.00767532889567239, err=0.8103783866653104\n",
      "k=48, res=0.0076409124957805335, err=0.8033032303955823\n",
      "k=49, res=0.007606650800117352, err=0.8031272399479883\n",
      "k=50, res=0.007572550636349359, err=0.7961170528593244\n",
      "k=51, res=0.007538603605388118, err=0.7959426925555296\n",
      "k=52, res=0.0075048151567284355, err=0.7889965624920552\n",
      "k=53, res=0.007471178338851199, err=0.7888238015682931\n",
      "k=54, res=0.007437697528769774, err=0.7819409007605681\n",
      "k=55, res=0.007404366898568035, err=0.781769714534497\n",
      "k=56, res=0.007371190032072334, err=0.7749492892601805\n",
      "k=57, res=0.007338161933086215, err=0.7747796572412746\n",
      "k=58, res=0.007305285617508713, err=0.7680210134266039\n",
      "k=59, res=0.007272556687994254, err=0.7678529178285753\n",
      "k=60, res=0.0072399777567016274, err=0.7611554060347627\n",
      "k=61, res=0.007207544851980224, err=0.7609888305486773\n",
      "k=62, res=0.007175260285702598, err=0.7543518310847104\n",
      "k=63, res=0.007143120406465662, err=0.7541867603857442\n",
      "k=64, res=0.007111127274093678, err=0.7476096709950023\n",
      "k=65, res=0.007079277503328511, err=0.7474460901248355\n",
      "k=66, res=0.007047572914525382, err=0.7409283167150772\n",
      "k=67, res=0.007016010378185225, err=0.7407662110669074\n",
      "k=68, res=0.006984591455997092, err=0.734307162190262\n",
      "k=69, res=0.006953313288549123, err=0.7341465167411609\n",
      "k=70, res=0.006922177180438707, err=0.7277456063449829\n",
      "k=71, res=0.006891180546807536, err=0.7275864069612221\n",
      "k=72, res=0.00686032443553732, err=0.7212430556398924\n",
      "k=73, res=0.00682960652984298, err=0.7210852877556222\n",
      "k=74, res=0.0067990276181735506, err=0.714798920515043\n",
      "k=75, res=0.00676858565589982, err=0.7146425698964103\n",
      "k=76, res=0.006738281206996429, err=0.7084126245782054\n",
      "k=77, res=0.006708112468399415, err=0.7082576775646175\n",
      "k=78, res=0.006678079791728018, err=0.7020836010234307\n",
      "k=79, res=0.006648181600430956, err=0.7019300437619922\n",
      "k=80, res=0.006618418059482887, err=0.6958112942148852\n",
      "k=81, res=0.006588787792222882, err=0.6956591136747998\n",
      "k=82, res=0.006559290825712429, err=0.6895951641830081\n",
      "k=83, res=0.006529925928790767, err=0.6894443471181501\n",
      "k=84, res=0.006500693021078144, err=0.6834346812201708\n",
      "k=85, res=0.006471590998856333, err=0.6832852148673121\n",
      "k=86, res=0.006442619689792895, err=0.6773293269721123\n",
      "k=87, res=0.006413778090753949, err=0.6771811989798123\n",
      "k=88, res=0.0063850659628439735, err=0.6712785915704789\n",
      "k=89, res=0.006356482380711536, err=0.6711317895999813\n",
      "k=90, res=0.006328027062402487, err=0.6652819758303985\n",
      "k=91, res=0.00629969913888919, err=0.6651364877979457\n",
      "k=92, res=0.006271498282012945, err=0.6593389845479336\n",
      "k=93, res=0.006243423678108863, err=0.6591947984032397\n",
      "k=94, res=0.006215474965947911, err=0.65344912986471\n",
      "k=95, res=0.006187651378123612, err=0.6533062337798579\n",
      "k=96, res=0.006159952537279496, err=0.6476119322713563\n",
      "k=97, res=0.006132377697491188, err=0.6474703144752465\n",
      "k=98, res=0.006104926464422492, err=0.6418269149797011\n",
      "k=99, res=0.00607759812389522, err=0.6416865638724688\n",
      "k=100, res=0.006050392272512172, err=0.6360936089828875\n",
      "H-matrix preconditioned:\n",
      "k=0, res=1.0, err=1.0\n",
      "k=1, res=5.880689580309494e-10, err=3.963973785110208e-10\n",
      "k=2, res=5.487635131690625e-11, err=3.963962980779104e-10\n"
     ]
    },
    {
     "data": {
      "text/plain": [
       "[<matplotlib.lines.Line2D at 0x7f6671881070>]"
      ]
     },
     "execution_count": 18,
     "metadata": {},
     "output_type": "execute_result"
    },
    {
     "data": {
      "image/png": "[encoded data removed]",
      "text/plain": [
       "<Figure size 432x288 with 1 Axes>"
      ]
     },
     "metadata": {
      "needs_background": "light"
     },
     "output_type": "display_data"
    }
   ],
   "source": [
    "b = np.random.randn(A_perm.shape[1])\n",
    "\n",
    "x_true = np.linalg.solve(A_perm.toarray(), b)\n",
    "\n",
    "residuals0=list()\n",
    "errors0=list()\n",
    "counter0 = [0,]\n",
    "def callback(xk):\n",
    "    k = counter0[0]\n",
    "    counter0[0] = k+1\n",
    "    display_str = 'k=' + str(k)\n",
    "\n",
    "    res = np.linalg.norm(A_perm * xk - b) / np.linalg.norm(b)\n",
    "    residuals0.append(res)\n",
    "    display_str += ', res=' + str(res)\n",
    "\n",
    "    err = np.linalg.norm(x_true - xk) / np.linalg.norm(x_true)\n",
    "    errors0.append(err)\n",
    "    display_str += ', err=' + str(err)\n",
    "\n",
    "    print(display_str)\n",
    "\n",
    "print('unpreconditioned:')\n",
    "x0 = spla.gmres(A_perm, b, restart=100, maxiter=100, tol=1e-10, callback=callback, callback_type='x')[0]\n",
    "\n",
    "residuals1=list()\n",
    "errors1=list()\n",
    "counter1 = [0,]\n",
    "def callback(xk):\n",
    "    k = counter1[0]\n",
    "    counter1[0] = k+1\n",
    "    display_str = 'k=' + str(k)\n",
    "\n",
    "    res = np.linalg.norm(A_perm * xk - b) / np.linalg.norm(b)\n",
    "    residuals1.append(res)\n",
    "    display_str += ', res=' + str(res)\n",
    "\n",
    "    err = np.linalg.norm(x_true - xk) / np.linalg.norm(x_true)\n",
    "    errors1.append(err)\n",
    "    display_str += ', err=' + str(err)\n",
    "\n",
    "    print(display_str)\n",
    "\n",
    "print('H-matrix preconditioned:')\n",
    "x1 = spla.gmres(A_perm, b, M=np.linalg.inv(A2_perm), restart=100, maxiter=100, tol=1e-10, callback=callback, callback_type='x')[0]\n",
    "\n",
    "plt.semilogy(errors0)\n",
    "plt.semilogy(errors1)"
   ]
  },
  {
   "cell_type": "markdown",
   "id": "320b7e98",
   "metadata": {},
   "source": [
    "Expand matrix to make it $2^k \\times 2^k$"
   ]
  },
  {
   "cell_type": "code",
   "execution_count": null,
   "id": "a9b9cc1a",
   "metadata": {},
   "outputs": [],
   "source": [
    "leaf_sizes = list()\n",
    "working_clusters = [ct.root]\n",
    "while working_clusters:\n",
    "    C = working_cluster.pop()\n",
    "    if C.is_leaf:\n",
    "        leaf_sizes.append(C.stop - C.start)\n",
    "    else:\n",
    "        working_clusters = working_clusters + C.children"
   ]
  }
 ],
 "metadata": {
  "kernelspec": {
   "display_name": "Python 3",
   "language": "python",
   "name": "python3"
  },
  "language_info": {
   "codemirror_mode": {
    "name": "ipython",
    "version": 3
   },
   "file_extension": ".py",
   "mimetype": "text/x-python",
   "name": "python",
   "nbconvert_exporter": "python",
   "pygments_lexer": "ipython3",
   "version": "3.8.8"
  }
 },
 "nbformat": 4,
 "nbformat_minor": 5
}
