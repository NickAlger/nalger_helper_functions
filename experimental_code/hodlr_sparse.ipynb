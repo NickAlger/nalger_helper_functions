{
 "cells": [
  {
   "cell_type": "code",
   "execution_count": 1,
   "id": "ab0d459b",
   "metadata": {},
   "outputs": [],
   "source": [
    "import numpy as np\n",
    "import scipy.sparse as sps\n",
    "import scipy.sparse.linalg as spla\n",
    "import dolfin as dl\n",
    "import matplotlib.pyplot as plt\n",
    "from time import time"
   ]
  },
  {
   "cell_type": "code",
   "execution_count": 2,
   "id": "4716f450",
   "metadata": {},
   "outputs": [
    {
     "name": "stdout",
     "output_type": "stream",
     "text": [
      "Calling FFC just-in-time (JIT) compiler, this may take some time.\n"
     ]
    }
   ],
   "source": [
    "mesh = dl.UnitSquareMesh(35, 37)\n",
    "V = dl.FunctionSpace(mesh, 'CG', 1)\n",
    "u_trial = dl.TrialFunction(V)\n",
    "v_test = dl.TestFunction(V)\n",
    "\n",
    "A_fenics = dl.assemble(dl.inner(dl.grad(u_trial), dl.grad(v_test)) * dl.dx + 1e-4 * u_trial*v_test*dl.dx)\n",
    "\n",
    "def csr_fenics2scipy(A_fenics):\n",
    "    ai, aj, av = dl.as_backend_type(A_fenics).mat().getValuesCSR()\n",
    "    A_scipy = sps.csr_matrix((av, aj, ai))\n",
    "    return A_scipy\n",
    "\n",
    "A = csr_fenics2scipy(A_fenics)"
   ]
  },
  {
   "cell_type": "code",
   "execution_count": 3,
   "id": "dafe897c",
   "metadata": {},
   "outputs": [],
   "source": [
    "def randomized_range_finder(apply_A, shape_A, \n",
    "                            max_rank=5, oversampling_parameter=20, \n",
    "                            step=1, tol=1e-6, verbose=False):\n",
    "    p = oversampling_parameter\n",
    "\n",
    "    def get_random_matvec():\n",
    "        return apply_A(np.random.randn(shape_A[1]))\n",
    "    \n",
    "    yy = []\n",
    "    for _ in range(p):\n",
    "        yy.append(get_random_matvec())\n",
    "\n",
    "    for r_right in range(step, max_rank + step, step):\n",
    "        yy = yy + [get_random_matvec() for _ in range(step)]\n",
    "\n",
    "        Y = np.array(yy).T\n",
    "        Q0, _, _ = np.linalg.svd(Y, full_matrices=False)\n",
    "        Q = Q0[:, :r_right]\n",
    "\n",
    "        norm_estimate = np.linalg.norm(Y)/np.sqrt(len(yy))\n",
    "        error_estimate = np.max(np.linalg.norm(Y - np.dot(Q, np.dot(Q.T, Y)), axis=0))/norm_estimate\n",
    "        if verbose:\n",
    "            print('r_right=', r_right, 'error_estimate=', error_estimate)\n",
    "        if error_estimate < tol:\n",
    "            break\n",
    "\n",
    "    return Q\n",
    "\n",
    "\n",
    "def randomized_svd(apply_A, apply_At, shape_A, \n",
    "                   max_rank=5, oversampling_parameter=20, \n",
    "                   step=1, tol=1e-6, verbose=False):\n",
    "    \n",
    "    Q = randomized_range_finder(apply_A, shape_A, \n",
    "                   max_rank=max_rank, oversampling_parameter=oversampling_parameter, \n",
    "                   step=step, tol=tol, verbose=verbose)\n",
    "    \n",
    "    X = np.zeros((Q.shape[1], shape_A[1]))\n",
    "    for k in range(Q.shape[1]):\n",
    "        X[k,:] = apply_At(Q[:,k])\n",
    "        \n",
    "    U0, ss, Vt = np.linalg.svd(X, 0)\n",
    "    U = np.dot(Q, U0)\n",
    "    return U, ss, Vt"
   ]
  },
  {
   "cell_type": "code",
   "execution_count": 4,
   "id": "66a5cb90",
   "metadata": {},
   "outputs": [
    {
     "name": "stdout",
     "output_type": "stream",
     "text": [
      "r_right= 1 error_estimate= 1.2241122071010175\n",
      "r_right= 2 error_estimate= 1.161135679098513\n",
      "r_right= 3 error_estimate= 0.8002208744881586\n",
      "r_right= 4 error_estimate= 0.6975963842681971\n",
      "r_right= 5 error_estimate= 0.6721861752871409\n",
      "r_right= 6 error_estimate= 0.6448934314498478\n",
      "r_right= 7 error_estimate= 0.5926890339856072\n",
      "r_right= 8 error_estimate= 0.5348610456577348\n",
      "r_right= 9 error_estimate= 0.5198145498221124\n",
      "r_right= 10 error_estimate= 0.4018478847397843\n",
      "r_right= 11 error_estimate= 0.38762842731331865\n",
      "r_right= 12 error_estimate= 0.3530849795666445\n",
      "r_right= 13 error_estimate= 0.31959747153789214\n",
      "r_right= 14 error_estimate= 0.3154323799205205\n",
      "r_right= 15 error_estimate= 0.29510961128761626\n",
      "r_right= 16 error_estimate= 0.26342767948478846\n",
      "r_right= 17 error_estimate= 0.24741381000285437\n",
      "r_right= 18 error_estimate= 0.22336668470104004\n",
      "r_right= 19 error_estimate= 0.1857391823438556\n",
      "r_right= 20 error_estimate= 0.16787337795572452\n",
      "err_svd= 0.2275680109012465\n",
      "err_rsvd= 0.28642936777966715\n"
     ]
    }
   ],
   "source": [
    "def block_low_rank_approximation(A, rows, cols, rank=5, verbose=False):\n",
    "    Arc = A[rows,:][:,cols]\n",
    "    apply_Arc = lambda x: Arc * x\n",
    "    apply_Arc_t = lambda x: Arc.T * x\n",
    "    U, ss, Vt = randomized_svd(apply_Arc, apply_Arc_t, Arc.shape, max_rank=rank, verbose=verbose)\n",
    "    return U, ss, Vt\n",
    "#     return spla.svds(Arc, v0=np.random.randn(np.min(Arc.shape)), k=rank)\n",
    "\n",
    "rr = np.random.randint(0, V.dim(), 100)\n",
    "cc = np.random.randint(0, V.dim(), 109)\n",
    "\n",
    "U, ss, Vt = block_low_rank_approximation(A, rr, cc, rank=20, verbose=True)\n",
    "\n",
    "Arc_dense = A[rr,:][:,cc].toarray()\n",
    "U_true, ss_true, Vt_true = spla.svds(Arc_dense,k=20)\n",
    "\n",
    "A_trunc = np.dot(U, np.dot(np.diag(ss), Vt))\n",
    "A_trunc_true = np.dot(U_true, np.dot(np.diag(ss_true), Vt_true))\n",
    "\n",
    "err_svd = np.linalg.norm(Arc_dense - A_trunc_true) / np.linalg.norm(Arc_dense)\n",
    "print('err_svd=', err_svd)\n",
    "\n",
    "err_rsvd = np.linalg.norm(Arc_dense - A_trunc) / np.linalg.norm(Arc_dense)\n",
    "print('err_rsvd=', err_rsvd)"
   ]
  },
  {
   "cell_type": "code",
   "execution_count": 5,
   "id": "f9646392",
   "metadata": {},
   "outputs": [],
   "source": [
    "class Cluster:\n",
    "    def __init__(me, start, stop):\n",
    "        me.start = start\n",
    "        me.stop = stop\n",
    "        me.children = []\n",
    "\n",
    "        me.slice = slice(start, stop)\n",
    "        me.size = me.stop - me.start\n",
    "\n",
    "    @property\n",
    "    def is_leaf(me):\n",
    "        return len(me.children) == 0\n",
    "\n",
    "    def __hash__(me):\n",
    "        return hash((me.start, me.stop))\n",
    "\n",
    "    def __eq__(me, other):\n",
    "        return (me.start, me.stop) == (other.start, other.stop)\n",
    "\n",
    "\n",
    "class ClusterTree:\n",
    "    def __init__(me, coords_X, min_cluster_size=25, interactive_display=False):\n",
    "        me.coords_X = coords_X\n",
    "        me.size, me.spatial_dimension = coords_X.shape\n",
    "        me.root = Cluster(0, me.size)\n",
    "        me.perm_e2i = np.arange(me.root.start, me.root.stop)\n",
    "\n",
    "        clusters_to_be_subdivided = [me.root]\n",
    "        while clusters_to_be_subdivided:\n",
    "            c = clusters_to_be_subdivided.pop()\n",
    "            if c.size > min_cluster_size:\n",
    "                me.subdivide_cluster(c)\n",
    "                for c_child in c.children:\n",
    "                    clusters_to_be_subdivided.append(c_child)\n",
    "\n",
    "            if interactive_display:\n",
    "                me.plot_cluster(c)\n",
    "                plt.draw()\n",
    "                plt.waitforbuttonpress()\n",
    "                plt.clf()\n",
    "\n",
    "        me.perm_i2e = np.argsort(me.perm_e2i)\n",
    "\n",
    "    def get_cluster_coords(me, c):\n",
    "        return me.coords_X[me.perm_e2i[c.start: c.stop]].reshape((-1, me.spatial_dimension))\n",
    "\n",
    "    def get_cluster_bounding_box(me, c):\n",
    "        Xc = me.get_cluster_coords(c)\n",
    "        min_pt = np.min(Xc, axis=0).reshape(-1)\n",
    "        max_pt = np.max(Xc, axis=0).reshape(-1)\n",
    "        return min_pt, max_pt\n",
    "\n",
    "    def choose_cluster_splitting_direction(me, c):\n",
    "        min_pt, max_pt = me.get_cluster_bounding_box(c)\n",
    "        return np.argmax(max_pt - min_pt) # subdivide in largest direction\n",
    "\n",
    "    def subdivide_cluster(me, c):\n",
    "        Xc = me.get_cluster_coords(c)\n",
    "        k = me.choose_cluster_splitting_direction(c)\n",
    "        sort_inds = np.argsort(Xc[:,k].reshape(-1))\n",
    "\n",
    "        left_sort_inds = sort_inds[: int(c.size / 2)]\n",
    "        right_sort_inds = sort_inds[int(c.size / 2):]\n",
    "\n",
    "        left_start = c.start\n",
    "        left_stop = c.start + len(left_sort_inds)\n",
    "        right_start = left_stop\n",
    "        right_stop = c.stop\n",
    "\n",
    "        left_child_cluster = Cluster(left_start, left_stop)\n",
    "        right_child_cluster = Cluster(right_start, right_stop)\n",
    "\n",
    "        c.children = [left_child_cluster, right_child_cluster]\n",
    "\n",
    "        new_left_perm = me.perm_e2i[c.start : c.stop][left_sort_inds].copy()\n",
    "        new_right_perm = me.perm_e2i[c.start : c.stop][right_sort_inds].copy()\n",
    "\n",
    "        me.perm_e2i[left_start : left_stop] = new_left_perm\n",
    "        me.perm_e2i[right_start : right_stop] = new_right_perm\n",
    "\n",
    "    def plot_cluster(me, c):\n",
    "        Xc = me.get_cluster_coords(c)\n",
    "        plt.subplot(1,2,1)\n",
    "        plt.plot(me.coords_X[:, 0], me.coords_X[:,1], '.k')\n",
    "        plt.plot(Xc[:, 0], Xc[:, 1], '.r')\n",
    "        plt.title('start= ' + str(c.start) + ', stop= ' + str(c.stop))\n",
    "        if not c.is_leaf:\n",
    "            plt.subplot(1, 2, 2)\n",
    "            plt.plot(me.coords_X[:, 0], me.coords_X[:, 1], '.k')\n",
    "            for c_child in c.children:\n",
    "                Xc_child = me.get_cluster_coords(c_child)\n",
    "                plt.plot(Xc_child[:, 0], Xc_child[:, 1], '.')\n",
    "                plt.title('child clusters')"
   ]
  },
  {
   "cell_type": "code",
   "execution_count": 6,
   "id": "17d76ff1",
   "metadata": {},
   "outputs": [],
   "source": [
    "dof_coords = V.tabulate_dof_coordinates()\n",
    "ct = ClusterTree(dof_coords)"
   ]
  },
  {
   "cell_type": "code",
   "execution_count": 7,
   "id": "7c86b764",
   "metadata": {},
   "outputs": [
    {
     "data": {
      "text/plain": [
       "<matplotlib.lines.Line2D at 0x7f2b2031ebb0>"
      ]
     },
     "execution_count": 7,
     "metadata": {},
     "output_type": "execute_result"
    },
    {
     "data": {
      "image/png": "[encoded data removed]",
      "text/plain": [
       "<Figure size 432x288 with 1 Axes>"
      ]
     },
     "metadata": {
      "needs_background": "light"
     },
     "output_type": "display_data"
    }
   ],
   "source": [
    "A_perm = A[ct.perm_e2i, :][:, ct.perm_e2i]\n",
    "plt.spy(A_perm)"
   ]
  },
  {
   "cell_type": "code",
   "execution_count": 8,
   "id": "361487df",
   "metadata": {},
   "outputs": [],
   "source": [
    "class BlockCluster:\n",
    "    def __init__(me, row_cluster, col_cluster):\n",
    "        me.row_cluster = row_cluster\n",
    "        me.col_cluster = col_cluster\n",
    "\n",
    "        me.slices = (me.row_cluster.slice, me.col_cluster.slice)\n",
    "\n",
    "        me.children = []\n",
    "\n",
    "    @property\n",
    "    def shape(me):\n",
    "        return (me.row_cluster.size, me.col_cluster.size)\n",
    "\n",
    "    @property\n",
    "    def size(me):\n",
    "        return np.prod(me.shape)\n",
    "\n",
    "    @property\n",
    "    def is_leaf(me):\n",
    "        return len(me.children) == 0\n",
    "    \n",
    "    @property\n",
    "    def is_dense(me):\n",
    "        return (me.is_leaf and (me.row_cluster == me.col_cluster))\n",
    "    \n",
    "    @property\n",
    "    def is_low_rank(me):\n",
    "        return me.is_leaf and (not me.is_dense)\n",
    "\n",
    "    def __hash__(me):\n",
    "        return hash((me.row_cluster, me.col_cluster))\n",
    "\n",
    "    def __eq__(me, other):\n",
    "        return (me.row_cluster, me.col_cluster) == (other.row_cluster, other.col_cluster)\n",
    "    \n",
    "    \n",
    "def build_block_cluster_tree(row_cluster_tree, col_cluster_tree):\n",
    "    root = BlockCluster(row_cluster_tree.root, col_cluster_tree.root)\n",
    "    working_blocks = [root]\n",
    "    while working_blocks:\n",
    "        B = working_blocks.pop()\n",
    "        for r in B.row_cluster.children:\n",
    "            for c in B.col_cluster.children:\n",
    "                B_child = BlockCluster(r, c)\n",
    "                B.children.append(B_child)\n",
    "                if r == c:\n",
    "                    working_blocks.append(B_child)\n",
    "    return root"
   ]
  },
  {
   "cell_type": "code",
   "execution_count": 9,
   "id": "65750648",
   "metadata": {},
   "outputs": [],
   "source": [
    "bct_root = build_block_cluster_tree(ct, ct)"
   ]
  },
  {
   "cell_type": "code",
   "execution_count": 10,
   "id": "04cf161d",
   "metadata": {},
   "outputs": [
    {
     "data": {
      "text/plain": [
       "<matplotlib.image.AxesImage at 0x7f2b20289b80>"
      ]
     },
     "execution_count": 10,
     "metadata": {},
     "output_type": "execute_result"
    },
    {
     "data": {
      "image/png": "[encoded data removed]",
      "text/plain": [
       "<Figure size 288x288 with 1 Axes>"
      ]
     },
     "metadata": {
      "needs_background": "light"
     },
     "output_type": "display_data"
    }
   ],
   "source": [
    "M = np.zeros(bct_root.shape)\n",
    "working_blocks = [bct_root]\n",
    "while working_blocks:\n",
    "    B = working_blocks.pop()\n",
    "    M[B.row_cluster.slice, B.col_cluster.slice] = np.random.rand()\n",
    "    for C in B.children:\n",
    "        working_blocks.append(C)\n",
    "        \n",
    "plt.matshow(M)"
   ]
  },
  {
   "cell_type": "code",
   "execution_count": 11,
   "id": "be4fb84a",
   "metadata": {},
   "outputs": [],
   "source": [
    "UU = dict()\n",
    "SS = dict()\n",
    "VVt = dict()\n",
    "DD = dict()\n",
    "\n",
    "working_blocks = [bct_root]\n",
    "while working_blocks:\n",
    "    B = working_blocks.pop()\n",
    "    rr = B.row_cluster.slice\n",
    "    cc = B.col_cluster.slice\n",
    "    if B.is_low_rank:\n",
    "        U, ss, Vt = block_low_rank_approximation(A_perm, rr, cc, rank=5)\n",
    "        S = np.diag(ss)\n",
    "        UU[B] = U\n",
    "        SS[B] = S\n",
    "        VVt[B] = Vt\n",
    "    elif B.is_dense:\n",
    "        DD[B] = A_perm[rr, cc].toarray()\n",
    "    else:\n",
    "        for C in B.children:\n",
    "            working_blocks.append(C)"
   ]
  },
  {
   "cell_type": "code",
   "execution_count": 12,
   "id": "2dc6f548",
   "metadata": {},
   "outputs": [],
   "source": [
    "A2_perm = np.zeros(A.shape)\n",
    "\n",
    "working_blocks = [bct_root]\n",
    "while working_blocks:\n",
    "    B = working_blocks.pop()\n",
    "    rr = B.row_cluster.slice\n",
    "    cc = B.col_cluster.slice\n",
    "    if B.is_low_rank:\n",
    "        A2_perm[rr,cc] = np.dot(UU[B], np.dot(SS[B], VVt[B]))\n",
    "    elif B.is_dense:\n",
    "        A2_perm[rr,cc] = DD[B]\n",
    "    else:\n",
    "        for C in B.children:\n",
    "            working_blocks.append(C)"
   ]
  },
  {
   "cell_type": "code",
   "execution_count": 13,
   "id": "e3f82f88",
   "metadata": {},
   "outputs": [],
   "source": [
    "Q = np.linalg.solve(A2_perm, A_perm.toarray())"
   ]
  },
  {
   "cell_type": "code",
   "execution_count": 14,
   "id": "b7b2fc84",
   "metadata": {},
   "outputs": [
    {
     "data": {
      "text/plain": [
       "<matplotlib.image.AxesImage at 0x7f2b20192e20>"
      ]
     },
     "execution_count": 14,
     "metadata": {},
     "output_type": "execute_result"
    },
    {
     "data": {
      "image/png": "[encoded data removed]",
      "text/plain": [
       "<Figure size 288x288 with 1 Axes>"
      ]
     },
     "metadata": {
      "needs_background": "light"
     },
     "output_type": "display_data"
    }
   ],
   "source": [
    "plt.matshow(Q)"
   ]
  },
  {
   "cell_type": "code",
   "execution_count": 15,
   "id": "075da826",
   "metadata": {},
   "outputs": [
    {
     "name": "stdout",
     "output_type": "stream",
     "text": [
      "cond_A= 109406298.9931573\n",
      "cond_Q= 24169095.334154278\n"
     ]
    }
   ],
   "source": [
    "cond_A = np.linalg.cond(A_perm.toarray())\n",
    "cond_Q = np.linalg.cond(Q)\n",
    "print('cond_A=', cond_A)\n",
    "print('cond_Q=', cond_Q)"
   ]
  },
  {
   "cell_type": "code",
   "execution_count": 16,
   "id": "66f869a8",
   "metadata": {},
   "outputs": [
    {
     "data": {
      "text/plain": [
       "[<matplotlib.lines.Line2D at 0x7f2b20176940>]"
      ]
     },
     "execution_count": 16,
     "metadata": {},
     "output_type": "execute_result"
    },
    {
     "data": {
      "image/png": "[encoded data removed]",
      "text/plain": [
       "<Figure size 432x288 with 1 Axes>"
      ]
     },
     "metadata": {
      "needs_background": "light"
     },
     "output_type": "display_data"
    }
   ],
   "source": [
    "# _, ss_Q, _ = np.linalg.svd(Q - np.eye(Q.shape[1]))\n",
    "_, ss_Q, _ = np.linalg.svd(Q)\n",
    "_, ss_A, _ = np.linalg.svd(A_perm.toarray())\n",
    "\n",
    "plt.semilogy(ss_Q)\n",
    "plt.semilogy(ss_A)"
   ]
  },
  {
   "cell_type": "code",
   "execution_count": 17,
   "id": "2b69281d",
   "metadata": {},
   "outputs": [
    {
     "name": "stdout",
     "output_type": "stream",
     "text": [
      "unpreconditioned:\n",
      "k=0, res=1.0, err=1.0\n",
      "k=1, res=0.034328629388479186, err=0.9999726058525331\n",
      "k=2, res=0.026112876527764187, err=0.578633366122243\n",
      "k=3, res=0.01986339970173777, err=0.5786098204728631\n",
      "k=4, res=0.015183249124033259, err=0.33808483870031714\n",
      "k=5, res=0.011605833898725158, err=0.33807185072291746\n",
      "k=6, res=0.008897148493113086, err=0.19868936437565984\n",
      "k=7, res=0.006820645923581323, err=0.1986819255708708\n",
      "k=8, res=0.0052314030647955265, err=0.11688531921491453\n",
      "k=9, res=0.00401246151142939, err=0.11688095547895296\n",
      "k=10, res=0.003078402264470997, err=0.0688000808349435\n",
      "k=11, res=0.0023617823462336617, err=0.06879751561967694\n",
      "k=12, res=0.0018123709766229544, err=0.040513839396346264\n",
      "k=13, res=0.0013907668487809029, err=0.04051232987941591\n",
      "k=14, res=0.0010673760810598824, err=0.023863254430247685\n",
      "k=15, res=0.0008191823851749685, err=0.023862365638281036\n",
      "k=16, res=0.0006287617505979935, err=0.014058555054465226\n",
      "k=17, res=0.0004826047861148308, err=0.014058031582352196\n",
      "k=18, res=0.0003704589252373071, err=0.008283951643067895\n",
      "k=19, res=0.00028437309723530497, err=0.008283643254564887\n",
      "k=20, res=0.00021830844257676239, err=0.004882043223372936\n",
      "k=21, res=0.00016759172798834, err=0.004881861510526888\n",
      "k=22, res=0.00012865984363420326, err=0.002877282502234755\n",
      "k=23, res=9.877191562698265e-05, err=0.0028771754219002804\n",
      "k=24, res=7.583080915007188e-05, err=0.0016959259551393702\n",
      "k=25, res=5.8218078861807246e-05, err=0.0016958628454549073\n",
      "k=26, res=4.470632245468544e-05, err=0.0010000669763342923\n",
      "k=27, res=3.433050717267431e-05, err=0.001000029765788152\n",
      "k=28, res=2.6364420871588472e-05, err=0.0005898004923159503\n",
      "k=29, res=2.0246792864301532e-05, err=0.000589778548797348\n",
      "k=30, res=1.555828877706151e-05, err=0.0003482698801532592\n",
      "k=31, res=1.1955481698113524e-05, err=0.0003482569244242776\n",
      "k=32, res=9.183742918744008e-06, err=0.00020550436819220848\n",
      "k=33, res=7.054602331807896e-06, err=0.00020549672512505462\n",
      "k=34, res=5.414054254034753e-06, err=0.00012103775465158047\n",
      "k=35, res=4.155017296738782e-06, err=0.00012103325272064295\n",
      "k=36, res=3.1889422214004702e-06, err=7.129645226249718e-05\n",
      "k=37, res=2.4474868306845044e-06, err=7.12937978023741e-05\n",
      "k=38, res=1.8794267219642983e-06, err=4.204134433144464e-05\n",
      "k=39, res=1.44320750960746e-06, err=4.203977855971049e-05\n",
      "k=40, res=1.1100772375870356e-06, err=2.4872330550011863e-05\n",
      "k=41, res=8.538332706954358e-07, err=2.4871401515628935e-05\n",
      "k=42, res=6.558469124300573e-07, err=1.4674974821562671e-05\n",
      "k=43, res=5.03768803691272e-07, err=1.4674419443467623e-05\n",
      "k=44, res=3.868337363064652e-07, err=8.652658325036047e-06\n",
      "k=45, res=2.970405524915276e-07, err=8.65232372089015e-06\n",
      "k=46, res=2.257995446813079e-07, err=4.999674284121864e-06\n",
      "k=47, res=1.7164045646340657e-07, err=4.999472543307405e-06\n",
      "k=48, res=1.3740297125092208e-07, err=3.2039377278123682e-06\n",
      "k=49, res=1.0999994026963077e-07, err=3.2037957208606027e-06\n",
      "k=50, res=9.092560473077296e-08, err=2.188999237849109e-06\n",
      "k=51, res=7.515658718933283e-08, err=2.1888915773995897e-06\n",
      "k=52, res=6.326497662345242e-08, err=1.5508077084620985e-06\n",
      "k=53, res=5.325352933752029e-08, err=1.5507267566011407e-06\n",
      "k=54, res=4.2264400603086005e-08, err=9.768505783544888e-07\n",
      "k=55, res=3.355548646195183e-08, err=9.767991976062628e-07\n",
      "k=56, res=2.0554424158174515e-08, err=3.658449416912883e-07\n",
      "k=57, res=1.2587222252145585e-08, err=3.6582538976775007e-07\n",
      "k=58, res=9.554009659030507e-09, err=2.0957556017113993e-07\n",
      "k=59, res=7.240915532611552e-09, err=2.0956654561764947e-07\n",
      "k=60, res=6.9943981070025735e-09, err=1.9507795611104421e-07\n",
      "k=61, res=6.746116181841946e-09, err=1.950650619833456e-07\n",
      "k=62, res=6.64737078901568e-09, err=1.89415828739035e-07\n",
      "k=63, res=6.548402236740212e-09, err=1.8938978542491317e-07\n",
      "k=64, res=6.47679440012807e-09, err=1.8512195902652192e-07\n",
      "k=65, res=6.405310680609746e-09, err=1.850856279317623e-07\n",
      "k=66, res=6.341483719679349e-09, err=1.8129509374873636e-07\n",
      "k=67, res=6.2689830442289835e-09, err=1.8125302607167763e-07\n",
      "k=68, res=6.240708589989379e-09, err=1.7937030021352822e-07\n",
      "k=69, res=6.2061196586314464e-09, err=1.793097038822995e-07\n",
      "k=70, res=6.1709285585178864e-09, err=1.7728314705524176e-07\n",
      "k=71, res=6.13622971077029e-09, err=1.772201364472207e-07\n",
      "k=72, res=6.1107347918574995e-09, err=1.7610614058827646e-07\n",
      "k=73, res=6.098120145237715e-09, err=1.760309272881093e-07\n",
      "k=74, res=6.075355941302441e-09, err=1.7508989929857402e-07\n",
      "k=75, res=6.059428097938145e-09, err=1.7501629198898758e-07\n",
      "k=76, res=6.039572520204959e-09, err=1.739679550776613e-07\n",
      "k=77, res=6.025047889758516e-09, err=1.7389233095659514e-07\n",
      "k=78, res=6.004827637150467e-09, err=1.7287850193046248e-07\n",
      "k=79, res=5.990854807778641e-09, err=1.7279102115582664e-07\n",
      "k=80, res=5.9673607649002176e-09, err=1.719997993199337e-07\n",
      "k=81, res=5.957671859270913e-09, err=1.719104081357249e-07\n",
      "k=82, res=5.945710788039616e-09, err=1.7122636413346963e-07\n",
      "k=83, res=5.932628550896483e-09, err=1.7113096662758935e-07\n",
      "k=84, res=5.914798358785684e-09, err=1.7018398612044775e-07\n",
      "k=85, res=5.894594675929254e-09, err=1.700757231755953e-07\n",
      "k=86, res=5.858180078147099e-09, err=1.6795557719967695e-07\n",
      "k=87, res=5.827144777296027e-09, err=1.678389917880815e-07\n",
      "k=88, res=5.8026463800615935e-09, err=1.6635795359702847e-07\n",
      "k=89, res=5.760449365191889e-09, err=1.662323117117862e-07\n",
      "k=90, res=5.567969053154732e-09, err=1.5502150092119297e-07\n",
      "k=91, res=5.380613294991316e-09, err=1.5499636149174623e-07\n",
      "k=92, res=5.364106759110798e-09, err=1.5370669039181584e-07\n",
      "k=93, res=5.337981752097121e-09, err=1.5366705891065136e-07\n",
      "k=94, res=5.2743334509940405e-09, err=1.5007729435844516e-07\n",
      "k=95, res=5.212136185995685e-09, err=1.500340003204362e-07\n",
      "k=96, res=4.135463233092315e-09, err=9.314036120778622e-08\n",
      "k=97, res=3.298690946864385e-09, err=9.313428761394383e-08\n",
      "k=98, res=3.232833079371651e-09, err=8.977760304165611e-08\n",
      "k=99, res=3.173721543619783e-09, err=8.976110545772704e-08\n",
      "k=100, res=3.152211208276507e-09, err=8.864979086832232e-08\n",
      "H-matrix preconditioned:\n",
      "k=0, res=1.0, err=1.0\n",
      "k=1, res=2.2389682538924246e-09, err=3.3552343708265953e-11\n",
      "k=2, res=4.969831052811053e-10, err=2.8353717359613803e-10\n",
      "k=3, res=2.610597346545129e-10, err=2.835369821870141e-10\n",
      "k=4, res=4.932440741888901e-10, err=3.422133123806104e-10\n",
      "k=5, res=4.798701502687515e-10, err=2.3255252581817013e-10\n",
      "k=6, res=4.862436804877308e-10, err=2.8997404616843595e-10\n",
      "k=7, res=5.056609223070451e-10, err=2.096150944740665e-10\n",
      "k=8, res=4.892836053611838e-10, err=2.3524114214913886e-10\n",
      "k=9, res=5.023485201277014e-10, err=2.0351054738925038e-10\n",
      "k=10, res=5.013545561514715e-10, err=1.8050817766887526e-10\n",
      "k=11, res=4.958997881047168e-10, err=2.1673269052929545e-10\n",
      "k=12, res=4.874828317062008e-10, err=2.1742106556794564e-10\n",
      "k=13, res=4.92221009185007e-10, err=3.0476775904190945e-10\n",
      "k=14, res=5.004123511414609e-10, err=2.4311202941945786e-10\n",
      "k=15, res=4.7702267162128e-10, err=3.441744329755472e-10\n",
      "k=16, res=4.969239846977348e-10, err=3.4112214297613724e-10\n",
      "k=17, res=5.01850429448585e-10, err=2.900649336758624e-10\n",
      "k=18, res=5.288070782099272e-10, err=2.6581563429271437e-10\n",
      "k=19, res=4.985827018114504e-10, err=2.5715241998211864e-10\n",
      "k=20, res=4.885489207567753e-10, err=2.9275349664596483e-10\n",
      "k=21, res=4.973161965974089e-10, err=2.2299304346850647e-10\n",
      "k=22, res=5.062758636308465e-10, err=2.330330369819631e-10\n",
      "k=23, res=5.098487814270544e-10, err=2.51177741874037e-10\n",
      "k=24, res=5.153910652696768e-10, err=2.1134248333120023e-10\n",
      "k=25, res=4.985193998792213e-10, err=2.313575002298733e-10\n",
      "k=26, res=4.908830087632632e-10, err=2.295521101381819e-10\n",
      "k=27, res=5.031824328634431e-10, err=3.462005547801781e-10\n",
      "k=28, res=5.192710107073578e-10, err=1.8354736089445995e-10\n",
      "k=29, res=4.923922511831093e-10, err=2.55931448200787e-10\n",
      "k=30, res=4.998269086941418e-10, err=2.7656995364308896e-10\n",
      "k=31, res=4.786746600882126e-10, err=3.121710006781397e-10\n",
      "k=32, res=4.868281258914521e-10, err=2.6049035436623534e-10\n",
      "k=33, res=4.911874984555368e-10, err=2.8673981400258064e-10\n",
      "k=34, res=4.800669770493758e-10, err=2.5937334543608695e-10\n",
      "k=35, res=4.962308193948787e-10, err=2.787649641701557e-10\n",
      "k=36, res=4.894470521282935e-10, err=1.8344339573062466e-10\n",
      "k=37, res=4.910607950956581e-10, err=2.3837116767494353e-10\n",
      "k=38, res=4.840669369765399e-10, err=9.379773820854239e-11\n"
     ]
    },
    {
     "name": "stdout",
     "output_type": "stream",
     "text": [
      "k=39, res=5.184061878141452e-10, err=1.26281622806672e-10\n",
      "k=40, res=4.801436948552315e-10, err=2.3731909876714064e-10\n",
      "k=41, res=4.911573903619988e-10, err=2.8476554170303783e-10\n",
      "k=42, res=4.829823171322163e-10, err=2.561522036912638e-10\n",
      "k=43, res=5.172212873465204e-10, err=1.452445953945024e-10\n",
      "k=44, res=5.163327970008487e-10, err=2.868306666900026e-10\n",
      "k=45, res=4.872819780133037e-10, err=2.3452654543019516e-10\n",
      "k=46, res=4.881818955081852e-10, err=3.449405428189178e-10\n",
      "k=47, res=5.053650756419788e-10, err=2.0286088281418572e-10\n",
      "k=48, res=5.129905627089824e-10, err=3.157686592897113e-10\n",
      "k=49, res=5.073635163571819e-10, err=2.902725352680369e-10\n",
      "k=50, res=5.133359359503448e-10, err=2.392152900858746e-10\n",
      "k=51, res=4.976454376040719e-10, err=3.458886628640352e-10\n",
      "k=52, res=4.812464099144826e-10, err=3.035595880459448e-10\n",
      "k=53, res=4.648280488585085e-10, err=3.3978409198145937e-10\n",
      "k=54, res=4.914199986943179e-10, err=3.417193533276847e-10\n",
      "k=55, res=4.703380430179483e-10, err=2.2021327316756066e-10\n",
      "k=56, res=4.888267938106534e-10, err=2.657894107424601e-10\n",
      "k=57, res=5.116199155466223e-10, err=1.3742551414765233e-10\n",
      "k=58, res=5.242886495008605e-10, err=2.73400616935657e-10\n",
      "k=59, res=4.954435103152935e-10, err=1.8369001258131242e-10\n",
      "k=60, res=5.217342321345946e-10, err=3.2215888023453996e-10\n",
      "k=61, res=4.95133376806562e-10, err=3.166128485759855e-10\n",
      "k=62, res=4.92027511388286e-10, err=2.524633336377413e-10\n",
      "k=63, res=4.962670334258867e-10, err=1.9143105718448127e-10\n",
      "k=64, res=5.056066494151109e-10, err=1.996007339682324e-10\n",
      "k=65, res=5.056759256052926e-10, err=3.012865594141199e-10\n",
      "k=66, res=5.02626677281641e-10, err=2.34019851920352e-10\n",
      "k=67, res=4.837812320634749e-10, err=2.8208974140357504e-10\n",
      "k=68, res=4.921604276279696e-10, err=2.952469537510673e-10\n",
      "k=69, res=4.873300011845264e-10, err=2.7972587969963844e-10\n",
      "k=70, res=5.027810219240224e-10, err=2.2804517141623836e-10\n",
      "k=71, res=5.107074184818974e-10, err=3.821000725157809e-10\n",
      "k=72, res=4.758326773032143e-10, err=2.263047230968069e-10\n",
      "k=73, res=4.917688542451619e-10, err=3.473172449771086e-10\n",
      "k=74, res=4.899876576807474e-10, err=3.548634739245341e-10\n",
      "k=75, res=4.921376114597565e-10, err=2.6203568121432667e-10\n",
      "k=76, res=4.726934419133274e-10, err=2.7955693515335464e-10\n",
      "k=77, res=5.054130918344169e-10, err=2.9583133763208137e-10\n",
      "k=78, res=5.035992466760664e-10, err=3.5075914384682813e-10\n",
      "k=79, res=5.131139264437588e-10, err=1.6067452625350774e-10\n",
      "k=80, res=4.845186730184795e-10, err=2.4739777475780137e-10\n",
      "k=81, res=4.898117868126904e-10, err=3.2165219368285315e-10\n",
      "k=82, res=4.895977307104282e-10, err=2.4503386112159225e-10\n",
      "k=83, res=5.162159986996254e-10, err=2.2951276110640585e-10\n",
      "k=84, res=5.032899946498276e-10, err=1.697273376626034e-10\n",
      "k=85, res=5.19857850375422e-10, err=2.7266006961632754e-10\n",
      "k=86, res=4.995519686506714e-10, err=3.6998181396152093e-10\n",
      "k=87, res=5.188609484137026e-10, err=2.678024033617273e-10\n",
      "k=88, res=4.891717036471123e-10, err=2.335780868248531e-10\n",
      "k=89, res=4.694206234504704e-10, err=2.0558817706102498e-10\n",
      "k=90, res=4.584433491920555e-10, err=2.343313786611134e-10\n",
      "k=91, res=4.913867244975621e-10, err=2.9112944431021503e-10\n",
      "k=92, res=4.99376550195182e-10, err=3.5727915410683647e-10\n",
      "k=93, res=5.22801585191534e-10, err=2.594638576688316e-10\n",
      "k=94, res=4.855872655574377e-10, err=1.722470218238983e-10\n",
      "k=95, res=4.999242387882596e-10, err=3.0136423826973983e-10\n",
      "k=96, res=4.935338876800809e-10, err=1.8983321335735406e-10\n",
      "k=97, res=5.023129588974845e-10, err=2.98376921574157e-10\n",
      "k=98, res=4.823350191860642e-10, err=2.155241633206474e-10\n",
      "k=99, res=5.035740008566288e-10, err=2.1371878598484377e-10\n",
      "k=100, res=4.806821857251253e-10, err=2.2936975862068426e-10\n"
     ]
    },
    {
     "data": {
      "text/plain": [
       "[<matplotlib.lines.Line2D at 0x7f2b2005bdf0>]"
      ]
     },
     "execution_count": 17,
     "metadata": {},
     "output_type": "execute_result"
    },
    {
     "data": {
      "image/png": "[encoded data removed]",
      "text/plain": [
       "<Figure size 432x288 with 1 Axes>"
      ]
     },
     "metadata": {
      "needs_background": "light"
     },
     "output_type": "display_data"
    }
   ],
   "source": [
    "b = np.random.randn(A_perm.shape[1])\n",
    "\n",
    "x_true = np.linalg.solve(A_perm.toarray(), b)\n",
    "\n",
    "residuals0=list()\n",
    "errors0=list()\n",
    "counter0 = [0,]\n",
    "def callback(xk):\n",
    "    k = counter0[0]\n",
    "    counter0[0] = k+1\n",
    "    display_str = 'k=' + str(k)\n",
    "\n",
    "    res = np.linalg.norm(A_perm * xk - b) / np.linalg.norm(b)\n",
    "    residuals0.append(res)\n",
    "    display_str += ', res=' + str(res)\n",
    "\n",
    "    err = np.linalg.norm(x_true - xk) / np.linalg.norm(x_true)\n",
    "    errors0.append(err)\n",
    "    display_str += ', err=' + str(err)\n",
    "\n",
    "    print(display_str)\n",
    "\n",
    "print('unpreconditioned:')\n",
    "x0 = spla.gmres(A_perm, b, restart=100, maxiter=100, tol=1e-10, callback=callback, callback_type='x')[0]\n",
    "\n",
    "residuals1=list()\n",
    "errors1=list()\n",
    "counter1 = [0,]\n",
    "def callback(xk):\n",
    "    k = counter1[0]\n",
    "    counter1[0] = k+1\n",
    "    display_str = 'k=' + str(k)\n",
    "\n",
    "    res = np.linalg.norm(A_perm * xk - b) / np.linalg.norm(b)\n",
    "    residuals1.append(res)\n",
    "    display_str += ', res=' + str(res)\n",
    "\n",
    "    err = np.linalg.norm(x_true - xk) / np.linalg.norm(x_true)\n",
    "    errors1.append(err)\n",
    "    display_str += ', err=' + str(err)\n",
    "\n",
    "    print(display_str)\n",
    "\n",
    "print('H-matrix preconditioned:')\n",
    "x1 = spla.gmres(A_perm, b, M=np.linalg.inv(A2_perm), restart=100, maxiter=100, tol=1e-10, callback=callback, callback_type='x')[0]\n",
    "\n",
    "plt.semilogy(errors0)\n",
    "plt.semilogy(errors1)"
   ]
  }
 ],
 "metadata": {
  "kernelspec": {
   "display_name": "Python 3",
   "language": "python",
   "name": "python3"
  },
  "language_info": {
   "codemirror_mode": {
    "name": "ipython",
    "version": 3
   },
   "file_extension": ".py",
   "mimetype": "text/x-python",
   "name": "python",
   "nbconvert_exporter": "python",
   "pygments_lexer": "ipython3",
   "version": "3.8.8"
  }
 },
 "nbformat": 4,
 "nbformat_minor": 5
}
