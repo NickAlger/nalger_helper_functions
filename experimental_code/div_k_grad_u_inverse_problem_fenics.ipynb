{
 "cells": [
  {
   "cell_type": "markdown",
   "metadata": {},
   "source": [
    "# Example: div-k-grad-u inverse problem\n",
    "# WORK IN PROGRESS, DO NOT USE"
   ]
  },
  {
   "cell_type": "code",
   "execution_count": 1,
   "metadata": {},
   "outputs": [],
   "source": [
    "import numpy as np\n",
    "from fenics import *\n",
    "import matplotlib.pyplot as plt\n",
    "from ufl import replace\n",
    "from scipy.optimize import minimize"
   ]
  },
  {
   "cell_type": "code",
   "execution_count": 1,
   "metadata": {},
   "outputs": [
    {
     "ename": "IndentationError",
     "evalue": "expected an indented block (<ipython-input-1-5d4bbee445a3>, line 26)",
     "output_type": "error",
     "traceback": [
      "\u001b[0;36m  File \u001b[0;32m\"<ipython-input-1-5d4bbee445a3>\"\u001b[0;36m, line \u001b[0;32m26\u001b[0m\n\u001b[0;31m    def solve_adjoint(me):\u001b[0m\n\u001b[0m    ^\u001b[0m\n\u001b[0;31mIndentationError\u001b[0m\u001b[0;31m:\u001b[0m expected an indented block\n"
     ]
    }
   ],
   "source": [
    "def gaussian_expression(magnitude, mu_x, mu_y sigma):\n",
    "    # m*G, where G is gaussian with mean mu and standard deviation sigma\n",
    "    return Expression('m*exp(-(pow(x[0]-mu_x,2)+pow(x[1]-mu_y,2))/s)',\n",
    "                      m=magnitude, a=0.8, b=0.0, s=sigma, degree=5)\n",
    "\n",
    "class PoissonInverseProblem:\n",
    "    def __init__(me, function_space_V, data_y, m0=None):\n",
    "        me.V = function_space_v\n",
    "        me.y = data_y\n",
    "        \n",
    "        if m0 == None:\n",
    "            pass\n",
    "        else:\n",
    "            me.m = m0 # Parameter\n",
    "        \n",
    "        f = Constant(0.0) # Right hand side\n",
    "        me.u_D = gaussian_expression(1.0, 0.8, 0.0, 0.02) # Dirichlet data\n",
    "        \n",
    "        me.u = Function(me.V) # State\n",
    "        me.p = Function(me.V) # Adjoint\n",
    "        \n",
    "        me.du = Function(me.V) # Incremental State\n",
    "        me.dp = Function(me.V) # Incremental Adjoint\n",
    "        \n",
    "        \n",
    "        ####    Make forward (state) equation form    ####\n",
    "        \n",
    "        me.forward_form_base = (inner(exp(me.m) * grad(me.u), grad(me.p))*dx) - (f * me.v * dx)\n",
    "\n",
    "        me.forward_form = replace(forward_form_base, {u:TrialFunction(V), v:TestFunction(V)})\n",
    "        me.forward_lhs = lhs(forward_form)\n",
    "        me.forward_rhs = rhs(forward_form)\n",
    "\n",
    "        \n",
    "        def the_boundary(x, on_boundary):\n",
    "            return on_boundary\n",
    "        me.bc = DirichletBC(V, u_D, the_boundary)\n",
    "\n",
    "        homogenized_bc = DirichletBC(V, Constant(0.0), the_boundary)\n",
    "        \n",
    "    \n",
    "    def update_m(me, new_m_vector):\n",
    "        me.m.vector() = new_m_vector\n",
    "    \n",
    "    def make_forward_and_adjoint_solvers(me):\n",
    "        \n",
    "    \n",
    "    def solve_forward(me):\n",
    "        pass\n",
    "    \n",
    "    def compute_objective(me):\n",
    "    \n",
    "    def solve_adjoint(me):\n",
    "        pass\n",
    "    \n",
    "    def compute_gradient(me):\n",
    "        pass\n",
    "    \n",
    "    def solve_incremental_forward(me):\n",
    "        pass\n",
    "    \n",
    "    def solve_incremental_adjoint(me):\n",
    "        pass\n",
    "    \n",
    "    def apply_hessian_to_vector(me, dm):\n",
    "        pass\n",
    "    \n",
    "    "
   ]
  },
  {
   "cell_type": "code",
   "execution_count": 2,
   "metadata": {},
   "outputs": [
    {
     "data": {
      "text/plain": [
       "[<matplotlib.lines.Line2D at 0x7efcef663490>,\n",
       " <matplotlib.lines.Line2D at 0x7efcef663820>]"
      ]
     },
     "execution_count": 2,
     "metadata": {},
     "output_type": "execute_result"
    },
    {
     "data": {
      "image/png": "[encoded data removed]",
      "text/plain": [
       "<Figure size 432x288 with 1 Axes>"
      ]
     },
     "metadata": {
      "needs_background": "light"
     },
     "output_type": "display_data"
    }
   ],
   "source": [
    "mesh_n = 20\n",
    "mesh = UnitSquareMesh(mesh_n, mesh_n)\n",
    "V = FunctionSpace(mesh, 'CG', 1)\n",
    "plot(mesh)"
   ]
  },
  {
   "cell_type": "markdown",
   "metadata": {},
   "source": [
    "For the forward problem, we use the inhomogeneous Poisson problem with Dirichlet boundary conditions:\n",
    "$$\\begin{cases}\n",
    "-\\nabla \\cdot e^m \\nabla u = f & \\text{in } \\Omega \\\\\n",
    "u = 0 & \\text{on } \\partial \\Omega,\n",
    "\\end{cases}$$\n",
    "where the domain is the unit square, $\\Omega=[0,1]^2$, $n$ is the normal to $\\partial \\Omega$, the parameter is \n",
    "$$m(x) = 1.25 + \\sin\\left(10\\|x\\|\\right),$$\n",
    "and the source is\n",
    "$$m(x) = \\exp\\left(-\\frac{\\left\\|x - p_1\\right\\|^2}{\\sigma^2}\\right) + \\exp\\left(-\\frac{\\left\\|x - p_2\\right\\|^2}{\\sigma^2}\\right)$$\n",
    "where $p_1 = (0.75,0.75)$, $p_2 = (0.25, 0.1)$, $\\sigma = 0.1$$.\n",
    "\n",
    "The weak form for this problem may be written as seeking $u \\in H^1_0(\\Omega)$ which satisfies\n",
    "$$0 = g(m,u,v) := \\int_\\Omega \\nabla v \\cdot e^m \\nabla u dx - \\int_\\Omega f v dx$$\n",
    "for all $v \\in H^1_0(\\Omega)$."
   ]
  },
  {
   "cell_type": "code",
   "execution_count": 3,
   "metadata": {},
   "outputs": [],
   "source": [
    "u = Function(V)\n",
    "v = Function(V)\n",
    "m = Function(V)\n",
    "\n",
    "# m_true = Expression('1.25 + sin(10*sqrt(pow(x[0],2) + pow(x[1],2)))', degree=5)\n",
    "# m_true = Expression('sin(10*sqrt(pow(x[0],2) + pow(x[1],2)))', degree=5) # <--- original\n",
    "m_true = Expression('x[1]*(1-x[1])*x[0]*(1-x[0])*sin(10*sqrt(pow(x[0],2) + pow(x[1],2)))', degree=5)\n",
    "\n",
    "f1 = Constant(0.0)\n",
    "# f1 = Expression('exp(- (pow(x[0]-a,2) + pow(x[1]-b,2))/s)', a=0.5, b=0.5, s=0.02, degree=5)\n",
    "# f2 = Expression('exp(- (pow(x[0]-a,2) + pow(x[1]-b,2))/s)', a=0.1, b=0.1, s=0.02, degree=5)\n",
    "# f = f1 + f2\n",
    "f = f1\n",
    "\n",
    "m_true_vector = project(m_true, V).vector()\n",
    "m.vector()[:] = m_true_vector[:].copy()"
   ]
  },
  {
   "cell_type": "code",
   "execution_count": 4,
   "metadata": {},
   "outputs": [
    {
     "data": {
      "text/plain": [
       "Text(0.5, 1.0, 'true parameter m')"
      ]
     },
     "execution_count": 4,
     "metadata": {},
     "output_type": "execute_result"
    },
    {
     "data": {
      "image/png": "[encoded data removed]",
      "text/plain": [
       "<Figure size 1000x300 with 4 Axes>"
      ]
     },
     "metadata": {
      "needs_background": "light"
     },
     "output_type": "display_data"
    }
   ],
   "source": [
    "fig, axs = plt.subplots(nrows=1, ncols=2, figsize=(10,3), dpi= 100)\n",
    "plt.sca(axs[0])\n",
    "cm = plot(f, mesh=mesh)\n",
    "plt.colorbar(cm)\n",
    "plt.title('source f')\n",
    "\n",
    "plt.sca(axs[1])\n",
    "cm = plot(m_true, mesh=mesh)\n",
    "plt.colorbar(cm)\n",
    "plt.title('true parameter m')"
   ]
  },
  {
   "cell_type": "code",
   "execution_count": 5,
   "metadata": {},
   "outputs": [
    {
     "data": {
      "text/plain": [
       "Text(0.5, 1.0, 'u_D dirichlet BC function')"
      ]
     },
     "execution_count": 5,
     "metadata": {},
     "output_type": "execute_result"
    },
    {
     "data": {
      "image/png": "[encoded data removed]",
      "text/plain": [
       "<Figure size 432x288 with 1 Axes>"
      ]
     },
     "metadata": {
      "needs_background": "light"
     },
     "output_type": "display_data"
    }
   ],
   "source": [
    "forward_form_base = (inner(exp(m) * grad(u), grad(v))*dx) - (f * v * dx)\n",
    "\n",
    "forward_form0 = replace(forward_form_base, {v:TestFunction(V)})\n",
    "\n",
    "forward_form = replace(forward_form_base, {u:TrialFunction(V), v:TestFunction(V)})\n",
    "forward_lhs = lhs(forward_form)\n",
    "forward_rhs = rhs(forward_form)\n",
    "\n",
    "u_D = Expression('exp(- (pow(x[0]-a,2) + pow(x[1]-b,2))/s)', a=0.8, b=0.0, s=0.02, degree=5)\n",
    "# u_D = (Expression('exp(- (pow(x[0]-a,2) + pow(x[1]-b,2))/s)', a=0.8, b=0.0, s=0.02, degree=5)\n",
    "#       + Expression('exp(- (pow(x[0]-a,2) + pow(x[1]-b,2))/s)', a=0.0, b=0.8, s=0.02, degree=5)\n",
    "#       + Expression('exp(- (pow(x[0]-a,2) + pow(x[1]-b,2))/s)', a=0.2, b=0.0, s=0.02, degree=5)\n",
    "#       + Expression('exp(- (pow(x[0]-a,2) + pow(x[1]-b,2))/s)', a=0.5, b=1.0, s=0.02, degree=5)\n",
    "#       + Expression('exp(- (pow(x[0]-a,2) + pow(x[1]-b,2))/s)', a=1.0, b=0.7, s=0.02, degree=5))\n",
    "# u_D = Function(V)\n",
    "# u_D.vector()[:] = np.random.randn(V.dim())\n",
    "\n",
    "def the_boundary(x, on_boundary):\n",
    "    return on_boundary\n",
    "bc = DirichletBC(V, u_D, the_boundary)\n",
    "\n",
    "homogenized_bc = DirichletBC(V, Constant(0.0), the_boundary)\n",
    "\n",
    "plot(u_D, mesh=mesh)\n",
    "plt.title('u_D dirichlet BC function')"
   ]
  },
  {
   "cell_type": "code",
   "execution_count": 6,
   "metadata": {},
   "outputs": [],
   "source": [
    "G = assemble(forward_lhs)\n",
    "bc.apply(G)\n",
    "G_solver = LUSolver(G)\n",
    "\n",
    "def solve_forward():\n",
    "    b = assemble(forward_rhs)\n",
    "    bc.apply(b)\n",
    "    G_solver.solve(u.vector(), b)\n",
    "    \n",
    "solve_forward()"
   ]
  },
  {
   "cell_type": "code",
   "execution_count": 7,
   "metadata": {},
   "outputs": [
    {
     "data": {
      "text/plain": [
       "Text(0.5, 1.0, 'true u')"
      ]
     },
     "execution_count": 7,
     "metadata": {},
     "output_type": "execute_result"
    },
    {
     "data": {
      "image/png": "[encoded data removed]",
      "text/plain": [
       "<Figure size 432x288 with 2 Axes>"
      ]
     },
     "metadata": {
      "needs_background": "light"
     },
     "output_type": "display_data"
    }
   ],
   "source": [
    "cm = plot(u)\n",
    "plt.colorbar(cm)\n",
    "plt.title('true u')"
   ]
  },
  {
   "cell_type": "markdown",
   "metadata": {},
   "source": [
    "The data misfit function is\n",
    "$$J_d(m) := \\int_{\\partial \\Omega} \\left(\\nu \\cdot e^m\\nabla u(m) - \\nu \\cdot e^m \\nabla u_\\text{true}\\right)^2 ds.$$"
   ]
  },
  {
   "cell_type": "code",
   "execution_count": 8,
   "metadata": {},
   "outputs": [
    {
     "name": "stdout",
     "output_type": "stream",
     "text": [
      "Jd_true= 0.0\n"
     ]
    }
   ],
   "source": [
    "u_true = Function(V)\n",
    "u_true.vector()[:] = u.vector()[:].copy()\n",
    "\n",
    "nu = FacetNormal(mesh)\n",
    "\n",
    "Jd_form = pow(inner(nu, exp(m) * grad(u - u_true)), 2) * ds\n",
    "# Jd_form = pow(u - u_true, 2) * dx\n",
    "\n",
    "def compute_data_misfit():\n",
    "    return assemble(Jd_form)\n",
    "\n",
    "Jd_true = compute_data_misfit()\n",
    "print('Jd_true=', Jd_true)"
   ]
  },
  {
   "cell_type": "code",
   "execution_count": 9,
   "metadata": {},
   "outputs": [],
   "source": [
    "def update_m(new_m_vector):\n",
    "    global G \n",
    "    global G_solver\n",
    "    m.vector()[:] = new_m_vector[:].copy()\n",
    "    G = assemble(forward_lhs)\n",
    "    bc.apply(G)\n",
    "    G_solver = LUSolver(G)"
   ]
  },
  {
   "cell_type": "code",
   "execution_count": 10,
   "metadata": {},
   "outputs": [
    {
     "name": "stdout",
     "output_type": "stream",
     "text": [
      "Jd_0= 9.629206722029555e-05\n"
     ]
    }
   ],
   "source": [
    "zero_vector = Function(V).vector()\n",
    "\n",
    "update_m(zero_vector)\n",
    "solve_forward()\n",
    "Jd_0 = compute_data_misfit()\n",
    "\n",
    "print('Jd_0=', Jd_0)"
   ]
  },
  {
   "cell_type": "code",
   "execution_count": 11,
   "metadata": {},
   "outputs": [
    {
     "data": {
      "text/plain": [
       "Text(0.5, 1.0, 'u at m=0')"
      ]
     },
     "execution_count": 11,
     "metadata": {},
     "output_type": "execute_result"
    },
    {
     "data": {
      "image/png": "[encoded data removed]",
      "text/plain": [
       "<Figure size 432x288 with 2 Axes>"
      ]
     },
     "metadata": {
      "needs_background": "light"
     },
     "output_type": "display_data"
    }
   ],
   "source": [
    "cm1 = plot(u)\n",
    "plt.colorbar(cm1)\n",
    "plt.title('u at m=0')"
   ]
  },
  {
   "cell_type": "markdown",
   "metadata": {},
   "source": [
    "The Lagrangian is\n",
    "$$\\mathcal{L}(m,u,v) := J(m,u,v) + g(m,u,v).$$\n",
    "We seek an the adjoint variable $v \\in H^1_0(\\Omega)$ that solves the following adjoint equation\n",
    "$$0 = a(m,u,v,\\widetilde{u}) := \\frac{\\partial \\mathcal{L}}{\\partial u}(m,u,v,\\widetilde{u}) = 0$$\n",
    "for all $\\widetilde{u} \\in H^1_0(\\Omega)$."
   ]
  },
  {
   "cell_type": "code",
   "execution_count": 12,
   "metadata": {},
   "outputs": [],
   "source": [
    "lagrangian_form = Jd_form + forward_form_base\n",
    "\n",
    "adjoint_form0 = derivative(lagrangian_form, u, TestFunction(V))\n",
    "\n",
    "adjoint_form = replace(adjoint_form0, {v:TrialFunction(V)})\n",
    "adjoint_lhs = lhs(adjoint_form)\n",
    "adjoint_rhs = rhs(adjoint_form)\n",
    "\n",
    "Gt = assemble(adjoint_lhs)\n",
    "bc.apply(Gt)\n",
    "Gt_solver = LUSolver(Gt)\n",
    "\n",
    "def solve_adjoint():\n",
    "    b = assemble(adjoint_rhs)\n",
    "    homogenized_bc.apply(b)\n",
    "#     Gt_solver.solve(v.vector(), b)\n",
    "    G_solver.solve(v.vector(), b) # symmetric\n",
    "\n",
    "solve_adjoint()"
   ]
  },
  {
   "cell_type": "code",
   "execution_count": 13,
   "metadata": {},
   "outputs": [
    {
     "data": {
      "text/plain": [
       "Text(0.5, 1.0, 'adjoint v')"
      ]
     },
     "execution_count": 13,
     "metadata": {},
     "output_type": "execute_result"
    },
    {
     "data": {
      "image/png": "[encoded data removed]",
      "text/plain": [
       "<Figure size 432x288 with 2 Axes>"
      ]
     },
     "metadata": {
      "needs_background": "light"
     },
     "output_type": "display_data"
    }
   ],
   "source": [
    "cm = plot(v)\n",
    "plt.colorbar(cm)\n",
    "plt.title('adjoint v')"
   ]
  },
  {
   "cell_type": "markdown",
   "metadata": {},
   "source": [
    "The gradient dual function is given by \n",
    "$$g(h) = \\frac{\\partial \\mathcal{L}}{\\partial m}(m,u,v)h.$$\n",
    "The Riesz representative of the gradient is given by the function $g_\\text{Riesz}$ satisfying\n",
    "$$\\int_\\Omega h g_\\text{Riesz} dx = g(h)$$\n",
    "for all $v$."
   ]
  },
  {
   "cell_type": "code",
   "execution_count": 14,
   "metadata": {},
   "outputs": [],
   "source": [
    "mass_form = TrialFunction(V) * TestFunction(V) * dx\n",
    "M = assemble(mass_form)\n",
    "\n",
    "M_solver = LUSolver(M)"
   ]
  },
  {
   "cell_type": "code",
   "execution_count": 15,
   "metadata": {},
   "outputs": [],
   "source": [
    "gradient_form0 = derivative(lagrangian_form, m, TestFunction(V))\n",
    "\n",
    "def compute_gradient(return_riesz_representative=False):\n",
    "    g_dual_vector = assemble(gradient_form0)\n",
    "    \n",
    "    if return_riesz_representative:\n",
    "        g_riesz_representative = Function(V)\n",
    "        M_solver.solve(g_riesz_representative.vector(), g_dual_vector)\n",
    "        return g_dual_vector, g_riesz_representative\n",
    "    else:\n",
    "        return g_dual_vector\n",
    "\n",
    "g_dual0, g_riesz0 = compute_gradient(return_riesz_representative=True)"
   ]
  },
  {
   "cell_type": "code",
   "execution_count": 16,
   "metadata": {},
   "outputs": [
    {
     "data": {
      "text/plain": [
       "Text(0.5, 1.0, 'gradient (riesz representative)')"
      ]
     },
     "execution_count": 16,
     "metadata": {},
     "output_type": "execute_result"
    },
    {
     "data": {
      "image/png": "[encoded data removed]",
      "text/plain": [
       "<Figure size 432x288 with 2 Axes>"
      ]
     },
     "metadata": {
      "needs_background": "light"
     },
     "output_type": "display_data"
    }
   ],
   "source": [
    "cm = plot(g_riesz0)\n",
    "plt.colorbar(cm)\n",
    "plt.title('gradient (riesz representative)')"
   ]
  },
  {
   "cell_type": "code",
   "execution_count": 17,
   "metadata": {},
   "outputs": [],
   "source": [
    "m_original_numpy_vector = m.vector()[:].copy()\n",
    "\n",
    "s = 1e-6\n",
    "dm = Function(V)\n",
    "dm.vector()[:] = np.random.randn(V.dim()) # perturb m a small bit\n",
    "\n",
    "update_m(m_original_numpy_vector + s * dm.vector()[:])\n",
    "\n",
    "solve_forward()\n",
    "Jd_1 = compute_data_misfit()\n",
    "solve_adjoint()\n",
    "g_dual1, g_riesz1 = compute_gradient(return_riesz_representative=True)\n",
    "\n",
    "\n",
    "update_m(m_original_numpy_vector) # Reset to original m"
   ]
  },
  {
   "cell_type": "code",
   "execution_count": 18,
   "metadata": {},
   "outputs": [
    {
     "name": "stdout",
     "output_type": "stream",
     "text": [
      "s= 1e-06 , err_grad= -7.176519272968872e-05\n"
     ]
    }
   ],
   "source": [
    "dJ_diff = (Jd_1 - Jd_0)/s\n",
    "\n",
    "dJ = np.dot(g_dual0[:], dm.vector()[:])\n",
    "\n",
    "err_grad = (dJ - dJ_diff)/dJ_diff\n",
    "print('s=', s, ', err_grad=', err_grad)"
   ]
  },
  {
   "cell_type": "markdown",
   "metadata": {},
   "source": [
    "# Hessian vector products"
   ]
  },
  {
   "cell_type": "markdown",
   "metadata": {},
   "source": [
    "$$Hp = \\frac{dg(m,u,v}{dm}p = \\frac{\\partial g}{\\partial m}p + \\frac{\\partial g}{\\partial u}\\underbrace{\\frac{du}{dm}p}_{\\text{icru}} + \\frac{\\partial g}{\\partial v}\\underbrace{\\frac{dv}{dm}p}_{\\text{icrv}}$$\n",
    "\n",
    "$$Hp = \\frac{dg(m,u,v}{dm}p = \\frac{\\partial g}{\\partial m}p + \\frac{\\partial g}{\\partial u}u_p + \\frac{\\partial g}{\\partial v}v_p$$"
   ]
  },
  {
   "cell_type": "code",
   "execution_count": 19,
   "metadata": {},
   "outputs": [],
   "source": [
    "p = Function(V) # Function to apply the Hessian to (p -> Hp)\n",
    "icru = Function(V) # incremental state\n",
    "icrv = Function(V) # incremental adjoint\n",
    "\n",
    "# Hessian vector product is directional derivative of gradient\n",
    "hessian_form0 = (derivative(gradient_form0, m, p)\n",
    "                + derivative(gradient_form0, u, icru)\n",
    "                + derivative(gradient_form0, v, icrv))"
   ]
  },
  {
   "cell_type": "markdown",
   "metadata": {},
   "source": [
    "Take derivative of forward equation to get incremental forward equation\n",
    "$$0 = \\mathcal{G}(m,u)$$\n",
    "$$0 = \\frac{d}{dm}\\mathcal{G}(m,u)p = \\frac{\\partial \\mathcal{G}}{\\partial m} p + \\frac{\\partial \\mathcal{G}}{\\partial u} u_p$$"
   ]
  },
  {
   "cell_type": "code",
   "execution_count": 20,
   "metadata": {},
   "outputs": [],
   "source": [
    "# Incremental forward equation is total derivative of forward equation\n",
    "incremental_forward_form0 = (derivative(forward_form0, m, p) \n",
    "                             + derivative(forward_form0, u, icru))\n",
    "\n",
    "incremental_forward_form = replace(incremental_forward_form0, {icru:TrialFunction(V)})\n",
    "incremental_forward_rhs = rhs(incremental_forward_form)"
   ]
  },
  {
   "cell_type": "markdown",
   "metadata": {},
   "source": [
    "take derivative of adjoint equation to get incremental adjoint equation\n",
    "$$0 = \\mathcal{A}(m,u,v)$$\n",
    "$$0 = \\frac{d}{dm}\\mathcal{A}(m,u,v)p = \\frac{\\partial \\mathcal{A}}{\\partial m} p + \\frac{\\partial \\mathcal{A}}{\\partial u} u_p + \\frac{\\partial \\mathcal{A}}{\\partial v} v_p$$"
   ]
  },
  {
   "cell_type": "code",
   "execution_count": 21,
   "metadata": {},
   "outputs": [],
   "source": [
    "# Incremental adjoint equation is total derivative of adjoint equation\n",
    "incremental_adjoint_form0 = (derivative(adjoint_form0, m, p) \n",
    "                             + derivative(adjoint_form0, u, icru) \n",
    "                             + derivative(adjoint_form0, v, icrv))\n",
    "\n",
    "incremental_adjoint_form = replace(incremental_adjoint_form0, {icrv:TrialFunction(V)})\n",
    "incremental_adjoint_rhs = rhs(incremental_adjoint_form)"
   ]
  },
  {
   "cell_type": "code",
   "execution_count": 22,
   "metadata": {},
   "outputs": [],
   "source": [
    "def solve_incremental_forward():\n",
    "    b = assemble(incremental_forward_rhs)\n",
    "    homogenized_bc.apply(b)\n",
    "    G_solver.solve(icru.vector(), b)"
   ]
  },
  {
   "cell_type": "code",
   "execution_count": 23,
   "metadata": {},
   "outputs": [],
   "source": [
    "def solve_incremental_adjoint():\n",
    "    b = assemble(incremental_adjoint_rhs)\n",
    "    homogenized_bc.apply(b)\n",
    "#     G_solver.solve_transpose(v.vector(), b)\n",
    "    G_solver.solve(icrv.vector(), b) # symmetric"
   ]
  },
  {
   "cell_type": "code",
   "execution_count": 24,
   "metadata": {},
   "outputs": [],
   "source": [
    "def compute_hessian_vector_product(p_vector):\n",
    "    p.vector()[:] = p_vector[:].copy()\n",
    "    \n",
    "    solve_incremental_forward()\n",
    "    solve_incremental_adjoint()\n",
    "    Hp = assemble(hessian_form0)\n",
    "    return Hp"
   ]
  },
  {
   "cell_type": "code",
   "execution_count": 25,
   "metadata": {},
   "outputs": [],
   "source": [
    "update_m(m_original_numpy_vector) # Reset to original m\n",
    "\n",
    "solve_forward()\n",
    "solve_adjoint()\n",
    "Hdm = compute_hessian_vector_product(dm.vector()[:].copy())"
   ]
  },
  {
   "cell_type": "code",
   "execution_count": 26,
   "metadata": {},
   "outputs": [
    {
     "name": "stdout",
     "output_type": "stream",
     "text": [
      "s= 1e-06 , err_hess= 1.793916254111672e-06\n"
     ]
    }
   ],
   "source": [
    "Hdm_diff = (g_dual1[:] - g_dual0[:])/s\n",
    "err_hess = np.linalg.norm(Hdm_diff - Hdm[:])/np.linalg.norm(Hdm_diff)\n",
    "print('s=', s, ', err_hess=', err_hess)"
   ]
  },
  {
   "cell_type": "markdown",
   "metadata": {},
   "source": [
    "## Regularization\n",
    "$$J_R = \\frac{1}{2} \\left(\\int_\\Omega \\|\\nabla m\\|^2 dx + 0.1 \\int_\\Omega m^2 dx\\right)$$\n",
    "$$\\frac{d^2 J_R}{dm^2} = R = \\Delta_N + 0.1 M$$\n",
    "where $\\Delta_N$ is discretized Neumann Laplacian, and $M$ is mass matrix.\n",
    "$$M_{ij} := \\int_\\Omega \\phi_i \\phi_j dx$$\n",
    "$$\\left(\\Delta_N\\right)_{ij} := \\int_\\Omega \\nabla \\phi_i \\cdot \\nabla \\phi_j dx$$"
   ]
  },
  {
   "cell_type": "code",
   "execution_count": 27,
   "metadata": {},
   "outputs": [],
   "source": [
    "regularization_form0 = 0.5 * (inner(grad(m), grad(m)) * dx + 0.1 * m * m * dx)\n",
    "regularization_gradient_form = derivative(regularization_form0, m, TestFunction(V))\n",
    "regularization_hessian_form = derivative(regularization_gradient_form, m, TrialFunction(V))\n",
    "R3 = assemble(regularization_hessian_form)"
   ]
  },
  {
   "cell_type": "code",
   "execution_count": 29,
   "metadata": {
    "scrolled": true
   },
   "outputs": [],
   "source": [
    "mass_form = TestFunction(V) * TrialFunction(V) * dx\n",
    "M = assemble(mass_form)\n",
    "\n",
    "neumann_laplacian_form = inner(grad(TestFunction(V)), grad(TrialFunction(V))) * dx\n",
    "Delta_N = assemble(neumann_laplacian_form)\n",
    "\n",
    "# regularization_form = neumann_laplacian_form + 0.1*mass_form\n",
    "regularization_form = neumann_laplacian_form\n",
    "\n",
    "def dirichlet_boundary(x, on_boundary):\n",
    "    return on_boundary\n",
    "\n",
    "bc_R = DirichletBC(V, Constant(0.0), dirichlet_boundary)\n",
    "\n",
    "R0 = assemble(regularization_form)\n",
    "# R = Delta_N + 0.1 * M\n",
    "\n",
    "bc_R.apply(R0)\n",
    "R = R0"
   ]
  },
  {
   "cell_type": "code",
   "execution_count": 30,
   "metadata": {},
   "outputs": [
    {
     "data": {
      "text/plain": [
       "0.0"
      ]
     },
     "execution_count": 30,
     "metadata": {},
     "output_type": "execute_result"
    }
   ],
   "source": [
    "z = Function(V)\n",
    "z.vector()[:] = np.random.randn(V.dim())\n",
    "w = R0 * z.vector() - R * z.vector()\n",
    "np.linalg.norm(w[:])"
   ]
  },
  {
   "cell_type": "code",
   "execution_count": 31,
   "metadata": {},
   "outputs": [
    {
     "data": {
      "text/plain": [
       "15.12010740258796"
      ]
     },
     "execution_count": 31,
     "metadata": {},
     "output_type": "execute_result"
    }
   ],
   "source": [
    "z = Function(V)\n",
    "z.vector()[:] = np.random.randn(V.dim())\n",
    "w = R0 * z.vector() - R3 * z.vector()\n",
    "np.linalg.norm(w[:])"
   ]
  },
  {
   "cell_type": "markdown",
   "metadata": {},
   "source": [
    "## Optimize"
   ]
  },
  {
   "cell_type": "code",
   "execution_count": 37,
   "metadata": {},
   "outputs": [],
   "source": [
    "a_reg = 1e-5 # regularization parameter\n",
    "\n",
    "def fun(m_numpy):\n",
    "    if True:\n",
    "#     if np.linalg.norm(m_numpy - m.vector()[:]) > 1e-12:\n",
    "        update_m(m_numpy)\n",
    "#         m.vector()[:] = m_numpy\n",
    "    solve_forward()\n",
    "    return compute_data_misfit() + a_reg * assemble(regularization_form0)\n",
    "    \n",
    "\n",
    "def jac(m_numpy):\n",
    "    if True:\n",
    "#     if np.linalg.norm(m_numpy - m.vector()[:]) > 1e-12:\n",
    "#         m.vector()[:] = m_numpy\n",
    "        update_m(m_numpy)\n",
    "        solve_forward()\n",
    "    solve_adjoint()\n",
    "    gd = compute_gradient()\n",
    "    gr = a_reg * assemble(regularization_gradient_form)\n",
    "    return gd[:] + gr[:]\n",
    "\n",
    "\n",
    "dm = Function(V)\n",
    "def hessp(m_numpy, dm_numpy):\n",
    "    if True:\n",
    "#     if np.linalg.norm(m_numpy - m.vector()[:]) > 1e-12:\n",
    "#         m.vector()[:] = m_numpy\n",
    "        update_m(m_numpy)\n",
    "        solve_forward()\n",
    "        solve_adjoint()\n",
    "    dm.vector()[:] = dm_numpy\n",
    "    Hd_dm = compute_hessian_vector_product(dm.vector())\n",
    "    HR_dm = a_reg * (R3 * dm.vector())\n",
    "    return Hd_dm[:] + HR_dm[:]"
   ]
  },
  {
   "cell_type": "code",
   "execution_count": 38,
   "metadata": {},
   "outputs": [
    {
     "name": "stdout",
     "output_type": "stream",
     "text": [
      "s= 1.0 , err_grad= -0.7987257363352308 , err_hess= 0.5646858957351603\n",
      "s= 0.1 , err_grad= -0.13785620792222905 , err_hess= 0.04212550179960693\n",
      "s= 0.01 , err_grad= -0.014762156157543055 , err_hess= 0.004076884844363283\n",
      "s= 0.001 , err_grad= -0.0014867245512469804 , err_hess= 0.00040636340043446664\n",
      "s= 0.0001 , err_grad= -0.00014877822901094374 , err_hess= 4.062335453265427e-05\n",
      "s= 1e-05 , err_grad= -1.4878744189241695e-05 , err_hess= 4.062416193549867e-06\n",
      "s= 1e-06 , err_grad= -1.4894765673460283e-06 , err_hess= 4.075887272940522e-07\n",
      "s= 1e-07 , err_grad= -1.5662827291495705e-07 , err_hess= 4.857887206493747e-08\n",
      "s= 1e-08 , err_grad= -4.3936236530341794e-07 , err_hess= 4.2749785235102467e-07\n",
      "s= 1e-09 , err_grad= -5.50238436323587e-07 , err_hess= 9.842838121736443e-07\n",
      "s= 1e-10 , err_grad= -7.265407585993079e-05 , err_hess= 7.05531539355763e-05\n",
      "s= 1e-11 , err_grad= -0.00020606428686783908 , err_hess= 0.00041738806176931485\n",
      "s= 1e-12 , err_grad= 0.0009272732700642093 , err_hess= 0.0051726958883482315\n",
      "s= 1e-13 , err_grad= -0.0010524088368781645 , err_hess= 0.024534872676555207\n",
      "s= 1e-14 , err_grad= 0.21410553387517883 , err_hess= 0.7309279118003712\n",
      "s= 1e-15 , err_grad= -2.9425688542002866 , err_hess= 1.2888718314571668\n",
      "s= 1e-16 , err_grad= -0.158220163179876 , err_hess= 1.8713672561334724\n"
     ]
    },
    {
     "data": {
      "text/plain": [
       "<matplotlib.legend.Legend at 0x7efced1a3eb0>"
      ]
     },
     "execution_count": 38,
     "metadata": {},
     "output_type": "execute_result"
    },
    {
     "data": {
      "image/png": "[encoded data removed]",
      "text/plain": [
       "<Figure size 432x288 with 1 Axes>"
      ]
     },
     "metadata": {
      "needs_background": "light"
     },
     "output_type": "display_data"
    }
   ],
   "source": [
    "m0 = Expression('cos(x[0]) + x[1]', degree=5)\n",
    "m0_numpy = project(m0, V).vector()[:]\n",
    "\n",
    "dmE = Expression('sin(x[1]) + x[1]*x[0]', degree=5)\n",
    "dm_numpy = project(dmE, V).vector()[:]\n",
    "\n",
    "# m0_numpy = np.random.randn(V.dim()) # error big: maybe because of quadrature error near boundary..?\n",
    "# dm_numpy = np.random.randn(V.dim())\n",
    "\n",
    "J0 = fun(m0_numpy)\n",
    "grad0 = jac(m0_numpy)\n",
    "dJ = np.dot(grad0, dm_numpy)\n",
    "Hdm = hessp(m0_numpy, dm_numpy)\n",
    "\n",
    "ss = np.logspace(-16, 0, 17)[::-1]\n",
    "grad_errs = []\n",
    "hess_errs = []\n",
    "for k in range(len(ss)):\n",
    "    s = ss[k]\n",
    "    m1_numpy = m0_numpy + s * dm_numpy\n",
    "    J1 = fun(m1_numpy)\n",
    "    grad1 = jac(m1_numpy)\n",
    "    dJ1 = np.dot(grad1, dm_numpy)\n",
    "    \n",
    "    dJ_diff = (J1 - J0)/s\n",
    "    err_grad = (dJ - dJ_diff)/dJ_diff\n",
    "    grad_errs.append(err_grad)\n",
    "    \n",
    "    Hdm_diff = (grad1 - grad0)/s\n",
    "    err_hess = np.linalg.norm(Hdm_diff - Hdm)/np.linalg.norm(Hdm_diff)\n",
    "    hess_errs.append(err_hess)\n",
    "    \n",
    "    print('s=', s, ', err_grad=', err_grad, ', err_hess=', err_hess)\n",
    "    \n",
    "plt.loglog(ss, np.abs(grad_errs))\n",
    "plt.loglog(ss, np.abs(hess_errs))\n",
    "plt.legend(['grad err', 'hess err'])"
   ]
  },
  {
   "cell_type": "code",
   "execution_count": null,
   "metadata": {},
   "outputs": [],
   "source": [
    "dJ_diff"
   ]
  },
  {
   "cell_type": "code",
   "execution_count": 39,
   "metadata": {},
   "outputs": [],
   "source": [
    "# soln = minimize(fun, np.zeros(V.dim()), args=(), method='trust-ncg', jac=jac, hessp=hessp, tol=1e-6, callback=None, options={})\n",
    "soln = minimize(fun, m_true_vector[:], args=(), method='trust-ncg', jac=jac, hessp=hessp, tol=1e-6, callback=None, options={})"
   ]
  },
  {
   "cell_type": "code",
   "execution_count": 40,
   "metadata": {},
   "outputs": [
    {
     "data": {
      "text/plain": [
       "     fun: 5.797813351486064e-08\n",
       "     jac: array([-9.28218127e-11, -1.40529422e-09, -1.41374616e-09, -3.62537209e-09,\n",
       "       -5.01327143e-09, -2.92685589e-09, -7.57019417e-09, -7.24696502e-09,\n",
       "       -5.67666565e-09, -5.47756034e-09, -1.24417625e-08, -1.10826260e-08,\n",
       "       -1.68365980e-09, -7.77784174e-09, -8.19569117e-09, -1.67904657e-08,\n",
       "       -1.41237362e-08,  2.01741244e-10, -6.51345853e-10, -9.14465969e-09,\n",
       "       -1.02561065e-08, -2.01449559e-08, -1.64666881e-08,  2.68183764e-09,\n",
       "        6.40565635e-10,  9.65421357e-10, -9.02174642e-09, -1.05729583e-08,\n",
       "       -2.28603368e-08, -1.81454374e-08,  4.81265788e-09,  2.59339398e-09,\n",
       "        1.60049824e-09,  2.37235783e-09, -7.55323703e-09, -8.88455110e-09,\n",
       "       -2.51940669e-08, -1.96594364e-08,  6.11996671e-09,  4.38278304e-09,\n",
       "        2.66307665e-09,  2.48351864e-09,  2.79533151e-09, -4.87620943e-09,\n",
       "       -5.26217583e-09, -2.63425497e-08, -2.02809363e-08,  7.29358227e-09,\n",
       "        5.89367225e-09,  4.12797649e-09,  3.09392438e-09,  2.81932620e-09,\n",
       "        2.00169537e-09, -1.54553064e-09, -3.76751393e-10, -2.46361688e-08,\n",
       "       -1.90029659e-08,  8.54528170e-09,  6.93073494e-09,  5.24689896e-09,\n",
       "        3.92527032e-09,  3.10770345e-09,  2.31037869e-09,  2.30511412e-10,\n",
       "        1.98187524e-09,  4.67374571e-09, -1.91725916e-08, -1.54976932e-08,\n",
       "        9.24221913e-09,  7.96713995e-09,  6.19512885e-09,  4.83831993e-09,\n",
       "        3.68154671e-09,  2.58192497e-09,  7.25069643e-10, -2.05927931e-09,\n",
       "        5.11554975e-09,  9.01958405e-09, -1.09003458e-08, -1.01764334e-08,\n",
       "        8.14042989e-09,  8.42017182e-09,  6.88712024e-09,  5.51274540e-09,\n",
       "        4.43097144e-09,  3.24001126e-09,  1.50500835e-09, -1.15300906e-09,\n",
       "       -4.24375603e-09,  7.43545379e-09,  1.20307739e-08, -2.34257135e-09,\n",
       "       -4.71980298e-09,  4.67184179e-09,  7.62426146e-09,  7.28605120e-09,\n",
       "        6.14374925e-09,  5.03430715e-09,  3.77718744e-09,  2.01564183e-09,\n",
       "       -3.64866606e-10, -3.35465984e-09, -5.79321492e-09,  8.85688510e-09,\n",
       "        1.34108368e-08,  4.26669978e-09, -2.92396841e-10, -1.44549869e-11,\n",
       "        5.31054033e-09,  6.78847907e-09,  6.37974298e-09,  5.47160077e-09,\n",
       "        4.40185652e-09,  2.83279246e-09,  6.59547306e-10, -2.14217038e-09,\n",
       "       -4.91634158e-09, -6.40259900e-09,  9.35868619e-09,  1.33441436e-08,\n",
       "        7.84739367e-09,  2.58868825e-09, -4.30777643e-09,  1.48986976e-09,\n",
       "        5.02231355e-09,  6.07772057e-09,  5.87279308e-09,  4.95392506e-09,\n",
       "        3.61724867e-09,  1.44690402e-09, -1.31253491e-09, -3.94906716e-09,\n",
       "       -5.95707167e-09, -6.29529790e-09,  8.91031829e-09,  1.20667788e-08,\n",
       "        8.44717610e-09,  3.69375048e-09, -7.01193285e-09, -2.39898462e-09,\n",
       "        2.29275519e-09,  5.04377625e-09,  5.72479906e-09,  5.18592140e-09,\n",
       "        4.02167687e-09,  2.20030298e-09, -2.10799369e-10, -2.83412143e-09,\n",
       "       -5.06147942e-09, -6.10790455e-09, -5.37682190e-09,  7.86877618e-09,\n",
       "        9.82202220e-09,  7.06312310e-09,  3.77944454e-09, -7.23681923e-09,\n",
       "       -5.20687850e-09, -9.72040821e-10,  2.86017127e-09,  4.92864671e-09,\n",
       "        5.28100686e-09,  4.66315399e-09,  3.06001464e-09,  5.89627155e-10,\n",
       "       -2.00560629e-09, -4.26634823e-09, -5.56599579e-09, -5.54419995e-09,\n",
       "       -4.11742879e-09,  6.23990632e-09,  7.00964764e-09,  4.81541427e-09,\n",
       "        3.24443155e-09, -5.85356889e-09, -6.39431861e-09, -3.71713327e-09,\n",
       "        2.25171547e-10,  3.32957680e-09,  4.88668328e-09,  4.92940249e-09,\n",
       "        3.65486610e-09,  1.58540894e-09, -9.89698837e-10, -3.41723410e-09,\n",
       "       -5.00832107e-09, -5.30951085e-09, -4.35475229e-09, -2.36828991e-09,\n",
       "        4.56678492e-09,  4.27065210e-09,  2.53004947e-09,  2.42941089e-09,\n",
       "       -3.70991620e-09, -5.99465696e-09, -5.40044578e-09, -2.51219421e-09,\n",
       "        1.17135426e-09,  3.86851150e-09,  4.83291766e-09,  4.15182139e-09,\n",
       "        2.32429145e-09, -1.04453830e-10, -2.63317463e-09, -4.50486640e-09,\n",
       "       -5.22754991e-09, -4.59104767e-09, -2.87951170e-09, -6.45827932e-10,\n",
       "        3.06806986e-09,  2.08160308e-09,  1.07822691e-09,  2.34022718e-09,\n",
       "       -1.70980025e-09, -4.86758210e-09, -5.94611599e-09, -4.40617099e-09,\n",
       "       -1.09598861e-09,  2.20591643e-09,  4.24197491e-09,  4.52053751e-09,\n",
       "        3.31990480e-09,  9.18276880e-10, -1.67415483e-09, -3.74928109e-09,\n",
       "       -4.89344083e-09, -4.86896913e-09, -3.55349194e-09, -1.54523089e-09,\n",
       "        5.76087629e-10,  2.32270533e-09,  8.71241499e-10,  2.44001377e-09,\n",
       "        2.25684753e-09, -3.67410113e-09, -5.83008475e-09, -5.52749780e-09,\n",
       "       -3.23842716e-09,  1.79546077e-10,  3.17759496e-09,  4.55988323e-09,\n",
       "        4.08939349e-09,  2.04653098e-09, -6.24805935e-10, -3.03019911e-09,\n",
       "       -4.59488238e-09, -4.98885112e-09, -4.31186196e-09, -2.81365569e-09,\n",
       "       -6.88948762e-10,  2.98758082e-09,  2.08079282e-09,  4.31421309e-09,\n",
       "        2.32829874e-09, -5.29102162e-09, -5.82139494e-09, -4.23228121e-09,\n",
       "       -1.40030239e-09,  1.83390293e-09,  4.09122927e-09,  4.45277962e-09,\n",
       "        2.93792873e-09,  5.19161164e-10, -1.91571883e-09, -3.66693085e-09,\n",
       "       -4.52242230e-09, -4.57470104e-09, -4.00644343e-09, -2.46194369e-09,\n",
       "        4.14968047e-09,  4.07133463e-09,  4.98656685e-09,  1.25575403e-09,\n",
       "       -4.51373353e-09, -3.79231210e-09, -1.90216539e-09,  7.21156850e-10,\n",
       "        3.36462136e-09,  4.62343164e-09,  3.95889353e-09,  1.88971741e-09,\n",
       "       -5.84204665e-10, -2.44878646e-09, -3.49309052e-09, -4.04899036e-09,\n",
       "       -4.37153033e-09, -3.86087372e-09,  4.95467663e-09,  6.25631736e-09,\n",
       "        2.35920961e-09, -1.95260896e-09,  8.52372625e-10,  5.62052602e-10,\n",
       "        1.04110145e-09,  2.77668391e-09,  4.48217473e-09,  4.75259899e-09,\n",
       "        3.27849105e-09,  8.32862942e-10, -1.11761441e-09, -1.81111706e-09,\n",
       "       -2.09959945e-09, -2.88818837e-09, -3.40138771e-09,  4.88221090e-09,\n",
       "        7.66575825e-09, -5.75866506e-09, -7.35719059e-09,  1.07301101e-08,\n",
       "        5.03990713e-09,  3.38693794e-09,  4.44990350e-09,  5.25356136e-09,\n",
       "        4.18252478e-09,  2.09652080e-09,  3.90972642e-10,  5.90148479e-11,\n",
       "        7.00079851e-10,  7.65694166e-10,  5.21166605e-11,  3.14522626e-09,\n",
       "        6.61204591e-09, -1.83092383e-08, -1.26314317e-08,  1.76200356e-08,\n",
       "        6.26254817e-09,  4.63583563e-09,  5.71094095e-09,  5.19726919e-09,\n",
       "        3.19722609e-09,  1.33315796e-09,  1.30917943e-09,  3.50978522e-09,\n",
       "        6.35629254e-09,  7.99974498e-09, -3.28628126e-10,  1.71429714e-09,\n",
       "       -2.56017684e-08, -1.14687257e-08,  9.21485291e-09,  3.94231202e-09,\n",
       "        6.08325631e-09,  6.53006128e-09,  4.34762636e-09,  1.83848004e-09,\n",
       "        1.11032366e-09,  4.23083290e-09,  1.09388559e-08,  1.88835909e-08,\n",
       "       -5.25316297e-09, -7.68913781e-09, -1.37302845e-08, -6.36477153e-09,\n",
       "       -7.35666114e-09,  5.34212293e-09,  8.79996298e-09,  5.66947280e-09,\n",
       "        2.09076224e-09, -6.49194360e-10,  7.72966067e-10,  9.49232972e-09,\n",
       "        2.62727491e-08, -9.37601437e-09, -1.93045339e-08,  7.84267551e-10,\n",
       "       -2.64239218e-08,  4.66225174e-09,  1.56605539e-08,  7.47581092e-09,\n",
       "        2.95877327e-09, -2.42323714e-09, -5.90043597e-09, -2.28138056e-09,\n",
       "        1.71266810e-08, -9.12362537e-09, -2.54566033e-08, -2.70447252e-08,\n",
       "        1.59042836e-08,  4.67997293e-08,  7.75842798e-09,  4.81816146e-09,\n",
       "       -2.10758556e-09, -1.09913857e-08, -2.01806703e-08, -1.81813623e-08,\n",
       "       -2.78001337e-10, -1.30348842e-08,  3.88971654e-09,  2.08463530e-08,\n",
       "       -1.47228241e-08,  6.11351050e-09,  5.49894580e-10, -8.99320831e-09,\n",
       "       -2.71947257e-08, -6.03040818e-08,  1.65946979e-08,  2.60703203e-08,\n",
       "       -4.47399971e-09, -3.07888632e-08,  2.70436401e-09,  3.58156727e-09,\n",
       "       -3.51268825e-09, -1.18742837e-08, -5.33317314e-08,  2.87065018e-08,\n",
       "        7.00357931e-08,  1.55073088e-09,  2.29816148e-08,  1.75065664e-08,\n",
       "       -6.35947093e-09,  3.63334983e-09,  1.63268475e-08,  1.76728460e-08,\n",
       "        6.13351921e-08,  7.54529361e-09, -1.52048897e-08, -4.67132789e-08,\n",
       "       -2.34902199e-09,  3.44384038e-08,  1.57904556e-09, -1.20978340e-08,\n",
       "        1.28981835e-08, -2.94751956e-09,  2.43020212e-08, -2.73316412e-08,\n",
       "        8.76258810e-09, -2.83591563e-08, -1.13346658e-08,  4.54932964e-08,\n",
       "        3.82965882e-08, -3.01127247e-09,  3.56095744e-08, -3.18016904e-08,\n",
       "       -3.73658543e-09, -6.05950011e-08,  1.30722620e-08, -9.72240536e-09,\n",
       "       -3.35014085e-08,  7.50522495e-09,  8.32922376e-09,  3.29624233e-08,\n",
       "       -1.06375894e-10])\n",
       " message: 'Optimization terminated successfully.'\n",
       "    nfev: 3\n",
       "    nhev: 395\n",
       "     nit: 2\n",
       "    njev: 3\n",
       "  status: 0\n",
       " success: True\n",
       "       x: array([-4.68417556e-02, -4.66789680e-02, -4.69898820e-02, -4.57434566e-02,\n",
       "       -4.64587886e-02, -4.69856694e-02, -4.39565183e-02, -4.42781336e-02,\n",
       "       -4.53039431e-02, -4.75985232e-02, -4.02005895e-02, -4.06253080e-02,\n",
       "       -4.01422857e-02, -4.45939849e-02, -4.86182475e-02, -3.30769548e-02,\n",
       "       -3.48564706e-02, -3.33832374e-02, -3.68475514e-02, -4.41051968e-02,\n",
       "       -4.94091997e-02, -2.19394642e-02, -2.66079240e-02, -2.54396096e-02,\n",
       "       -2.83887542e-02, -3.40253234e-02, -4.34327807e-02, -4.93037940e-02,\n",
       "       -7.53500616e-03, -1.61576412e-02, -1.71301693e-02, -1.97054136e-02,\n",
       "       -2.44917474e-02, -3.14741071e-02, -4.22416077e-02, -4.78878025e-02,\n",
       "        8.12390211e-03, -4.47425954e-03, -9.35253310e-03, -1.17189371e-02,\n",
       "       -1.56288541e-02, -2.12261729e-02, -2.91199925e-02, -4.03184960e-02,\n",
       "       -4.50280044e-02,  2.24607971e-02,  7.06037868e-03, -2.70275553e-03,\n",
       "       -5.32506111e-03, -8.06024620e-03, -1.23853062e-02, -1.84909708e-02,\n",
       "       -2.69159524e-02, -3.75852819e-02, -4.08266083e-02,  3.32209251e-02,\n",
       "        1.70375134e-02,  2.66010858e-03, -9.53217524e-04, -2.46367265e-03,\n",
       "       -5.21122551e-03, -9.77317812e-03, -1.63102445e-02, -2.48222170e-02,\n",
       "       -3.40939276e-02, -3.55734029e-02,  3.91629966e-02,  2.44152294e-02,\n",
       "        6.92896183e-03,  1.61916824e-03,  8.78021604e-04, -9.76684297e-05,\n",
       "       -2.92292370e-03, -7.82965419e-03, -1.47159374e-02, -2.28191196e-02,\n",
       "       -3.00251807e-02, -2.96922139e-02,  4.03303603e-02,  2.87840563e-02,\n",
       "        1.04597797e-02,  3.10072887e-03,  2.25911687e-03,  2.79405383e-03,\n",
       "        1.90229998e-03, -1.25402640e-03, -6.64186566e-03, -1.36868170e-02,\n",
       "       -2.09092231e-02, -2.56508934e-02, -2.37004728e-02,  3.78457695e-02,\n",
       "        3.03776378e-02,  1.35838447e-02,  4.37942895e-03,  2.46540664e-03,\n",
       "        3.74652305e-03,  4.64570575e-03,  3.41009262e-03, -3.51066852e-04,\n",
       "       -6.24406971e-03, -1.31584674e-02, -1.90904982e-02, -2.12863713e-02,\n",
       "       -1.81344345e-02,  3.33695095e-02,  2.98960464e-02,  1.64732696e-02,\n",
       "        6.18462136e-03,  2.48837472e-03,  3.44912099e-03,  5.54673603e-03,\n",
       "        6.18196581e-03,  4.23186621e-03, -2.91718199e-04, -6.55879183e-03,\n",
       "       -1.29828043e-02, -1.73440723e-02, -1.72409345e-02, -1.34499447e-02,\n",
       "        2.84631776e-02,  2.82015928e-02,  1.90962170e-02,  8.84544146e-03,\n",
       "        3.20128885e-03,  2.81542241e-03,  5.16397419e-03,  7.24953759e-03,\n",
       "        7.14254547e-03,  4.22075878e-03, -1.05688514e-03, -7.40870337e-03,\n",
       "       -1.29649629e-02, -1.56327995e-02, -1.37637954e-02, -9.96005676e-03,\n",
       "        2.41612834e-02,  2.60452051e-02,  2.12869354e-02,  1.22583356e-02,\n",
       "        5.09981940e-03,  2.71121372e-03,  4.25007165e-03,  7.02812426e-03,\n",
       "        8.51260358e-03,  7.32043477e-03,  3.35019057e-03, -2.46933329e-03,\n",
       "       -8.51445153e-03, -1.28675235e-02, -1.38987234e-02, -1.10018959e-02,\n",
       "       -7.77946506e-03,  2.09120966e-02,  2.39384411e-02,  2.28844397e-02,\n",
       "        1.59886366e-02,  8.19795053e-03,  3.70723015e-03,  3.57537330e-03,\n",
       "        6.10766173e-03,  8.64209848e-03,  9.08971876e-03,  6.63792942e-03,\n",
       "        1.73835567e-03, -4.26001384e-03, -9.55828610e-03, -1.24728551e-02,\n",
       "       -1.20961255e-02, -8.98089056e-03, -6.75155735e-03,  1.87500660e-02,\n",
       "        2.21089491e-02,  2.37853954e-02,  1.94899334e-02,  1.21058477e-02,\n",
       "        5.97146387e-03,  3.72152773e-03,  5.11634874e-03,  7.94419931e-03,\n",
       "        9.69999053e-03,  8.83473469e-03,  5.15478808e-03, -3.67736096e-04,\n",
       "       -6.08305789e-03, -1.02441439e-02, -1.16397118e-02, -1.02201499e-02,\n",
       "       -7.59703527e-03, -6.45624016e-03,  1.74109916e-02,  2.04942843e-02,\n",
       "        2.38988142e-02,  2.22869488e-02,  1.62118571e-02,  9.25410207e-03,\n",
       "        4.95375678e-03,  4.58089017e-03,  6.89847531e-03,  9.42988108e-03,\n",
       "        1.00173927e-02,  7.74571116e-03,  3.05708465e-03, -2.64729602e-03,\n",
       "       -7.61835559e-03, -1.03860116e-02, -1.03728922e-02, -8.40742639e-03,\n",
       "       -6.71617946e-03, -6.44247505e-03,  1.65422156e-02,  1.87804242e-02,\n",
       "        2.30380120e-02,  2.40249141e-02,  1.99026708e-02,  1.30395891e-02,\n",
       "        7.17608268e-03,  4.80307558e-03,  5.93772635e-03,  8.60913692e-03,\n",
       "        1.03473399e-02,  9.52677883e-03,  5.95183526e-03,  6.37395505e-04,\n",
       "       -4.77005747e-03, -8.64175158e-03, -9.95957491e-03, -8.85804528e-03,\n",
       "       -6.92866599e-03, -6.30275618e-03, -6.52023752e-03,  1.74839837e-02,\n",
       "        2.08400064e-02,  2.44229220e-02,  2.27318499e-02,  1.67438075e-02,\n",
       "        1.00111354e-02,  5.80309042e-03,  5.35321060e-03,  7.55531611e-03,\n",
       "        1.00119422e-02,  1.05538251e-02,  8.27878589e-03,  3.68915104e-03,\n",
       "       -1.79158471e-03, -6.48753915e-03, -9.07881291e-03, -9.09075139e-03,\n",
       "       -7.33906079e-03, -6.01427331e-03, -6.20084886e-03,  1.91587544e-02,\n",
       "        2.29808114e-02,  2.45042889e-02,  1.99986944e-02,  1.30183901e-02,\n",
       "        7.36412817e-03,  5.23556205e-03,  6.51035179e-03,  9.21697449e-03,\n",
       "        1.09083339e-02,  1.00228585e-02,  6.44666521e-03,  1.25639906e-03,\n",
       "       -3.94473515e-03, -7.65881721e-03, -8.95437513e-03, -7.84241803e-03,\n",
       "       -5.81047458e-03, -5.50649224e-03,  2.20396272e-02,  2.51298693e-02,\n",
       "        2.29664242e-02,  1.60237246e-02,  9.20582326e-03,  5.49576220e-03,\n",
       "        5.59943401e-03,  8.14738827e-03,  1.07053565e-02,  1.11915412e-02,\n",
       "        8.84267274e-03,  4.28274176e-03, -1.06521739e-03, -5.64788639e-03,\n",
       "       -8.23212557e-03, -8.17154225e-03, -5.81684960e-03, -4.67983530e-03,\n",
       "        2.61128449e-02,  2.66626618e-02,  1.97256004e-02,  1.14019081e-02,\n",
       "        6.02648899e-03,  4.84010251e-03,  6.93293520e-03,  1.00545920e-02,\n",
       "        1.18082476e-02,  1.08203675e-02,  7.18295690e-03,  2.05018579e-03,\n",
       "       -3.07482071e-03, -6.81084108e-03, -8.06914271e-03, -6.17167061e-03,\n",
       "       -4.28616030e-03,  3.02530020e-02,  2.65518740e-02,  1.51267849e-02,\n",
       "        7.09009019e-03,  4.27430121e-03,  5.68090791e-03,  9.08309032e-03,\n",
       "        1.19211226e-02,  1.23387887e-02,  9.85735360e-03,  5.26254103e-03,\n",
       "       -6.38294135e-05, -4.71525557e-03, -7.40831121e-03, -6.85436873e-03,\n",
       "       -4.80752621e-03,  3.24391982e-02,  2.38315552e-02,  1.00420220e-02,\n",
       "        4.26307455e-03,  4.56151655e-03,  7.96821611e-03,  1.16554455e-02,\n",
       "        1.34052346e-02,  1.22090317e-02,  8.42178808e-03,  3.21920212e-03,\n",
       "       -2.05870491e-03, -6.14548252e-03, -7.62801674e-03, -6.24231463e-03,\n",
       "        3.06128075e-02,  1.82917472e-02,  5.92728083e-03,  3.98826942e-03,\n",
       "        7.01012228e-03,  1.12297830e-02,  1.41101480e-02,  1.42010708e-02,\n",
       "        1.13920585e-02,  6.58643079e-03,  9.86889523e-04, -4.30034272e-03,\n",
       "       -8.12729615e-03, -8.13872780e-03,  2.38442442e-02,  1.12297842e-02,\n",
       "        4.61071989e-03,  6.70154981e-03,  1.10379002e-02,  1.46693933e-02,\n",
       "        1.58770202e-02,  1.40864330e-02,  9.86640586e-03,  4.22734747e-03,\n",
       "       -1.93230869e-03, -7.97024695e-03, -9.83171708e-03,  1.36704102e-02,\n",
       "        5.94229806e-03,  7.34666686e-03,  1.16653576e-02,  1.54899009e-02,\n",
       "        1.74124236e-02,  1.65040457e-02,  1.29287000e-02,  7.49288002e-03,\n",
       "        8.22576216e-04, -6.88093282e-03, -1.06727291e-02,  5.16127807e-03,\n",
       "        6.46504393e-03,  1.33434028e-02,  1.71108417e-02,  1.91169279e-02,\n",
       "        1.87467369e-02,  1.57229325e-02,  1.05862802e-02,  3.86459798e-03,\n",
       "       -4.75489363e-03, -1.01618435e-02,  4.52162424e-03,  1.30417753e-02,\n",
       "        1.96211987e-02,  2.12723623e-02,  2.09759455e-02,  1.82664534e-02,\n",
       "        1.34488072e-02,  6.88525037e-03, -1.70120008e-03, -8.16728305e-03,\n",
       "        1.15645351e-02,  2.03520189e-02,  2.33865280e-02,  2.31306267e-02,\n",
       "        2.06293357e-02,  1.59223604e-02,  9.90656344e-03,  1.95174351e-03,\n",
       "       -4.73305985e-03,  1.80739467e-02,  2.17001255e-02,  2.38336448e-02,\n",
       "        2.26822105e-02,  1.80339009e-02,  1.23140839e-02,  5.76936045e-03,\n",
       "       -4.96313287e-04,  1.55393282e-02,  1.72956007e-02,  2.29821284e-02,\n",
       "        1.95703838e-02,  1.42596321e-02,  9.07698968e-03,  4.16893273e-03,\n",
       "        7.06908523e-03,  1.36605522e-02,  1.98644665e-02,  1.50589100e-02,\n",
       "        1.14872843e-02,  8.12732755e-03,  5.81362836e-03,  1.54606678e-02,\n",
       "        1.51613943e-02,  1.22581100e-02,  1.10298478e-02,  1.45809299e-02,\n",
       "        1.46481936e-02,  1.20135319e-02,  1.17236712e-02,  1.43230391e-02,\n",
       "        1.29310252e-02,  1.20294417e-02,  1.36551844e-02,  1.36709566e-02,\n",
       "        1.36518638e-02])"
      ]
     },
     "execution_count": 40,
     "metadata": {},
     "output_type": "execute_result"
    }
   ],
   "source": [
    "soln"
   ]
  },
  {
   "cell_type": "code",
   "execution_count": 41,
   "metadata": {},
   "outputs": [
    {
     "data": {
      "text/plain": [
       "<matplotlib.colorbar.Colorbar at 0x7efcece980d0>"
      ]
     },
     "execution_count": 41,
     "metadata": {},
     "output_type": "execute_result"
    },
    {
     "data": {
      "image/png": "[encoded data removed]",
      "text/plain": [
       "<Figure size 432x288 with 2 Axes>"
      ]
     },
     "metadata": {
      "needs_background": "light"
     },
     "output_type": "display_data"
    },
    {
     "data": {
      "image/png": "[encoded data removed]",
      "text/plain": [
       "<Figure size 432x288 with 2 Axes>"
      ]
     },
     "metadata": {
      "needs_background": "light"
     },
     "output_type": "display_data"
    }
   ],
   "source": [
    "m_reconstructed = Function(V)\n",
    "m_reconstructed.vector()[:] = soln.x\n",
    "cm1 = plot(m_reconstructed)\n",
    "plt.colorbar(cm1)\n",
    "\n",
    "plt.figure()\n",
    "cm2 = plot(m_true, mesh=mesh)\n",
    "plt.colorbar(cm2)"
   ]
  }
 ],
 "metadata": {
  "kernelspec": {
   "display_name": "Python 3",
   "language": "python",
   "name": "python3"
  },
  "language_info": {
   "codemirror_mode": {
    "name": "ipython",
    "version": 3
   },
   "file_extension": ".py",
   "mimetype": "text/x-python",
   "name": "python",
   "nbconvert_exporter": "python",
   "pygments_lexer": "ipython3",
   "version": "3.8.5"
  }
 },
 "nbformat": 4,
 "nbformat_minor": 4
}
