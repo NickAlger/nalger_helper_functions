{
 "cells": [
  {
   "cell_type": "markdown",
   "metadata": {},
   "source": [
    "# Create Shepp-Logan phantom function in Fenics\n",
    "\n",
    "### Original values from:\n",
    "\n",
    "https://en.wikipedia.org/wiki/Shepp%E2%80%93Logan_phantom\n",
    "\n",
    "### Modified values from:\n",
    "\n",
    "Toft, PA, \"The Radon Transform - Theory and Implementation\", PhD dissertation, Departement of Mathematical Modelling, Technical University of Denmark (1996), page 201, https://core.ac.uk/download/pdf/13746920.pdf"
   ]
  },
  {
   "cell_type": "code",
   "execution_count": 1,
   "metadata": {},
   "outputs": [],
   "source": [
    "import numpy as np\n",
    "from fenics import *\n",
    "import matplotlib.pyplot as plt"
   ]
  },
  {
   "cell_type": "code",
   "execution_count": 2,
   "metadata": {},
   "outputs": [],
   "source": [
    "ellipse_centers = np.array([[0., 0.],\n",
    "                            [0., -0.0184],\n",
    "                            [0.22, 0.],\n",
    "                            [-0.22, 0.],\n",
    "                            [0., 0.35],\n",
    "                            [0., 0.1],\n",
    "                            [0., -0.1],\n",
    "                            [-0.08, -0.605],\n",
    "                            [0., -0.605],\n",
    "                            [0.06, -0.605]])\n",
    "\n",
    "major_axis_lengths = np.array([0.69, 0.6624, 0.11, 0.16, 0.21, 0.046, 0.046, 0.046, 0.023, 0.023])\n",
    "\n",
    "minor_axis_lengths = np.array([0.92, 0.874, 0.31, 0.41, 0.25, 0.046, 0.046, 0.023, 0.023, 0.046])\n",
    "\n",
    "thetas_in_degrees = np.array([0., 0., -18., 18., 0., 0., 0., 0., 0., 0.])\n",
    "\n",
    "# gray_levels = np.array([2., -0.98, -0.02, -0.02, 0.01, 0.01, 0.01, 0.01, 0.01, 0.01]) # <-- original\n",
    "gray_levels = np.array([1., -0.8, -0.2, -0.2, 0.1, 0.1, 0.1, 0.1, 0.1, 0.1]) # <-- modified"
   ]
  },
  {
   "cell_type": "code",
   "execution_count": 3,
   "metadata": {},
   "outputs": [],
   "source": [
    "num_ellipses = len(gray_levels)\n",
    "\n",
    "thetas = (np.pi / 180.) * thetas_in_degrees # radians\n",
    "\n",
    "# major and minor axes of the ellipsoids\n",
    "major_vv = np.array([np.cos(thetas), np.sin(thetas)]).T\n",
    "minor_vv = np.array([major_vv[:,1], -major_vv[:,0]]).T\n",
    "\n",
    "# eigenvector (P) and eigenvalue (D) matrices for the inverse covariance matrices (iC)\n",
    "PP = [np.array([major_vv[k,:], minor_vv[k,:]]).T for k in range(num_ellipses)] \n",
    "DD = [np.diag([1./major_axis_lengths[k]**2, 1./minor_axis_lengths[k]**2]) for k in range(num_ellipses)]\n",
    "iCC = [np.dot(P,np.dot(D, P.T)) for P, D in zip(PP,DD)]\n",
    "\n",
    "def points_in_ellipse(X, iC, x0):\n",
    "    dX = X - x0.reshape((1,-1))\n",
    "    return np.sum(dX.T * np.dot(iC, dX.T), axis=0) < 1."
   ]
  },
  {
   "cell_type": "code",
   "execution_count": 4,
   "metadata": {},
   "outputs": [
    {
     "data": {
      "text/plain": [
       "<matplotlib.colorbar.Colorbar at 0x7f5142f1b430>"
      ]
     },
     "execution_count": 4,
     "metadata": {},
     "output_type": "execute_result"
    },
    {
     "data": {
      "image/png": "[encoded data removed]",
      "text/plain": [
       "<Figure size 432x288 with 2 Axes>"
      ]
     },
     "metadata": {
      "needs_background": "light"
     },
     "output_type": "display_data"
    }
   ],
   "source": [
    "mesh_n = 200\n",
    "mesh = RectangleMesh(Point(-1., -1.), Point(1., 1.), mesh_n, mesh_n)\n",
    "V = FunctionSpace(mesh, 'CG', 1)\n",
    "X = V.tabulate_dof_coordinates()\n",
    "\n",
    "Shepp_Logan_phantom = Function(V)\n",
    "for k in range(num_ellipses):\n",
    "    iC = iCC[k]\n",
    "    x0 = ellipse_centers[k,:]\n",
    "    a = gray_levels[k]\n",
    "    Shepp_Logan_phantom.vector()[:] += a * points_in_ellipse(X, iC, x0)\n",
    "\n",
    "cm = plot(Shepp_Logan_phantom)\n",
    "plt.colorbar(cm)"
   ]
  }
 ],
 "metadata": {
  "kernelspec": {
   "display_name": "Python 3",
   "language": "python",
   "name": "python3"
  },
  "language_info": {
   "codemirror_mode": {
    "name": "ipython",
    "version": 3
   },
   "file_extension": ".py",
   "mimetype": "text/x-python",
   "name": "python",
   "nbconvert_exporter": "python",
   "pygments_lexer": "ipython3",
   "version": "3.8.5"
  }
 },
 "nbformat": 4,
 "nbformat_minor": 4
}
