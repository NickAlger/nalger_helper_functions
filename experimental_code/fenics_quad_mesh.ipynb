{
 "cells": [
  {
   "cell_type": "markdown",
   "metadata": {},
   "source": [
    "## Using a quadrilateral mesh in Fenics\n",
    "This is painful; avoid if possible"
   ]
  },
  {
   "cell_type": "code",
   "execution_count": 1,
   "metadata": {},
   "outputs": [
    {
     "data": {
      "text/plain": [
       "1"
      ]
     },
     "execution_count": 1,
     "metadata": {},
     "output_type": "execute_result"
    }
   ],
   "source": [
    "import numpy as np\n",
    "import dolfin as dl\n",
    "import matplotlib.pyplot as plt\n",
    "\n",
    "p0 = dl.Point(0.0, 0.0)\n",
    "p1 = dl.Point(1.0, 1.0)\n",
    "nx = 20\n",
    "ny = 21\n",
    "\n",
    "quad_mesh = dl.RectangleMesh.create([p0,p1], [nx,ny], dl.CellType.Type.quadrilateral) # <--- make quad mesh\n",
    "\n",
    "V_quad = dl.FunctionSpace(quad_mesh, 'CG', 1)\n",
    "u_trial = dl.TrialFunction(V_quad)\n",
    "v_test = dl.TestFunction(V_quad)\n",
    "\n",
    "A = dl.assemble(dl.inner(dl.grad(u_trial), dl.grad(v_test)) * dl.dx + u_trial * v_test * dl.dx)\n",
    "b = dl.assemble(dl.Expression('sin(x[0]*x[1])', degree=3) * v_test * dl.dx)\n",
    "\n",
    "u_quad = dl.Function(V_quad)\n",
    "dl.solve(A, u_quad.vector(), b)\n",
    "\n",
    "# dl.plot(u_quad) # <--- This will fail. Plotting of quad meshes not supported currently"
   ]
  },
  {
   "cell_type": "markdown",
   "metadata": {},
   "source": [
    "### Idea 1: interpolate to triangle mesh for plotting"
   ]
  },
  {
   "cell_type": "code",
   "execution_count": 2,
   "metadata": {},
   "outputs": [
    {
     "data": {
      "text/plain": [
       "<matplotlib.tri.tricontour.TriContourSet at 0x7fd887674c10>"
      ]
     },
     "execution_count": 2,
     "metadata": {},
     "output_type": "execute_result"
    },
    {
     "data": {
      "image/png": "[encoded data removed]",
      "text/plain": [
       "<Figure size 432x288 with 1 Axes>"
      ]
     },
     "metadata": {
      "needs_background": "light"
     },
     "output_type": "display_data"
    }
   ],
   "source": [
    "tri_mesh = dl.RectangleMesh(p0,p1, nx,ny)\n",
    "V_tri = dl.FunctionSpace(tri_mesh, 'CG', 1)\n",
    "\n",
    "# u_tri = dl.interpolate(u_quad, V_tri) # <--- This will fail. Interpolation from quad mesh not supported either\n",
    "\n",
    "# Must transfer d.o.f. values manually\n",
    "# d.o.f. nodes must exactly match for this to work\n",
    "quad_coords = V_quad.tabulate_dof_coordinates()\n",
    "tri_coords = V_tri.tabulate_dof_coordinates()\n",
    "\n",
    "quad_sort_inds = np.lexsort(quad_coords.T)\n",
    "tri_sort_inds = np.lexsort(tri_coords.T)\n",
    "\n",
    "def tri2quad(ut):\n",
    "    uq = ut.copy()\n",
    "    uq[quad_sort_inds] = ut[tri_sort_inds]\n",
    "    return uq\n",
    "    \n",
    "def quad2tri(uq):\n",
    "    ut = uq.copy()\n",
    "    ut[tri_sort_inds] = uq[quad_sort_inds]\n",
    "    return ut\n",
    "\n",
    "u_tri = dl.Function(V_tri)\n",
    "u_tri.vector()[:] = quad2tri(u_quad.vector())\n",
    "\n",
    "dl.plot(u_tri)"
   ]
  },
  {
   "cell_type": "markdown",
   "metadata": {},
   "source": [
    "### Solve on tri mesh also to check correctness"
   ]
  },
  {
   "cell_type": "code",
   "execution_count": 3,
   "metadata": {},
   "outputs": [
    {
     "name": "stdout",
     "output_type": "stream",
     "text": [
      "err_tri_vs_quad= 7.958561389333878e-05\n"
     ]
    }
   ],
   "source": [
    "V_tri = dl.FunctionSpace(tri_mesh, 'CG', 1)\n",
    "u_trial = dl.TrialFunction(V_tri)\n",
    "v_test = dl.TestFunction(V_tri)\n",
    "\n",
    "A = dl.assemble(dl.inner(dl.grad(u_trial), dl.grad(v_test)) * dl.dx + u_trial * v_test * dl.dx)\n",
    "b = dl.assemble(dl.Expression('sin(x[0]*x[1])', degree=3) * v_test * dl.dx)\n",
    "\n",
    "u_tri2 = dl.Function(V_tri)\n",
    "dl.solve(A, u_tri2.vector(), b)\n",
    "\n",
    "err_tri_vs_quad = np.sqrt(dl.assemble((u_tri - u_tri2)**2 * dl.dx)) / np.sqrt(dl.assemble((u_tri2)**2 * dl.dx))\n",
    "print('err_tri_vs_quad=', err_tri_vs_quad)"
   ]
  }
 ],
 "metadata": {
  "kernelspec": {
   "display_name": "Python 3",
   "language": "python",
   "name": "python3"
  },
  "language_info": {
   "codemirror_mode": {
    "name": "ipython",
    "version": 3
   },
   "file_extension": ".py",
   "mimetype": "text/x-python",
   "name": "python",
   "nbconvert_exporter": "python",
   "pygments_lexer": "ipython3",
   "version": "3.8.5"
  }
 },
 "nbformat": 4,
 "nbformat_minor": 4
}
