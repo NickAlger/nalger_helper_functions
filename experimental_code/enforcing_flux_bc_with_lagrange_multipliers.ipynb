{
 "cells": [
  {
   "cell_type": "code",
   "execution_count": 1,
   "metadata": {},
   "outputs": [],
   "source": [
    "import numpy as np\n",
    "from fenics import *\n",
    "import matplotlib.pyplot as plt\n",
    "import scipy.sparse as sps\n",
    "import scipy.sparse.linalg as spla\n",
    "import scipy.linalg as sla"
   ]
  },
  {
   "cell_type": "markdown",
   "metadata": {},
   "source": [
    "## Poisson problem\n",
    "\n",
    "$$\\Delta u = 0$$\n",
    "\n",
    "### BC's:\n",
    " - Left: Dirichlet $u = \\sin(5 \\pi x)$\n",
    " - Top and bottom: Neumann $\\frac{du}{dn} = 0$\n",
    " - Right: Neumann $\\frac{du}{dn} = 1$\n",
    " \n",
    "### Weak form:\n",
    "\n",
    "$$\\int_\\Omega \\nabla u \\cdot \\nabla v dx = -\\int_{\\partial \\Omega} 1 v dx$$"
   ]
  },
  {
   "cell_type": "code",
   "execution_count": 2,
   "metadata": {},
   "outputs": [],
   "source": [
    "mesh_n = 20\n",
    "mesh = UnitSquareMesh(mesh_n, mesh_n)\n",
    "V = FunctionSpace(mesh, 'CG', 1)"
   ]
  },
  {
   "cell_type": "code",
   "execution_count": 3,
   "metadata": {},
   "outputs": [
    {
     "data": {
      "text/plain": [
       "Text(0.5, 1.0, 'solution')"
      ]
     },
     "execution_count": 3,
     "metadata": {},
     "output_type": "execute_result"
    },
    {
     "data": {
      "image/png": "[encoded data removed]",
      "text/plain": [
       "<Figure size 432x288 with 2 Axes>"
      ]
     },
     "metadata": {
      "needs_background": "light"
     },
     "output_type": "display_data"
    }
   ],
   "source": [
    "u_D_left = Expression('sin(omega*pi*x[1])', omega=5, degree=5)\n",
    "u_N_right = Constant(1.0)\n",
    "\n",
    "class Right(SubDomain):\n",
    "    def inside(self, x, on_boundary):\n",
    "        return near(x[0], 1.0)\n",
    "right = Right()\n",
    "    \n",
    "boundaries = MeshFunction(\"size_t\", mesh, mesh.topology().dim()-1, 0)\n",
    "boundaries.set_all(0)\n",
    "right.mark(boundaries, 1)\n",
    "\n",
    "ds_custom = Measure('ds', subdomain_data=boundaries)\n",
    "\n",
    "\n",
    "a = inner(grad(TestFunction(V)), grad(TrialFunction(V))) * dx\n",
    "f = -TestFunction(V) * u_N_right * ds_custom(1)(mesh)\n",
    "\n",
    "def left_boundary(x, on_boundary):\n",
    "    return near(x[0], 0.0)\n",
    "\n",
    "bc = DirichletBC(V, u_D_left, left_boundary)\n",
    "\n",
    "A = assemble(a)\n",
    "bc.apply(A)\n",
    "A_solver = LUSolver(A)\n",
    "F = assemble(f)\n",
    "bc.apply(F)\n",
    "\n",
    "u_soln = Function(V)\n",
    "A_solver.solve(u_soln.vector(), F)\n",
    "cm = plot(u_soln)\n",
    "plt.colorbar(cm)\n",
    "plt.title('solution')"
   ]
  },
  {
   "cell_type": "markdown",
   "metadata": {},
   "source": [
    "### Solution via Lagrange multipliers / block matrices\n",
    "\n",
    "$$\\begin{aligned}\\min_u &\\quad \\frac{1}{2}u^T A u \\\\\n",
    "\\text{such that}&\\quad Bu = f\\end{aligned} \\quad \\Leftrightarrow \\quad \\begin{bmatrix}A & B^T \\\\ B & 0\\end{bmatrix}\\begin{bmatrix}u \\\\ \\lambda\\end{bmatrix} = \\begin{bmatrix}0 \\\\ f\\end{bmatrix}$$\n",
    "\n",
    "\n",
    " - $$A_{ij} := \\int_\\Omega \\nabla \\phi_i \\cdot \\nabla \\phi_j dx$$\n",
    "\n",
    " - $$B_{ij} := \\int_{\\partial \\Omega} \\phi_i \\left(\\nu \\cdot \\nabla \\phi_j\\right) ds$$\n",
    " \n",
    " - $$f_i = \\int_{\\partial \\Omega} 1 \\phi_i ds$$\n",
    " \n",
    " - $\\nu$ is normal vector to boundary"
   ]
  },
  {
   "cell_type": "code",
   "execution_count": 5,
   "metadata": {},
   "outputs": [],
   "source": [
    "def convert_fenics_csr_matrix_to_scipy_csr_matrix(A_fenics):\n",
    "    ai, aj, av = as_backend_type(A_fenics).mat().getValuesCSR()\n",
    "    A_scipy = sps.csr_matrix((av, aj, ai))\n",
    "    return A_scipy"
   ]
  },
  {
   "cell_type": "code",
   "execution_count": 6,
   "metadata": {},
   "outputs": [],
   "source": [
    "A_scipy = convert_fenics_csr_matrix_to_scipy_csr_matrix(A)\n",
    "\n",
    "nu = FacetNormal(mesh)\n",
    "b = TestFunction(V) * inner(nu, grad(TrialFunction(V))) * ds_custom(1)(mesh)\n",
    "B0 = assemble(b)\n",
    "B0_scipy = convert_fenics_csr_matrix_to_scipy_csr_matrix(B0)\n",
    "\n",
    "z = B0 * np.random.randn(V.dim())\n",
    "nonzero_rows = np.where(np.abs(z) > 1e-13)[0]\n",
    "\n",
    "# nonzero_rows = B0_scipy.nonzero()[0]\n",
    "\n",
    "B = B0_scipy[nonzero_rows, :]\n",
    "_, ssB, B = np.linalg.svd(B.toarray(), full_matrices=False)\n",
    "B = B[:-2, :]"
   ]
  },
  {
   "cell_type": "code",
   "execution_count": 8,
   "metadata": {},
   "outputs": [],
   "source": [
    "A2_scipy = A_scipy.copy()\n",
    "A2_scipy[nonzero_rows, :] = B0_scipy[nonzero_rows, :]"
   ]
  },
  {
   "cell_type": "code",
   "execution_count": 12,
   "metadata": {},
   "outputs": [
    {
     "data": {
      "text/plain": [
       "array([7.95141214e+00, 7.87912894e+00, 7.87912336e+00, 7.80691078e+00,\n",
       "       7.76058689e+00, 7.76057672e+00, 7.68850694e+00, 7.68845820e+00,\n",
       "       7.59863962e+00, 7.59861829e+00, 7.57024538e+00, 7.52672388e+00,\n",
       "       7.52665438e+00, 7.40880693e+00, 7.40862086e+00, 7.39717490e+00,\n",
       "       7.39714833e+00, 7.32548505e+00, 7.32535821e+00, 7.24754232e+00,\n",
       "       7.20788931e+00, 7.20765850e+00, 7.16104761e+00, 7.16100326e+00,\n",
       "       7.08959457e+00, 7.08945012e+00, 7.04729373e+00, 7.04680868e+00,\n",
       "       6.97245410e+00, 6.97207095e+00, 6.89592729e+00, 6.89587938e+00,\n",
       "       6.84712586e+00, 6.82478302e+00, 6.82455831e+00, 6.81233994e+00,\n",
       "       6.81179376e+00, 6.70805673e+00, 6.70764851e+00, 6.61331695e+00,\n",
       "       6.61229882e+00, 6.60820497e+00, 6.60814629e+00, 6.54867871e+00,\n",
       "       6.54783633e+00, 6.53736470e+00, 6.53713543e+00, 6.42122141e+00,\n",
       "       6.42062270e+00, 6.37928019e+00, 6.35025117e+00, 6.34920264e+00,\n",
       "       6.30483541e+00, 6.30476823e+00, 6.26241391e+00, 6.26156492e+00,\n",
       "       6.23436224e+00, 6.23403911e+00, 6.11869662e+00, 6.11811353e+00,\n",
       "       6.11797053e+00, 6.11618509e+00, 6.06503357e+00, 6.06351744e+00,\n",
       "       5.99314962e+00, 5.99305909e+00, 5.96078029e+00, 5.95960183e+00,\n",
       "       5.92301639e+00, 5.92270441e+00, 5.85595170e+00, 5.83338898e+00,\n",
       "       5.83167600e+00, 5.80802422e+00, 5.80724625e+00, 5.76408138e+00,\n",
       "       5.76262574e+00, 5.68069799e+00, 5.68061496e+00, 5.65073619e+00,\n",
       "       5.64963939e+00, 5.61100842e+00, 5.61059308e+00, 5.57387276e+00,\n",
       "       5.57106447e+00, 5.53377856e+00, 5.53145543e+00, 5.49653095e+00,\n",
       "       5.49582324e+00, 5.45523975e+00, 5.45333068e+00, 5.37513314e+00,\n",
       "       5.37503461e+00, 5.34023620e+00, 5.33885285e+00, 5.30586748e+00,\n",
       "       5.30544694e+00, 5.29044132e+00, 5.27472598e+00, 5.27231585e+00,\n",
       "       5.22566341e+00, 5.22354016e+00, 5.19208427e+00, 5.19123062e+00,\n",
       "       5.14546997e+00, 5.14377264e+00, 5.08394343e+00, 5.08386299e+00,\n",
       "       5.03648161e+00, 5.03528613e+00, 5.01514893e+00, 5.01467040e+00,\n",
       "       4.99478465e+00, 4.99067734e+00, 4.96818776e+00, 4.96512131e+00,\n",
       "       4.91734464e+00, 4.91474419e+00, 4.90194708e+00, 4.90123168e+00,\n",
       "       4.84299113e+00, 4.84099563e+00, 4.81438514e+00, 4.81430496e+00,\n",
       "       4.74739101e+00, 4.74605566e+00, 4.74595629e+00, 4.74560190e+00,\n",
       "       4.69751643e+00, 4.68798204e+00, 4.68515914e+00, 4.66055716e+00,\n",
       "       4.65793901e+00, 4.63357430e+00, 4.63282805e+00, 4.61563691e+00,\n",
       "       4.61346713e+00, 4.57322650e+00, 4.57316488e+00, 4.55470177e+00,\n",
       "       4.55310097e+00, 4.50523517e+00, 4.50492019e+00, 4.47980140e+00,\n",
       "       4.47876860e+00, 4.39616721e+00, 4.39352682e+00, 4.39298517e+00,\n",
       "       4.38951453e+00, 4.38185641e+00, 4.37873024e+00, 4.36663196e+00,\n",
       "       4.36657705e+00, 4.36030549e+00, 4.35750749e+00, 4.32874754e+00,\n",
       "       4.32650973e+00, 4.29904485e+00, 4.29884191e+00, 4.28836686e+00,\n",
       "       4.28679284e+00, 4.24078967e+00, 4.23984936e+00, 4.19995422e+00,\n",
       "       4.19991640e+00, 4.18809229e+00, 4.18765079e+00, 4.13277450e+00,\n",
       "       4.13263607e+00, 4.09710046e+00, 4.08559832e+00, 4.08477196e+00,\n",
       "       4.08139129e+00, 4.07998019e+00, 4.07758575e+00, 4.07756740e+00,\n",
       "       4.07362643e+00, 4.07218866e+00, 4.06293859e+00, 4.06174647e+00,\n",
       "       4.05008485e+00, 4.04925084e+00, 4.03610850e+00, 4.03563426e+00,\n",
       "       4.02242109e+00, 4.02222268e+00, 4.01073775e+00, 4.01068903e+00,\n",
       "       4.00281284e+00, 4.00280934e+00, 3.93621866e+00, 3.93619715e+00,\n",
       "       3.90107741e+00, 3.90089404e+00, 3.87181975e+00, 3.87114753e+00,\n",
       "       3.84782069e+00, 3.84617154e+00, 3.82841657e+00, 3.82687488e+00,\n",
       "       3.82683756e+00, 3.82538040e+00, 3.81272646e+00, 3.80851867e+00,\n",
       "       3.79997654e+00, 3.79560982e+00, 3.79023573e+00, 3.78682931e+00,\n",
       "       3.78408332e+00, 3.78236580e+00, 3.75091980e+00, 3.75067608e+00,\n",
       "       3.68365546e+00, 3.68291236e+00, 3.67723485e+00, 3.67717526e+00,\n",
       "       3.62534078e+00, 3.62376782e+00, 3.57635140e+00, 3.57371261e+00,\n",
       "       3.56374198e+00, 3.56339613e+00, 3.53717606e+00, 3.53347990e+00,\n",
       "       3.50824697e+00, 3.50392261e+00, 3.49084839e+00, 3.49056802e+00,\n",
       "       3.48937940e+00, 3.48582312e+00, 3.48073468e+00, 3.46267767e+00,\n",
       "       3.46173044e+00, 3.37524242e+00, 3.37340704e+00, 3.34371909e+00,\n",
       "       3.34330434e+00, 3.30278237e+00, 3.29990914e+00, 3.27132253e+00,\n",
       "       3.27118945e+00, 3.24664406e+00, 3.24286710e+00, 3.21379264e+00,\n",
       "       3.21269518e+00, 3.20808039e+00, 3.20382200e+00, 3.18724928e+00,\n",
       "       3.18397201e+00, 3.10298652e+00, 3.10093892e+00, 3.09581899e+00,\n",
       "       3.09535398e+00, 3.02414689e+00, 3.02395327e+00, 3.01349710e+00,\n",
       "       3.01045603e+00, 2.94762492e+00, 2.94366451e+00, 2.94264922e+00,\n",
       "       2.94150018e+00, 2.90686702e+00, 2.90264389e+00, 2.89045929e+00,\n",
       "       2.82566920e+00, 2.82511205e+00, 2.81474894e+00, 2.81277001e+00,\n",
       "       2.75456343e+00, 2.75441012e+00, 2.71518492e+00, 2.71243081e+00,\n",
       "       2.65558106e+00, 2.65420010e+00, 2.64682716e+00, 2.64352190e+00,\n",
       "       2.61137613e+00, 2.60840665e+00, 2.53927318e+00, 2.53879388e+00,\n",
       "       2.51760109e+00, 2.51523060e+00, 2.46875312e+00, 2.46856500e+00,\n",
       "       2.41552142e+00, 2.41223809e+00, 2.35880075e+00, 2.35776996e+00,\n",
       "       2.35260900e+00, 2.34877746e+00, 2.32913152e+00, 2.24333803e+00,\n",
       "       2.24265433e+00, 2.21770800e+00, 2.21617069e+00, 2.17301622e+00,\n",
       "       2.17289981e+00, 2.12045967e+00, 2.11860457e+00, 2.07053767e+00,\n",
       "       2.06875409e+00, 2.05987872e+00, 2.05835807e+00, 1.94416800e+00,\n",
       "       1.94385527e+00, 1.92370190e+00, 1.92126984e+00, 1.87413862e+00,\n",
       "       1.87392870e+00, 1.83960471e+00, 1.83651857e+00, 1.80946367e+00,\n",
       "       1.76463777e+00, 1.76422680e+00, 1.64934923e+00, 1.64856936e+00,\n",
       "       1.64049437e+00, 1.64028739e+00, 1.57871616e+00, 1.57868502e+00,\n",
       "       1.57689656e+00, 1.57676314e+00, 1.48280284e+00, 1.48049973e+00,\n",
       "       1.40836375e+00, 1.40459120e+00, 1.37645050e+00, 1.37379434e+00,\n",
       "       1.36458867e+00, 1.36338561e+00, 1.34073543e+00, 1.29325796e+00,\n",
       "       1.29324851e+00, 1.21639046e+00, 1.21587688e+00, 1.14060956e+00,\n",
       "       1.14019971e+00, 1.12664682e+00, 1.12661625e+00, 1.09778432e+00,\n",
       "       1.09762569e+00, 1.02473431e+00, 1.02471995e+00, 9.77081063e-01,\n",
       "       9.77019865e-01, 9.36481871e-01, 8.55344321e-01, 8.55334014e-01,\n",
       "       7.79225827e-01, 7.79138028e-01, 7.69912641e-01, 7.69855081e-01,\n",
       "       6.44391181e-01, 6.43727507e-01, 6.31184344e-01, 6.31123035e-01,\n",
       "       5.99999023e-01, 5.62884166e-01, 5.62819537e-01, 4.93370844e-01,\n",
       "       4.93152376e-01, 4.84671509e-01, 4.84409214e-01, 4.84392843e-01,\n",
       "       4.83830127e-01, 4.82974078e-01, 4.82065581e-01, 4.77524136e-01,\n",
       "       4.73526472e-01, 4.70604354e-01, 4.70280998e-01, 4.64018021e-01,\n",
       "       4.62323871e-01, 4.60885463e-01, 4.58933691e-01, 4.57211244e-01,\n",
       "       4.53023922e-01, 4.49859961e-01, 4.41440737e-01, 4.30564291e-01,\n",
       "       4.26139424e-01, 4.17599959e-01, 4.16274496e-01, 4.16073481e-01,\n",
       "       4.09635074e-01, 4.08130479e-01, 3.99968835e-01, 3.88222294e-01,\n",
       "       3.82483944e-01, 3.78255387e-01, 3.76964245e-01, 3.71094542e-01,\n",
       "       3.62789413e-01, 3.52255520e-01, 3.49981824e-01, 3.47174196e-01,\n",
       "       3.45105234e-01, 3.38560060e-01, 3.24215235e-01, 3.19281131e-01,\n",
       "       3.16574577e-01, 3.00011957e-01, 2.95603717e-01, 2.84854987e-01,\n",
       "       2.63310772e-01, 2.61871917e-01, 2.60143657e-01, 2.57848281e-01,\n",
       "       2.49925996e-01, 2.44071600e-01, 2.39007667e-01, 2.34863497e-01,\n",
       "       2.32560202e-01, 2.14013923e-01, 2.00386212e-01, 1.90285250e-01,\n",
       "       1.71662088e-01, 1.70002025e-01, 1.66321839e-01, 1.66094604e-01,\n",
       "       1.59537226e-01, 1.48817914e-01, 1.45649377e-01, 1.35350848e-01,\n",
       "       1.24335677e-01, 1.03296467e-01, 9.83764768e-02, 9.09613320e-02,\n",
       "       8.31493764e-02, 7.93296437e-02, 7.63817880e-02, 6.81992528e-02,\n",
       "       6.33775616e-02, 3.61014088e-02, 3.46027582e-02, 3.24613583e-02,\n",
       "       2.04447719e-02, 1.97776544e-02, 2.92017808e-15, 9.43591990e-16,\n",
       "       3.10372083e-16])"
      ]
     },
     "execution_count": 12,
     "metadata": {},
     "output_type": "execute_result"
    },
    {
     "data": {
      "image/png": "[encoded data removed]",
      "text/plain": [
       "<Figure size 432x288 with 1 Axes>"
      ]
     },
     "metadata": {
      "needs_background": "light"
     },
     "output_type": "display_data"
    }
   ],
   "source": [
    "_,ss,_ = np.linalg.svd(A2_scipy.toarray())\n",
    "plt.semilogy(ss)\n",
    "ss"
   ]
  },
  {
   "cell_type": "code",
   "execution_count": 50,
   "metadata": {},
   "outputs": [
    {
     "name": "stdout",
     "output_type": "stream",
     "text": [
      "err= 0.9967849541687099\n"
     ]
    },
    {
     "data": {
      "text/plain": [
       "Text(0.5, 1.0, 'solution via block matrices')"
      ]
     },
     "execution_count": 50,
     "metadata": {},
     "output_type": "execute_result"
    },
    {
     "data": {
      "image/png": "[encoded data removed]",
      "text/plain": [
       "<Figure size 432x288 with 1 Axes>"
      ]
     },
     "metadata": {
      "needs_background": "light"
     },
     "output_type": "display_data"
    }
   ],
   "source": [
    "K = sps.bmat([[A_scipy, B.T],\n",
    "              [B, None]]).tocsr()\n",
    "y = np.concatenate([np.zeros(V.dim()), F[nonzero_rows][:-2]])\n",
    "\n",
    "x = spla.spsolve(K,y)\n",
    "u_soln2 = Function(V)\n",
    "u_soln2.vector()[:] = x[:V.dim()].copy()\n",
    "\n",
    "err = np.linalg.norm(u_soln.vector()[:] - u_soln2.vector()[:])/np.linalg.norm(u_soln.vector()[:])\n",
    "print('err=', err)\n",
    "                                                                              \n",
    "plot(u_soln2)\n",
    "plt.title('solution via block matrices')"
   ]
  },
  {
   "cell_type": "code",
   "execution_count": 33,
   "metadata": {},
   "outputs": [
    {
     "data": {
      "text/plain": [
       "(80, 441)"
      ]
     },
     "execution_count": 33,
     "metadata": {},
     "output_type": "execute_result"
    },
    {
     "data": {
      "image/png": "[encoded data removed]",
      "text/plain": [
       "<Figure size 432x288 with 1 Axes>"
      ]
     },
     "metadata": {
      "needs_background": "light"
     },
     "output_type": "display_data"
    }
   ],
   "source": [
    "_,ss,_ = np.linalg.svd(B.toarray())\n",
    "plt.semilogy(ss)\n",
    "B.shape"
   ]
  },
  {
   "cell_type": "code",
   "execution_count": 23,
   "metadata": {},
   "outputs": [
    {
     "data": {
      "text/plain": [
       "441"
      ]
     },
     "execution_count": 23,
     "metadata": {},
     "output_type": "execute_result"
    }
   ],
   "source": [
    "V.dim()"
   ]
  },
  {
   "cell_type": "markdown",
   "metadata": {},
   "source": [
    "## Augmented Lagrangian preconditioner:\n",
    "$$K = \\begin{bmatrix}A & B^T \\\\ B & 0\\end{bmatrix}$$\n",
    "\n",
    "$$P = \\begin{bmatrix}A + \\rho B^T M^{-1} B & 0 \\\\ 0 & \\frac{1}{\\rho} M\\end{bmatrix}$$\n",
    "\n",
    "Generalized eigenvalue problem: $K z = \\mu P z$. Eigenvalues $\\mu$ clustered around $\\pm 1$\n",
    "\n",
    " - $M$ is (lumped) mass matrix\n",
    " - $\\rho\\approx 1$ is penalty parameter"
   ]
  },
  {
   "cell_type": "code",
   "execution_count": null,
   "metadata": {
    "scrolled": true
   },
   "outputs": [],
   "source": [
    "rho = 1e0\n",
    "\n",
    "M = assemble(TestFunction(V) * TrialFunction(V) * dx)\n",
    "M_scipy = convert_fenics_csr_matrix_to_scipy_csr_matrix(M)\n",
    "\n",
    "M_dense = M_scipy.toarray() # dense matrices for rapid prototyping; don't use dense in real problem\n",
    "K_dense = K.toarray()\n",
    "A_dense = A_scipy.toarray()\n",
    "B_dense = B_scipy.toarray()\n",
    "\n",
    "ML_dense = np.diag(M_dense.diagonal())\n",
    "iML_dense = np.diag(1./M_dense.diagonal())\n",
    "\n",
    "\n",
    "P11 = A_dense + rho * np.dot(B_dense.T, np.dot(iML_dense, B_dense))\n",
    "P12 = np.zeros((V.dim(), V.dim()))\n",
    "P21 = np.zeros((V.dim(), V.dim()))\n",
    "P22 = (1./rho) * ML_dense\n",
    "P = np.bmat([[P11, P12],\n",
    "             [P21, P22]])\n",
    "\n",
    "ee, _ = sla.eigh(K_dense, P)\n",
    "plt.plot(ee)\n",
    "plt.title('eigenvalues for generalized eigenvalue problem of K and P')"
   ]
  }
 ],
 "metadata": {
  "kernelspec": {
   "display_name": "Python 3",
   "language": "python",
   "name": "python3"
  },
  "language_info": {
   "codemirror_mode": {
    "name": "ipython",
    "version": 3
   },
   "file_extension": ".py",
   "mimetype": "text/x-python",
   "name": "python",
   "nbconvert_exporter": "python",
   "pygments_lexer": "ipython3",
   "version": "3.8.5"
  }
 },
 "nbformat": 4,
 "nbformat_minor": 4
}
