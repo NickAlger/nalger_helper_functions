{
 "cells": [
  {
   "cell_type": "code",
   "execution_count": 5,
   "metadata": {
    "collapsed": true
   },
   "outputs": [],
   "source": [
    "import numpy as np\n",
    "import matplotlib.pyplot as plt\n",
    "from scipy.spatial import cKDTree"
   ]
  },
  {
   "cell_type": "code",
   "execution_count": 8,
   "metadata": {
    "pycharm": {
     "name": "#%%\n"
    }
   },
   "outputs": [
    {
     "name": "stdout",
     "output_type": "stream",
     "text": [
      "nearest_distances=\n",
      "[[0.         0.22346341 0.31861315]\n",
      " [0.         0.31861315 0.38021416]\n",
      " [0.         0.788371   1.19307516]\n",
      " [0.         0.22346341 0.38021416]\n",
      " [0.         0.90271144 1.19307516]\n",
      " [0.         0.788371   0.86800748]]\n",
      "nearest_inds=\n",
      "[[0 3 1]\n",
      " [1 0 3]\n",
      " [2 5 4]\n",
      " [3 0 1]\n",
      " [4 5 2]\n",
      " [5 2 3]]\n"
     ]
    },
    {
     "data": {
      "text/plain": "<Figure size 432x288 with 1 Axes>",
      "image/png": "[encoded data removed]"
     },
     "metadata": {
      "needs_background": "light"
     },
     "output_type": "display_data"
    }
   ],
   "source": [
    "num_pts = 6\n",
    "\n",
    "pp = np.random.randn(num_pts, 2)\n",
    "\n",
    "T = cKDTree(pp)\n",
    "nearest_distances, nearest_inds = T.query(pp,k=3)\n",
    "\n",
    "print('nearest_distances=')\n",
    "print(nearest_distances)\n",
    "print('nearest_inds=')\n",
    "print(nearest_inds)\n",
    "\n",
    "plt.scatter(pp[:,0], pp[:,1])\n",
    "plt.gca().set_aspect(1.)\n",
    "\n",
    "buf = 0.05\n",
    "for k, txt in enumerate(np.arange(num_pts)):\n",
    "    plt.gca().annotate(txt, (pp[k,0]+buf, pp[k,1]+buf))"
   ]
  },
  {
   "cell_type": "code",
   "execution_count": 7,
   "metadata": {
    "pycharm": {
     "name": "#%%\n"
    }
   },
   "outputs": [
    {
     "name": "stdout",
     "output_type": "stream",
     "text": [
      "nearest_to_pk_distance= 0.5407082441722157\n",
      "nearest_to_pk_distance_true= 0.8096982604390227\n"
     ]
    }
   ],
   "source": [
    "k = 3\n",
    "\n",
    "nearest_to_pk_distance = nearest_distances[k,1]\n",
    "nearest_to_pk_distance_true = np.linalg.norm(pp[k,:] - pp[nearest_inds[k], :])\n",
    "\n",
    "print('nearest_to_pk_distance=', nearest_to_pk_distance)\n",
    "print('nearest_to_pk_distance_true=', nearest_to_pk_distance_true)\n"
   ]
  }
 ],
 "metadata": {
  "kernelspec": {
   "display_name": "Python 3",
   "language": "python",
   "name": "python3"
  },
  "language_info": {
   "codemirror_mode": {
    "name": "ipython",
    "version": 3
   },
   "file_extension": ".py",
   "mimetype": "text/x-python",
   "name": "python",
   "nbconvert_exporter": "python",
   "pygments_lexer": "ipython3",
   "version": "3.8.5"
  }
 },
 "nbformat": 4,
 "nbformat_minor": 1
}