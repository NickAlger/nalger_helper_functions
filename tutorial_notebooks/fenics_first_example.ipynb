{
 "cells": [
  {
   "cell_type": "code",
   "execution_count": 1,
   "metadata": {},
   "outputs": [],
   "source": [
    "import numpy as np\n",
    "from fenics import *"
   ]
  },
  {
   "cell_type": "code",
   "execution_count": 2,
   "metadata": {},
   "outputs": [
    {
     "data": {
      "text/plain": [
       "[<matplotlib.lines.Line2D at 0x7ff5981bd278>]"
      ]
     },
     "execution_count": 2,
     "metadata": {},
     "output_type": "execute_result"
    },
    {
     "data": {
      "image/png": "[encoded data removed]",
      "text/plain": [
       "<Figure size 432x288 with 1 Axes>"
      ]
     },
     "metadata": {
      "needs_background": "light"
     },
     "output_type": "display_data"
    }
   ],
   "source": [
    "mesh = UnitIntervalMesh(5)\n",
    "plot(mesh)"
   ]
  },
  {
   "cell_type": "code",
   "execution_count": 3,
   "metadata": {},
   "outputs": [
    {
     "name": "stdout",
     "output_type": "stream",
     "text": [
      "Number of dofs 6\n"
     ]
    }
   ],
   "source": [
    "V = FunctionSpace(mesh, 'CG', 1)\n",
    "print ('Number of dofs', V.dim())"
   ]
  },
  {
   "cell_type": "code",
   "execution_count": 4,
   "metadata": {},
   "outputs": [
    {
     "data": {
      "text/plain": [
       "array([ 0.,  0.,  0.,  0.,  0.,  0.])"
      ]
     },
     "execution_count": 4,
     "metadata": {},
     "output_type": "execute_result"
    }
   ],
   "source": [
    "f = Function(V)\n",
    "f.vector()[:]"
   ]
  },
  {
   "cell_type": "code",
   "execution_count": 5,
   "metadata": {},
   "outputs": [
    {
     "name": "stdout",
     "output_type": "stream",
     "text": [
      "f.vector()[:]= [ 0.  0.  0.  1.  0.  0.]\n"
     ]
    },
    {
     "data": {
      "text/plain": [
       "[<matplotlib.lines.Line2D at 0x7ff56b458668>]"
      ]
     },
     "execution_count": 5,
     "metadata": {},
     "output_type": "execute_result"
    },
    {
     "data": {
      "image/png": "[encoded data removed]",
      "text/plain": [
       "<Figure size 432x288 with 1 Axes>"
      ]
     },
     "metadata": {
      "needs_background": "light"
     },
     "output_type": "display_data"
    }
   ],
   "source": [
    "f.vector()[3] = 1.0\n",
    "print('f.vector()[:]=', f.vector()[:])\n",
    "plot(f)"
   ]
  },
  {
   "cell_type": "code",
   "execution_count": 6,
   "metadata": {},
   "outputs": [
    {
     "name": "stdout",
     "output_type": "stream",
     "text": [
      "f.vector()[:]= [ 0.   1.5  0.   1.   0.   0. ]\n"
     ]
    },
    {
     "data": {
      "text/plain": [
       "[<matplotlib.lines.Line2D at 0x7ff56b3c9198>]"
      ]
     },
     "execution_count": 6,
     "metadata": {},
     "output_type": "execute_result"
    },
    {
     "data": {
      "image/png": "[encoded data removed]",
      "text/plain": [
       "<Figure size 432x288 with 1 Axes>"
      ]
     },
     "metadata": {
      "needs_background": "light"
     },
     "output_type": "display_data"
    }
   ],
   "source": [
    "f.vector()[1] = 1.5\n",
    "print('f.vector()[:]=', f.vector()[:])\n",
    "plot(f)"
   ]
  },
  {
   "cell_type": "code",
   "execution_count": 7,
   "metadata": {
    "scrolled": true
   },
   "outputs": [
    {
     "data": {
      "text/plain": [
       "array([[ 1. ],\n",
       "       [ 0.8],\n",
       "       [ 0.6],\n",
       "       [ 0.4],\n",
       "       [ 0.2],\n",
       "       [ 0. ]])"
      ]
     },
     "execution_count": 7,
     "metadata": {},
     "output_type": "execute_result"
    }
   ],
   "source": [
    "V.tabulate_dof_coordinates()"
   ]
  },
  {
   "cell_type": "markdown",
   "metadata": {},
   "source": [
    "Let's solve $$\\begin{cases}\n",
    "\\Delta u = f & \\text{in } (0,1), \\\\\n",
    "u(0) = 10 \\\\\n",
    "u(1) = 3\n",
    "\\end{cases}$$"
   ]
  },
  {
   "cell_type": "markdown",
   "metadata": {},
   "source": [
    "Stiffness form\n",
    "$$k(u,v) = \\int_\\Omega \\nabla u \\cdot \\nabla v dx$$"
   ]
  },
  {
   "cell_type": "code",
   "execution_count": 8,
   "metadata": {
    "scrolled": true
   },
   "outputs": [
    {
     "name": "stdout",
     "output_type": "stream",
     "text": [
      "u_trial= v_1\n",
      "v_test= v_0\n",
      "stiffness_form= { conj(((grad(v_0)) : (grad(v_1)))) } * dx(<Mesh #0>[everywhere], {})\n"
     ]
    }
   ],
   "source": [
    "u_trial = TrialFunction(V)\n",
    "v_test = TestFunction(V)\n",
    "\n",
    "stiffness_form = inner(grad(u_trial), grad(v_test)) * dx\n",
    "\n",
    "print('u_trial=', u_trial)\n",
    "print('v_test=', v_test)\n",
    "print('stiffness_form=', stiffness_form)"
   ]
  },
  {
   "cell_type": "markdown",
   "metadata": {},
   "source": [
    "Stiffness matrix (ignoring boundary conditions)\n",
    "$$K_{ij} = k(\\phi_i, \\phi_j), \\quad i=1,\\dots,n, \\quad, j=1,\\dots,n$$"
   ]
  },
  {
   "cell_type": "code",
   "execution_count": 9,
   "metadata": {},
   "outputs": [
    {
     "data": {
      "text/plain": [
       "array([[  5.,  -5.,   0.,   0.,   0.,   0.],\n",
       "       [ -5.,  10.,  -5.,   0.,   0.,   0.],\n",
       "       [  0.,  -5.,  10.,  -5.,   0.,   0.],\n",
       "       [  0.,   0.,  -5.,  10.,  -5.,   0.],\n",
       "       [  0.,   0.,   0.,  -5.,  10.,  -5.],\n",
       "       [  0.,   0.,   0.,   0.,  -5.,   5.]])"
      ]
     },
     "execution_count": 9,
     "metadata": {},
     "output_type": "execute_result"
    }
   ],
   "source": [
    "K = assemble(stiffness_form)\n",
    "K.array()"
   ]
  },
  {
   "cell_type": "markdown",
   "metadata": {},
   "source": [
    "Right hand side form\n",
    "$$rhs(v) = \\int_\\Omega f v dx$$"
   ]
  },
  {
   "cell_type": "code",
   "execution_count": 10,
   "metadata": {},
   "outputs": [
    {
     "name": "stdout",
     "output_type": "stream",
     "text": [
      "rhs_form= { v_0 * f_5 } * dx(<Mesh #0>[everywhere], {})\n"
     ]
    }
   ],
   "source": [
    "rhs_form = f * v_test * dx\n",
    "print('rhs_form=', rhs_form)"
   ]
  },
  {
   "cell_type": "markdown",
   "metadata": {},
   "source": [
    "Right hand side vector"
   ]
  },
  {
   "cell_type": "markdown",
   "metadata": {},
   "source": [
    "$$b_i = \\int_\\Omega f \\phi_i dx, \\quad i=1,\\dots,n$$"
   ]
  },
  {
   "cell_type": "code",
   "execution_count": 11,
   "metadata": {},
   "outputs": [
    {
     "data": {
      "text/plain": [
       "array([ 0.05      ,  0.2       ,  0.08333333,  0.13333333,  0.03333333,  0.        ])"
      ]
     },
     "execution_count": 11,
     "metadata": {},
     "output_type": "execute_result"
    }
   ],
   "source": [
    "b = assemble(rhs_form)\n",
    "b[:]"
   ]
  },
  {
   "cell_type": "markdown",
   "metadata": {},
   "source": [
    "Dirichlet boundary conditions: \n",
    "$$u(0) = 10, \\quad u(1) = 3$$"
   ]
  },
  {
   "cell_type": "code",
   "execution_count": 12,
   "metadata": {},
   "outputs": [],
   "source": [
    "def left_boundary(x, on_boundary):\n",
    "    if on_boundary and np.abs(x - 0.0) < 1e-8:\n",
    "        return True\n",
    "    else:\n",
    "        return False\n",
    "\n",
    "u_D_left = Expression('10.0', degree=2)\n",
    "    \n",
    "def right_boundary(x, on_boundary):\n",
    "    if on_boundary and np.abs(x - 1.0) < 1e-8:\n",
    "        return True\n",
    "    else:\n",
    "        return False\n",
    "    \n",
    "u_D_right = Expression('3.0', degree=2)\n",
    "    \n",
    "bc_left = DirichletBC(V, u_D_left, left_boundary)\n",
    "bc_right = DirichletBC(V, u_D_right, right_boundary)\n",
    "bcs = [bc_left, bc_right]"
   ]
  },
  {
   "cell_type": "markdown",
   "metadata": {},
   "source": [
    "Assembled stiffness matrix and right hand side vector including boundary conditions, for\n",
    "$$K u = b$$"
   ]
  },
  {
   "cell_type": "code",
   "execution_count": 13,
   "metadata": {},
   "outputs": [
    {
     "name": "stdout",
     "output_type": "stream",
     "text": [
      "[[  1.   0.   0.   0.   0.   0.]\n",
      " [  0.  10.  -5.   0.   0.   0.]\n",
      " [  0.  -5.  10.  -5.   0.   0.]\n",
      " [  0.   0.  -5.  10.  -5.   0.]\n",
      " [  0.   0.   0.  -5.  10.   0.]\n",
      " [  0.   0.   0.   0.   0.   1.]]\n",
      "[  3.          15.2          0.08333333   0.13333333  50.03333333  10.        ]\n"
     ]
    }
   ],
   "source": [
    "K_with_bc, F_with_bc = assemble_system(stiffness_form, rhs_form, bcs)\n",
    "\n",
    "print(K_with_bc.array())\n",
    "print(F_with_bc[:])"
   ]
  },
  {
   "cell_type": "code",
   "execution_count": 14,
   "metadata": {
    "scrolled": false
   },
   "outputs": [
    {
     "data": {
      "text/plain": [
       "[<matplotlib.lines.Line2D at 0x7ff569d11160>]"
      ]
     },
     "execution_count": 14,
     "metadata": {},
     "output_type": "execute_result"
    },
    {
     "data": {
      "image/png": "[encoded data removed]",
      "text/plain": [
       "<Figure size 432x288 with 1 Axes>"
      ]
     },
     "metadata": {
      "needs_background": "light"
     },
     "output_type": "display_data"
    }
   ],
   "source": [
    "u_solution = Function(V)\n",
    "\n",
    "solve(stiffness_form == rhs_form, u_solution, bcs)\n",
    "\n",
    "plot(u_solution)"
   ]
  },
  {
   "cell_type": "markdown",
   "metadata": {},
   "source": [
    "Hmm, source is weak. Let's increase the magnitude of the source term"
   ]
  },
  {
   "cell_type": "code",
   "execution_count": 15,
   "metadata": {},
   "outputs": [],
   "source": [
    "f.vector()[:] = 1000*f.vector()"
   ]
  },
  {
   "cell_type": "code",
   "execution_count": 16,
   "metadata": {},
   "outputs": [
    {
     "data": {
      "text/plain": [
       "[<matplotlib.lines.Line2D at 0x7ff569ceafd0>]"
      ]
     },
     "execution_count": 16,
     "metadata": {},
     "output_type": "execute_result"
    },
    {
     "data": {
      "image/png": "[encoded data removed]",
      "text/plain": [
       "<Figure size 432x288 with 1 Axes>"
      ]
     },
     "metadata": {
      "needs_background": "light"
     },
     "output_type": "display_data"
    }
   ],
   "source": [
    "u_solution = Function(V)\n",
    "\n",
    "solve(stiffness_form == rhs_form, u_solution, bcs)\n",
    "\n",
    "plot(u_solution)"
   ]
  }
 ],
 "metadata": {
  "kernelspec": {
   "display_name": "Python 3",
   "language": "python",
   "name": "python3"
  },
  "language_info": {
   "codemirror_mode": {
    "name": "ipython",
    "version": 3
   },
   "file_extension": ".py",
   "mimetype": "text/x-python",
   "name": "python",
   "nbconvert_exporter": "python",
   "pygments_lexer": "ipython3",
   "version": "3.6.9"
  }
 },
 "nbformat": 4,
 "nbformat_minor": 4
}
